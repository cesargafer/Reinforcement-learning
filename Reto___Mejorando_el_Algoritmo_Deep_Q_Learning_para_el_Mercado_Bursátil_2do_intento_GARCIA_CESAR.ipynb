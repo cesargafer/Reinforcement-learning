{
  "nbformat": 4,
  "nbformat_minor": 0,
  "metadata": {
    "colab": {
      "provenance": []
    },
    "kernelspec": {
      "name": "python3",
      "display_name": "Python 3"
    },
    "language_info": {
      "name": "python"
    }
  },
  "cells": [
    {
      "cell_type": "markdown",
      "source": [
        "# Misión 4: Evaluando y mejorando el robot bróker"
      ],
      "metadata": {
        "id": "6-bLvJapcSMV"
      }
    },
    {
      "cell_type": "code",
      "source": [
        "\"\"\"\n",
        "\n",
        "Las diferencias en los profits obtenidos por los agentes en relacion al uso de diferentes arquitecturas pueden atribuirse a varias razones,\n",
        "incluyendo la complejidad del modelo, la capacidad de aprendizaje, y la calidad de los datos utilizados en el entrenamiento y prueba.\n",
        "\n",
        "Aquí hay una conclusión de por qué cada agente pudo haber mostrado el profit observado:\n",
        "\n",
        "dql_agent_exp1 (arquitectura simple) mostró un profit de 73.389:\n",
        "\n",
        "Arquitectura Simple: Es posible que esta arquitectura, aunque simple, sea adecuada para el problema en cuestión.\n",
        "Buen Ajuste al Entorno: Es posible que el agente haya aprendido a adaptarse bien al entorno y haya descubierto estrategias efectivas para maximizar el profit.\n",
        "Esto podría deberse a una combinación de la capacidad del modelo y la exploración adecuada del espacio de acciones.\n",
        "Buena Calidad de los Datos: Si los datos de prueba son representativos del entorno real y están bien etiquetados, el agente puede aprender de manera efectiva y generalizar sus conocimientos para tomar decisiones rentables.\n",
        "\n",
        "dql_agent_exp2 (arquitectura simple) mostró un profit de 17.099:\n",
        "\n",
        "Posible Sobreajuste: A pesar de tener una arquitectura simple, este agente puede haber sufrido de sobreajuste.\n",
        "Exploración Insuficiente: Es posible que este agente no haya explorado adecuadamente el espacio de acciones durante el entrenamiento,\n",
        "lo que podría haber llevado a subóptimos locales en lugar de estrategias más amplias y rentables.\n",
        "Entorno Desafiante: Si el entorno es particularmente volátil o impredecible, un agente con una arquitectura simple puede tener dificultades para adaptarse y encontrar estrategias efectivas.\n",
        "\n",
        "dql_agent_exp3 (arquitectura compleja) mostró un profit de 36.36:\n",
        "\n",
        "Compromiso entre Complejidad y Generalización: Aunque esta arquitectura es más compleja que la primera,\n",
        "puede haber encontrado un equilibrio entre la capacidad de aprender patrones más sutiles en los datos y la capacidad de generalizar a nuevas situaciones.\n",
        "Exploración y Explotación Balanceadas: Es posible que este agente haya logrado un mejor equilibrio entre la exploración (aprender de nuevas experiencias) y\n",
        "la explotación (aplicar el conocimiento existente para maximizar la recompensa) durante el entrenamiento y la prueba.\n",
        "Adaptación al Entorno: La arquitectura compleja puede haber permitido al agente adaptarse mejor a las condiciones cambiantes del mercado y aprender estrategias más sofisticadas para maximizar el profit.\n",
        "\n",
        "\n",
        "En resumen, las diferencias en los profits entre los agentes con arquitecturas simples y complejas pueden atribuirse a una variedad de factores, incluyendo la capacidad de aprendizaje,\n",
        "la generalización, la exploración adecuada del espacio de acciones y la adaptación al entorno. Cada agente puede haber encontrado un equilibrio diferente entre estos factores,\n",
        "lo que resulta en diferentes niveles de éxito en la tarea.\n",
        "\n",
        "\n",
        "Gracias\n",
        "César\n",
        "\n",
        "\"\"\""
      ],
      "metadata": {
        "id": "gjYn_58jacBP"
      },
      "execution_count": null,
      "outputs": []
    },
    {
      "cell_type": "code",
      "source": [
        "from google.colab import drive\n",
        "drive.mount('/content/drive')"
      ],
      "metadata": {
        "colab": {
          "base_uri": "https://localhost:8080/"
        },
        "id": "fmgcLkpdrPbK",
        "outputId": "729a68ef-d004-4509-b55b-8b369f394265"
      },
      "execution_count": 1,
      "outputs": [
        {
          "output_type": "stream",
          "name": "stdout",
          "text": [
            "Mounted at /content/drive\n"
          ]
        }
      ]
    },
    {
      "cell_type": "markdown",
      "source": [
        "Recuerda poner en esta sección la ruta en la que guardaste los archivos correspondientes a los modelos que generamos en la misión anterior."
      ],
      "metadata": {
        "id": "XJG14y7OrRUB"
      }
    },
    {
      "cell_type": "code",
      "source": [
        "#%cd \"drive/MyDrive/RL_/\"\n",
        "%cd /content/drive/MyDrive/RL_\n",
        "!pwd\n",
        "!ls"
      ],
      "metadata": {
        "colab": {
          "base_uri": "https://localhost:8080/"
        },
        "id": "6TuAhDkFrQ2I",
        "outputId": "99092f51-a198-47ca-83fd-bb319e387743"
      },
      "execution_count": 6,
      "outputs": [
        {
          "output_type": "stream",
          "name": "stdout",
          "text": [
            "/content/drive/MyDrive/RL_\n",
            "/content/drive/MyDrive/RL_\n",
            "'Misión 3: Entrenando el agente inteligente.ipynb'\n"
          ]
        }
      ]
    },
    {
      "cell_type": "markdown",
      "source": [
        "## Recapitulación de la misión anterior"
      ],
      "metadata": {
        "id": "uvxivziLcbC-"
      }
    },
    {
      "cell_type": "code",
      "source": [
        "!pip install plotly\n",
        "!pip install --upgrade pandas\n",
        "!pip install --upgrade pandas-datareader"
      ],
      "metadata": {
        "colab": {
          "base_uri": "https://localhost:8080/"
        },
        "id": "z_cGCRvRb5j2",
        "outputId": "c57ae010-10f7-458a-8fea-0e3467c9422d"
      },
      "execution_count": 44,
      "outputs": [
        {
          "output_type": "stream",
          "name": "stdout",
          "text": [
            "Requirement already satisfied: plotly in /usr/local/lib/python3.10/dist-packages (5.15.0)\n",
            "Requirement already satisfied: tenacity>=6.2.0 in /usr/local/lib/python3.10/dist-packages (from plotly) (8.2.3)\n",
            "Requirement already satisfied: packaging in /usr/local/lib/python3.10/dist-packages (from plotly) (24.0)\n",
            "Requirement already satisfied: pandas in /usr/local/lib/python3.10/dist-packages (2.2.2)\n",
            "Requirement already satisfied: numpy>=1.22.4 in /usr/local/lib/python3.10/dist-packages (from pandas) (1.25.2)\n",
            "Requirement already satisfied: python-dateutil>=2.8.2 in /usr/local/lib/python3.10/dist-packages (from pandas) (2.8.2)\n",
            "Requirement already satisfied: pytz>=2020.1 in /usr/local/lib/python3.10/dist-packages (from pandas) (2023.4)\n",
            "Requirement already satisfied: tzdata>=2022.7 in /usr/local/lib/python3.10/dist-packages (from pandas) (2024.1)\n",
            "Requirement already satisfied: six>=1.5 in /usr/local/lib/python3.10/dist-packages (from python-dateutil>=2.8.2->pandas) (1.16.0)\n",
            "Requirement already satisfied: pandas-datareader in /usr/local/lib/python3.10/dist-packages (0.10.0)\n",
            "Requirement already satisfied: lxml in /usr/local/lib/python3.10/dist-packages (from pandas-datareader) (4.9.4)\n",
            "Requirement already satisfied: pandas>=0.23 in /usr/local/lib/python3.10/dist-packages (from pandas-datareader) (2.2.2)\n",
            "Requirement already satisfied: requests>=2.19.0 in /usr/local/lib/python3.10/dist-packages (from pandas-datareader) (2.31.0)\n",
            "Requirement already satisfied: numpy>=1.22.4 in /usr/local/lib/python3.10/dist-packages (from pandas>=0.23->pandas-datareader) (1.25.2)\n",
            "Requirement already satisfied: python-dateutil>=2.8.2 in /usr/local/lib/python3.10/dist-packages (from pandas>=0.23->pandas-datareader) (2.8.2)\n",
            "Requirement already satisfied: pytz>=2020.1 in /usr/local/lib/python3.10/dist-packages (from pandas>=0.23->pandas-datareader) (2023.4)\n",
            "Requirement already satisfied: tzdata>=2022.7 in /usr/local/lib/python3.10/dist-packages (from pandas>=0.23->pandas-datareader) (2024.1)\n",
            "Requirement already satisfied: charset-normalizer<4,>=2 in /usr/local/lib/python3.10/dist-packages (from requests>=2.19.0->pandas-datareader) (3.3.2)\n",
            "Requirement already satisfied: idna<4,>=2.5 in /usr/local/lib/python3.10/dist-packages (from requests>=2.19.0->pandas-datareader) (3.7)\n",
            "Requirement already satisfied: urllib3<3,>=1.21.1 in /usr/local/lib/python3.10/dist-packages (from requests>=2.19.0->pandas-datareader) (2.0.7)\n",
            "Requirement already satisfied: certifi>=2017.4.17 in /usr/local/lib/python3.10/dist-packages (from requests>=2.19.0->pandas-datareader) (2024.2.2)\n",
            "Requirement already satisfied: six>=1.5 in /usr/local/lib/python3.10/dist-packages (from python-dateutil>=2.8.2->pandas>=0.23->pandas-datareader) (1.16.0)\n"
          ]
        }
      ]
    },
    {
      "cell_type": "code",
      "source": [
        "#!pip install tensorflow-gpu"
      ],
      "metadata": {
        "id": "WdlB9Z4uemZ3"
      },
      "execution_count": null,
      "outputs": []
    },
    {
      "cell_type": "code",
      "source": [
        "# Paquetes básicos para el análisis de datos\n",
        "import math\n",
        "import random\n",
        "import numpy as np\n",
        "import pandas as pd\n",
        "import pandas_datareader as data_reader\n",
        "from collections import deque\n",
        "\n",
        "# Paquetes especializados en graficación e interacción\n",
        "%matplotlib notebook\n",
        "import matplotlib.pyplot as plt\n",
        "import plotly.graph_objects as go\n",
        "import plotly.express as px\n",
        "from plotly.subplots import make_subplots\n",
        "\n",
        "# Paquete especializado en tensores y, sobre todo, en redes neuronales\n",
        "import tensorflow as tf\n",
        "from tensorflow import keras"
      ],
      "metadata": {
        "id": "e1zh55-LcQi1"
      },
      "execution_count": 45,
      "outputs": []
    },
    {
      "cell_type": "code",
      "source": [
        "def dataset_loader(stock_name, clip_data, train_portion=0.5):\n",
        "    full_dataset = data_reader.DataReader(\n",
        "        stock_name, data_source=\"yahoo\").iloc[-clip_data:]\n",
        "\n",
        "    data_start_date = str(full_dataset.index[0])\n",
        "    data_end_date = str(full_dataset.index[-1])\n",
        "\n",
        "    data = full_dataset['Close']\n",
        "    data_samples = len(data)\n",
        "    data_mid_date = str(full_dataset.index[int(data_samples * train_portion)])\n",
        "\n",
        "    train_data = data[:data_mid_date]\n",
        "    test_data = data[data_mid_date:]\n",
        "\n",
        "    fmt_str = \"{} <---[{}]---> {} <---[{}]---> {}\"\n",
        "    print(\"Timeline:\\n\", fmt_str.format(\n",
        "        data_start_date.split()[0], len(train_data),\n",
        "        data_mid_date.split()[0], len(test_data),\n",
        "        data_end_date.split()[0]))\n",
        "\n",
        "    return train_data, test_data"
      ],
      "metadata": {
        "id": "zMGZAjincGvm"
      },
      "execution_count": null,
      "outputs": []
    },
    {
      "cell_type": "code",
      "source": [
        "!pip install alpha_vantage\n"
      ],
      "metadata": {
        "colab": {
          "base_uri": "https://localhost:8080/"
        },
        "id": "TmFkVphnvejS",
        "outputId": "57fbe071-6b89-4b67-f25e-a907bef55dcf"
      },
      "execution_count": 46,
      "outputs": [
        {
          "output_type": "stream",
          "name": "stdout",
          "text": [
            "Requirement already satisfied: alpha_vantage in /usr/local/lib/python3.10/dist-packages (2.3.1)\n",
            "Requirement already satisfied: aiohttp in /usr/local/lib/python3.10/dist-packages (from alpha_vantage) (3.9.5)\n",
            "Requirement already satisfied: requests in /usr/local/lib/python3.10/dist-packages (from alpha_vantage) (2.31.0)\n",
            "Requirement already satisfied: aiosignal>=1.1.2 in /usr/local/lib/python3.10/dist-packages (from aiohttp->alpha_vantage) (1.3.1)\n",
            "Requirement already satisfied: attrs>=17.3.0 in /usr/local/lib/python3.10/dist-packages (from aiohttp->alpha_vantage) (23.2.0)\n",
            "Requirement already satisfied: frozenlist>=1.1.1 in /usr/local/lib/python3.10/dist-packages (from aiohttp->alpha_vantage) (1.4.1)\n",
            "Requirement already satisfied: multidict<7.0,>=4.5 in /usr/local/lib/python3.10/dist-packages (from aiohttp->alpha_vantage) (6.0.5)\n",
            "Requirement already satisfied: yarl<2.0,>=1.0 in /usr/local/lib/python3.10/dist-packages (from aiohttp->alpha_vantage) (1.9.4)\n",
            "Requirement already satisfied: async-timeout<5.0,>=4.0 in /usr/local/lib/python3.10/dist-packages (from aiohttp->alpha_vantage) (4.0.3)\n",
            "Requirement already satisfied: charset-normalizer<4,>=2 in /usr/local/lib/python3.10/dist-packages (from requests->alpha_vantage) (3.3.2)\n",
            "Requirement already satisfied: idna<4,>=2.5 in /usr/local/lib/python3.10/dist-packages (from requests->alpha_vantage) (3.7)\n",
            "Requirement already satisfied: urllib3<3,>=1.21.1 in /usr/local/lib/python3.10/dist-packages (from requests->alpha_vantage) (2.0.7)\n",
            "Requirement already satisfied: certifi>=2017.4.17 in /usr/local/lib/python3.10/dist-packages (from requests->alpha_vantage) (2024.2.2)\n"
          ]
        }
      ]
    },
    {
      "cell_type": "code",
      "source": [
        "#KOV4S8MT1CZK6MB5\n",
        "\n",
        "# Importar bibliotecas necesarias\n",
        "import pandas as pd\n",
        "from alpha_vantage.timeseries import TimeSeries\n",
        "from datetime import datetime\n",
        "\n",
        "# Definir función para cargar el conjunto de datos\n",
        "def dataset_loader(stock_name, clip_data, train_portion=0.5):\n",
        "    # Crear una instancia de TimeSeries con la API key\n",
        "    ts = TimeSeries(key='KOV4S8MT1CZK6MB5', output_format='pandas')\n",
        "\n",
        "    # Obtener los datos diarios de precios de las acciones\n",
        "    data, meta_data = ts.get_daily(symbol=stock_name, outputsize='full')\n",
        "\n",
        "    # Obtener el DataFrame con los datos\n",
        "    df = data.iloc[-clip_data:]\n",
        "\n",
        "    # Ordenar el índice del DataFrame por fecha\n",
        "    df.sort_index(inplace=True)\n",
        "\n",
        "    # Obtener las fechas de inicio y fin\n",
        "    data_start_date = df.index[0].strftime('%Y-%m-%d')\n",
        "    data_end_date = df.index[-1].strftime('%Y-%m-%d')\n",
        "\n",
        "    # Obtener la fecha media para dividir los datos de entrenamiento y prueba\n",
        "    data_samples = len(df)\n",
        "    data_mid_date = df.index[int(data_samples * train_portion)].strftime('%Y-%m-%d')\n",
        "\n",
        "    # Dividir los datos en datos de entrenamiento y prueba\n",
        "    train_data = df.loc[:data_mid_date, '4. close']\n",
        "    test_data = df.loc[data_mid_date:, '4. close']\n",
        "\n",
        "    # Imprimir la línea de tiempo\n",
        "    fmt_str = \"{} <---[{}]---> {} <---[{}]---> {}\"\n",
        "    print(\"Timeline:\\n\", fmt_str.format(\n",
        "        data_start_date, len(train_data),\n",
        "        data_mid_date, len(test_data),\n",
        "        data_end_date))\n",
        "\n",
        "    return train_data, test_data"
      ],
      "metadata": {
        "id": "hXUWXorvvYJW"
      },
      "execution_count": 4,
      "outputs": []
    },
    {
      "cell_type": "code",
      "source": [
        "class Trading_Environment():\n",
        "    def __init__(self, dataset, verbose=False):\n",
        "        self.window_size = 11\n",
        "        self.state_size = self.window_size\n",
        "        self.action_space = {0: \"Stay\", 1: \"Buy\", 2: \"Sell\"}\n",
        "\n",
        "        self.data = dataset\n",
        "        self.data_length = len(dataset)\n",
        "\n",
        "        self.inventory = None\n",
        "        self.current_step = None\n",
        "\n",
        "        self.verbose = verbose\n",
        "\n",
        "        self.reset()\n",
        "\n",
        "    def reset(self):\n",
        "        self.inventory = []\n",
        "        self.current_step = 0\n",
        "\n",
        "        return self._get_state()\n",
        "\n",
        "    def step(self, action):\n",
        "        reward = 0  # Only increases when selling is positive\n",
        "        profit = 0\n",
        "\n",
        "        current_price = self.data[self.current_step]\n",
        "\n",
        "        if action == 1: # Buying\n",
        "            self.inventory.append(current_price)\n",
        "\n",
        "            if self.verbose:\n",
        "                print(\"Robot-RL {:6s}: {}\".format(\n",
        "                    \"Compró\", self.stock_price_format(current_price)),\n",
        "                    \"Inventario: \", len(self.inventory))\n",
        "\n",
        "        elif action == 2 and len(self.inventory) > 0: # Selling\n",
        "            buy_price = self.inventory.pop(0)\n",
        "\n",
        "            difference = current_price - buy_price\n",
        "\n",
        "            reward = difference  # max(difference, 0)\n",
        "            profit = difference\n",
        "            if self.verbose:\n",
        "                print(\"Robot-RL {:6s}: {}\".format(\n",
        "                    \"Vendió\", self.stock_price_format(current_price)),\n",
        "                    \"Inventario: \", len(self.inventory))\n",
        "\n",
        "        else: # Staying\n",
        "            if self.verbose:\n",
        "                print(\"Robot-RL {:6s}: {}\".format(\n",
        "                    \"Esperó\", self.stock_price_format(current_price)),\n",
        "                    \"Inventario: \", len(self.inventory))\n",
        "\n",
        "        self.current_step += 1\n",
        "        next_state = self._get_state()\n",
        "\n",
        "        if self.current_step >= self.data_length - 1:\n",
        "            done = True\n",
        "        else:\n",
        "            done = False\n",
        "\n",
        "        return next_state, reward, done, profit\n",
        "\n",
        "    def _get_state(self):\n",
        "         # Calcular el ID de inicio\n",
        "        starting_id = self.current_step - self.window_size + 1\n",
        "\n",
        "        # Datos en ventana\n",
        "        if starting_id >= 0:\n",
        "            windowed_data = self.data[starting_id : self.current_step + 1].tolist()\n",
        "        else:\n",
        "            windowed_data = -starting_id * [self.data[0]] + \\\n",
        "                            list(self.data[0 : self.current_step + 1])\n",
        "\n",
        "        # Normalizar los datos de precio con la función sigmoidal\n",
        "        state = 1. / (1. + np.exp(-np.diff(windowed_data)))\n",
        "\n",
        "        # Analizar la modificación de los estados del entorno:\n",
        "        # Aquí, calculamos la diferencia entre puntos de datos consecutivos y los normalizamos usando una función sigmoidal.\n",
        "        # Esto captura la tendencia en los movimientos de precios dentro de los datos de la ventana.\n",
        "\n",
        "        # Devolver la observación / estado\n",
        "        return np.concatenate(([len(self.inventory) * self.current_value], state))\n",
        "\n",
        "    def get_action_sample(self):\n",
        "        return random.randrange(len(self.action_space))\n",
        "\n",
        "    @property\n",
        "    def current_value(self):\n",
        "        return self.data[self.current_step]\n",
        "\n",
        "    @staticmethod\n",
        "    def stock_price_format(n):\n",
        "        return \"- $ {:10f}, \".format(abs(n)) if n < 0 else \"+ $ {:10f},\".format(abs(n))\n",
        ""
      ],
      "metadata": {
        "id": "QjZpkKnZbqd7"
      },
      "execution_count": 47,
      "outputs": []
    },
    {
      "cell_type": "code",
      "source": [
        "class DQL_Agent():\n",
        "    def __init__(self, environment, agent_name=\"Q_model\", pretrained=False):\n",
        "        self.env = environment\n",
        "        self.memory = deque(maxlen=2000)\n",
        "        self.batch_size = 32\n",
        "        self.agent_name = agent_name\n",
        "\n",
        "        self.gamma = 0.99\n",
        "        self.epsilon = 1.0\n",
        "        self.epsilon_min = 0.01\n",
        "        self.epsilon_decay = 0.995\n",
        "        self.learning_rate = 0.001\n",
        "\n",
        "        self.first_step = True\n",
        "\n",
        "\n",
        "        \"\"\" ajuste -------------------------------------------------------------\n",
        "\n",
        "        Se han creado dos modelos: model y target_model.\n",
        "        Durante la experiencia de repetición, se utiliza target_model para obtener las acciones óptimas para los siguientes estados.\n",
        "        Se utilizan los valores Q calculados con target_model para calcular los valores objetivo.\n",
        "        Se actualizan los valores Q actuales utilizando los valores objetivo y se entrena el modelo model.\n",
        "        --- ajuste -------------------------------------------------------------  \"\"\"\n",
        "\n",
        "        # Creamos dos modelos: model y target_model\n",
        "        self.model = self.create_model()\n",
        "        self.target_model = self.create_model()\n",
        "\n",
        "\n",
        "        #self.model = self.load_model() if pretrained else self.create_model()\n",
        "\n",
        "        # Aquí se puede definir el método para crear la arquitectura intermedia\n",
        "        #self.model = self.load_model() if pretrained else self.create_intermediate_model()\n",
        "\n",
        "        # Aquí se puede definir el método para crear la arquitectura compleja\n",
        "        self.model = self.load_model() if pretrained else self.create_complex_model()\n",
        "\n",
        "        # Aquí se puede definir el método para crear la arquitectura simple\n",
        "        #self.model = self.load_model() if pretrained else self.create_simple_model()\n",
        "\n",
        "        \"\"\"\n",
        "        Ahora puedes ejecutar los experimentos y comparar los resultados entre las tres arquitecturas diferentes.\n",
        "        \"\"\"\n",
        "\n",
        "    # Definir método para crear un modelo con arquitectura intermedia\n",
        "    def create_intermediate_model(self):\n",
        "        model = keras.models.Sequential(name=self.agent_name + \"_Intermediate\")\n",
        "\n",
        "        model.add(keras.Input(shape=(self.env.state_size,)))\n",
        "        model.add(keras.layers.Dense(name=\"Layer1\", units=96, activation='relu'))\n",
        "        model.add(keras.layers.Dense(name=\"Layer2\", units=192, activation='relu'))\n",
        "        model.add(keras.layers.Dense(name=\"OutputLayer\", units=len(self.env.action_space), activation='linear'))\n",
        "\n",
        "        model.compile(loss='mse', optimizer=keras.optimizers.Adam(learning_rate=self.learning_rate))\n",
        "        return model\n",
        "\n",
        "    # Método para crear un modelo con arquitectura compleja\n",
        "    def create_complex_model(self):\n",
        "        model = keras.models.Sequential(name=self.agent_name + \"_Complex\")\n",
        "\n",
        "        model.add(keras.Input(shape=(self.env.state_size,)))\n",
        "        model.add(keras.layers.Dense(name=\"Layer1\", units=128, activation='relu'))\n",
        "        model.add(keras.layers.Dense(name=\"Layer2\", units=256, activation='relu'))\n",
        "        model.add(keras.layers.Dense(name=\"Layer3\", units=256, activation='relu'))\n",
        "        model.add(keras.layers.Dense(name=\"OutputLayer\", units=len(self.env.action_space), activation='linear'))\n",
        "\n",
        "        model.compile(loss='mse', optimizer=keras.optimizers.Adam(learning_rate=self.learning_rate))\n",
        "        return model\n",
        "\n",
        "    # Método para crear un modelo con arquitectura sencilla\n",
        "    def create_simple_model(self):\n",
        "        model = keras.models.Sequential(name=self.agent_name + \"_Simple\")\n",
        "\n",
        "        model.add(keras.Input(shape=(self.env.state_size,)))\n",
        "        model.add(keras.layers.Dense(name=\"Layer1\", units=64, activation='relu'))\n",
        "        model.add(keras.layers.Dense(name=\"OutputLayer\", units=len(self.env.action_space), activation='linear'))\n",
        "\n",
        "        model.compile(loss='mse', optimizer=keras.optimizers.Adam(learning_rate=self.learning_rate))\n",
        "        return model\n",
        "\n",
        "\n",
        "    def create_model(self):\n",
        "        model = keras.models.Sequential(name=self.agent_name)\n",
        "\n",
        "        model.add(keras.Input(shape=(self.env.state_size,)))\n",
        "        #model.add(keras.layers.Dense(name=\"Layer1\", units=128, activation='relu'))\n",
        "        #model.add(keras.layers.Dense(name=\"Layer2\", units=256, activation='relu'))\n",
        "        #model.add(keras.layers.Dense(name=\"Layer3\", units=256, activation='relu'))\n",
        "        model.add(keras.layers.Dense(name=\"Layer4\", units=32, activation='relu'))\n",
        "        model.add(keras.layers.Dense(name=\"Layer5\", units=len(self.env.action_space), activation='linear'))\n",
        "\n",
        "        model.compile(loss='mse', optimizer=keras.optimizers.Adam(learning_rate=self.learning_rate))\n",
        "        return model\n",
        "\n",
        "    def get_action(self, s, is_evaluating=False):\n",
        "        if self.first_step:\n",
        "            self.first_step = False\n",
        "            return 1\n",
        "\n",
        "        if not is_evaluating and random.random() <= self.epsilon:\n",
        "            return self.env.get_action_sample()\n",
        "\n",
        "        else:\n",
        "            return int(tf.argmax(self.model.predict(\n",
        "                s.reshape(1, self.env.state_size), verbose=0)[0]))\n",
        "\n",
        "    def remember(self, sarsd):\n",
        "        # sarsd: (state, action, reward, new_state, done)\n",
        "        self.memory.append(sarsd)\n",
        "\n",
        "    def experience_replay(self):\n",
        "        batch_sample = random.sample(self.memory, self.batch_size)\n",
        "\n",
        "        states = np.array([sarsd[0] for sarsd in batch_sample])\n",
        "        actions = np.array([sarsd[1] for sarsd in batch_sample])\n",
        "        rewards = np.array([sarsd[2] for sarsd in batch_sample])\n",
        "        next_states = np.array([sarsd[3] for sarsd in batch_sample])\n",
        "        done = np.array([sarsd[4] for sarsd in batch_sample])\n",
        "\n",
        "        \"\"\"\n",
        "        \"\"\"\n",
        "\n",
        "        \"\"\" ajuste -------------------------------------------------------------\n",
        "\n",
        "        # Utilizar el primer modelo para obtener las acciones óptimas para los siguientes estados\n",
        "        best_actions_next = np.argmax(self.model.predict(next_states, verbose=0), axis=1)\n",
        "\n",
        "        --- ajuste -------------------------------------------------------------  \"\"\"\n",
        "\n",
        "\n",
        "        # Utilizar el segundo modelo (target_model) para obtener las acciones óptimas para los siguientes estados\n",
        "        best_actions_next = np.argmax(self.target_model.predict(next_states, verbose=0), axis=1)\n",
        "\n",
        "\n",
        "\n",
        "        # Calcular los valores Q para los siguientes estados utilizando el segundo modelo y las acciones óptimas obtenidas anteriormente\n",
        "        q_values_next = self.target_model.predict(next_states, verbose=0)\n",
        "\n",
        "\n",
        "        \"\"\"\n",
        "\n",
        "        ajuste -------------------------------------------------------------\n",
        "\n",
        "        Se han creado dos modelos: model y target_model.\n",
        "        Durante la experiencia de repetición, se utiliza target_model para obtener las acciones óptimas para los siguientes estados.\n",
        "        Se utilizan los valores Q calculados con target_model para calcular los valores objetivo.\n",
        "        Se actualizan los valores Q actuales utilizando los valores objetivo y se entrena el modelo model.\n",
        "\n",
        "        --- ajuste -------------------------------------------------------------  \"\"\"\n",
        "\n",
        "        # Calcular los valores Q para los estados actuales utilizando el primer modelo\n",
        "        q_values = self.model.predict(states, verbose=0)\n",
        "\n",
        "        # Calcular los valores objetivo utilizando los valores Q obtenidos del segundo modelo y las acciones óptimas obtenidas anteriormente\n",
        "        targets = rewards + self.gamma * q_values_next[np.arange(self.batch_size), best_actions_next]\n",
        "\n",
        "        # Actualizar los valores Q actuales utilizando los valores objetivo\n",
        "        q_values[np.arange(self.batch_size), actions] = targets\n",
        "\n",
        "\n",
        "        # Q predicho\n",
        "        #target = rewards + self.gamma * np.amax(self.model.predict(next_states, verbose=0), axis=1)\n",
        "        #target[done] = rewards[done]\n",
        "\n",
        "        # Q actual\n",
        "        #q_values = self.model.predict(states, verbose=0)\n",
        "        # q_values[range(self.batch_size), actions] = target\n",
        "\n",
        "        loss = self.model.fit(states, q_values, epochs=1, verbose=0).history[\"loss\"][0]\n",
        "\n",
        "        self.update_epsilon()\n",
        "\n",
        "        return loss\n",
        "\n",
        "    def update_epsilon(self):\n",
        "        if self.epsilon >= self.epsilon_min:\n",
        "            self.epsilon *= self.epsilon_decay\n",
        "\n",
        "    def save_model(self, episode):\n",
        "        self.model.save(\"models/{}_{}\".format(self.agent_name, episode))\n",
        "\n",
        "    def load_model(self):\n",
        "        return keras.models.load_model(\"models/\" + self.agent_name)\n",
        "\n",
        "    def save_model(self, episode):\n",
        "        # Verificar si el directorio existe, si no, crearlo\n",
        "        save_dir = '/content/drive/MyDrive/RL_'\n",
        "        if not os.path.exists(save_dir):\n",
        "            os.makedirs(save_dir)\n",
        "\n",
        "        # Guardar el modelo en el directorio especificado\n",
        "        save_path = os.path.join(save_dir, \"{}_{}.h5\".format(self.agent_name, episode))\n",
        "        self.model.save(save_path)"
      ],
      "metadata": {
        "id": "RNeHAWTTeh-c"
      },
      "execution_count": 92,
      "outputs": []
    },
    {
      "cell_type": "code",
      "source": [
        "def train_model(agent, env, num_episodes=10):\n",
        "    profit_evolution = []\n",
        "    reward_evolution = []\n",
        "    average_loss = []\n",
        "\n",
        "    for episode in range(1, num_episodes + 1):\n",
        "\n",
        "        total_profit = 0\n",
        "        total_reward = 0\n",
        "        loss_list = []\n",
        "\n",
        "        state = env.reset()\n",
        "        done = False\n",
        "        while not done:\n",
        "            action = agent.get_action(state)\n",
        "            new_state, reward, done, profit = env.step(action)\n",
        "\n",
        "            sarsd = (state, action, reward, new_state, done)\n",
        "            agent.remember(sarsd)\n",
        "\n",
        "            if len(agent.memory) > agent.batch_size:\n",
        "                loss = agent.experience_replay()\n",
        "                loss_list.append(loss)\n",
        "\n",
        "            state = new_state\n",
        "\n",
        "            total_profit += profit\n",
        "            total_reward += reward\n",
        "\n",
        "            #print(\"Step: {}, Loss: {}, Profit: {}\".format(env.current_step, loss, profit))\n",
        "\n",
        "        print(f\"Episode {episode}, Profit: {total_profit}, Reward: {total_reward}\")\n",
        "\n",
        "        profit_evolution.append(total_profit)\n",
        "        reward_evolution.append(total_reward)\n",
        "        if len(loss_list) > 0:\n",
        "            average_loss.append(np.mean(np.array(loss_list)))\n",
        "\n",
        "        if episode % 10 == 0:\n",
        "            agent.save_model(f\"{episode}\")\n",
        "\n",
        "    agent.save_model(f\"{num_episodes}\")\n",
        "    return profit_evolution, reward_evolution, average_loss"
      ],
      "metadata": {
        "id": "HaXbg8BdrxV4"
      },
      "execution_count": 93,
      "outputs": []
    },
    {
      "cell_type": "markdown",
      "source": [
        "## Ejercicio 1\n"
      ],
      "metadata": {
        "id": "FMup3AThckZb"
      }
    },
    {
      "cell_type": "code",
      "source": [
        "def test_model(agent, env, epsilon=None):\n",
        "    profit_evolution = []\n",
        "    reward_evolution = []\n",
        "    history = []\n",
        "\n",
        "    total_profit = 0\n",
        "    total_reward = 0\n",
        "\n",
        "    if epsilon is None:\n",
        "        evaluation_flag = True\n",
        "    else:\n",
        "        evaluation_flag = False\n",
        "        agent.epsilon_decay = 0.0\n",
        "        agent.epsilon_min = 0.6\n",
        "\n",
        "    state = env.reset()\n",
        "    done = False\n",
        "    while not done:\n",
        "        action = agent.get_action(state, is_evaluating=evaluation_flag)\n",
        "        new_state, reward, done, profit = env.step(action)\n",
        "\n",
        "        sarsd = (state, action, reward, new_state, done)\n",
        "        agent.remember(sarsd)\n",
        "\n",
        "        state = new_state\n",
        "\n",
        "        history.append((env.current_value, env.action_space[action]))\n",
        "\n",
        "        total_profit += profit\n",
        "        profit_evolution.append(total_profit)\n",
        "        reward_evolution.append(reward)\n",
        "\n",
        "        #print(f\"Step {env.current_step}, Profit: {profit}, Reward: {reward}\")\n",
        "        #print(\"Step: {}, Profit: {}\".format(env.current_step, profit))\n",
        "\n",
        "    return profit_evolution, reward_evolution, history\n"
      ],
      "metadata": {
        "id": "jc724bsCr-J6"
      },
      "execution_count": 94,
      "outputs": []
    },
    {
      "cell_type": "code",
      "source": [
        "train_data, test_data = dataset_loader(\n",
        "    stock_name=\"AAPL\", clip_data=200, train_portion=0.5)\n",
        "\n",
        "# Experimento 1\n",
        "entorno_exp1= Trading_Environment(test_data)\n",
        "dql_agent_exp1 = DQL_Agent(entorno_exp1, agent_name=\"robot_dql_exp1\", pretrained=False)  # Usar arquitectura simple"
      ],
      "metadata": {
        "colab": {
          "base_uri": "https://localhost:8080/"
        },
        "id": "nM5pcqg7nuDL",
        "outputId": "a2215507-70fc-46ef-9707-17f06ff295f3"
      },
      "execution_count": 51,
      "outputs": [
        {
          "output_type": "stream",
          "name": "stdout",
          "text": [
            "Timeline:\n",
            " 1999-11-01 <---[101]---> 2000-03-24 <---[100]---> 2000-08-15\n"
          ]
        },
        {
          "output_type": "stream",
          "name": "stderr",
          "text": [
            "<ipython-input-4-3669e1f5687e>:20: SettingWithCopyWarning:\n",
            "\n",
            "\n",
            "A value is trying to be set on a copy of a slice from a DataFrame\n",
            "\n",
            "See the caveats in the documentation: https://pandas.pydata.org/pandas-docs/stable/user_guide/indexing.html#returning-a-view-versus-a-copy\n",
            "\n",
            "<ipython-input-47-04752e11e2c3>:73: FutureWarning:\n",
            "\n",
            "Series.__getitem__ treating keys as positions is deprecated. In a future version, integer keys will always be treated as labels (consistent with DataFrame behavior). To access a value by position, use `ser.iloc[pos]`\n",
            "\n",
            "<ipython-input-47-04752e11e2c3>:91: FutureWarning:\n",
            "\n",
            "Series.__getitem__ treating keys as positions is deprecated. In a future version, integer keys will always be treated as labels (consistent with DataFrame behavior). To access a value by position, use `ser.iloc[pos]`\n",
            "\n"
          ]
        }
      ]
    },
    {
      "cell_type": "code",
      "source": [
        "\"\"\"\n",
        "dql_agent_exp1 con una arquitectura simple, mostro mejores resultados que el resto de agentes, ahora revisaremos dql_agent_exp1 con una arquitecura intermedia\n",
        "\"\"\"\n",
        "\n",
        "train_data, test_data = dataset_loader(\n",
        "    stock_name=\"AAPL\", clip_data=200, train_portion=0.5)\n",
        "\n",
        "# Experimento agente dql_agent_exp1 arquitectura intermedia\n",
        "entorno_exp1= Trading_Environment(test_data)\n",
        "dql_agent_exp1 = DQL_Agent(entorno_exp1, agent_name=\"robot_dql_exp1\", pretrained=False)  # Usar arquitectura intermedia"
      ],
      "metadata": {
        "colab": {
          "base_uri": "https://localhost:8080/"
        },
        "id": "7WpPYG95TYmr",
        "outputId": "e416b935-1141-4c8f-edc9-8c7041b91c97"
      },
      "execution_count": 84,
      "outputs": [
        {
          "output_type": "stream",
          "name": "stdout",
          "text": [
            "Timeline:\n",
            " 1999-11-01 <---[101]---> 2000-03-24 <---[100]---> 2000-08-15\n"
          ]
        },
        {
          "output_type": "stream",
          "name": "stderr",
          "text": [
            "<ipython-input-4-3669e1f5687e>:20: SettingWithCopyWarning:\n",
            "\n",
            "\n",
            "A value is trying to be set on a copy of a slice from a DataFrame\n",
            "\n",
            "See the caveats in the documentation: https://pandas.pydata.org/pandas-docs/stable/user_guide/indexing.html#returning-a-view-versus-a-copy\n",
            "\n",
            "<ipython-input-47-04752e11e2c3>:73: FutureWarning:\n",
            "\n",
            "Series.__getitem__ treating keys as positions is deprecated. In a future version, integer keys will always be treated as labels (consistent with DataFrame behavior). To access a value by position, use `ser.iloc[pos]`\n",
            "\n",
            "<ipython-input-47-04752e11e2c3>:91: FutureWarning:\n",
            "\n",
            "Series.__getitem__ treating keys as positions is deprecated. In a future version, integer keys will always be treated as labels (consistent with DataFrame behavior). To access a value by position, use `ser.iloc[pos]`\n",
            "\n"
          ]
        }
      ]
    },
    {
      "cell_type": "code",
      "source": [
        "\"\"\"\n",
        "dql_agent_exp1 con una arquitectura simple, mostro mejores resultados que el resto de agentes, ahora revisaremos dql_agent_exp1 con una arquitecura compleja\n",
        "\"\"\"\n",
        "\n",
        "train_data, test_data = dataset_loader(\n",
        "    stock_name=\"AAPL\", clip_data=200, train_portion=0.5)\n",
        "\n",
        "# Experimento agente dql_agent_exp1 arquitectura compleja\n",
        "entorno_exp1= Trading_Environment(test_data)\n",
        "dql_agent_exp1 = DQL_Agent(entorno_exp1, agent_name=\"robot_dql_exp1\", pretrained=False)  # Usar arquitectura compleja"
      ],
      "metadata": {
        "colab": {
          "base_uri": "https://localhost:8080/"
        },
        "id": "L452PwAPWLQS",
        "outputId": "5f8907b1-e040-441b-a851-369f4612626c"
      },
      "execution_count": 95,
      "outputs": [
        {
          "output_type": "stream",
          "name": "stdout",
          "text": [
            "Timeline:\n",
            " 1999-11-01 <---[101]---> 2000-03-24 <---[100]---> 2000-08-15\n"
          ]
        },
        {
          "output_type": "stream",
          "name": "stderr",
          "text": [
            "<ipython-input-4-3669e1f5687e>:20: SettingWithCopyWarning:\n",
            "\n",
            "\n",
            "A value is trying to be set on a copy of a slice from a DataFrame\n",
            "\n",
            "See the caveats in the documentation: https://pandas.pydata.org/pandas-docs/stable/user_guide/indexing.html#returning-a-view-versus-a-copy\n",
            "\n",
            "<ipython-input-47-04752e11e2c3>:73: FutureWarning:\n",
            "\n",
            "Series.__getitem__ treating keys as positions is deprecated. In a future version, integer keys will always be treated as labels (consistent with DataFrame behavior). To access a value by position, use `ser.iloc[pos]`\n",
            "\n",
            "<ipython-input-47-04752e11e2c3>:91: FutureWarning:\n",
            "\n",
            "Series.__getitem__ treating keys as positions is deprecated. In a future version, integer keys will always be treated as labels (consistent with DataFrame behavior). To access a value by position, use `ser.iloc[pos]`\n",
            "\n"
          ]
        }
      ]
    },
    {
      "cell_type": "code",
      "source": [
        "train_data, test_data = dataset_loader(\n",
        "    stock_name=\"AAPL\", clip_data=200, train_portion=0.5)\n",
        "\n",
        "# Experimento 2\n",
        "entorno_exp2= Trading_Environment(test_data)\n",
        "dql_agent_exp2 = DQL_Agent(entorno_exp2, agent_name=\"robot_dql_exp2\", pretrained=False)  # Usar arquitectura intermedia"
      ],
      "metadata": {
        "colab": {
          "base_uri": "https://localhost:8080/"
        },
        "id": "Xubx86ThikfG",
        "outputId": "c9aa8f23-bd4b-49d0-e0a9-6bdf9595633c"
      },
      "execution_count": 52,
      "outputs": [
        {
          "output_type": "stream",
          "name": "stdout",
          "text": [
            "Timeline:\n",
            " 1999-11-01 <---[101]---> 2000-03-24 <---[100]---> 2000-08-15\n"
          ]
        },
        {
          "output_type": "stream",
          "name": "stderr",
          "text": [
            "<ipython-input-4-3669e1f5687e>:20: SettingWithCopyWarning:\n",
            "\n",
            "\n",
            "A value is trying to be set on a copy of a slice from a DataFrame\n",
            "\n",
            "See the caveats in the documentation: https://pandas.pydata.org/pandas-docs/stable/user_guide/indexing.html#returning-a-view-versus-a-copy\n",
            "\n",
            "<ipython-input-47-04752e11e2c3>:73: FutureWarning:\n",
            "\n",
            "Series.__getitem__ treating keys as positions is deprecated. In a future version, integer keys will always be treated as labels (consistent with DataFrame behavior). To access a value by position, use `ser.iloc[pos]`\n",
            "\n",
            "<ipython-input-47-04752e11e2c3>:91: FutureWarning:\n",
            "\n",
            "Series.__getitem__ treating keys as positions is deprecated. In a future version, integer keys will always be treated as labels (consistent with DataFrame behavior). To access a value by position, use `ser.iloc[pos]`\n",
            "\n"
          ]
        }
      ]
    },
    {
      "cell_type": "code",
      "source": [
        "train_data, test_data = dataset_loader(\n",
        "    stock_name=\"AAPL\", clip_data=200, train_portion=0.5)\n",
        "\n",
        "# Experimento 3\n",
        "entorno_exp3 = Trading_Environment(test_data)\n",
        "dql_agent_exp3 = DQL_Agent(entorno_exp3, agent_name=\"robot_dql_exp3\", pretrained=False)  # Usar arquitectura compleja"
      ],
      "metadata": {
        "colab": {
          "base_uri": "https://localhost:8080/"
        },
        "id": "jRXN7VamYubn",
        "outputId": "97e1d63e-66cc-49f9-8c11-8771e48ec7c3"
      },
      "execution_count": 53,
      "outputs": [
        {
          "output_type": "stream",
          "name": "stdout",
          "text": [
            "Timeline:\n",
            " 1999-11-01 <---[101]---> 2000-03-24 <---[100]---> 2000-08-15\n"
          ]
        },
        {
          "output_type": "stream",
          "name": "stderr",
          "text": [
            "<ipython-input-4-3669e1f5687e>:20: SettingWithCopyWarning:\n",
            "\n",
            "\n",
            "A value is trying to be set on a copy of a slice from a DataFrame\n",
            "\n",
            "See the caveats in the documentation: https://pandas.pydata.org/pandas-docs/stable/user_guide/indexing.html#returning-a-view-versus-a-copy\n",
            "\n",
            "<ipython-input-47-04752e11e2c3>:73: FutureWarning:\n",
            "\n",
            "Series.__getitem__ treating keys as positions is deprecated. In a future version, integer keys will always be treated as labels (consistent with DataFrame behavior). To access a value by position, use `ser.iloc[pos]`\n",
            "\n",
            "<ipython-input-47-04752e11e2c3>:91: FutureWarning:\n",
            "\n",
            "Series.__getitem__ treating keys as positions is deprecated. In a future version, integer keys will always be treated as labels (consistent with DataFrame behavior). To access a value by position, use `ser.iloc[pos]`\n",
            "\n"
          ]
        }
      ]
    },
    {
      "cell_type": "code",
      "source": [
        "train_data, test_data = dataset_loader(\n",
        "    stock_name=\"AAPL\", clip_data=200, train_portion=0.5)\n",
        "\n",
        "entorno = Trading_Environment(test_data)\n",
        "dql_agent = DQL_Agent(entorno, agent_name=\"robot_d2ql_FINAL\", pretrained=False) # True"
      ],
      "metadata": {
        "colab": {
          "base_uri": "https://localhost:8080/"
        },
        "id": "ilBg5hAA4Q6B",
        "outputId": "be55176c-b3f0-4890-8423-e906f53727bc"
      },
      "execution_count": 49,
      "outputs": [
        {
          "output_type": "stream",
          "name": "stdout",
          "text": [
            "Timeline:\n",
            " 1999-11-01 <---[101]---> 2000-03-24 <---[100]---> 2000-08-15\n"
          ]
        },
        {
          "output_type": "stream",
          "name": "stderr",
          "text": [
            "<ipython-input-12-3669e1f5687e>:20: SettingWithCopyWarning:\n",
            "\n",
            "\n",
            "A value is trying to be set on a copy of a slice from a DataFrame\n",
            "\n",
            "See the caveats in the documentation: https://pandas.pydata.org/pandas-docs/stable/user_guide/indexing.html#returning-a-view-versus-a-copy\n",
            "\n"
          ]
        }
      ]
    },
    {
      "cell_type": "markdown",
      "source": [
        "Prueba con una función greedy"
      ],
      "metadata": {
        "id": "D3MaODkxtVoj"
      }
    },
    {
      "cell_type": "code",
      "source": [
        "pev, rev, history = test_model(agent=dql_agent_exp1, env=entorno_exp1, epsilon=None)"
      ],
      "metadata": {
        "colab": {
          "base_uri": "https://localhost:8080/"
        },
        "id": "FdxXWCGcn3p6",
        "outputId": "72a1f501-3932-4eb8-bf4c-9c493db03aac"
      },
      "execution_count": 54,
      "outputs": [
        {
          "output_type": "stream",
          "name": "stderr",
          "text": [
            "<ipython-input-47-04752e11e2c3>:73: FutureWarning:\n",
            "\n",
            "Series.__getitem__ treating keys as positions is deprecated. In a future version, integer keys will always be treated as labels (consistent with DataFrame behavior). To access a value by position, use `ser.iloc[pos]`\n",
            "\n",
            "<ipython-input-47-04752e11e2c3>:91: FutureWarning:\n",
            "\n",
            "Series.__getitem__ treating keys as positions is deprecated. In a future version, integer keys will always be treated as labels (consistent with DataFrame behavior). To access a value by position, use `ser.iloc[pos]`\n",
            "\n",
            "<ipython-input-47-04752e11e2c3>:27: FutureWarning:\n",
            "\n",
            "Series.__getitem__ treating keys as positions is deprecated. In a future version, integer keys will always be treated as labels (consistent with DataFrame behavior). To access a value by position, use `ser.iloc[pos]`\n",
            "\n"
          ]
        }
      ]
    },
    {
      "cell_type": "code",
      "source": [
        "\"\"\"\n",
        "Seguimiento adql_agent_exp1 con una arquitecura intermedia\n",
        "\n",
        "\"\"\"\n",
        "\n",
        "pev, rev, history = test_model(agent=dql_agent_exp1, env=entorno_exp1, epsilon=None)"
      ],
      "metadata": {
        "colab": {
          "base_uri": "https://localhost:8080/"
        },
        "id": "F6Tb-HAsULsG",
        "outputId": "c782736d-3ba0-4a00-8292-0947f7b3727d"
      },
      "execution_count": 85,
      "outputs": [
        {
          "output_type": "stream",
          "name": "stderr",
          "text": [
            "<ipython-input-47-04752e11e2c3>:73: FutureWarning:\n",
            "\n",
            "Series.__getitem__ treating keys as positions is deprecated. In a future version, integer keys will always be treated as labels (consistent with DataFrame behavior). To access a value by position, use `ser.iloc[pos]`\n",
            "\n",
            "<ipython-input-47-04752e11e2c3>:91: FutureWarning:\n",
            "\n",
            "Series.__getitem__ treating keys as positions is deprecated. In a future version, integer keys will always be treated as labels (consistent with DataFrame behavior). To access a value by position, use `ser.iloc[pos]`\n",
            "\n",
            "<ipython-input-47-04752e11e2c3>:27: FutureWarning:\n",
            "\n",
            "Series.__getitem__ treating keys as positions is deprecated. In a future version, integer keys will always be treated as labels (consistent with DataFrame behavior). To access a value by position, use `ser.iloc[pos]`\n",
            "\n"
          ]
        }
      ]
    },
    {
      "cell_type": "code",
      "source": [
        "\"\"\"\n",
        "Seguimiento adql_agent_exp1 con una arquitecura compleja\n",
        "\n",
        "\"\"\"\n",
        "pev, rev, history = test_model(agent=dql_agent_exp1, env=entorno_exp1, epsilon=None)"
      ],
      "metadata": {
        "colab": {
          "base_uri": "https://localhost:8080/"
        },
        "id": "yySjwCu7W53Q",
        "outputId": "c88e999d-32c4-4510-e2d5-ae691fe849e2"
      },
      "execution_count": 96,
      "outputs": [
        {
          "output_type": "stream",
          "name": "stderr",
          "text": [
            "<ipython-input-47-04752e11e2c3>:73: FutureWarning:\n",
            "\n",
            "Series.__getitem__ treating keys as positions is deprecated. In a future version, integer keys will always be treated as labels (consistent with DataFrame behavior). To access a value by position, use `ser.iloc[pos]`\n",
            "\n",
            "<ipython-input-47-04752e11e2c3>:91: FutureWarning:\n",
            "\n",
            "Series.__getitem__ treating keys as positions is deprecated. In a future version, integer keys will always be treated as labels (consistent with DataFrame behavior). To access a value by position, use `ser.iloc[pos]`\n",
            "\n",
            "<ipython-input-47-04752e11e2c3>:27: FutureWarning:\n",
            "\n",
            "Series.__getitem__ treating keys as positions is deprecated. In a future version, integer keys will always be treated as labels (consistent with DataFrame behavior). To access a value by position, use `ser.iloc[pos]`\n",
            "\n"
          ]
        }
      ]
    },
    {
      "cell_type": "code",
      "source": [
        "x_list = np.arange(len(pev))\n",
        "\n",
        "fig1 = make_subplots(rows=2, cols=1, shared_xaxes=True)\n",
        "\n",
        "fig1.add_trace(go.Scatter(x=x_list, y=pev, mode='lines', name=\"Profit Evolution\",\n",
        "                          opacity=1), row=1, col=1)\n",
        "fig1.add_trace(go.Scatter(x=x_list, y=rev, mode='lines', name=\"Reward\",\n",
        "                          opacity=0.5), row=1, col=1)\n",
        "\n",
        "\n",
        "data_array = np.array([his[0] for his in history])\n",
        "action_list = np.array([his[1] for his in history])\n",
        "\n",
        "stay_indices = action_list == 'Stay'\n",
        "buy_indices = action_list == 'Buy'\n",
        "sell_indices = action_list == 'Sell'\n",
        "\n",
        "fig1.add_trace(go.Scatter(x=x_list, y=data_array, name=\"Dataset\", mode=\"lines\",\n",
        "                          line=dict(color=\"black\")), row=2, col=1)\n",
        "fig1.add_trace(go.Scatter(x=x_list[stay_indices], y=data_array[stay_indices],\n",
        "                          mode='markers', name=\"stay\", opacity=1.0), row=2, col=1)\n",
        "fig1.add_trace(go.Scatter(x=x_list[buy_indices], y=data_array[buy_indices],\n",
        "                          mode='markers', name=\"buy\", opacity=1.0), row=2, col=1)\n",
        "fig1.add_trace(go.Scatter(x=x_list[sell_indices], y=data_array[sell_indices],\n",
        "                          mode='markers', name=\"sell\", opacity=1.0), row=2, col=1)\n",
        "\n",
        "fig1.update_xaxes(title_text=\"Step\")\n",
        "fig1.show()"
      ],
      "metadata": {
        "colab": {
          "base_uri": "https://localhost:8080/",
          "height": 542
        },
        "id": "N6t7SEion7tj",
        "outputId": "9ea423f3-bb38-4259-e76d-1a7b12f9c44d"
      },
      "execution_count": 55,
      "outputs": [
        {
          "output_type": "display_data",
          "data": {
            "text/html": [
              "<html>\n",
              "<head><meta charset=\"utf-8\" /></head>\n",
              "<body>\n",
              "    <div>            <script src=\"https://cdnjs.cloudflare.com/ajax/libs/mathjax/2.7.5/MathJax.js?config=TeX-AMS-MML_SVG\"></script><script type=\"text/javascript\">if (window.MathJax && window.MathJax.Hub && window.MathJax.Hub.Config) {window.MathJax.Hub.Config({SVG: {font: \"STIX-Web\"}});}</script>                <script type=\"text/javascript\">window.PlotlyConfig = {MathJaxConfig: 'local'};</script>\n",
              "        <script charset=\"utf-8\" src=\"https://cdn.plot.ly/plotly-2.24.1.min.js\"></script>                <div id=\"ab6cc596-f9ca-4c3d-8018-8b6d2c14cc45\" class=\"plotly-graph-div\" style=\"height:525px; width:100%;\"></div>            <script type=\"text/javascript\">                                    window.PLOTLYENV=window.PLOTLYENV || {};                                    if (document.getElementById(\"ab6cc596-f9ca-4c3d-8018-8b6d2c14cc45\")) {                    Plotly.newPlot(                        \"ab6cc596-f9ca-4c3d-8018-8b6d2c14cc45\",                        [{\"mode\":\"lines\",\"name\":\"Profit Evolution\",\"opacity\":1,\"x\":[0,1,2,3,4,5,6,7,8,9,10,11,12,13,14,15,16,17,18,19,20,21,22,23,24,25,26,27,28,29,30,31,32,33,34,35,36,37,38,39,40,41,42,43,44,45,46,47,48,49,50,51,52,53,54,55,56,57,58,59,60,61,62,63,64,65,66,67,68,69,70,71,72,73,74,75,76,77,78,79,80,81,82,83,84,85,86,87,88,89,90,91,92,93,94,95,96,97,98],\"y\":[0,0,0,0,0,0,0,0,0,0,0,0,0,0,0,0,0,0,0,0,0,0,0,0,0,0,0,0,0,0,0,0,0,0,0,0,0,0,0,0,0,0,0,0,0,0,0,0,0,0,0,0,0,0,0,0,0,0,0,0,0,0,0,0,0,0,0,0,0,0,0,0,0,0,0,0,0,0,0,0,0,0,0,0,0,0,0,0,0,0,0,0,0,0,0,0,0,0,0],\"type\":\"scatter\",\"xaxis\":\"x\",\"yaxis\":\"y\"},{\"mode\":\"lines\",\"name\":\"Reward\",\"opacity\":0.5,\"x\":[0,1,2,3,4,5,6,7,8,9,10,11,12,13,14,15,16,17,18,19,20,21,22,23,24,25,26,27,28,29,30,31,32,33,34,35,36,37,38,39,40,41,42,43,44,45,46,47,48,49,50,51,52,53,54,55,56,57,58,59,60,61,62,63,64,65,66,67,68,69,70,71,72,73,74,75,76,77,78,79,80,81,82,83,84,85,86,87,88,89,90,91,92,93,94,95,96,97,98],\"y\":[0,0,0,0,0,0,0,0,0,0,0,0,0,0,0,0,0,0,0,0,0,0,0,0,0,0,0,0,0,0,0,0,0,0,0,0,0,0,0,0,0,0,0,0,0,0,0,0,0,0,0,0,0,0,0,0,0,0,0,0,0,0,0,0,0,0,0,0,0,0,0,0,0,0,0,0,0,0,0,0,0,0,0,0,0,0,0,0,0,0,0,0,0,0,0,0,0,0,0],\"type\":\"scatter\",\"xaxis\":\"x\",\"yaxis\":\"y\"},{\"line\":{\"color\":\"black\"},\"mode\":\"lines\",\"name\":\"Dataset\",\"x\":[0,1,2,3,4,5,6,7,8,9,10,11,12,13,14,15,16,17,18,19,20,21,22,23,24,25,26,27,28,29,30,31,32,33,34,35,36,37,38,39,40,41,42,43,44,45,46,47,48,49,50,51,52,53,54,55,56,57,58,59,60,61,62,63,64,65,66,67,68,69,70,71,72,73,74,75,76,77,78,79,80,81,82,83,84,85,86,87,88,89,90,91,92,93,94,95,96,97,98],\"y\":[139.56,139.13,135.94,125.75,135.81,133.31,127.31,130.38,125.19,131.75,125.0,119.44,109.25,113.81,111.87,123.87,126.87,121.12,118.87,120.5,128.31,121.31,126.75,124.06,124.31,117.87,115.06,110.69,113.12,110.12,105.44,99.31,102.81,107.62,101.0,105.69,101.37,100.75,94.0,89.94,85.81,87.69,87.27,86.37,87.56,84.0,89.12,92.56,91.31,92.87,96.56,94.81,95.75,91.19,94.5,90.44,92.37,91.19,96.62,101.25,55.63,53.75,51.69,54.13,51.75,54.44,51.25,52.38,53.31,51.63,51.81,54.44,57.13,56.94,58.88,56.5,57.69,58.31,57.25,52.69,55.13,53.56,48.69,50.06,50.06,52.0,48.31,50.81,49.31,47.25,48.0,47.38,47.94,46.75,47.5,47.56,47.69,47.06,46.69],\"type\":\"scatter\",\"xaxis\":\"x2\",\"yaxis\":\"y2\"},{\"mode\":\"markers\",\"name\":\"stay\",\"opacity\":1.0,\"x\":[1,2,3,4,5,6,7,8,9,10,11,12,13,14,15,16,17,18,19,20,21,22,23,24,25,26,27,28,29,30,31,32,33,34,35,36,37,38,39,40,41,42,43,44,45,46,47,48,49,50,51,52,53,54,55,56,57,58,59,60,61,62,63,64,65,66,67,68,69,70,71,72,73,74,75,76,77,78,79,80,81,82,83,84,85,86,87,88,89,90,91,92,93,94,95,96,97,98],\"y\":[139.13,135.94,125.75,135.81,133.31,127.31,130.38,125.19,131.75,125.0,119.44,109.25,113.81,111.87,123.87,126.87,121.12,118.87,120.5,128.31,121.31,126.75,124.06,124.31,117.87,115.06,110.69,113.12,110.12,105.44,99.31,102.81,107.62,101.0,105.69,101.37,100.75,94.0,89.94,85.81,87.69,87.27,86.37,87.56,84.0,89.12,92.56,91.31,92.87,96.56,94.81,95.75,91.19,94.5,90.44,92.37,91.19,96.62,101.25,55.63,53.75,51.69,54.13,51.75,54.44,51.25,52.38,53.31,51.63,51.81,54.44,57.13,56.94,58.88,56.5,57.69,58.31,57.25,52.69,55.13,53.56,48.69,50.06,50.06,52.0,48.31,50.81,49.31,47.25,48.0,47.38,47.94,46.75,47.5,47.56,47.69,47.06,46.69],\"type\":\"scatter\",\"xaxis\":\"x2\",\"yaxis\":\"y2\"},{\"mode\":\"markers\",\"name\":\"buy\",\"opacity\":1.0,\"x\":[0],\"y\":[139.56],\"type\":\"scatter\",\"xaxis\":\"x2\",\"yaxis\":\"y2\"},{\"mode\":\"markers\",\"name\":\"sell\",\"opacity\":1.0,\"x\":[],\"y\":[],\"type\":\"scatter\",\"xaxis\":\"x2\",\"yaxis\":\"y2\"}],                        {\"template\":{\"data\":{\"histogram2dcontour\":[{\"type\":\"histogram2dcontour\",\"colorbar\":{\"outlinewidth\":0,\"ticks\":\"\"},\"colorscale\":[[0.0,\"#0d0887\"],[0.1111111111111111,\"#46039f\"],[0.2222222222222222,\"#7201a8\"],[0.3333333333333333,\"#9c179e\"],[0.4444444444444444,\"#bd3786\"],[0.5555555555555556,\"#d8576b\"],[0.6666666666666666,\"#ed7953\"],[0.7777777777777778,\"#fb9f3a\"],[0.8888888888888888,\"#fdca26\"],[1.0,\"#f0f921\"]]}],\"choropleth\":[{\"type\":\"choropleth\",\"colorbar\":{\"outlinewidth\":0,\"ticks\":\"\"}}],\"histogram2d\":[{\"type\":\"histogram2d\",\"colorbar\":{\"outlinewidth\":0,\"ticks\":\"\"},\"colorscale\":[[0.0,\"#0d0887\"],[0.1111111111111111,\"#46039f\"],[0.2222222222222222,\"#7201a8\"],[0.3333333333333333,\"#9c179e\"],[0.4444444444444444,\"#bd3786\"],[0.5555555555555556,\"#d8576b\"],[0.6666666666666666,\"#ed7953\"],[0.7777777777777778,\"#fb9f3a\"],[0.8888888888888888,\"#fdca26\"],[1.0,\"#f0f921\"]]}],\"heatmap\":[{\"type\":\"heatmap\",\"colorbar\":{\"outlinewidth\":0,\"ticks\":\"\"},\"colorscale\":[[0.0,\"#0d0887\"],[0.1111111111111111,\"#46039f\"],[0.2222222222222222,\"#7201a8\"],[0.3333333333333333,\"#9c179e\"],[0.4444444444444444,\"#bd3786\"],[0.5555555555555556,\"#d8576b\"],[0.6666666666666666,\"#ed7953\"],[0.7777777777777778,\"#fb9f3a\"],[0.8888888888888888,\"#fdca26\"],[1.0,\"#f0f921\"]]}],\"heatmapgl\":[{\"type\":\"heatmapgl\",\"colorbar\":{\"outlinewidth\":0,\"ticks\":\"\"},\"colorscale\":[[0.0,\"#0d0887\"],[0.1111111111111111,\"#46039f\"],[0.2222222222222222,\"#7201a8\"],[0.3333333333333333,\"#9c179e\"],[0.4444444444444444,\"#bd3786\"],[0.5555555555555556,\"#d8576b\"],[0.6666666666666666,\"#ed7953\"],[0.7777777777777778,\"#fb9f3a\"],[0.8888888888888888,\"#fdca26\"],[1.0,\"#f0f921\"]]}],\"contourcarpet\":[{\"type\":\"contourcarpet\",\"colorbar\":{\"outlinewidth\":0,\"ticks\":\"\"}}],\"contour\":[{\"type\":\"contour\",\"colorbar\":{\"outlinewidth\":0,\"ticks\":\"\"},\"colorscale\":[[0.0,\"#0d0887\"],[0.1111111111111111,\"#46039f\"],[0.2222222222222222,\"#7201a8\"],[0.3333333333333333,\"#9c179e\"],[0.4444444444444444,\"#bd3786\"],[0.5555555555555556,\"#d8576b\"],[0.6666666666666666,\"#ed7953\"],[0.7777777777777778,\"#fb9f3a\"],[0.8888888888888888,\"#fdca26\"],[1.0,\"#f0f921\"]]}],\"surface\":[{\"type\":\"surface\",\"colorbar\":{\"outlinewidth\":0,\"ticks\":\"\"},\"colorscale\":[[0.0,\"#0d0887\"],[0.1111111111111111,\"#46039f\"],[0.2222222222222222,\"#7201a8\"],[0.3333333333333333,\"#9c179e\"],[0.4444444444444444,\"#bd3786\"],[0.5555555555555556,\"#d8576b\"],[0.6666666666666666,\"#ed7953\"],[0.7777777777777778,\"#fb9f3a\"],[0.8888888888888888,\"#fdca26\"],[1.0,\"#f0f921\"]]}],\"mesh3d\":[{\"type\":\"mesh3d\",\"colorbar\":{\"outlinewidth\":0,\"ticks\":\"\"}}],\"scatter\":[{\"fillpattern\":{\"fillmode\":\"overlay\",\"size\":10,\"solidity\":0.2},\"type\":\"scatter\"}],\"parcoords\":[{\"type\":\"parcoords\",\"line\":{\"colorbar\":{\"outlinewidth\":0,\"ticks\":\"\"}}}],\"scatterpolargl\":[{\"type\":\"scatterpolargl\",\"marker\":{\"colorbar\":{\"outlinewidth\":0,\"ticks\":\"\"}}}],\"bar\":[{\"error_x\":{\"color\":\"#2a3f5f\"},\"error_y\":{\"color\":\"#2a3f5f\"},\"marker\":{\"line\":{\"color\":\"#E5ECF6\",\"width\":0.5},\"pattern\":{\"fillmode\":\"overlay\",\"size\":10,\"solidity\":0.2}},\"type\":\"bar\"}],\"scattergeo\":[{\"type\":\"scattergeo\",\"marker\":{\"colorbar\":{\"outlinewidth\":0,\"ticks\":\"\"}}}],\"scatterpolar\":[{\"type\":\"scatterpolar\",\"marker\":{\"colorbar\":{\"outlinewidth\":0,\"ticks\":\"\"}}}],\"histogram\":[{\"marker\":{\"pattern\":{\"fillmode\":\"overlay\",\"size\":10,\"solidity\":0.2}},\"type\":\"histogram\"}],\"scattergl\":[{\"type\":\"scattergl\",\"marker\":{\"colorbar\":{\"outlinewidth\":0,\"ticks\":\"\"}}}],\"scatter3d\":[{\"type\":\"scatter3d\",\"line\":{\"colorbar\":{\"outlinewidth\":0,\"ticks\":\"\"}},\"marker\":{\"colorbar\":{\"outlinewidth\":0,\"ticks\":\"\"}}}],\"scattermapbox\":[{\"type\":\"scattermapbox\",\"marker\":{\"colorbar\":{\"outlinewidth\":0,\"ticks\":\"\"}}}],\"scatterternary\":[{\"type\":\"scatterternary\",\"marker\":{\"colorbar\":{\"outlinewidth\":0,\"ticks\":\"\"}}}],\"scattercarpet\":[{\"type\":\"scattercarpet\",\"marker\":{\"colorbar\":{\"outlinewidth\":0,\"ticks\":\"\"}}}],\"carpet\":[{\"aaxis\":{\"endlinecolor\":\"#2a3f5f\",\"gridcolor\":\"white\",\"linecolor\":\"white\",\"minorgridcolor\":\"white\",\"startlinecolor\":\"#2a3f5f\"},\"baxis\":{\"endlinecolor\":\"#2a3f5f\",\"gridcolor\":\"white\",\"linecolor\":\"white\",\"minorgridcolor\":\"white\",\"startlinecolor\":\"#2a3f5f\"},\"type\":\"carpet\"}],\"table\":[{\"cells\":{\"fill\":{\"color\":\"#EBF0F8\"},\"line\":{\"color\":\"white\"}},\"header\":{\"fill\":{\"color\":\"#C8D4E3\"},\"line\":{\"color\":\"white\"}},\"type\":\"table\"}],\"barpolar\":[{\"marker\":{\"line\":{\"color\":\"#E5ECF6\",\"width\":0.5},\"pattern\":{\"fillmode\":\"overlay\",\"size\":10,\"solidity\":0.2}},\"type\":\"barpolar\"}],\"pie\":[{\"automargin\":true,\"type\":\"pie\"}]},\"layout\":{\"autotypenumbers\":\"strict\",\"colorway\":[\"#636efa\",\"#EF553B\",\"#00cc96\",\"#ab63fa\",\"#FFA15A\",\"#19d3f3\",\"#FF6692\",\"#B6E880\",\"#FF97FF\",\"#FECB52\"],\"font\":{\"color\":\"#2a3f5f\"},\"hovermode\":\"closest\",\"hoverlabel\":{\"align\":\"left\"},\"paper_bgcolor\":\"white\",\"plot_bgcolor\":\"#E5ECF6\",\"polar\":{\"bgcolor\":\"#E5ECF6\",\"angularaxis\":{\"gridcolor\":\"white\",\"linecolor\":\"white\",\"ticks\":\"\"},\"radialaxis\":{\"gridcolor\":\"white\",\"linecolor\":\"white\",\"ticks\":\"\"}},\"ternary\":{\"bgcolor\":\"#E5ECF6\",\"aaxis\":{\"gridcolor\":\"white\",\"linecolor\":\"white\",\"ticks\":\"\"},\"baxis\":{\"gridcolor\":\"white\",\"linecolor\":\"white\",\"ticks\":\"\"},\"caxis\":{\"gridcolor\":\"white\",\"linecolor\":\"white\",\"ticks\":\"\"}},\"coloraxis\":{\"colorbar\":{\"outlinewidth\":0,\"ticks\":\"\"}},\"colorscale\":{\"sequential\":[[0.0,\"#0d0887\"],[0.1111111111111111,\"#46039f\"],[0.2222222222222222,\"#7201a8\"],[0.3333333333333333,\"#9c179e\"],[0.4444444444444444,\"#bd3786\"],[0.5555555555555556,\"#d8576b\"],[0.6666666666666666,\"#ed7953\"],[0.7777777777777778,\"#fb9f3a\"],[0.8888888888888888,\"#fdca26\"],[1.0,\"#f0f921\"]],\"sequentialminus\":[[0.0,\"#0d0887\"],[0.1111111111111111,\"#46039f\"],[0.2222222222222222,\"#7201a8\"],[0.3333333333333333,\"#9c179e\"],[0.4444444444444444,\"#bd3786\"],[0.5555555555555556,\"#d8576b\"],[0.6666666666666666,\"#ed7953\"],[0.7777777777777778,\"#fb9f3a\"],[0.8888888888888888,\"#fdca26\"],[1.0,\"#f0f921\"]],\"diverging\":[[0,\"#8e0152\"],[0.1,\"#c51b7d\"],[0.2,\"#de77ae\"],[0.3,\"#f1b6da\"],[0.4,\"#fde0ef\"],[0.5,\"#f7f7f7\"],[0.6,\"#e6f5d0\"],[0.7,\"#b8e186\"],[0.8,\"#7fbc41\"],[0.9,\"#4d9221\"],[1,\"#276419\"]]},\"xaxis\":{\"gridcolor\":\"white\",\"linecolor\":\"white\",\"ticks\":\"\",\"title\":{\"standoff\":15},\"zerolinecolor\":\"white\",\"automargin\":true,\"zerolinewidth\":2},\"yaxis\":{\"gridcolor\":\"white\",\"linecolor\":\"white\",\"ticks\":\"\",\"title\":{\"standoff\":15},\"zerolinecolor\":\"white\",\"automargin\":true,\"zerolinewidth\":2},\"scene\":{\"xaxis\":{\"backgroundcolor\":\"#E5ECF6\",\"gridcolor\":\"white\",\"linecolor\":\"white\",\"showbackground\":true,\"ticks\":\"\",\"zerolinecolor\":\"white\",\"gridwidth\":2},\"yaxis\":{\"backgroundcolor\":\"#E5ECF6\",\"gridcolor\":\"white\",\"linecolor\":\"white\",\"showbackground\":true,\"ticks\":\"\",\"zerolinecolor\":\"white\",\"gridwidth\":2},\"zaxis\":{\"backgroundcolor\":\"#E5ECF6\",\"gridcolor\":\"white\",\"linecolor\":\"white\",\"showbackground\":true,\"ticks\":\"\",\"zerolinecolor\":\"white\",\"gridwidth\":2}},\"shapedefaults\":{\"line\":{\"color\":\"#2a3f5f\"}},\"annotationdefaults\":{\"arrowcolor\":\"#2a3f5f\",\"arrowhead\":0,\"arrowwidth\":1},\"geo\":{\"bgcolor\":\"white\",\"landcolor\":\"#E5ECF6\",\"subunitcolor\":\"white\",\"showland\":true,\"showlakes\":true,\"lakecolor\":\"white\"},\"title\":{\"x\":0.05},\"mapbox\":{\"style\":\"light\"}}},\"xaxis\":{\"anchor\":\"y\",\"domain\":[0.0,1.0],\"matches\":\"x2\",\"showticklabels\":false,\"title\":{\"text\":\"Step\"}},\"yaxis\":{\"anchor\":\"x\",\"domain\":[0.575,1.0]},\"xaxis2\":{\"anchor\":\"y2\",\"domain\":[0.0,1.0],\"title\":{\"text\":\"Step\"}},\"yaxis2\":{\"anchor\":\"x2\",\"domain\":[0.0,0.425]}},                        {\"responsive\": true}                    ).then(function(){\n",
              "                            \n",
              "var gd = document.getElementById('ab6cc596-f9ca-4c3d-8018-8b6d2c14cc45');\n",
              "var x = new MutationObserver(function (mutations, observer) {{\n",
              "        var display = window.getComputedStyle(gd).display;\n",
              "        if (!display || display === 'none') {{\n",
              "            console.log([gd, 'removed!']);\n",
              "            Plotly.purge(gd);\n",
              "            observer.disconnect();\n",
              "        }}\n",
              "}});\n",
              "\n",
              "// Listen for the removal of the full notebook cells\n",
              "var notebookContainer = gd.closest('#notebook-container');\n",
              "if (notebookContainer) {{\n",
              "    x.observe(notebookContainer, {childList: true});\n",
              "}}\n",
              "\n",
              "// Listen for the clearing of the current output cell\n",
              "var outputEl = gd.closest('.output');\n",
              "if (outputEl) {{\n",
              "    x.observe(outputEl, {childList: true});\n",
              "}}\n",
              "\n",
              "                        })                };                            </script>        </div>\n",
              "</body>\n",
              "</html>"
            ]
          },
          "metadata": {}
        }
      ]
    },
    {
      "cell_type": "code",
      "source": [
        "\"\"\"\n",
        "Seguimiento adql_agent_exp1 con una arquitecura intermedia\n",
        "\n",
        "\"\"\"\n",
        "\n",
        "\n",
        "x_list = np.arange(len(pev))\n",
        "\n",
        "fig1 = make_subplots(rows=2, cols=1, shared_xaxes=True)\n",
        "\n",
        "fig1.add_trace(go.Scatter(x=x_list, y=pev, mode='lines', name=\"Profit Evolution\",\n",
        "                          opacity=1), row=1, col=1)\n",
        "fig1.add_trace(go.Scatter(x=x_list, y=rev, mode='lines', name=\"Reward\",\n",
        "                          opacity=0.5), row=1, col=1)\n",
        "\n",
        "\n",
        "data_array = np.array([his[0] for his in history])\n",
        "action_list = np.array([his[1] for his in history])\n",
        "\n",
        "stay_indices = action_list == 'Stay'\n",
        "buy_indices = action_list == 'Buy'\n",
        "sell_indices = action_list == 'Sell'\n",
        "\n",
        "fig1.add_trace(go.Scatter(x=x_list, y=data_array, name=\"Dataset\", mode=\"lines\",\n",
        "                          line=dict(color=\"black\")), row=2, col=1)\n",
        "fig1.add_trace(go.Scatter(x=x_list[stay_indices], y=data_array[stay_indices],\n",
        "                          mode='markers', name=\"stay\", opacity=1.0), row=2, col=1)\n",
        "fig1.add_trace(go.Scatter(x=x_list[buy_indices], y=data_array[buy_indices],\n",
        "                          mode='markers', name=\"buy\", opacity=1.0), row=2, col=1)\n",
        "fig1.add_trace(go.Scatter(x=x_list[sell_indices], y=data_array[sell_indices],\n",
        "                          mode='markers', name=\"sell\", opacity=1.0), row=2, col=1)\n",
        "\n",
        "fig1.update_xaxes(title_text=\"Step\")\n",
        "fig1.show()"
      ],
      "metadata": {
        "colab": {
          "base_uri": "https://localhost:8080/",
          "height": 542
        },
        "id": "LRYCR5E4UejW",
        "outputId": "b4ec6b46-238d-4b29-e5b9-81d7ca2d070a"
      },
      "execution_count": 86,
      "outputs": [
        {
          "output_type": "display_data",
          "data": {
            "text/html": [
              "<html>\n",
              "<head><meta charset=\"utf-8\" /></head>\n",
              "<body>\n",
              "    <div>            <script src=\"https://cdnjs.cloudflare.com/ajax/libs/mathjax/2.7.5/MathJax.js?config=TeX-AMS-MML_SVG\"></script><script type=\"text/javascript\">if (window.MathJax && window.MathJax.Hub && window.MathJax.Hub.Config) {window.MathJax.Hub.Config({SVG: {font: \"STIX-Web\"}});}</script>                <script type=\"text/javascript\">window.PlotlyConfig = {MathJaxConfig: 'local'};</script>\n",
              "        <script charset=\"utf-8\" src=\"https://cdn.plot.ly/plotly-2.24.1.min.js\"></script>                <div id=\"8722da1b-e13e-422a-8af8-b07f6dd1d9ab\" class=\"plotly-graph-div\" style=\"height:525px; width:100%;\"></div>            <script type=\"text/javascript\">                                    window.PLOTLYENV=window.PLOTLYENV || {};                                    if (document.getElementById(\"8722da1b-e13e-422a-8af8-b07f6dd1d9ab\")) {                    Plotly.newPlot(                        \"8722da1b-e13e-422a-8af8-b07f6dd1d9ab\",                        [{\"mode\":\"lines\",\"name\":\"Profit Evolution\",\"opacity\":1,\"x\":[0,1,2,3,4,5,6,7,8,9,10,11,12,13,14,15,16,17,18,19,20,21,22,23,24,25,26,27,28,29,30,31,32,33,34,35,36,37,38,39,40,41,42,43,44,45,46,47,48,49,50,51,52,53,54,55,56,57,58,59,60,61,62,63,64,65,66,67,68,69,70,71,72,73,74,75,76,77,78,79,80,81,82,83,84,85,86,87,88,89,90,91,92,93,94,95,96,97,98],\"y\":[0,0,0,0,0,0,0,0,0,0,0,0,0,0,0,0,0,0,0,0,0,0,0,0,0,0,0,0,0,0,0,0,0,0,0,0,0,0,0,0,0,0,0,0,0,0,0,0,0,0,0,0,0,0,0,0,0,0,0,0,0,0,0,0,0,0,0,0,0,0,0,0,0,0,0,0,0,0,0,0,0,0,0,0,0,0,0,0,0,0,0,0,0,0,0,0,0,0,0],\"type\":\"scatter\",\"xaxis\":\"x\",\"yaxis\":\"y\"},{\"mode\":\"lines\",\"name\":\"Reward\",\"opacity\":0.5,\"x\":[0,1,2,3,4,5,6,7,8,9,10,11,12,13,14,15,16,17,18,19,20,21,22,23,24,25,26,27,28,29,30,31,32,33,34,35,36,37,38,39,40,41,42,43,44,45,46,47,48,49,50,51,52,53,54,55,56,57,58,59,60,61,62,63,64,65,66,67,68,69,70,71,72,73,74,75,76,77,78,79,80,81,82,83,84,85,86,87,88,89,90,91,92,93,94,95,96,97,98],\"y\":[0,0,0,0,0,0,0,0,0,0,0,0,0,0,0,0,0,0,0,0,0,0,0,0,0,0,0,0,0,0,0,0,0,0,0,0,0,0,0,0,0,0,0,0,0,0,0,0,0,0,0,0,0,0,0,0,0,0,0,0,0,0,0,0,0,0,0,0,0,0,0,0,0,0,0,0,0,0,0,0,0,0,0,0,0,0,0,0,0,0,0,0,0,0,0,0,0,0,0],\"type\":\"scatter\",\"xaxis\":\"x\",\"yaxis\":\"y\"},{\"line\":{\"color\":\"black\"},\"mode\":\"lines\",\"name\":\"Dataset\",\"x\":[0,1,2,3,4,5,6,7,8,9,10,11,12,13,14,15,16,17,18,19,20,21,22,23,24,25,26,27,28,29,30,31,32,33,34,35,36,37,38,39,40,41,42,43,44,45,46,47,48,49,50,51,52,53,54,55,56,57,58,59,60,61,62,63,64,65,66,67,68,69,70,71,72,73,74,75,76,77,78,79,80,81,82,83,84,85,86,87,88,89,90,91,92,93,94,95,96,97,98],\"y\":[139.56,139.13,135.94,125.75,135.81,133.31,127.31,130.38,125.19,131.75,125.0,119.44,109.25,113.81,111.87,123.87,126.87,121.12,118.87,120.5,128.31,121.31,126.75,124.06,124.31,117.87,115.06,110.69,113.12,110.12,105.44,99.31,102.81,107.62,101.0,105.69,101.37,100.75,94.0,89.94,85.81,87.69,87.27,86.37,87.56,84.0,89.12,92.56,91.31,92.87,96.56,94.81,95.75,91.19,94.5,90.44,92.37,91.19,96.62,101.25,55.63,53.75,51.69,54.13,51.75,54.44,51.25,52.38,53.31,51.63,51.81,54.44,57.13,56.94,58.88,56.5,57.69,58.31,57.25,52.69,55.13,53.56,48.69,50.06,50.06,52.0,48.31,50.81,49.31,47.25,48.0,47.38,47.94,46.75,47.5,47.56,47.69,47.06,46.69],\"type\":\"scatter\",\"xaxis\":\"x2\",\"yaxis\":\"y2\"},{\"mode\":\"markers\",\"name\":\"stay\",\"opacity\":1.0,\"x\":[1,2,3,4,5,6,7,8,9,10,11,12,13,14,15,16,17,18,19,20,21,22,23,24,25,26,27,28,29,30,31,32,33,34,35,36,37,38,39,40,41,42,43,44,45,46,47,48,49,50,51,52,53,54,55,56,57,58,59,60,61,62,63,64,65,66,67,68,69,70,71,72,73,74,75,76,77,78,79,80,81,82,83,84,85,86,87,88,89,90,91,92,93,94,95,96,97,98],\"y\":[139.13,135.94,125.75,135.81,133.31,127.31,130.38,125.19,131.75,125.0,119.44,109.25,113.81,111.87,123.87,126.87,121.12,118.87,120.5,128.31,121.31,126.75,124.06,124.31,117.87,115.06,110.69,113.12,110.12,105.44,99.31,102.81,107.62,101.0,105.69,101.37,100.75,94.0,89.94,85.81,87.69,87.27,86.37,87.56,84.0,89.12,92.56,91.31,92.87,96.56,94.81,95.75,91.19,94.5,90.44,92.37,91.19,96.62,101.25,55.63,53.75,51.69,54.13,51.75,54.44,51.25,52.38,53.31,51.63,51.81,54.44,57.13,56.94,58.88,56.5,57.69,58.31,57.25,52.69,55.13,53.56,48.69,50.06,50.06,52.0,48.31,50.81,49.31,47.25,48.0,47.38,47.94,46.75,47.5,47.56,47.69,47.06,46.69],\"type\":\"scatter\",\"xaxis\":\"x2\",\"yaxis\":\"y2\"},{\"mode\":\"markers\",\"name\":\"buy\",\"opacity\":1.0,\"x\":[0],\"y\":[139.56],\"type\":\"scatter\",\"xaxis\":\"x2\",\"yaxis\":\"y2\"},{\"mode\":\"markers\",\"name\":\"sell\",\"opacity\":1.0,\"x\":[],\"y\":[],\"type\":\"scatter\",\"xaxis\":\"x2\",\"yaxis\":\"y2\"}],                        {\"template\":{\"data\":{\"histogram2dcontour\":[{\"type\":\"histogram2dcontour\",\"colorbar\":{\"outlinewidth\":0,\"ticks\":\"\"},\"colorscale\":[[0.0,\"#0d0887\"],[0.1111111111111111,\"#46039f\"],[0.2222222222222222,\"#7201a8\"],[0.3333333333333333,\"#9c179e\"],[0.4444444444444444,\"#bd3786\"],[0.5555555555555556,\"#d8576b\"],[0.6666666666666666,\"#ed7953\"],[0.7777777777777778,\"#fb9f3a\"],[0.8888888888888888,\"#fdca26\"],[1.0,\"#f0f921\"]]}],\"choropleth\":[{\"type\":\"choropleth\",\"colorbar\":{\"outlinewidth\":0,\"ticks\":\"\"}}],\"histogram2d\":[{\"type\":\"histogram2d\",\"colorbar\":{\"outlinewidth\":0,\"ticks\":\"\"},\"colorscale\":[[0.0,\"#0d0887\"],[0.1111111111111111,\"#46039f\"],[0.2222222222222222,\"#7201a8\"],[0.3333333333333333,\"#9c179e\"],[0.4444444444444444,\"#bd3786\"],[0.5555555555555556,\"#d8576b\"],[0.6666666666666666,\"#ed7953\"],[0.7777777777777778,\"#fb9f3a\"],[0.8888888888888888,\"#fdca26\"],[1.0,\"#f0f921\"]]}],\"heatmap\":[{\"type\":\"heatmap\",\"colorbar\":{\"outlinewidth\":0,\"ticks\":\"\"},\"colorscale\":[[0.0,\"#0d0887\"],[0.1111111111111111,\"#46039f\"],[0.2222222222222222,\"#7201a8\"],[0.3333333333333333,\"#9c179e\"],[0.4444444444444444,\"#bd3786\"],[0.5555555555555556,\"#d8576b\"],[0.6666666666666666,\"#ed7953\"],[0.7777777777777778,\"#fb9f3a\"],[0.8888888888888888,\"#fdca26\"],[1.0,\"#f0f921\"]]}],\"heatmapgl\":[{\"type\":\"heatmapgl\",\"colorbar\":{\"outlinewidth\":0,\"ticks\":\"\"},\"colorscale\":[[0.0,\"#0d0887\"],[0.1111111111111111,\"#46039f\"],[0.2222222222222222,\"#7201a8\"],[0.3333333333333333,\"#9c179e\"],[0.4444444444444444,\"#bd3786\"],[0.5555555555555556,\"#d8576b\"],[0.6666666666666666,\"#ed7953\"],[0.7777777777777778,\"#fb9f3a\"],[0.8888888888888888,\"#fdca26\"],[1.0,\"#f0f921\"]]}],\"contourcarpet\":[{\"type\":\"contourcarpet\",\"colorbar\":{\"outlinewidth\":0,\"ticks\":\"\"}}],\"contour\":[{\"type\":\"contour\",\"colorbar\":{\"outlinewidth\":0,\"ticks\":\"\"},\"colorscale\":[[0.0,\"#0d0887\"],[0.1111111111111111,\"#46039f\"],[0.2222222222222222,\"#7201a8\"],[0.3333333333333333,\"#9c179e\"],[0.4444444444444444,\"#bd3786\"],[0.5555555555555556,\"#d8576b\"],[0.6666666666666666,\"#ed7953\"],[0.7777777777777778,\"#fb9f3a\"],[0.8888888888888888,\"#fdca26\"],[1.0,\"#f0f921\"]]}],\"surface\":[{\"type\":\"surface\",\"colorbar\":{\"outlinewidth\":0,\"ticks\":\"\"},\"colorscale\":[[0.0,\"#0d0887\"],[0.1111111111111111,\"#46039f\"],[0.2222222222222222,\"#7201a8\"],[0.3333333333333333,\"#9c179e\"],[0.4444444444444444,\"#bd3786\"],[0.5555555555555556,\"#d8576b\"],[0.6666666666666666,\"#ed7953\"],[0.7777777777777778,\"#fb9f3a\"],[0.8888888888888888,\"#fdca26\"],[1.0,\"#f0f921\"]]}],\"mesh3d\":[{\"type\":\"mesh3d\",\"colorbar\":{\"outlinewidth\":0,\"ticks\":\"\"}}],\"scatter\":[{\"fillpattern\":{\"fillmode\":\"overlay\",\"size\":10,\"solidity\":0.2},\"type\":\"scatter\"}],\"parcoords\":[{\"type\":\"parcoords\",\"line\":{\"colorbar\":{\"outlinewidth\":0,\"ticks\":\"\"}}}],\"scatterpolargl\":[{\"type\":\"scatterpolargl\",\"marker\":{\"colorbar\":{\"outlinewidth\":0,\"ticks\":\"\"}}}],\"bar\":[{\"error_x\":{\"color\":\"#2a3f5f\"},\"error_y\":{\"color\":\"#2a3f5f\"},\"marker\":{\"line\":{\"color\":\"#E5ECF6\",\"width\":0.5},\"pattern\":{\"fillmode\":\"overlay\",\"size\":10,\"solidity\":0.2}},\"type\":\"bar\"}],\"scattergeo\":[{\"type\":\"scattergeo\",\"marker\":{\"colorbar\":{\"outlinewidth\":0,\"ticks\":\"\"}}}],\"scatterpolar\":[{\"type\":\"scatterpolar\",\"marker\":{\"colorbar\":{\"outlinewidth\":0,\"ticks\":\"\"}}}],\"histogram\":[{\"marker\":{\"pattern\":{\"fillmode\":\"overlay\",\"size\":10,\"solidity\":0.2}},\"type\":\"histogram\"}],\"scattergl\":[{\"type\":\"scattergl\",\"marker\":{\"colorbar\":{\"outlinewidth\":0,\"ticks\":\"\"}}}],\"scatter3d\":[{\"type\":\"scatter3d\",\"line\":{\"colorbar\":{\"outlinewidth\":0,\"ticks\":\"\"}},\"marker\":{\"colorbar\":{\"outlinewidth\":0,\"ticks\":\"\"}}}],\"scattermapbox\":[{\"type\":\"scattermapbox\",\"marker\":{\"colorbar\":{\"outlinewidth\":0,\"ticks\":\"\"}}}],\"scatterternary\":[{\"type\":\"scatterternary\",\"marker\":{\"colorbar\":{\"outlinewidth\":0,\"ticks\":\"\"}}}],\"scattercarpet\":[{\"type\":\"scattercarpet\",\"marker\":{\"colorbar\":{\"outlinewidth\":0,\"ticks\":\"\"}}}],\"carpet\":[{\"aaxis\":{\"endlinecolor\":\"#2a3f5f\",\"gridcolor\":\"white\",\"linecolor\":\"white\",\"minorgridcolor\":\"white\",\"startlinecolor\":\"#2a3f5f\"},\"baxis\":{\"endlinecolor\":\"#2a3f5f\",\"gridcolor\":\"white\",\"linecolor\":\"white\",\"minorgridcolor\":\"white\",\"startlinecolor\":\"#2a3f5f\"},\"type\":\"carpet\"}],\"table\":[{\"cells\":{\"fill\":{\"color\":\"#EBF0F8\"},\"line\":{\"color\":\"white\"}},\"header\":{\"fill\":{\"color\":\"#C8D4E3\"},\"line\":{\"color\":\"white\"}},\"type\":\"table\"}],\"barpolar\":[{\"marker\":{\"line\":{\"color\":\"#E5ECF6\",\"width\":0.5},\"pattern\":{\"fillmode\":\"overlay\",\"size\":10,\"solidity\":0.2}},\"type\":\"barpolar\"}],\"pie\":[{\"automargin\":true,\"type\":\"pie\"}]},\"layout\":{\"autotypenumbers\":\"strict\",\"colorway\":[\"#636efa\",\"#EF553B\",\"#00cc96\",\"#ab63fa\",\"#FFA15A\",\"#19d3f3\",\"#FF6692\",\"#B6E880\",\"#FF97FF\",\"#FECB52\"],\"font\":{\"color\":\"#2a3f5f\"},\"hovermode\":\"closest\",\"hoverlabel\":{\"align\":\"left\"},\"paper_bgcolor\":\"white\",\"plot_bgcolor\":\"#E5ECF6\",\"polar\":{\"bgcolor\":\"#E5ECF6\",\"angularaxis\":{\"gridcolor\":\"white\",\"linecolor\":\"white\",\"ticks\":\"\"},\"radialaxis\":{\"gridcolor\":\"white\",\"linecolor\":\"white\",\"ticks\":\"\"}},\"ternary\":{\"bgcolor\":\"#E5ECF6\",\"aaxis\":{\"gridcolor\":\"white\",\"linecolor\":\"white\",\"ticks\":\"\"},\"baxis\":{\"gridcolor\":\"white\",\"linecolor\":\"white\",\"ticks\":\"\"},\"caxis\":{\"gridcolor\":\"white\",\"linecolor\":\"white\",\"ticks\":\"\"}},\"coloraxis\":{\"colorbar\":{\"outlinewidth\":0,\"ticks\":\"\"}},\"colorscale\":{\"sequential\":[[0.0,\"#0d0887\"],[0.1111111111111111,\"#46039f\"],[0.2222222222222222,\"#7201a8\"],[0.3333333333333333,\"#9c179e\"],[0.4444444444444444,\"#bd3786\"],[0.5555555555555556,\"#d8576b\"],[0.6666666666666666,\"#ed7953\"],[0.7777777777777778,\"#fb9f3a\"],[0.8888888888888888,\"#fdca26\"],[1.0,\"#f0f921\"]],\"sequentialminus\":[[0.0,\"#0d0887\"],[0.1111111111111111,\"#46039f\"],[0.2222222222222222,\"#7201a8\"],[0.3333333333333333,\"#9c179e\"],[0.4444444444444444,\"#bd3786\"],[0.5555555555555556,\"#d8576b\"],[0.6666666666666666,\"#ed7953\"],[0.7777777777777778,\"#fb9f3a\"],[0.8888888888888888,\"#fdca26\"],[1.0,\"#f0f921\"]],\"diverging\":[[0,\"#8e0152\"],[0.1,\"#c51b7d\"],[0.2,\"#de77ae\"],[0.3,\"#f1b6da\"],[0.4,\"#fde0ef\"],[0.5,\"#f7f7f7\"],[0.6,\"#e6f5d0\"],[0.7,\"#b8e186\"],[0.8,\"#7fbc41\"],[0.9,\"#4d9221\"],[1,\"#276419\"]]},\"xaxis\":{\"gridcolor\":\"white\",\"linecolor\":\"white\",\"ticks\":\"\",\"title\":{\"standoff\":15},\"zerolinecolor\":\"white\",\"automargin\":true,\"zerolinewidth\":2},\"yaxis\":{\"gridcolor\":\"white\",\"linecolor\":\"white\",\"ticks\":\"\",\"title\":{\"standoff\":15},\"zerolinecolor\":\"white\",\"automargin\":true,\"zerolinewidth\":2},\"scene\":{\"xaxis\":{\"backgroundcolor\":\"#E5ECF6\",\"gridcolor\":\"white\",\"linecolor\":\"white\",\"showbackground\":true,\"ticks\":\"\",\"zerolinecolor\":\"white\",\"gridwidth\":2},\"yaxis\":{\"backgroundcolor\":\"#E5ECF6\",\"gridcolor\":\"white\",\"linecolor\":\"white\",\"showbackground\":true,\"ticks\":\"\",\"zerolinecolor\":\"white\",\"gridwidth\":2},\"zaxis\":{\"backgroundcolor\":\"#E5ECF6\",\"gridcolor\":\"white\",\"linecolor\":\"white\",\"showbackground\":true,\"ticks\":\"\",\"zerolinecolor\":\"white\",\"gridwidth\":2}},\"shapedefaults\":{\"line\":{\"color\":\"#2a3f5f\"}},\"annotationdefaults\":{\"arrowcolor\":\"#2a3f5f\",\"arrowhead\":0,\"arrowwidth\":1},\"geo\":{\"bgcolor\":\"white\",\"landcolor\":\"#E5ECF6\",\"subunitcolor\":\"white\",\"showland\":true,\"showlakes\":true,\"lakecolor\":\"white\"},\"title\":{\"x\":0.05},\"mapbox\":{\"style\":\"light\"}}},\"xaxis\":{\"anchor\":\"y\",\"domain\":[0.0,1.0],\"matches\":\"x2\",\"showticklabels\":false,\"title\":{\"text\":\"Step\"}},\"yaxis\":{\"anchor\":\"x\",\"domain\":[0.575,1.0]},\"xaxis2\":{\"anchor\":\"y2\",\"domain\":[0.0,1.0],\"title\":{\"text\":\"Step\"}},\"yaxis2\":{\"anchor\":\"x2\",\"domain\":[0.0,0.425]}},                        {\"responsive\": true}                    ).then(function(){\n",
              "                            \n",
              "var gd = document.getElementById('8722da1b-e13e-422a-8af8-b07f6dd1d9ab');\n",
              "var x = new MutationObserver(function (mutations, observer) {{\n",
              "        var display = window.getComputedStyle(gd).display;\n",
              "        if (!display || display === 'none') {{\n",
              "            console.log([gd, 'removed!']);\n",
              "            Plotly.purge(gd);\n",
              "            observer.disconnect();\n",
              "        }}\n",
              "}});\n",
              "\n",
              "// Listen for the removal of the full notebook cells\n",
              "var notebookContainer = gd.closest('#notebook-container');\n",
              "if (notebookContainer) {{\n",
              "    x.observe(notebookContainer, {childList: true});\n",
              "}}\n",
              "\n",
              "// Listen for the clearing of the current output cell\n",
              "var outputEl = gd.closest('.output');\n",
              "if (outputEl) {{\n",
              "    x.observe(outputEl, {childList: true});\n",
              "}}\n",
              "\n",
              "                        })                };                            </script>        </div>\n",
              "</body>\n",
              "</html>"
            ]
          },
          "metadata": {}
        }
      ]
    },
    {
      "cell_type": "code",
      "source": [
        "\"\"\"\n",
        "Seguimiento adql_agent_exp1 con una arquitecura compleja\n",
        "\n",
        "\"\"\"\n",
        "\n",
        "\n",
        "x_list = np.arange(len(pev))\n",
        "\n",
        "fig1 = make_subplots(rows=2, cols=1, shared_xaxes=True)\n",
        "\n",
        "fig1.add_trace(go.Scatter(x=x_list, y=pev, mode='lines', name=\"Profit Evolution\",\n",
        "                          opacity=1), row=1, col=1)\n",
        "fig1.add_trace(go.Scatter(x=x_list, y=rev, mode='lines', name=\"Reward\",\n",
        "                          opacity=0.5), row=1, col=1)\n",
        "\n",
        "\n",
        "data_array = np.array([his[0] for his in history])\n",
        "action_list = np.array([his[1] for his in history])\n",
        "\n",
        "stay_indices = action_list == 'Stay'\n",
        "buy_indices = action_list == 'Buy'\n",
        "sell_indices = action_list == 'Sell'\n",
        "\n",
        "fig1.add_trace(go.Scatter(x=x_list, y=data_array, name=\"Dataset\", mode=\"lines\",\n",
        "                          line=dict(color=\"black\")), row=2, col=1)\n",
        "fig1.add_trace(go.Scatter(x=x_list[stay_indices], y=data_array[stay_indices],\n",
        "                          mode='markers', name=\"stay\", opacity=1.0), row=2, col=1)\n",
        "fig1.add_trace(go.Scatter(x=x_list[buy_indices], y=data_array[buy_indices],\n",
        "                          mode='markers', name=\"buy\", opacity=1.0), row=2, col=1)\n",
        "fig1.add_trace(go.Scatter(x=x_list[sell_indices], y=data_array[sell_indices],\n",
        "                          mode='markers', name=\"sell\", opacity=1.0), row=2, col=1)\n",
        "\n",
        "fig1.update_xaxes(title_text=\"Step\")\n",
        "fig1.show()"
      ],
      "metadata": {
        "colab": {
          "base_uri": "https://localhost:8080/",
          "height": 542
        },
        "id": "O7MbBROYXD_5",
        "outputId": "429a99d0-84be-419b-efd8-077f48b2f2d0"
      },
      "execution_count": 97,
      "outputs": [
        {
          "output_type": "display_data",
          "data": {
            "text/html": [
              "<html>\n",
              "<head><meta charset=\"utf-8\" /></head>\n",
              "<body>\n",
              "    <div>            <script src=\"https://cdnjs.cloudflare.com/ajax/libs/mathjax/2.7.5/MathJax.js?config=TeX-AMS-MML_SVG\"></script><script type=\"text/javascript\">if (window.MathJax && window.MathJax.Hub && window.MathJax.Hub.Config) {window.MathJax.Hub.Config({SVG: {font: \"STIX-Web\"}});}</script>                <script type=\"text/javascript\">window.PlotlyConfig = {MathJaxConfig: 'local'};</script>\n",
              "        <script charset=\"utf-8\" src=\"https://cdn.plot.ly/plotly-2.24.1.min.js\"></script>                <div id=\"d0c6fddd-3058-4d4e-8884-48ff56c768e5\" class=\"plotly-graph-div\" style=\"height:525px; width:100%;\"></div>            <script type=\"text/javascript\">                                    window.PLOTLYENV=window.PLOTLYENV || {};                                    if (document.getElementById(\"d0c6fddd-3058-4d4e-8884-48ff56c768e5\")) {                    Plotly.newPlot(                        \"d0c6fddd-3058-4d4e-8884-48ff56c768e5\",                        [{\"mode\":\"lines\",\"name\":\"Profit Evolution\",\"opacity\":1,\"x\":[0,1,2,3,4,5,6,7,8,9,10,11,12,13,14,15,16,17,18,19,20,21,22,23,24,25,26,27,28,29,30,31,32,33,34,35,36,37,38,39,40,41,42,43,44,45,46,47,48,49,50,51,52,53,54,55,56,57,58,59,60,61,62,63,64,65,66,67,68,69,70,71,72,73,74,75,76,77,78,79,80,81,82,83,84,85,86,87,88,89,90,91,92,93,94,95,96,97,98],\"y\":[0,0,0,0,0,0,0,0,0,0,0,0,0,0,0,0,0,0,0,0,0,0,0,0,0,0,0,0,0,0,0,0,0,0,0,0,0,0,0,0,0,0,0,0,0,0,0,0,0,0,0,0,0,0,0,0,0,0,0,0,0,0,0,0,0,0,0,0,0,0,0,0,0,0,0,0,0,0,0,0,0,0,0,0,0,0,0,0,0,0,0,0,0,0,0,0,0,0,0],\"type\":\"scatter\",\"xaxis\":\"x\",\"yaxis\":\"y\"},{\"mode\":\"lines\",\"name\":\"Reward\",\"opacity\":0.5,\"x\":[0,1,2,3,4,5,6,7,8,9,10,11,12,13,14,15,16,17,18,19,20,21,22,23,24,25,26,27,28,29,30,31,32,33,34,35,36,37,38,39,40,41,42,43,44,45,46,47,48,49,50,51,52,53,54,55,56,57,58,59,60,61,62,63,64,65,66,67,68,69,70,71,72,73,74,75,76,77,78,79,80,81,82,83,84,85,86,87,88,89,90,91,92,93,94,95,96,97,98],\"y\":[0,0,0,0,0,0,0,0,0,0,0,0,0,0,0,0,0,0,0,0,0,0,0,0,0,0,0,0,0,0,0,0,0,0,0,0,0,0,0,0,0,0,0,0,0,0,0,0,0,0,0,0,0,0,0,0,0,0,0,0,0,0,0,0,0,0,0,0,0,0,0,0,0,0,0,0,0,0,0,0,0,0,0,0,0,0,0,0,0,0,0,0,0,0,0,0,0,0,0],\"type\":\"scatter\",\"xaxis\":\"x\",\"yaxis\":\"y\"},{\"line\":{\"color\":\"black\"},\"mode\":\"lines\",\"name\":\"Dataset\",\"x\":[0,1,2,3,4,5,6,7,8,9,10,11,12,13,14,15,16,17,18,19,20,21,22,23,24,25,26,27,28,29,30,31,32,33,34,35,36,37,38,39,40,41,42,43,44,45,46,47,48,49,50,51,52,53,54,55,56,57,58,59,60,61,62,63,64,65,66,67,68,69,70,71,72,73,74,75,76,77,78,79,80,81,82,83,84,85,86,87,88,89,90,91,92,93,94,95,96,97,98],\"y\":[139.56,139.13,135.94,125.75,135.81,133.31,127.31,130.38,125.19,131.75,125.0,119.44,109.25,113.81,111.87,123.87,126.87,121.12,118.87,120.5,128.31,121.31,126.75,124.06,124.31,117.87,115.06,110.69,113.12,110.12,105.44,99.31,102.81,107.62,101.0,105.69,101.37,100.75,94.0,89.94,85.81,87.69,87.27,86.37,87.56,84.0,89.12,92.56,91.31,92.87,96.56,94.81,95.75,91.19,94.5,90.44,92.37,91.19,96.62,101.25,55.63,53.75,51.69,54.13,51.75,54.44,51.25,52.38,53.31,51.63,51.81,54.44,57.13,56.94,58.88,56.5,57.69,58.31,57.25,52.69,55.13,53.56,48.69,50.06,50.06,52.0,48.31,50.81,49.31,47.25,48.0,47.38,47.94,46.75,47.5,47.56,47.69,47.06,46.69],\"type\":\"scatter\",\"xaxis\":\"x2\",\"yaxis\":\"y2\"},{\"mode\":\"markers\",\"name\":\"stay\",\"opacity\":1.0,\"x\":[],\"y\":[],\"type\":\"scatter\",\"xaxis\":\"x2\",\"yaxis\":\"y2\"},{\"mode\":\"markers\",\"name\":\"buy\",\"opacity\":1.0,\"x\":[0,1,2,3,4,5,6,7,8,9,10,11,12,13,14,15,16,17,18,19,20,21,22,23,24,25,26,27,28,29,30,31,32,33,34,35,36,37,38,39,40,41,42,43,44,45,46,47,48,49,50,51,52,53,54,55,56,57,58,59,60,61,62,63,64,65,66,67,68,69,70,71,72,73,74,75,76,77,78,79,80,81,82,83,84,85,86,87,88,89,90,91,92,93,94,95,96,97,98],\"y\":[139.56,139.13,135.94,125.75,135.81,133.31,127.31,130.38,125.19,131.75,125.0,119.44,109.25,113.81,111.87,123.87,126.87,121.12,118.87,120.5,128.31,121.31,126.75,124.06,124.31,117.87,115.06,110.69,113.12,110.12,105.44,99.31,102.81,107.62,101.0,105.69,101.37,100.75,94.0,89.94,85.81,87.69,87.27,86.37,87.56,84.0,89.12,92.56,91.31,92.87,96.56,94.81,95.75,91.19,94.5,90.44,92.37,91.19,96.62,101.25,55.63,53.75,51.69,54.13,51.75,54.44,51.25,52.38,53.31,51.63,51.81,54.44,57.13,56.94,58.88,56.5,57.69,58.31,57.25,52.69,55.13,53.56,48.69,50.06,50.06,52.0,48.31,50.81,49.31,47.25,48.0,47.38,47.94,46.75,47.5,47.56,47.69,47.06,46.69],\"type\":\"scatter\",\"xaxis\":\"x2\",\"yaxis\":\"y2\"},{\"mode\":\"markers\",\"name\":\"sell\",\"opacity\":1.0,\"x\":[],\"y\":[],\"type\":\"scatter\",\"xaxis\":\"x2\",\"yaxis\":\"y2\"}],                        {\"template\":{\"data\":{\"histogram2dcontour\":[{\"type\":\"histogram2dcontour\",\"colorbar\":{\"outlinewidth\":0,\"ticks\":\"\"},\"colorscale\":[[0.0,\"#0d0887\"],[0.1111111111111111,\"#46039f\"],[0.2222222222222222,\"#7201a8\"],[0.3333333333333333,\"#9c179e\"],[0.4444444444444444,\"#bd3786\"],[0.5555555555555556,\"#d8576b\"],[0.6666666666666666,\"#ed7953\"],[0.7777777777777778,\"#fb9f3a\"],[0.8888888888888888,\"#fdca26\"],[1.0,\"#f0f921\"]]}],\"choropleth\":[{\"type\":\"choropleth\",\"colorbar\":{\"outlinewidth\":0,\"ticks\":\"\"}}],\"histogram2d\":[{\"type\":\"histogram2d\",\"colorbar\":{\"outlinewidth\":0,\"ticks\":\"\"},\"colorscale\":[[0.0,\"#0d0887\"],[0.1111111111111111,\"#46039f\"],[0.2222222222222222,\"#7201a8\"],[0.3333333333333333,\"#9c179e\"],[0.4444444444444444,\"#bd3786\"],[0.5555555555555556,\"#d8576b\"],[0.6666666666666666,\"#ed7953\"],[0.7777777777777778,\"#fb9f3a\"],[0.8888888888888888,\"#fdca26\"],[1.0,\"#f0f921\"]]}],\"heatmap\":[{\"type\":\"heatmap\",\"colorbar\":{\"outlinewidth\":0,\"ticks\":\"\"},\"colorscale\":[[0.0,\"#0d0887\"],[0.1111111111111111,\"#46039f\"],[0.2222222222222222,\"#7201a8\"],[0.3333333333333333,\"#9c179e\"],[0.4444444444444444,\"#bd3786\"],[0.5555555555555556,\"#d8576b\"],[0.6666666666666666,\"#ed7953\"],[0.7777777777777778,\"#fb9f3a\"],[0.8888888888888888,\"#fdca26\"],[1.0,\"#f0f921\"]]}],\"heatmapgl\":[{\"type\":\"heatmapgl\",\"colorbar\":{\"outlinewidth\":0,\"ticks\":\"\"},\"colorscale\":[[0.0,\"#0d0887\"],[0.1111111111111111,\"#46039f\"],[0.2222222222222222,\"#7201a8\"],[0.3333333333333333,\"#9c179e\"],[0.4444444444444444,\"#bd3786\"],[0.5555555555555556,\"#d8576b\"],[0.6666666666666666,\"#ed7953\"],[0.7777777777777778,\"#fb9f3a\"],[0.8888888888888888,\"#fdca26\"],[1.0,\"#f0f921\"]]}],\"contourcarpet\":[{\"type\":\"contourcarpet\",\"colorbar\":{\"outlinewidth\":0,\"ticks\":\"\"}}],\"contour\":[{\"type\":\"contour\",\"colorbar\":{\"outlinewidth\":0,\"ticks\":\"\"},\"colorscale\":[[0.0,\"#0d0887\"],[0.1111111111111111,\"#46039f\"],[0.2222222222222222,\"#7201a8\"],[0.3333333333333333,\"#9c179e\"],[0.4444444444444444,\"#bd3786\"],[0.5555555555555556,\"#d8576b\"],[0.6666666666666666,\"#ed7953\"],[0.7777777777777778,\"#fb9f3a\"],[0.8888888888888888,\"#fdca26\"],[1.0,\"#f0f921\"]]}],\"surface\":[{\"type\":\"surface\",\"colorbar\":{\"outlinewidth\":0,\"ticks\":\"\"},\"colorscale\":[[0.0,\"#0d0887\"],[0.1111111111111111,\"#46039f\"],[0.2222222222222222,\"#7201a8\"],[0.3333333333333333,\"#9c179e\"],[0.4444444444444444,\"#bd3786\"],[0.5555555555555556,\"#d8576b\"],[0.6666666666666666,\"#ed7953\"],[0.7777777777777778,\"#fb9f3a\"],[0.8888888888888888,\"#fdca26\"],[1.0,\"#f0f921\"]]}],\"mesh3d\":[{\"type\":\"mesh3d\",\"colorbar\":{\"outlinewidth\":0,\"ticks\":\"\"}}],\"scatter\":[{\"fillpattern\":{\"fillmode\":\"overlay\",\"size\":10,\"solidity\":0.2},\"type\":\"scatter\"}],\"parcoords\":[{\"type\":\"parcoords\",\"line\":{\"colorbar\":{\"outlinewidth\":0,\"ticks\":\"\"}}}],\"scatterpolargl\":[{\"type\":\"scatterpolargl\",\"marker\":{\"colorbar\":{\"outlinewidth\":0,\"ticks\":\"\"}}}],\"bar\":[{\"error_x\":{\"color\":\"#2a3f5f\"},\"error_y\":{\"color\":\"#2a3f5f\"},\"marker\":{\"line\":{\"color\":\"#E5ECF6\",\"width\":0.5},\"pattern\":{\"fillmode\":\"overlay\",\"size\":10,\"solidity\":0.2}},\"type\":\"bar\"}],\"scattergeo\":[{\"type\":\"scattergeo\",\"marker\":{\"colorbar\":{\"outlinewidth\":0,\"ticks\":\"\"}}}],\"scatterpolar\":[{\"type\":\"scatterpolar\",\"marker\":{\"colorbar\":{\"outlinewidth\":0,\"ticks\":\"\"}}}],\"histogram\":[{\"marker\":{\"pattern\":{\"fillmode\":\"overlay\",\"size\":10,\"solidity\":0.2}},\"type\":\"histogram\"}],\"scattergl\":[{\"type\":\"scattergl\",\"marker\":{\"colorbar\":{\"outlinewidth\":0,\"ticks\":\"\"}}}],\"scatter3d\":[{\"type\":\"scatter3d\",\"line\":{\"colorbar\":{\"outlinewidth\":0,\"ticks\":\"\"}},\"marker\":{\"colorbar\":{\"outlinewidth\":0,\"ticks\":\"\"}}}],\"scattermapbox\":[{\"type\":\"scattermapbox\",\"marker\":{\"colorbar\":{\"outlinewidth\":0,\"ticks\":\"\"}}}],\"scatterternary\":[{\"type\":\"scatterternary\",\"marker\":{\"colorbar\":{\"outlinewidth\":0,\"ticks\":\"\"}}}],\"scattercarpet\":[{\"type\":\"scattercarpet\",\"marker\":{\"colorbar\":{\"outlinewidth\":0,\"ticks\":\"\"}}}],\"carpet\":[{\"aaxis\":{\"endlinecolor\":\"#2a3f5f\",\"gridcolor\":\"white\",\"linecolor\":\"white\",\"minorgridcolor\":\"white\",\"startlinecolor\":\"#2a3f5f\"},\"baxis\":{\"endlinecolor\":\"#2a3f5f\",\"gridcolor\":\"white\",\"linecolor\":\"white\",\"minorgridcolor\":\"white\",\"startlinecolor\":\"#2a3f5f\"},\"type\":\"carpet\"}],\"table\":[{\"cells\":{\"fill\":{\"color\":\"#EBF0F8\"},\"line\":{\"color\":\"white\"}},\"header\":{\"fill\":{\"color\":\"#C8D4E3\"},\"line\":{\"color\":\"white\"}},\"type\":\"table\"}],\"barpolar\":[{\"marker\":{\"line\":{\"color\":\"#E5ECF6\",\"width\":0.5},\"pattern\":{\"fillmode\":\"overlay\",\"size\":10,\"solidity\":0.2}},\"type\":\"barpolar\"}],\"pie\":[{\"automargin\":true,\"type\":\"pie\"}]},\"layout\":{\"autotypenumbers\":\"strict\",\"colorway\":[\"#636efa\",\"#EF553B\",\"#00cc96\",\"#ab63fa\",\"#FFA15A\",\"#19d3f3\",\"#FF6692\",\"#B6E880\",\"#FF97FF\",\"#FECB52\"],\"font\":{\"color\":\"#2a3f5f\"},\"hovermode\":\"closest\",\"hoverlabel\":{\"align\":\"left\"},\"paper_bgcolor\":\"white\",\"plot_bgcolor\":\"#E5ECF6\",\"polar\":{\"bgcolor\":\"#E5ECF6\",\"angularaxis\":{\"gridcolor\":\"white\",\"linecolor\":\"white\",\"ticks\":\"\"},\"radialaxis\":{\"gridcolor\":\"white\",\"linecolor\":\"white\",\"ticks\":\"\"}},\"ternary\":{\"bgcolor\":\"#E5ECF6\",\"aaxis\":{\"gridcolor\":\"white\",\"linecolor\":\"white\",\"ticks\":\"\"},\"baxis\":{\"gridcolor\":\"white\",\"linecolor\":\"white\",\"ticks\":\"\"},\"caxis\":{\"gridcolor\":\"white\",\"linecolor\":\"white\",\"ticks\":\"\"}},\"coloraxis\":{\"colorbar\":{\"outlinewidth\":0,\"ticks\":\"\"}},\"colorscale\":{\"sequential\":[[0.0,\"#0d0887\"],[0.1111111111111111,\"#46039f\"],[0.2222222222222222,\"#7201a8\"],[0.3333333333333333,\"#9c179e\"],[0.4444444444444444,\"#bd3786\"],[0.5555555555555556,\"#d8576b\"],[0.6666666666666666,\"#ed7953\"],[0.7777777777777778,\"#fb9f3a\"],[0.8888888888888888,\"#fdca26\"],[1.0,\"#f0f921\"]],\"sequentialminus\":[[0.0,\"#0d0887\"],[0.1111111111111111,\"#46039f\"],[0.2222222222222222,\"#7201a8\"],[0.3333333333333333,\"#9c179e\"],[0.4444444444444444,\"#bd3786\"],[0.5555555555555556,\"#d8576b\"],[0.6666666666666666,\"#ed7953\"],[0.7777777777777778,\"#fb9f3a\"],[0.8888888888888888,\"#fdca26\"],[1.0,\"#f0f921\"]],\"diverging\":[[0,\"#8e0152\"],[0.1,\"#c51b7d\"],[0.2,\"#de77ae\"],[0.3,\"#f1b6da\"],[0.4,\"#fde0ef\"],[0.5,\"#f7f7f7\"],[0.6,\"#e6f5d0\"],[0.7,\"#b8e186\"],[0.8,\"#7fbc41\"],[0.9,\"#4d9221\"],[1,\"#276419\"]]},\"xaxis\":{\"gridcolor\":\"white\",\"linecolor\":\"white\",\"ticks\":\"\",\"title\":{\"standoff\":15},\"zerolinecolor\":\"white\",\"automargin\":true,\"zerolinewidth\":2},\"yaxis\":{\"gridcolor\":\"white\",\"linecolor\":\"white\",\"ticks\":\"\",\"title\":{\"standoff\":15},\"zerolinecolor\":\"white\",\"automargin\":true,\"zerolinewidth\":2},\"scene\":{\"xaxis\":{\"backgroundcolor\":\"#E5ECF6\",\"gridcolor\":\"white\",\"linecolor\":\"white\",\"showbackground\":true,\"ticks\":\"\",\"zerolinecolor\":\"white\",\"gridwidth\":2},\"yaxis\":{\"backgroundcolor\":\"#E5ECF6\",\"gridcolor\":\"white\",\"linecolor\":\"white\",\"showbackground\":true,\"ticks\":\"\",\"zerolinecolor\":\"white\",\"gridwidth\":2},\"zaxis\":{\"backgroundcolor\":\"#E5ECF6\",\"gridcolor\":\"white\",\"linecolor\":\"white\",\"showbackground\":true,\"ticks\":\"\",\"zerolinecolor\":\"white\",\"gridwidth\":2}},\"shapedefaults\":{\"line\":{\"color\":\"#2a3f5f\"}},\"annotationdefaults\":{\"arrowcolor\":\"#2a3f5f\",\"arrowhead\":0,\"arrowwidth\":1},\"geo\":{\"bgcolor\":\"white\",\"landcolor\":\"#E5ECF6\",\"subunitcolor\":\"white\",\"showland\":true,\"showlakes\":true,\"lakecolor\":\"white\"},\"title\":{\"x\":0.05},\"mapbox\":{\"style\":\"light\"}}},\"xaxis\":{\"anchor\":\"y\",\"domain\":[0.0,1.0],\"matches\":\"x2\",\"showticklabels\":false,\"title\":{\"text\":\"Step\"}},\"yaxis\":{\"anchor\":\"x\",\"domain\":[0.575,1.0]},\"xaxis2\":{\"anchor\":\"y2\",\"domain\":[0.0,1.0],\"title\":{\"text\":\"Step\"}},\"yaxis2\":{\"anchor\":\"x2\",\"domain\":[0.0,0.425]}},                        {\"responsive\": true}                    ).then(function(){\n",
              "                            \n",
              "var gd = document.getElementById('d0c6fddd-3058-4d4e-8884-48ff56c768e5');\n",
              "var x = new MutationObserver(function (mutations, observer) {{\n",
              "        var display = window.getComputedStyle(gd).display;\n",
              "        if (!display || display === 'none') {{\n",
              "            console.log([gd, 'removed!']);\n",
              "            Plotly.purge(gd);\n",
              "            observer.disconnect();\n",
              "        }}\n",
              "}});\n",
              "\n",
              "// Listen for the removal of the full notebook cells\n",
              "var notebookContainer = gd.closest('#notebook-container');\n",
              "if (notebookContainer) {{\n",
              "    x.observe(notebookContainer, {childList: true});\n",
              "}}\n",
              "\n",
              "// Listen for the clearing of the current output cell\n",
              "var outputEl = gd.closest('.output');\n",
              "if (outputEl) {{\n",
              "    x.observe(outputEl, {childList: true});\n",
              "}}\n",
              "\n",
              "                        })                };                            </script>        </div>\n",
              "</body>\n",
              "</html>"
            ]
          },
          "metadata": {}
        }
      ]
    },
    {
      "cell_type": "code",
      "source": [
        "pev, rev, history = test_model(agent=dql_agent_exp2, env=entorno_exp2, epsilon=None)"
      ],
      "metadata": {
        "colab": {
          "base_uri": "https://localhost:8080/"
        },
        "id": "oKXqhqpbi0ja",
        "outputId": "a68fbbc6-f47b-42cb-a3fd-14f33f9de6a9"
      },
      "execution_count": 56,
      "outputs": [
        {
          "output_type": "stream",
          "name": "stderr",
          "text": [
            "<ipython-input-47-04752e11e2c3>:73: FutureWarning:\n",
            "\n",
            "Series.__getitem__ treating keys as positions is deprecated. In a future version, integer keys will always be treated as labels (consistent with DataFrame behavior). To access a value by position, use `ser.iloc[pos]`\n",
            "\n",
            "<ipython-input-47-04752e11e2c3>:91: FutureWarning:\n",
            "\n",
            "Series.__getitem__ treating keys as positions is deprecated. In a future version, integer keys will always be treated as labels (consistent with DataFrame behavior). To access a value by position, use `ser.iloc[pos]`\n",
            "\n",
            "<ipython-input-47-04752e11e2c3>:27: FutureWarning:\n",
            "\n",
            "Series.__getitem__ treating keys as positions is deprecated. In a future version, integer keys will always be treated as labels (consistent with DataFrame behavior). To access a value by position, use `ser.iloc[pos]`\n",
            "\n"
          ]
        }
      ]
    },
    {
      "cell_type": "code",
      "source": [
        "x_list = np.arange(len(pev))\n",
        "\n",
        "fig1 = make_subplots(rows=2, cols=1, shared_xaxes=True)\n",
        "\n",
        "fig1.add_trace(go.Scatter(x=x_list, y=pev, mode='lines', name=\"Profit Evolution\",\n",
        "                          opacity=1), row=1, col=1)\n",
        "fig1.add_trace(go.Scatter(x=x_list, y=rev, mode='lines', name=\"Reward\",\n",
        "                          opacity=0.5), row=1, col=1)\n",
        "\n",
        "\n",
        "data_array = np.array([his[0] for his in history])\n",
        "action_list = np.array([his[1] for his in history])\n",
        "\n",
        "stay_indices = action_list == 'Stay'\n",
        "buy_indices = action_list == 'Buy'\n",
        "sell_indices = action_list == 'Sell'\n",
        "\n",
        "fig1.add_trace(go.Scatter(x=x_list, y=data_array, name=\"Dataset\", mode=\"lines\",\n",
        "                          line=dict(color=\"black\")), row=2, col=1)\n",
        "fig1.add_trace(go.Scatter(x=x_list[stay_indices], y=data_array[stay_indices],\n",
        "                          mode='markers', name=\"stay\", opacity=1.0), row=2, col=1)\n",
        "fig1.add_trace(go.Scatter(x=x_list[buy_indices], y=data_array[buy_indices],\n",
        "                          mode='markers', name=\"buy\", opacity=1.0), row=2, col=1)\n",
        "fig1.add_trace(go.Scatter(x=x_list[sell_indices], y=data_array[sell_indices],\n",
        "                          mode='markers', name=\"sell\", opacity=1.0), row=2, col=1)\n",
        "\n",
        "fig1.update_xaxes(title_text=\"Step\")\n",
        "fig1.show()"
      ],
      "metadata": {
        "colab": {
          "base_uri": "https://localhost:8080/",
          "height": 542
        },
        "id": "VEcZdr2xi9Cd",
        "outputId": "7661518e-3cfb-4df7-e096-723411f524c8"
      },
      "execution_count": 57,
      "outputs": [
        {
          "output_type": "display_data",
          "data": {
            "text/html": [
              "<html>\n",
              "<head><meta charset=\"utf-8\" /></head>\n",
              "<body>\n",
              "    <div>            <script src=\"https://cdnjs.cloudflare.com/ajax/libs/mathjax/2.7.5/MathJax.js?config=TeX-AMS-MML_SVG\"></script><script type=\"text/javascript\">if (window.MathJax && window.MathJax.Hub && window.MathJax.Hub.Config) {window.MathJax.Hub.Config({SVG: {font: \"STIX-Web\"}});}</script>                <script type=\"text/javascript\">window.PlotlyConfig = {MathJaxConfig: 'local'};</script>\n",
              "        <script charset=\"utf-8\" src=\"https://cdn.plot.ly/plotly-2.24.1.min.js\"></script>                <div id=\"5a278232-859a-4c7f-9baa-621b2ec9d0c5\" class=\"plotly-graph-div\" style=\"height:525px; width:100%;\"></div>            <script type=\"text/javascript\">                                    window.PLOTLYENV=window.PLOTLYENV || {};                                    if (document.getElementById(\"5a278232-859a-4c7f-9baa-621b2ec9d0c5\")) {                    Plotly.newPlot(                        \"5a278232-859a-4c7f-9baa-621b2ec9d0c5\",                        [{\"mode\":\"lines\",\"name\":\"Profit Evolution\",\"opacity\":1,\"x\":[0,1,2,3,4,5,6,7,8,9,10,11,12,13,14,15,16,17,18,19,20,21,22,23,24,25,26,27,28,29,30,31,32,33,34,35,36,37,38,39,40,41,42,43,44,45,46,47,48,49,50,51,52,53,54,55,56,57,58,59,60,61,62,63,64,65,66,67,68,69,70,71,72,73,74,75,76,77,78,79,80,81,82,83,84,85,86,87,88,89,90,91,92,93,94,95,96,97,98],\"y\":[0,0.8700000000000045,0.8700000000000045,0.8700000000000045,0.8700000000000045,0.8700000000000045,0.8700000000000045,0.8700000000000045,0.8700000000000045,0.8700000000000045,0.8700000000000045,0.8700000000000045,0.8700000000000045,0.8700000000000045,0.8700000000000045,0.8700000000000045,0.8700000000000045,0.8700000000000045,0.8700000000000045,0.8700000000000045,0.8700000000000045,0.8700000000000045,0.8700000000000045,0.8700000000000045,0.8700000000000045,0.8700000000000045,0.8700000000000045,0.8700000000000045,0.8700000000000045,0.8700000000000045,0.8700000000000045,0.8700000000000045,0.8700000000000045,0.8700000000000045,0.8700000000000045,0.8700000000000045,0.8700000000000045,0.8700000000000045,0.8700000000000045,0.8700000000000045,0.8700000000000045,0.8700000000000045,0.8700000000000045,0.8700000000000045,0.8700000000000045,0.8700000000000045,0.8700000000000045,0.8700000000000045,0.8700000000000045,0.8700000000000045,0.8700000000000045,0.8700000000000045,0.8700000000000045,0.8700000000000045,0.8700000000000045,0.8700000000000045,0.8700000000000045,0.8700000000000045,0.8700000000000045,0.8700000000000045,0.8700000000000045,0.8700000000000045,0.8700000000000045,0.8700000000000045,0.8700000000000045,0.8700000000000045,0.8700000000000045,0.8700000000000045,0.8700000000000045,0.8700000000000045,0.8700000000000045,0.8700000000000045,0.8700000000000045,0.8700000000000045,0.8700000000000045,0.8700000000000045,0.8700000000000045,0.8700000000000045,0.8700000000000045,0.8700000000000045,0.8700000000000045,0.8700000000000045,0.8700000000000045,0.8700000000000045,0.8700000000000045,0.8700000000000045,0.8700000000000045,0.8700000000000045,0.8700000000000045,0.8700000000000045,0.8700000000000045,0.8700000000000045,0.8700000000000045,0.8700000000000045,0.8700000000000045,0.8700000000000045,0.8700000000000045,0.8700000000000045,0.8700000000000045],\"type\":\"scatter\",\"xaxis\":\"x\",\"yaxis\":\"y\"},{\"mode\":\"lines\",\"name\":\"Reward\",\"opacity\":0.5,\"x\":[0,1,2,3,4,5,6,7,8,9,10,11,12,13,14,15,16,17,18,19,20,21,22,23,24,25,26,27,28,29,30,31,32,33,34,35,36,37,38,39,40,41,42,43,44,45,46,47,48,49,50,51,52,53,54,55,56,57,58,59,60,61,62,63,64,65,66,67,68,69,70,71,72,73,74,75,76,77,78,79,80,81,82,83,84,85,86,87,88,89,90,91,92,93,94,95,96,97,98],\"y\":[0,0.8700000000000045,0,0,0,0,0,0,0,0,0,0,0,0,0,0,0,0,0,0,0,0,0,0,0,0,0,0,0,0,0,0,0,0,0,0,0,0,0,0,0,0,0,0,0,0,0,0,0,0,0,0,0,0,0,0,0,0,0,0,0,0,0,0,0,0,0,0,0,0,0,0,0,0,0,0,0,0,0,0,0,0,0,0,0,0,0,0,0,0,0,0,0,0,0,0,0,0,0],\"type\":\"scatter\",\"xaxis\":\"x\",\"yaxis\":\"y\"},{\"line\":{\"color\":\"black\"},\"mode\":\"lines\",\"name\":\"Dataset\",\"x\":[0,1,2,3,4,5,6,7,8,9,10,11,12,13,14,15,16,17,18,19,20,21,22,23,24,25,26,27,28,29,30,31,32,33,34,35,36,37,38,39,40,41,42,43,44,45,46,47,48,49,50,51,52,53,54,55,56,57,58,59,60,61,62,63,64,65,66,67,68,69,70,71,72,73,74,75,76,77,78,79,80,81,82,83,84,85,86,87,88,89,90,91,92,93,94,95,96,97,98],\"y\":[139.56,139.13,135.94,125.75,135.81,133.31,127.31,130.38,125.19,131.75,125.0,119.44,109.25,113.81,111.87,123.87,126.87,121.12,118.87,120.5,128.31,121.31,126.75,124.06,124.31,117.87,115.06,110.69,113.12,110.12,105.44,99.31,102.81,107.62,101.0,105.69,101.37,100.75,94.0,89.94,85.81,87.69,87.27,86.37,87.56,84.0,89.12,92.56,91.31,92.87,96.56,94.81,95.75,91.19,94.5,90.44,92.37,91.19,96.62,101.25,55.63,53.75,51.69,54.13,51.75,54.44,51.25,52.38,53.31,51.63,51.81,54.44,57.13,56.94,58.88,56.5,57.69,58.31,57.25,52.69,55.13,53.56,48.69,50.06,50.06,52.0,48.31,50.81,49.31,47.25,48.0,47.38,47.94,46.75,47.5,47.56,47.69,47.06,46.69],\"type\":\"scatter\",\"xaxis\":\"x2\",\"yaxis\":\"y2\"},{\"mode\":\"markers\",\"name\":\"stay\",\"opacity\":1.0,\"x\":[2,3,4,5,6,7,9,10,11,12,13,14,15,16,17,18,19,21,22,23,24,25,26,27,28,29,30,31,32,33,34,35,36,37,38,39,40,41,42,43,44,45,46,47,48,49,50,51,52,53,54,55,56,57,58,59,60,61,62,63,64,65,66,67,68,69,70,71,72,73,74,75,76,77,78,79,80,81,82,83,85,86,87,88,89,90,91,92,93,94,95,96,97,98],\"y\":[135.94,125.75,135.81,133.31,127.31,130.38,131.75,125.0,119.44,109.25,113.81,111.87,123.87,126.87,121.12,118.87,120.5,121.31,126.75,124.06,124.31,117.87,115.06,110.69,113.12,110.12,105.44,99.31,102.81,107.62,101.0,105.69,101.37,100.75,94.0,89.94,85.81,87.69,87.27,86.37,87.56,84.0,89.12,92.56,91.31,92.87,96.56,94.81,95.75,91.19,94.5,90.44,92.37,91.19,96.62,101.25,55.63,53.75,51.69,54.13,51.75,54.44,51.25,52.38,53.31,51.63,51.81,54.44,57.13,56.94,58.88,56.5,57.69,58.31,57.25,52.69,55.13,53.56,48.69,50.06,52.0,48.31,50.81,49.31,47.25,48.0,47.38,47.94,46.75,47.5,47.56,47.69,47.06,46.69],\"type\":\"scatter\",\"xaxis\":\"x2\",\"yaxis\":\"y2\"},{\"mode\":\"markers\",\"name\":\"buy\",\"opacity\":1.0,\"x\":[0],\"y\":[139.56],\"type\":\"scatter\",\"xaxis\":\"x2\",\"yaxis\":\"y2\"},{\"mode\":\"markers\",\"name\":\"sell\",\"opacity\":1.0,\"x\":[1,8,20,84],\"y\":[139.13,125.19,128.31,50.06],\"type\":\"scatter\",\"xaxis\":\"x2\",\"yaxis\":\"y2\"}],                        {\"template\":{\"data\":{\"histogram2dcontour\":[{\"type\":\"histogram2dcontour\",\"colorbar\":{\"outlinewidth\":0,\"ticks\":\"\"},\"colorscale\":[[0.0,\"#0d0887\"],[0.1111111111111111,\"#46039f\"],[0.2222222222222222,\"#7201a8\"],[0.3333333333333333,\"#9c179e\"],[0.4444444444444444,\"#bd3786\"],[0.5555555555555556,\"#d8576b\"],[0.6666666666666666,\"#ed7953\"],[0.7777777777777778,\"#fb9f3a\"],[0.8888888888888888,\"#fdca26\"],[1.0,\"#f0f921\"]]}],\"choropleth\":[{\"type\":\"choropleth\",\"colorbar\":{\"outlinewidth\":0,\"ticks\":\"\"}}],\"histogram2d\":[{\"type\":\"histogram2d\",\"colorbar\":{\"outlinewidth\":0,\"ticks\":\"\"},\"colorscale\":[[0.0,\"#0d0887\"],[0.1111111111111111,\"#46039f\"],[0.2222222222222222,\"#7201a8\"],[0.3333333333333333,\"#9c179e\"],[0.4444444444444444,\"#bd3786\"],[0.5555555555555556,\"#d8576b\"],[0.6666666666666666,\"#ed7953\"],[0.7777777777777778,\"#fb9f3a\"],[0.8888888888888888,\"#fdca26\"],[1.0,\"#f0f921\"]]}],\"heatmap\":[{\"type\":\"heatmap\",\"colorbar\":{\"outlinewidth\":0,\"ticks\":\"\"},\"colorscale\":[[0.0,\"#0d0887\"],[0.1111111111111111,\"#46039f\"],[0.2222222222222222,\"#7201a8\"],[0.3333333333333333,\"#9c179e\"],[0.4444444444444444,\"#bd3786\"],[0.5555555555555556,\"#d8576b\"],[0.6666666666666666,\"#ed7953\"],[0.7777777777777778,\"#fb9f3a\"],[0.8888888888888888,\"#fdca26\"],[1.0,\"#f0f921\"]]}],\"heatmapgl\":[{\"type\":\"heatmapgl\",\"colorbar\":{\"outlinewidth\":0,\"ticks\":\"\"},\"colorscale\":[[0.0,\"#0d0887\"],[0.1111111111111111,\"#46039f\"],[0.2222222222222222,\"#7201a8\"],[0.3333333333333333,\"#9c179e\"],[0.4444444444444444,\"#bd3786\"],[0.5555555555555556,\"#d8576b\"],[0.6666666666666666,\"#ed7953\"],[0.7777777777777778,\"#fb9f3a\"],[0.8888888888888888,\"#fdca26\"],[1.0,\"#f0f921\"]]}],\"contourcarpet\":[{\"type\":\"contourcarpet\",\"colorbar\":{\"outlinewidth\":0,\"ticks\":\"\"}}],\"contour\":[{\"type\":\"contour\",\"colorbar\":{\"outlinewidth\":0,\"ticks\":\"\"},\"colorscale\":[[0.0,\"#0d0887\"],[0.1111111111111111,\"#46039f\"],[0.2222222222222222,\"#7201a8\"],[0.3333333333333333,\"#9c179e\"],[0.4444444444444444,\"#bd3786\"],[0.5555555555555556,\"#d8576b\"],[0.6666666666666666,\"#ed7953\"],[0.7777777777777778,\"#fb9f3a\"],[0.8888888888888888,\"#fdca26\"],[1.0,\"#f0f921\"]]}],\"surface\":[{\"type\":\"surface\",\"colorbar\":{\"outlinewidth\":0,\"ticks\":\"\"},\"colorscale\":[[0.0,\"#0d0887\"],[0.1111111111111111,\"#46039f\"],[0.2222222222222222,\"#7201a8\"],[0.3333333333333333,\"#9c179e\"],[0.4444444444444444,\"#bd3786\"],[0.5555555555555556,\"#d8576b\"],[0.6666666666666666,\"#ed7953\"],[0.7777777777777778,\"#fb9f3a\"],[0.8888888888888888,\"#fdca26\"],[1.0,\"#f0f921\"]]}],\"mesh3d\":[{\"type\":\"mesh3d\",\"colorbar\":{\"outlinewidth\":0,\"ticks\":\"\"}}],\"scatter\":[{\"fillpattern\":{\"fillmode\":\"overlay\",\"size\":10,\"solidity\":0.2},\"type\":\"scatter\"}],\"parcoords\":[{\"type\":\"parcoords\",\"line\":{\"colorbar\":{\"outlinewidth\":0,\"ticks\":\"\"}}}],\"scatterpolargl\":[{\"type\":\"scatterpolargl\",\"marker\":{\"colorbar\":{\"outlinewidth\":0,\"ticks\":\"\"}}}],\"bar\":[{\"error_x\":{\"color\":\"#2a3f5f\"},\"error_y\":{\"color\":\"#2a3f5f\"},\"marker\":{\"line\":{\"color\":\"#E5ECF6\",\"width\":0.5},\"pattern\":{\"fillmode\":\"overlay\",\"size\":10,\"solidity\":0.2}},\"type\":\"bar\"}],\"scattergeo\":[{\"type\":\"scattergeo\",\"marker\":{\"colorbar\":{\"outlinewidth\":0,\"ticks\":\"\"}}}],\"scatterpolar\":[{\"type\":\"scatterpolar\",\"marker\":{\"colorbar\":{\"outlinewidth\":0,\"ticks\":\"\"}}}],\"histogram\":[{\"marker\":{\"pattern\":{\"fillmode\":\"overlay\",\"size\":10,\"solidity\":0.2}},\"type\":\"histogram\"}],\"scattergl\":[{\"type\":\"scattergl\",\"marker\":{\"colorbar\":{\"outlinewidth\":0,\"ticks\":\"\"}}}],\"scatter3d\":[{\"type\":\"scatter3d\",\"line\":{\"colorbar\":{\"outlinewidth\":0,\"ticks\":\"\"}},\"marker\":{\"colorbar\":{\"outlinewidth\":0,\"ticks\":\"\"}}}],\"scattermapbox\":[{\"type\":\"scattermapbox\",\"marker\":{\"colorbar\":{\"outlinewidth\":0,\"ticks\":\"\"}}}],\"scatterternary\":[{\"type\":\"scatterternary\",\"marker\":{\"colorbar\":{\"outlinewidth\":0,\"ticks\":\"\"}}}],\"scattercarpet\":[{\"type\":\"scattercarpet\",\"marker\":{\"colorbar\":{\"outlinewidth\":0,\"ticks\":\"\"}}}],\"carpet\":[{\"aaxis\":{\"endlinecolor\":\"#2a3f5f\",\"gridcolor\":\"white\",\"linecolor\":\"white\",\"minorgridcolor\":\"white\",\"startlinecolor\":\"#2a3f5f\"},\"baxis\":{\"endlinecolor\":\"#2a3f5f\",\"gridcolor\":\"white\",\"linecolor\":\"white\",\"minorgridcolor\":\"white\",\"startlinecolor\":\"#2a3f5f\"},\"type\":\"carpet\"}],\"table\":[{\"cells\":{\"fill\":{\"color\":\"#EBF0F8\"},\"line\":{\"color\":\"white\"}},\"header\":{\"fill\":{\"color\":\"#C8D4E3\"},\"line\":{\"color\":\"white\"}},\"type\":\"table\"}],\"barpolar\":[{\"marker\":{\"line\":{\"color\":\"#E5ECF6\",\"width\":0.5},\"pattern\":{\"fillmode\":\"overlay\",\"size\":10,\"solidity\":0.2}},\"type\":\"barpolar\"}],\"pie\":[{\"automargin\":true,\"type\":\"pie\"}]},\"layout\":{\"autotypenumbers\":\"strict\",\"colorway\":[\"#636efa\",\"#EF553B\",\"#00cc96\",\"#ab63fa\",\"#FFA15A\",\"#19d3f3\",\"#FF6692\",\"#B6E880\",\"#FF97FF\",\"#FECB52\"],\"font\":{\"color\":\"#2a3f5f\"},\"hovermode\":\"closest\",\"hoverlabel\":{\"align\":\"left\"},\"paper_bgcolor\":\"white\",\"plot_bgcolor\":\"#E5ECF6\",\"polar\":{\"bgcolor\":\"#E5ECF6\",\"angularaxis\":{\"gridcolor\":\"white\",\"linecolor\":\"white\",\"ticks\":\"\"},\"radialaxis\":{\"gridcolor\":\"white\",\"linecolor\":\"white\",\"ticks\":\"\"}},\"ternary\":{\"bgcolor\":\"#E5ECF6\",\"aaxis\":{\"gridcolor\":\"white\",\"linecolor\":\"white\",\"ticks\":\"\"},\"baxis\":{\"gridcolor\":\"white\",\"linecolor\":\"white\",\"ticks\":\"\"},\"caxis\":{\"gridcolor\":\"white\",\"linecolor\":\"white\",\"ticks\":\"\"}},\"coloraxis\":{\"colorbar\":{\"outlinewidth\":0,\"ticks\":\"\"}},\"colorscale\":{\"sequential\":[[0.0,\"#0d0887\"],[0.1111111111111111,\"#46039f\"],[0.2222222222222222,\"#7201a8\"],[0.3333333333333333,\"#9c179e\"],[0.4444444444444444,\"#bd3786\"],[0.5555555555555556,\"#d8576b\"],[0.6666666666666666,\"#ed7953\"],[0.7777777777777778,\"#fb9f3a\"],[0.8888888888888888,\"#fdca26\"],[1.0,\"#f0f921\"]],\"sequentialminus\":[[0.0,\"#0d0887\"],[0.1111111111111111,\"#46039f\"],[0.2222222222222222,\"#7201a8\"],[0.3333333333333333,\"#9c179e\"],[0.4444444444444444,\"#bd3786\"],[0.5555555555555556,\"#d8576b\"],[0.6666666666666666,\"#ed7953\"],[0.7777777777777778,\"#fb9f3a\"],[0.8888888888888888,\"#fdca26\"],[1.0,\"#f0f921\"]],\"diverging\":[[0,\"#8e0152\"],[0.1,\"#c51b7d\"],[0.2,\"#de77ae\"],[0.3,\"#f1b6da\"],[0.4,\"#fde0ef\"],[0.5,\"#f7f7f7\"],[0.6,\"#e6f5d0\"],[0.7,\"#b8e186\"],[0.8,\"#7fbc41\"],[0.9,\"#4d9221\"],[1,\"#276419\"]]},\"xaxis\":{\"gridcolor\":\"white\",\"linecolor\":\"white\",\"ticks\":\"\",\"title\":{\"standoff\":15},\"zerolinecolor\":\"white\",\"automargin\":true,\"zerolinewidth\":2},\"yaxis\":{\"gridcolor\":\"white\",\"linecolor\":\"white\",\"ticks\":\"\",\"title\":{\"standoff\":15},\"zerolinecolor\":\"white\",\"automargin\":true,\"zerolinewidth\":2},\"scene\":{\"xaxis\":{\"backgroundcolor\":\"#E5ECF6\",\"gridcolor\":\"white\",\"linecolor\":\"white\",\"showbackground\":true,\"ticks\":\"\",\"zerolinecolor\":\"white\",\"gridwidth\":2},\"yaxis\":{\"backgroundcolor\":\"#E5ECF6\",\"gridcolor\":\"white\",\"linecolor\":\"white\",\"showbackground\":true,\"ticks\":\"\",\"zerolinecolor\":\"white\",\"gridwidth\":2},\"zaxis\":{\"backgroundcolor\":\"#E5ECF6\",\"gridcolor\":\"white\",\"linecolor\":\"white\",\"showbackground\":true,\"ticks\":\"\",\"zerolinecolor\":\"white\",\"gridwidth\":2}},\"shapedefaults\":{\"line\":{\"color\":\"#2a3f5f\"}},\"annotationdefaults\":{\"arrowcolor\":\"#2a3f5f\",\"arrowhead\":0,\"arrowwidth\":1},\"geo\":{\"bgcolor\":\"white\",\"landcolor\":\"#E5ECF6\",\"subunitcolor\":\"white\",\"showland\":true,\"showlakes\":true,\"lakecolor\":\"white\"},\"title\":{\"x\":0.05},\"mapbox\":{\"style\":\"light\"}}},\"xaxis\":{\"anchor\":\"y\",\"domain\":[0.0,1.0],\"matches\":\"x2\",\"showticklabels\":false,\"title\":{\"text\":\"Step\"}},\"yaxis\":{\"anchor\":\"x\",\"domain\":[0.575,1.0]},\"xaxis2\":{\"anchor\":\"y2\",\"domain\":[0.0,1.0],\"title\":{\"text\":\"Step\"}},\"yaxis2\":{\"anchor\":\"x2\",\"domain\":[0.0,0.425]}},                        {\"responsive\": true}                    ).then(function(){\n",
              "                            \n",
              "var gd = document.getElementById('5a278232-859a-4c7f-9baa-621b2ec9d0c5');\n",
              "var x = new MutationObserver(function (mutations, observer) {{\n",
              "        var display = window.getComputedStyle(gd).display;\n",
              "        if (!display || display === 'none') {{\n",
              "            console.log([gd, 'removed!']);\n",
              "            Plotly.purge(gd);\n",
              "            observer.disconnect();\n",
              "        }}\n",
              "}});\n",
              "\n",
              "// Listen for the removal of the full notebook cells\n",
              "var notebookContainer = gd.closest('#notebook-container');\n",
              "if (notebookContainer) {{\n",
              "    x.observe(notebookContainer, {childList: true});\n",
              "}}\n",
              "\n",
              "// Listen for the clearing of the current output cell\n",
              "var outputEl = gd.closest('.output');\n",
              "if (outputEl) {{\n",
              "    x.observe(outputEl, {childList: true});\n",
              "}}\n",
              "\n",
              "                        })                };                            </script>        </div>\n",
              "</body>\n",
              "</html>"
            ]
          },
          "metadata": {}
        }
      ]
    },
    {
      "cell_type": "code",
      "source": [
        "pev, rev, history = test_model(agent=dql_agent_exp3, env=entorno_exp3, epsilon=None)"
      ],
      "metadata": {
        "colab": {
          "base_uri": "https://localhost:8080/"
        },
        "id": "hFRW0TT8ZY3O",
        "outputId": "983e5496-d8e0-4a3a-cda5-e212a2f4ca07"
      },
      "execution_count": 58,
      "outputs": [
        {
          "output_type": "stream",
          "name": "stderr",
          "text": [
            "<ipython-input-47-04752e11e2c3>:73: FutureWarning:\n",
            "\n",
            "Series.__getitem__ treating keys as positions is deprecated. In a future version, integer keys will always be treated as labels (consistent with DataFrame behavior). To access a value by position, use `ser.iloc[pos]`\n",
            "\n",
            "<ipython-input-47-04752e11e2c3>:91: FutureWarning:\n",
            "\n",
            "Series.__getitem__ treating keys as positions is deprecated. In a future version, integer keys will always be treated as labels (consistent with DataFrame behavior). To access a value by position, use `ser.iloc[pos]`\n",
            "\n",
            "<ipython-input-47-04752e11e2c3>:27: FutureWarning:\n",
            "\n",
            "Series.__getitem__ treating keys as positions is deprecated. In a future version, integer keys will always be treated as labels (consistent with DataFrame behavior). To access a value by position, use `ser.iloc[pos]`\n",
            "\n"
          ]
        }
      ]
    },
    {
      "cell_type": "code",
      "source": [
        "x_list = np.arange(len(pev))\n",
        "\n",
        "fig1 = make_subplots(rows=2, cols=1, shared_xaxes=True)\n",
        "\n",
        "fig1.add_trace(go.Scatter(x=x_list, y=pev, mode='lines', name=\"Profit Evolution\",\n",
        "                          opacity=1), row=1, col=1)\n",
        "fig1.add_trace(go.Scatter(x=x_list, y=rev, mode='lines', name=\"Reward\",\n",
        "                          opacity=0.5), row=1, col=1)\n",
        "\n",
        "\n",
        "data_array = np.array([his[0] for his in history])\n",
        "action_list = np.array([his[1] for his in history])\n",
        "\n",
        "stay_indices = action_list == 'Stay'\n",
        "buy_indices = action_list == 'Buy'\n",
        "sell_indices = action_list == 'Sell'\n",
        "\n",
        "fig1.add_trace(go.Scatter(x=x_list, y=data_array, name=\"Dataset\", mode=\"lines\",\n",
        "                          line=dict(color=\"black\")), row=2, col=1)\n",
        "fig1.add_trace(go.Scatter(x=x_list[stay_indices], y=data_array[stay_indices],\n",
        "                          mode='markers', name=\"stay\", opacity=1.0), row=2, col=1)\n",
        "fig1.add_trace(go.Scatter(x=x_list[buy_indices], y=data_array[buy_indices],\n",
        "                          mode='markers', name=\"buy\", opacity=1.0), row=2, col=1)\n",
        "fig1.add_trace(go.Scatter(x=x_list[sell_indices], y=data_array[sell_indices],\n",
        "                          mode='markers', name=\"sell\", opacity=1.0), row=2, col=1)\n",
        "\n",
        "fig1.update_xaxes(title_text=\"Step\")\n",
        "fig1.show()\n"
      ],
      "metadata": {
        "colab": {
          "base_uri": "https://localhost:8080/",
          "height": 542
        },
        "id": "o0E7gdrVZulm",
        "outputId": "bdd259fb-b4dd-4f90-a01f-66279979c10f"
      },
      "execution_count": 59,
      "outputs": [
        {
          "output_type": "display_data",
          "data": {
            "text/html": [
              "<html>\n",
              "<head><meta charset=\"utf-8\" /></head>\n",
              "<body>\n",
              "    <div>            <script src=\"https://cdnjs.cloudflare.com/ajax/libs/mathjax/2.7.5/MathJax.js?config=TeX-AMS-MML_SVG\"></script><script type=\"text/javascript\">if (window.MathJax && window.MathJax.Hub && window.MathJax.Hub.Config) {window.MathJax.Hub.Config({SVG: {font: \"STIX-Web\"}});}</script>                <script type=\"text/javascript\">window.PlotlyConfig = {MathJaxConfig: 'local'};</script>\n",
              "        <script charset=\"utf-8\" src=\"https://cdn.plot.ly/plotly-2.24.1.min.js\"></script>                <div id=\"09182629-8ba6-4bdb-8224-f904a614bd53\" class=\"plotly-graph-div\" style=\"height:525px; width:100%;\"></div>            <script type=\"text/javascript\">                                    window.PLOTLYENV=window.PLOTLYENV || {};                                    if (document.getElementById(\"09182629-8ba6-4bdb-8224-f904a614bd53\")) {                    Plotly.newPlot(                        \"09182629-8ba6-4bdb-8224-f904a614bd53\",                        [{\"mode\":\"lines\",\"name\":\"Profit Evolution\",\"opacity\":1,\"x\":[0,1,2,3,4,5,6,7,8,9,10,11,12,13,14,15,16,17,18,19,20,21,22,23,24,25,26,27,28,29,30,31,32,33,34,35,36,37,38,39,40,41,42,43,44,45,46,47,48,49,50,51,52,53,54,55,56,57,58,59,60,61,62,63,64,65,66,67,68,69,70,71,72,73,74,75,76,77,78,79,80,81,82,83,84,85,86,87,88,89,90,91,92,93,94,95,96,97,98],\"y\":[0,0,0,0,0,0,0,0,0,0,0,0,0,0,0,0,0,0,0,0,0,0,0,0,0,0,0,0,0,0,0,0,0,0,0,0,0,0,0,0,0,0,0,0,0,0,0,0,0,0,0,0,0,0,0,0,0,0,0,0,0,0,0,0,0,0,0,0,0,0,0,0,0,0,0,0,0,0,0,0,0,0,0,0,0,0,0,0,0,0,0,0,0,0,0,0,0,0,0],\"type\":\"scatter\",\"xaxis\":\"x\",\"yaxis\":\"y\"},{\"mode\":\"lines\",\"name\":\"Reward\",\"opacity\":0.5,\"x\":[0,1,2,3,4,5,6,7,8,9,10,11,12,13,14,15,16,17,18,19,20,21,22,23,24,25,26,27,28,29,30,31,32,33,34,35,36,37,38,39,40,41,42,43,44,45,46,47,48,49,50,51,52,53,54,55,56,57,58,59,60,61,62,63,64,65,66,67,68,69,70,71,72,73,74,75,76,77,78,79,80,81,82,83,84,85,86,87,88,89,90,91,92,93,94,95,96,97,98],\"y\":[0,0,0,0,0,0,0,0,0,0,0,0,0,0,0,0,0,0,0,0,0,0,0,0,0,0,0,0,0,0,0,0,0,0,0,0,0,0,0,0,0,0,0,0,0,0,0,0,0,0,0,0,0,0,0,0,0,0,0,0,0,0,0,0,0,0,0,0,0,0,0,0,0,0,0,0,0,0,0,0,0,0,0,0,0,0,0,0,0,0,0,0,0,0,0,0,0,0,0],\"type\":\"scatter\",\"xaxis\":\"x\",\"yaxis\":\"y\"},{\"line\":{\"color\":\"black\"},\"mode\":\"lines\",\"name\":\"Dataset\",\"x\":[0,1,2,3,4,5,6,7,8,9,10,11,12,13,14,15,16,17,18,19,20,21,22,23,24,25,26,27,28,29,30,31,32,33,34,35,36,37,38,39,40,41,42,43,44,45,46,47,48,49,50,51,52,53,54,55,56,57,58,59,60,61,62,63,64,65,66,67,68,69,70,71,72,73,74,75,76,77,78,79,80,81,82,83,84,85,86,87,88,89,90,91,92,93,94,95,96,97,98],\"y\":[139.56,139.13,135.94,125.75,135.81,133.31,127.31,130.38,125.19,131.75,125.0,119.44,109.25,113.81,111.87,123.87,126.87,121.12,118.87,120.5,128.31,121.31,126.75,124.06,124.31,117.87,115.06,110.69,113.12,110.12,105.44,99.31,102.81,107.62,101.0,105.69,101.37,100.75,94.0,89.94,85.81,87.69,87.27,86.37,87.56,84.0,89.12,92.56,91.31,92.87,96.56,94.81,95.75,91.19,94.5,90.44,92.37,91.19,96.62,101.25,55.63,53.75,51.69,54.13,51.75,54.44,51.25,52.38,53.31,51.63,51.81,54.44,57.13,56.94,58.88,56.5,57.69,58.31,57.25,52.69,55.13,53.56,48.69,50.06,50.06,52.0,48.31,50.81,49.31,47.25,48.0,47.38,47.94,46.75,47.5,47.56,47.69,47.06,46.69],\"type\":\"scatter\",\"xaxis\":\"x2\",\"yaxis\":\"y2\"},{\"mode\":\"markers\",\"name\":\"stay\",\"opacity\":1.0,\"x\":[1,2,3,4,5,6,7,8,9,10,11,12,13,14,15,16,17,18,19,20,21,22,23,24,25,26,27,28,29,30,31,32,33,34,35,36,37,38,39,40,41,42,43,44,45,46,47,48,49,50,51,52,53,54,55,56,57,58,59,60,61,62,63,64,65,66,67,68,69,70,71,72,73,74,75,76,77,78,79,80,81,82,83,84,85,86,87,88,89,90,91,92,93,94,95,96,97,98],\"y\":[139.13,135.94,125.75,135.81,133.31,127.31,130.38,125.19,131.75,125.0,119.44,109.25,113.81,111.87,123.87,126.87,121.12,118.87,120.5,128.31,121.31,126.75,124.06,124.31,117.87,115.06,110.69,113.12,110.12,105.44,99.31,102.81,107.62,101.0,105.69,101.37,100.75,94.0,89.94,85.81,87.69,87.27,86.37,87.56,84.0,89.12,92.56,91.31,92.87,96.56,94.81,95.75,91.19,94.5,90.44,92.37,91.19,96.62,101.25,55.63,53.75,51.69,54.13,51.75,54.44,51.25,52.38,53.31,51.63,51.81,54.44,57.13,56.94,58.88,56.5,57.69,58.31,57.25,52.69,55.13,53.56,48.69,50.06,50.06,52.0,48.31,50.81,49.31,47.25,48.0,47.38,47.94,46.75,47.5,47.56,47.69,47.06,46.69],\"type\":\"scatter\",\"xaxis\":\"x2\",\"yaxis\":\"y2\"},{\"mode\":\"markers\",\"name\":\"buy\",\"opacity\":1.0,\"x\":[0],\"y\":[139.56],\"type\":\"scatter\",\"xaxis\":\"x2\",\"yaxis\":\"y2\"},{\"mode\":\"markers\",\"name\":\"sell\",\"opacity\":1.0,\"x\":[],\"y\":[],\"type\":\"scatter\",\"xaxis\":\"x2\",\"yaxis\":\"y2\"}],                        {\"template\":{\"data\":{\"histogram2dcontour\":[{\"type\":\"histogram2dcontour\",\"colorbar\":{\"outlinewidth\":0,\"ticks\":\"\"},\"colorscale\":[[0.0,\"#0d0887\"],[0.1111111111111111,\"#46039f\"],[0.2222222222222222,\"#7201a8\"],[0.3333333333333333,\"#9c179e\"],[0.4444444444444444,\"#bd3786\"],[0.5555555555555556,\"#d8576b\"],[0.6666666666666666,\"#ed7953\"],[0.7777777777777778,\"#fb9f3a\"],[0.8888888888888888,\"#fdca26\"],[1.0,\"#f0f921\"]]}],\"choropleth\":[{\"type\":\"choropleth\",\"colorbar\":{\"outlinewidth\":0,\"ticks\":\"\"}}],\"histogram2d\":[{\"type\":\"histogram2d\",\"colorbar\":{\"outlinewidth\":0,\"ticks\":\"\"},\"colorscale\":[[0.0,\"#0d0887\"],[0.1111111111111111,\"#46039f\"],[0.2222222222222222,\"#7201a8\"],[0.3333333333333333,\"#9c179e\"],[0.4444444444444444,\"#bd3786\"],[0.5555555555555556,\"#d8576b\"],[0.6666666666666666,\"#ed7953\"],[0.7777777777777778,\"#fb9f3a\"],[0.8888888888888888,\"#fdca26\"],[1.0,\"#f0f921\"]]}],\"heatmap\":[{\"type\":\"heatmap\",\"colorbar\":{\"outlinewidth\":0,\"ticks\":\"\"},\"colorscale\":[[0.0,\"#0d0887\"],[0.1111111111111111,\"#46039f\"],[0.2222222222222222,\"#7201a8\"],[0.3333333333333333,\"#9c179e\"],[0.4444444444444444,\"#bd3786\"],[0.5555555555555556,\"#d8576b\"],[0.6666666666666666,\"#ed7953\"],[0.7777777777777778,\"#fb9f3a\"],[0.8888888888888888,\"#fdca26\"],[1.0,\"#f0f921\"]]}],\"heatmapgl\":[{\"type\":\"heatmapgl\",\"colorbar\":{\"outlinewidth\":0,\"ticks\":\"\"},\"colorscale\":[[0.0,\"#0d0887\"],[0.1111111111111111,\"#46039f\"],[0.2222222222222222,\"#7201a8\"],[0.3333333333333333,\"#9c179e\"],[0.4444444444444444,\"#bd3786\"],[0.5555555555555556,\"#d8576b\"],[0.6666666666666666,\"#ed7953\"],[0.7777777777777778,\"#fb9f3a\"],[0.8888888888888888,\"#fdca26\"],[1.0,\"#f0f921\"]]}],\"contourcarpet\":[{\"type\":\"contourcarpet\",\"colorbar\":{\"outlinewidth\":0,\"ticks\":\"\"}}],\"contour\":[{\"type\":\"contour\",\"colorbar\":{\"outlinewidth\":0,\"ticks\":\"\"},\"colorscale\":[[0.0,\"#0d0887\"],[0.1111111111111111,\"#46039f\"],[0.2222222222222222,\"#7201a8\"],[0.3333333333333333,\"#9c179e\"],[0.4444444444444444,\"#bd3786\"],[0.5555555555555556,\"#d8576b\"],[0.6666666666666666,\"#ed7953\"],[0.7777777777777778,\"#fb9f3a\"],[0.8888888888888888,\"#fdca26\"],[1.0,\"#f0f921\"]]}],\"surface\":[{\"type\":\"surface\",\"colorbar\":{\"outlinewidth\":0,\"ticks\":\"\"},\"colorscale\":[[0.0,\"#0d0887\"],[0.1111111111111111,\"#46039f\"],[0.2222222222222222,\"#7201a8\"],[0.3333333333333333,\"#9c179e\"],[0.4444444444444444,\"#bd3786\"],[0.5555555555555556,\"#d8576b\"],[0.6666666666666666,\"#ed7953\"],[0.7777777777777778,\"#fb9f3a\"],[0.8888888888888888,\"#fdca26\"],[1.0,\"#f0f921\"]]}],\"mesh3d\":[{\"type\":\"mesh3d\",\"colorbar\":{\"outlinewidth\":0,\"ticks\":\"\"}}],\"scatter\":[{\"fillpattern\":{\"fillmode\":\"overlay\",\"size\":10,\"solidity\":0.2},\"type\":\"scatter\"}],\"parcoords\":[{\"type\":\"parcoords\",\"line\":{\"colorbar\":{\"outlinewidth\":0,\"ticks\":\"\"}}}],\"scatterpolargl\":[{\"type\":\"scatterpolargl\",\"marker\":{\"colorbar\":{\"outlinewidth\":0,\"ticks\":\"\"}}}],\"bar\":[{\"error_x\":{\"color\":\"#2a3f5f\"},\"error_y\":{\"color\":\"#2a3f5f\"},\"marker\":{\"line\":{\"color\":\"#E5ECF6\",\"width\":0.5},\"pattern\":{\"fillmode\":\"overlay\",\"size\":10,\"solidity\":0.2}},\"type\":\"bar\"}],\"scattergeo\":[{\"type\":\"scattergeo\",\"marker\":{\"colorbar\":{\"outlinewidth\":0,\"ticks\":\"\"}}}],\"scatterpolar\":[{\"type\":\"scatterpolar\",\"marker\":{\"colorbar\":{\"outlinewidth\":0,\"ticks\":\"\"}}}],\"histogram\":[{\"marker\":{\"pattern\":{\"fillmode\":\"overlay\",\"size\":10,\"solidity\":0.2}},\"type\":\"histogram\"}],\"scattergl\":[{\"type\":\"scattergl\",\"marker\":{\"colorbar\":{\"outlinewidth\":0,\"ticks\":\"\"}}}],\"scatter3d\":[{\"type\":\"scatter3d\",\"line\":{\"colorbar\":{\"outlinewidth\":0,\"ticks\":\"\"}},\"marker\":{\"colorbar\":{\"outlinewidth\":0,\"ticks\":\"\"}}}],\"scattermapbox\":[{\"type\":\"scattermapbox\",\"marker\":{\"colorbar\":{\"outlinewidth\":0,\"ticks\":\"\"}}}],\"scatterternary\":[{\"type\":\"scatterternary\",\"marker\":{\"colorbar\":{\"outlinewidth\":0,\"ticks\":\"\"}}}],\"scattercarpet\":[{\"type\":\"scattercarpet\",\"marker\":{\"colorbar\":{\"outlinewidth\":0,\"ticks\":\"\"}}}],\"carpet\":[{\"aaxis\":{\"endlinecolor\":\"#2a3f5f\",\"gridcolor\":\"white\",\"linecolor\":\"white\",\"minorgridcolor\":\"white\",\"startlinecolor\":\"#2a3f5f\"},\"baxis\":{\"endlinecolor\":\"#2a3f5f\",\"gridcolor\":\"white\",\"linecolor\":\"white\",\"minorgridcolor\":\"white\",\"startlinecolor\":\"#2a3f5f\"},\"type\":\"carpet\"}],\"table\":[{\"cells\":{\"fill\":{\"color\":\"#EBF0F8\"},\"line\":{\"color\":\"white\"}},\"header\":{\"fill\":{\"color\":\"#C8D4E3\"},\"line\":{\"color\":\"white\"}},\"type\":\"table\"}],\"barpolar\":[{\"marker\":{\"line\":{\"color\":\"#E5ECF6\",\"width\":0.5},\"pattern\":{\"fillmode\":\"overlay\",\"size\":10,\"solidity\":0.2}},\"type\":\"barpolar\"}],\"pie\":[{\"automargin\":true,\"type\":\"pie\"}]},\"layout\":{\"autotypenumbers\":\"strict\",\"colorway\":[\"#636efa\",\"#EF553B\",\"#00cc96\",\"#ab63fa\",\"#FFA15A\",\"#19d3f3\",\"#FF6692\",\"#B6E880\",\"#FF97FF\",\"#FECB52\"],\"font\":{\"color\":\"#2a3f5f\"},\"hovermode\":\"closest\",\"hoverlabel\":{\"align\":\"left\"},\"paper_bgcolor\":\"white\",\"plot_bgcolor\":\"#E5ECF6\",\"polar\":{\"bgcolor\":\"#E5ECF6\",\"angularaxis\":{\"gridcolor\":\"white\",\"linecolor\":\"white\",\"ticks\":\"\"},\"radialaxis\":{\"gridcolor\":\"white\",\"linecolor\":\"white\",\"ticks\":\"\"}},\"ternary\":{\"bgcolor\":\"#E5ECF6\",\"aaxis\":{\"gridcolor\":\"white\",\"linecolor\":\"white\",\"ticks\":\"\"},\"baxis\":{\"gridcolor\":\"white\",\"linecolor\":\"white\",\"ticks\":\"\"},\"caxis\":{\"gridcolor\":\"white\",\"linecolor\":\"white\",\"ticks\":\"\"}},\"coloraxis\":{\"colorbar\":{\"outlinewidth\":0,\"ticks\":\"\"}},\"colorscale\":{\"sequential\":[[0.0,\"#0d0887\"],[0.1111111111111111,\"#46039f\"],[0.2222222222222222,\"#7201a8\"],[0.3333333333333333,\"#9c179e\"],[0.4444444444444444,\"#bd3786\"],[0.5555555555555556,\"#d8576b\"],[0.6666666666666666,\"#ed7953\"],[0.7777777777777778,\"#fb9f3a\"],[0.8888888888888888,\"#fdca26\"],[1.0,\"#f0f921\"]],\"sequentialminus\":[[0.0,\"#0d0887\"],[0.1111111111111111,\"#46039f\"],[0.2222222222222222,\"#7201a8\"],[0.3333333333333333,\"#9c179e\"],[0.4444444444444444,\"#bd3786\"],[0.5555555555555556,\"#d8576b\"],[0.6666666666666666,\"#ed7953\"],[0.7777777777777778,\"#fb9f3a\"],[0.8888888888888888,\"#fdca26\"],[1.0,\"#f0f921\"]],\"diverging\":[[0,\"#8e0152\"],[0.1,\"#c51b7d\"],[0.2,\"#de77ae\"],[0.3,\"#f1b6da\"],[0.4,\"#fde0ef\"],[0.5,\"#f7f7f7\"],[0.6,\"#e6f5d0\"],[0.7,\"#b8e186\"],[0.8,\"#7fbc41\"],[0.9,\"#4d9221\"],[1,\"#276419\"]]},\"xaxis\":{\"gridcolor\":\"white\",\"linecolor\":\"white\",\"ticks\":\"\",\"title\":{\"standoff\":15},\"zerolinecolor\":\"white\",\"automargin\":true,\"zerolinewidth\":2},\"yaxis\":{\"gridcolor\":\"white\",\"linecolor\":\"white\",\"ticks\":\"\",\"title\":{\"standoff\":15},\"zerolinecolor\":\"white\",\"automargin\":true,\"zerolinewidth\":2},\"scene\":{\"xaxis\":{\"backgroundcolor\":\"#E5ECF6\",\"gridcolor\":\"white\",\"linecolor\":\"white\",\"showbackground\":true,\"ticks\":\"\",\"zerolinecolor\":\"white\",\"gridwidth\":2},\"yaxis\":{\"backgroundcolor\":\"#E5ECF6\",\"gridcolor\":\"white\",\"linecolor\":\"white\",\"showbackground\":true,\"ticks\":\"\",\"zerolinecolor\":\"white\",\"gridwidth\":2},\"zaxis\":{\"backgroundcolor\":\"#E5ECF6\",\"gridcolor\":\"white\",\"linecolor\":\"white\",\"showbackground\":true,\"ticks\":\"\",\"zerolinecolor\":\"white\",\"gridwidth\":2}},\"shapedefaults\":{\"line\":{\"color\":\"#2a3f5f\"}},\"annotationdefaults\":{\"arrowcolor\":\"#2a3f5f\",\"arrowhead\":0,\"arrowwidth\":1},\"geo\":{\"bgcolor\":\"white\",\"landcolor\":\"#E5ECF6\",\"subunitcolor\":\"white\",\"showland\":true,\"showlakes\":true,\"lakecolor\":\"white\"},\"title\":{\"x\":0.05},\"mapbox\":{\"style\":\"light\"}}},\"xaxis\":{\"anchor\":\"y\",\"domain\":[0.0,1.0],\"matches\":\"x2\",\"showticklabels\":false,\"title\":{\"text\":\"Step\"}},\"yaxis\":{\"anchor\":\"x\",\"domain\":[0.575,1.0]},\"xaxis2\":{\"anchor\":\"y2\",\"domain\":[0.0,1.0],\"title\":{\"text\":\"Step\"}},\"yaxis2\":{\"anchor\":\"x2\",\"domain\":[0.0,0.425]}},                        {\"responsive\": true}                    ).then(function(){\n",
              "                            \n",
              "var gd = document.getElementById('09182629-8ba6-4bdb-8224-f904a614bd53');\n",
              "var x = new MutationObserver(function (mutations, observer) {{\n",
              "        var display = window.getComputedStyle(gd).display;\n",
              "        if (!display || display === 'none') {{\n",
              "            console.log([gd, 'removed!']);\n",
              "            Plotly.purge(gd);\n",
              "            observer.disconnect();\n",
              "        }}\n",
              "}});\n",
              "\n",
              "// Listen for the removal of the full notebook cells\n",
              "var notebookContainer = gd.closest('#notebook-container');\n",
              "if (notebookContainer) {{\n",
              "    x.observe(notebookContainer, {childList: true});\n",
              "}}\n",
              "\n",
              "// Listen for the clearing of the current output cell\n",
              "var outputEl = gd.closest('.output');\n",
              "if (outputEl) {{\n",
              "    x.observe(outputEl, {childList: true});\n",
              "}}\n",
              "\n",
              "                        })                };                            </script>        </div>\n",
              "</body>\n",
              "</html>"
            ]
          },
          "metadata": {}
        }
      ]
    },
    {
      "cell_type": "code",
      "source": [
        "pev, rev, history = test_model(agent=dql_agent, env=entorno, epsilon=None)"
      ],
      "metadata": {
        "id": "xmcrVn97tFRD"
      },
      "execution_count": 50,
      "outputs": []
    },
    {
      "cell_type": "code",
      "source": [
        "x_list = np.arange(len(pev))\n",
        "\n",
        "fig1 = make_subplots(rows=2, cols=1, shared_xaxes=True)\n",
        "\n",
        "fig1.add_trace(go.Scatter(x=x_list, y=pev, mode='lines', name=\"Profit Evolution\",\n",
        "                          opacity=1), row=1, col=1)\n",
        "fig1.add_trace(go.Scatter(x=x_list, y=rev, mode='lines', name=\"Reward\",\n",
        "                          opacity=0.5), row=1, col=1)\n",
        "\n",
        "\n",
        "data_array = np.array([his[0] for his in history])\n",
        "action_list = np.array([his[1] for his in history])\n",
        "\n",
        "stay_indices = action_list == 'Stay'\n",
        "buy_indices = action_list == 'Buy'\n",
        "sell_indices = action_list == 'Sell'\n",
        "\n",
        "fig1.add_trace(go.Scatter(x=x_list, y=data_array, name=\"Dataset\", mode=\"lines\",\n",
        "                          line=dict(color=\"black\")), row=2, col=1)\n",
        "fig1.add_trace(go.Scatter(x=x_list[stay_indices], y=data_array[stay_indices],\n",
        "                          mode='markers', name=\"stay\", opacity=1.0), row=2, col=1)\n",
        "fig1.add_trace(go.Scatter(x=x_list[buy_indices], y=data_array[buy_indices],\n",
        "                          mode='markers', name=\"buy\", opacity=1.0), row=2, col=1)\n",
        "fig1.add_trace(go.Scatter(x=x_list[sell_indices], y=data_array[sell_indices],\n",
        "                          mode='markers', name=\"sell\", opacity=1.0), row=2, col=1)\n",
        "\n",
        "fig1.update_xaxes(title_text=\"Step\")\n",
        "fig1.show()\n",
        "\n"
      ],
      "metadata": {
        "colab": {
          "base_uri": "https://localhost:8080/",
          "height": 542
        },
        "id": "XHsOM03ptQAd",
        "outputId": "dc466660-e986-426e-83eb-d0545beac8ef"
      },
      "execution_count": 33,
      "outputs": [
        {
          "output_type": "display_data",
          "data": {
            "text/html": [
              "<html>\n",
              "<head><meta charset=\"utf-8\" /></head>\n",
              "<body>\n",
              "    <div>            <script src=\"https://cdnjs.cloudflare.com/ajax/libs/mathjax/2.7.5/MathJax.js?config=TeX-AMS-MML_SVG\"></script><script type=\"text/javascript\">if (window.MathJax && window.MathJax.Hub && window.MathJax.Hub.Config) {window.MathJax.Hub.Config({SVG: {font: \"STIX-Web\"}});}</script>                <script type=\"text/javascript\">window.PlotlyConfig = {MathJaxConfig: 'local'};</script>\n",
              "        <script charset=\"utf-8\" src=\"https://cdn.plot.ly/plotly-2.24.1.min.js\"></script>                <div id=\"1df2eca5-b61b-4d32-ba71-2a1e447fffd9\" class=\"plotly-graph-div\" style=\"height:525px; width:100%;\"></div>            <script type=\"text/javascript\">                                    window.PLOTLYENV=window.PLOTLYENV || {};                                    if (document.getElementById(\"1df2eca5-b61b-4d32-ba71-2a1e447fffd9\")) {                    Plotly.newPlot(                        \"1df2eca5-b61b-4d32-ba71-2a1e447fffd9\",                        [{\"mode\":\"lines\",\"name\":\"Profit Evolution\",\"opacity\":1,\"x\":[0,1,2,3,4,5,6,7,8,9,10,11,12,13,14,15,16,17,18,19,20,21,22,23,24,25,26,27,28,29,30,31,32,33,34,35,36,37,38,39,40,41,42,43,44,45,46,47,48,49,50,51,52,53,54,55,56,57,58,59,60,61,62,63,64,65,66,67,68,69,70,71,72,73,74,75,76,77,78,79,80,81,82,83,84,85,86,87,88,89,90,91,92,93,94,95,96,97,98],\"y\":[0,0.8700000000000045,0.8700000000000045,0.8700000000000045,0.8700000000000045,0.8700000000000045,0.8700000000000045,0.8700000000000045,0.8700000000000045,0.8700000000000045,0.8700000000000045,0.8700000000000045,0.8700000000000045,0.8700000000000045,0.8700000000000045,0.8700000000000045,0.8700000000000045,0.8700000000000045,0.8700000000000045,0.8700000000000045,0.8700000000000045,0.8700000000000045,0.8700000000000045,0.8700000000000045,0.8700000000000045,0.8700000000000045,0.8700000000000045,0.8700000000000045,0.8700000000000045,0.8700000000000045,0.8700000000000045,0.8700000000000045,0.8700000000000045,0.8700000000000045,5.680000000000007,5.680000000000007,5.680000000000007,5.680000000000007,5.680000000000007,5.680000000000007,5.680000000000007,5.680000000000007,5.680000000000007,5.680000000000007,5.680000000000007,5.680000000000007,5.680000000000007,5.680000000000007,5.680000000000007,5.680000000000007,5.680000000000007,5.680000000000007,5.680000000000007,5.680000000000007,5.680000000000007,5.680000000000007,5.680000000000007,5.680000000000007,5.680000000000007,5.680000000000007,5.680000000000007,5.680000000000007,5.680000000000007,5.680000000000007,5.680000000000007,5.680000000000007,5.680000000000007,5.680000000000007,5.680000000000007,5.680000000000007,5.680000000000007,5.680000000000007,5.680000000000007,5.680000000000007,5.680000000000007,5.680000000000007,5.680000000000007,5.680000000000007,5.680000000000007,5.680000000000007,5.680000000000007,5.680000000000007,5.680000000000007,5.680000000000007,5.680000000000007,5.680000000000007,5.680000000000007,5.680000000000007,5.680000000000007,5.680000000000007,5.680000000000007,5.680000000000007,5.680000000000007,5.680000000000007,5.680000000000007,5.680000000000007,5.680000000000007,5.680000000000007,5.680000000000007],\"type\":\"scatter\",\"xaxis\":\"x\",\"yaxis\":\"y\"},{\"mode\":\"lines\",\"name\":\"Reward\",\"opacity\":0.5,\"x\":[0,1,2,3,4,5,6,7,8,9,10,11,12,13,14,15,16,17,18,19,20,21,22,23,24,25,26,27,28,29,30,31,32,33,34,35,36,37,38,39,40,41,42,43,44,45,46,47,48,49,50,51,52,53,54,55,56,57,58,59,60,61,62,63,64,65,66,67,68,69,70,71,72,73,74,75,76,77,78,79,80,81,82,83,84,85,86,87,88,89,90,91,92,93,94,95,96,97,98],\"y\":[0,0.8700000000000045,0,0,0,0,0,0,0,0,0,0,0,0,0,0,0,0,0,0,0,0,0,0,0,0,0,0,0,0,0,0,0,0,4.810000000000002,0,0,0,0,0,0,0,0,0,0,0,0,0,0,0,0,0,0,0,0,0,0,0,0,0,0,0,0,0,0,0,0,0,0,0,0,0,0,0,0,0,0,0,0,0,0,0,0,0,0,0,0,0,0,0,0,0,0,0,0,0,0,0,0],\"type\":\"scatter\",\"xaxis\":\"x\",\"yaxis\":\"y\"},{\"line\":{\"color\":\"black\"},\"mode\":\"lines\",\"name\":\"Dataset\",\"x\":[0,1,2,3,4,5,6,7,8,9,10,11,12,13,14,15,16,17,18,19,20,21,22,23,24,25,26,27,28,29,30,31,32,33,34,35,36,37,38,39,40,41,42,43,44,45,46,47,48,49,50,51,52,53,54,55,56,57,58,59,60,61,62,63,64,65,66,67,68,69,70,71,72,73,74,75,76,77,78,79,80,81,82,83,84,85,86,87,88,89,90,91,92,93,94,95,96,97,98],\"y\":[139.56,139.13,135.94,125.75,135.81,133.31,127.31,130.38,125.19,131.75,125.0,119.44,109.25,113.81,111.87,123.87,126.87,121.12,118.87,120.5,128.31,121.31,126.75,124.06,124.31,117.87,115.06,110.69,113.12,110.12,105.44,99.31,102.81,107.62,101.0,105.69,101.37,100.75,94.0,89.94,85.81,87.69,87.27,86.37,87.56,84.0,89.12,92.56,91.31,92.87,96.56,94.81,95.75,91.19,94.5,90.44,92.37,91.19,96.62,101.25,55.63,53.75,51.69,54.13,51.75,54.44,51.25,52.38,53.31,51.63,51.81,54.44,57.13,56.94,58.88,56.5,57.69,58.31,57.25,52.69,55.13,53.56,48.69,50.06,50.06,52.0,48.31,50.81,49.31,47.25,48.0,47.38,47.94,46.75,47.5,47.56,47.69,47.06,46.69],\"type\":\"scatter\",\"xaxis\":\"x2\",\"yaxis\":\"y2\"},{\"mode\":\"markers\",\"name\":\"stay\",\"opacity\":1.0,\"x\":[2,3,4,6,7,8,9,10,11,12,13,15,16,17,18,19,22,23,24,25,27,28,30,31,32,35,36,37,38,40,41,43,44,45,46,49,50,52,53,54,55,56,57,58,59,60,61,62,63,65,66,67,68,70,71,73,74,75,76,77,79,80,82,83,85,86,87,88,89,90,93,94,95,96,97,98],\"y\":[135.94,125.75,135.81,127.31,130.38,125.19,131.75,125.0,119.44,109.25,113.81,123.87,126.87,121.12,118.87,120.5,126.75,124.06,124.31,117.87,110.69,113.12,105.44,99.31,102.81,105.69,101.37,100.75,94.0,85.81,87.69,86.37,87.56,84.0,89.12,92.87,96.56,95.75,91.19,94.5,90.44,92.37,91.19,96.62,101.25,55.63,53.75,51.69,54.13,54.44,51.25,52.38,53.31,51.81,54.44,56.94,58.88,56.5,57.69,58.31,52.69,55.13,48.69,50.06,52.0,48.31,50.81,49.31,47.25,48.0,46.75,47.5,47.56,47.69,47.06,46.69],\"type\":\"scatter\",\"xaxis\":\"x2\",\"yaxis\":\"y2\"},{\"mode\":\"markers\",\"name\":\"buy\",\"opacity\":1.0,\"x\":[0,33],\"y\":[139.56,107.62],\"type\":\"scatter\",\"xaxis\":\"x2\",\"yaxis\":\"y2\"},{\"mode\":\"markers\",\"name\":\"sell\",\"opacity\":1.0,\"x\":[1,5,14,20,21,26,29,34,39,42,47,48,51,64,69,72,78,81,84,91,92],\"y\":[139.13,133.31,111.87,128.31,121.31,115.06,110.12,101.0,89.94,87.27,92.56,91.31,94.81,51.75,51.63,57.13,57.25,53.56,50.06,47.38,47.94],\"type\":\"scatter\",\"xaxis\":\"x2\",\"yaxis\":\"y2\"}],                        {\"template\":{\"data\":{\"histogram2dcontour\":[{\"type\":\"histogram2dcontour\",\"colorbar\":{\"outlinewidth\":0,\"ticks\":\"\"},\"colorscale\":[[0.0,\"#0d0887\"],[0.1111111111111111,\"#46039f\"],[0.2222222222222222,\"#7201a8\"],[0.3333333333333333,\"#9c179e\"],[0.4444444444444444,\"#bd3786\"],[0.5555555555555556,\"#d8576b\"],[0.6666666666666666,\"#ed7953\"],[0.7777777777777778,\"#fb9f3a\"],[0.8888888888888888,\"#fdca26\"],[1.0,\"#f0f921\"]]}],\"choropleth\":[{\"type\":\"choropleth\",\"colorbar\":{\"outlinewidth\":0,\"ticks\":\"\"}}],\"histogram2d\":[{\"type\":\"histogram2d\",\"colorbar\":{\"outlinewidth\":0,\"ticks\":\"\"},\"colorscale\":[[0.0,\"#0d0887\"],[0.1111111111111111,\"#46039f\"],[0.2222222222222222,\"#7201a8\"],[0.3333333333333333,\"#9c179e\"],[0.4444444444444444,\"#bd3786\"],[0.5555555555555556,\"#d8576b\"],[0.6666666666666666,\"#ed7953\"],[0.7777777777777778,\"#fb9f3a\"],[0.8888888888888888,\"#fdca26\"],[1.0,\"#f0f921\"]]}],\"heatmap\":[{\"type\":\"heatmap\",\"colorbar\":{\"outlinewidth\":0,\"ticks\":\"\"},\"colorscale\":[[0.0,\"#0d0887\"],[0.1111111111111111,\"#46039f\"],[0.2222222222222222,\"#7201a8\"],[0.3333333333333333,\"#9c179e\"],[0.4444444444444444,\"#bd3786\"],[0.5555555555555556,\"#d8576b\"],[0.6666666666666666,\"#ed7953\"],[0.7777777777777778,\"#fb9f3a\"],[0.8888888888888888,\"#fdca26\"],[1.0,\"#f0f921\"]]}],\"heatmapgl\":[{\"type\":\"heatmapgl\",\"colorbar\":{\"outlinewidth\":0,\"ticks\":\"\"},\"colorscale\":[[0.0,\"#0d0887\"],[0.1111111111111111,\"#46039f\"],[0.2222222222222222,\"#7201a8\"],[0.3333333333333333,\"#9c179e\"],[0.4444444444444444,\"#bd3786\"],[0.5555555555555556,\"#d8576b\"],[0.6666666666666666,\"#ed7953\"],[0.7777777777777778,\"#fb9f3a\"],[0.8888888888888888,\"#fdca26\"],[1.0,\"#f0f921\"]]}],\"contourcarpet\":[{\"type\":\"contourcarpet\",\"colorbar\":{\"outlinewidth\":0,\"ticks\":\"\"}}],\"contour\":[{\"type\":\"contour\",\"colorbar\":{\"outlinewidth\":0,\"ticks\":\"\"},\"colorscale\":[[0.0,\"#0d0887\"],[0.1111111111111111,\"#46039f\"],[0.2222222222222222,\"#7201a8\"],[0.3333333333333333,\"#9c179e\"],[0.4444444444444444,\"#bd3786\"],[0.5555555555555556,\"#d8576b\"],[0.6666666666666666,\"#ed7953\"],[0.7777777777777778,\"#fb9f3a\"],[0.8888888888888888,\"#fdca26\"],[1.0,\"#f0f921\"]]}],\"surface\":[{\"type\":\"surface\",\"colorbar\":{\"outlinewidth\":0,\"ticks\":\"\"},\"colorscale\":[[0.0,\"#0d0887\"],[0.1111111111111111,\"#46039f\"],[0.2222222222222222,\"#7201a8\"],[0.3333333333333333,\"#9c179e\"],[0.4444444444444444,\"#bd3786\"],[0.5555555555555556,\"#d8576b\"],[0.6666666666666666,\"#ed7953\"],[0.7777777777777778,\"#fb9f3a\"],[0.8888888888888888,\"#fdca26\"],[1.0,\"#f0f921\"]]}],\"mesh3d\":[{\"type\":\"mesh3d\",\"colorbar\":{\"outlinewidth\":0,\"ticks\":\"\"}}],\"scatter\":[{\"fillpattern\":{\"fillmode\":\"overlay\",\"size\":10,\"solidity\":0.2},\"type\":\"scatter\"}],\"parcoords\":[{\"type\":\"parcoords\",\"line\":{\"colorbar\":{\"outlinewidth\":0,\"ticks\":\"\"}}}],\"scatterpolargl\":[{\"type\":\"scatterpolargl\",\"marker\":{\"colorbar\":{\"outlinewidth\":0,\"ticks\":\"\"}}}],\"bar\":[{\"error_x\":{\"color\":\"#2a3f5f\"},\"error_y\":{\"color\":\"#2a3f5f\"},\"marker\":{\"line\":{\"color\":\"#E5ECF6\",\"width\":0.5},\"pattern\":{\"fillmode\":\"overlay\",\"size\":10,\"solidity\":0.2}},\"type\":\"bar\"}],\"scattergeo\":[{\"type\":\"scattergeo\",\"marker\":{\"colorbar\":{\"outlinewidth\":0,\"ticks\":\"\"}}}],\"scatterpolar\":[{\"type\":\"scatterpolar\",\"marker\":{\"colorbar\":{\"outlinewidth\":0,\"ticks\":\"\"}}}],\"histogram\":[{\"marker\":{\"pattern\":{\"fillmode\":\"overlay\",\"size\":10,\"solidity\":0.2}},\"type\":\"histogram\"}],\"scattergl\":[{\"type\":\"scattergl\",\"marker\":{\"colorbar\":{\"outlinewidth\":0,\"ticks\":\"\"}}}],\"scatter3d\":[{\"type\":\"scatter3d\",\"line\":{\"colorbar\":{\"outlinewidth\":0,\"ticks\":\"\"}},\"marker\":{\"colorbar\":{\"outlinewidth\":0,\"ticks\":\"\"}}}],\"scattermapbox\":[{\"type\":\"scattermapbox\",\"marker\":{\"colorbar\":{\"outlinewidth\":0,\"ticks\":\"\"}}}],\"scatterternary\":[{\"type\":\"scatterternary\",\"marker\":{\"colorbar\":{\"outlinewidth\":0,\"ticks\":\"\"}}}],\"scattercarpet\":[{\"type\":\"scattercarpet\",\"marker\":{\"colorbar\":{\"outlinewidth\":0,\"ticks\":\"\"}}}],\"carpet\":[{\"aaxis\":{\"endlinecolor\":\"#2a3f5f\",\"gridcolor\":\"white\",\"linecolor\":\"white\",\"minorgridcolor\":\"white\",\"startlinecolor\":\"#2a3f5f\"},\"baxis\":{\"endlinecolor\":\"#2a3f5f\",\"gridcolor\":\"white\",\"linecolor\":\"white\",\"minorgridcolor\":\"white\",\"startlinecolor\":\"#2a3f5f\"},\"type\":\"carpet\"}],\"table\":[{\"cells\":{\"fill\":{\"color\":\"#EBF0F8\"},\"line\":{\"color\":\"white\"}},\"header\":{\"fill\":{\"color\":\"#C8D4E3\"},\"line\":{\"color\":\"white\"}},\"type\":\"table\"}],\"barpolar\":[{\"marker\":{\"line\":{\"color\":\"#E5ECF6\",\"width\":0.5},\"pattern\":{\"fillmode\":\"overlay\",\"size\":10,\"solidity\":0.2}},\"type\":\"barpolar\"}],\"pie\":[{\"automargin\":true,\"type\":\"pie\"}]},\"layout\":{\"autotypenumbers\":\"strict\",\"colorway\":[\"#636efa\",\"#EF553B\",\"#00cc96\",\"#ab63fa\",\"#FFA15A\",\"#19d3f3\",\"#FF6692\",\"#B6E880\",\"#FF97FF\",\"#FECB52\"],\"font\":{\"color\":\"#2a3f5f\"},\"hovermode\":\"closest\",\"hoverlabel\":{\"align\":\"left\"},\"paper_bgcolor\":\"white\",\"plot_bgcolor\":\"#E5ECF6\",\"polar\":{\"bgcolor\":\"#E5ECF6\",\"angularaxis\":{\"gridcolor\":\"white\",\"linecolor\":\"white\",\"ticks\":\"\"},\"radialaxis\":{\"gridcolor\":\"white\",\"linecolor\":\"white\",\"ticks\":\"\"}},\"ternary\":{\"bgcolor\":\"#E5ECF6\",\"aaxis\":{\"gridcolor\":\"white\",\"linecolor\":\"white\",\"ticks\":\"\"},\"baxis\":{\"gridcolor\":\"white\",\"linecolor\":\"white\",\"ticks\":\"\"},\"caxis\":{\"gridcolor\":\"white\",\"linecolor\":\"white\",\"ticks\":\"\"}},\"coloraxis\":{\"colorbar\":{\"outlinewidth\":0,\"ticks\":\"\"}},\"colorscale\":{\"sequential\":[[0.0,\"#0d0887\"],[0.1111111111111111,\"#46039f\"],[0.2222222222222222,\"#7201a8\"],[0.3333333333333333,\"#9c179e\"],[0.4444444444444444,\"#bd3786\"],[0.5555555555555556,\"#d8576b\"],[0.6666666666666666,\"#ed7953\"],[0.7777777777777778,\"#fb9f3a\"],[0.8888888888888888,\"#fdca26\"],[1.0,\"#f0f921\"]],\"sequentialminus\":[[0.0,\"#0d0887\"],[0.1111111111111111,\"#46039f\"],[0.2222222222222222,\"#7201a8\"],[0.3333333333333333,\"#9c179e\"],[0.4444444444444444,\"#bd3786\"],[0.5555555555555556,\"#d8576b\"],[0.6666666666666666,\"#ed7953\"],[0.7777777777777778,\"#fb9f3a\"],[0.8888888888888888,\"#fdca26\"],[1.0,\"#f0f921\"]],\"diverging\":[[0,\"#8e0152\"],[0.1,\"#c51b7d\"],[0.2,\"#de77ae\"],[0.3,\"#f1b6da\"],[0.4,\"#fde0ef\"],[0.5,\"#f7f7f7\"],[0.6,\"#e6f5d0\"],[0.7,\"#b8e186\"],[0.8,\"#7fbc41\"],[0.9,\"#4d9221\"],[1,\"#276419\"]]},\"xaxis\":{\"gridcolor\":\"white\",\"linecolor\":\"white\",\"ticks\":\"\",\"title\":{\"standoff\":15},\"zerolinecolor\":\"white\",\"automargin\":true,\"zerolinewidth\":2},\"yaxis\":{\"gridcolor\":\"white\",\"linecolor\":\"white\",\"ticks\":\"\",\"title\":{\"standoff\":15},\"zerolinecolor\":\"white\",\"automargin\":true,\"zerolinewidth\":2},\"scene\":{\"xaxis\":{\"backgroundcolor\":\"#E5ECF6\",\"gridcolor\":\"white\",\"linecolor\":\"white\",\"showbackground\":true,\"ticks\":\"\",\"zerolinecolor\":\"white\",\"gridwidth\":2},\"yaxis\":{\"backgroundcolor\":\"#E5ECF6\",\"gridcolor\":\"white\",\"linecolor\":\"white\",\"showbackground\":true,\"ticks\":\"\",\"zerolinecolor\":\"white\",\"gridwidth\":2},\"zaxis\":{\"backgroundcolor\":\"#E5ECF6\",\"gridcolor\":\"white\",\"linecolor\":\"white\",\"showbackground\":true,\"ticks\":\"\",\"zerolinecolor\":\"white\",\"gridwidth\":2}},\"shapedefaults\":{\"line\":{\"color\":\"#2a3f5f\"}},\"annotationdefaults\":{\"arrowcolor\":\"#2a3f5f\",\"arrowhead\":0,\"arrowwidth\":1},\"geo\":{\"bgcolor\":\"white\",\"landcolor\":\"#E5ECF6\",\"subunitcolor\":\"white\",\"showland\":true,\"showlakes\":true,\"lakecolor\":\"white\"},\"title\":{\"x\":0.05},\"mapbox\":{\"style\":\"light\"}}},\"xaxis\":{\"anchor\":\"y\",\"domain\":[0.0,1.0],\"matches\":\"x2\",\"showticklabels\":false,\"title\":{\"text\":\"Step\"}},\"yaxis\":{\"anchor\":\"x\",\"domain\":[0.575,1.0]},\"xaxis2\":{\"anchor\":\"y2\",\"domain\":[0.0,1.0],\"title\":{\"text\":\"Step\"}},\"yaxis2\":{\"anchor\":\"x2\",\"domain\":[0.0,0.425]}},                        {\"responsive\": true}                    ).then(function(){\n",
              "                            \n",
              "var gd = document.getElementById('1df2eca5-b61b-4d32-ba71-2a1e447fffd9');\n",
              "var x = new MutationObserver(function (mutations, observer) {{\n",
              "        var display = window.getComputedStyle(gd).display;\n",
              "        if (!display || display === 'none') {{\n",
              "            console.log([gd, 'removed!']);\n",
              "            Plotly.purge(gd);\n",
              "            observer.disconnect();\n",
              "        }}\n",
              "}});\n",
              "\n",
              "// Listen for the removal of the full notebook cells\n",
              "var notebookContainer = gd.closest('#notebook-container');\n",
              "if (notebookContainer) {{\n",
              "    x.observe(notebookContainer, {childList: true});\n",
              "}}\n",
              "\n",
              "// Listen for the clearing of the current output cell\n",
              "var outputEl = gd.closest('.output');\n",
              "if (outputEl) {{\n",
              "    x.observe(outputEl, {childList: true});\n",
              "}}\n",
              "\n",
              "                        })                };                            </script>        </div>\n",
              "</body>\n",
              "</html>"
            ]
          },
          "metadata": {}
        }
      ]
    },
    {
      "cell_type": "code",
      "source": [
        "x_list = np.arange(len(pev))\n",
        "\n",
        "fig1 = make_subplots(rows=2, cols=1, shared_xaxes=True)\n",
        "\n",
        "fig1.add_trace(go.Scatter(x=x_list, y=pev, mode='lines', name=\"Profit Evolution\",\n",
        "                          opacity=1), row=1, col=1)\n",
        "fig1.add_trace(go.Scatter(x=x_list, y=rev, mode='lines', name=\"Reward\",\n",
        "                          opacity=0.5), row=1, col=1)\n",
        "\n",
        "\n",
        "data_array = np.array([his[0] for his in history])\n",
        "action_list = np.array([his[1] for his in history])\n",
        "\n",
        "stay_indices = action_list == 'Stay'\n",
        "buy_indices = action_list == 'Buy'\n",
        "sell_indices = action_list == 'Sell'\n",
        "\n",
        "fig1.add_trace(go.Scatter(x=x_list, y=data_array, name=\"Dataset\", mode=\"lines\",\n",
        "                          line=dict(color=\"black\")), row=2, col=1)\n",
        "fig1.add_trace(go.Scatter(x=x_list[stay_indices], y=data_array[stay_indices],\n",
        "                          mode='markers', name=\"stay\", opacity=1.0), row=2, col=1)\n",
        "fig1.add_trace(go.Scatter(x=x_list[buy_indices], y=data_array[buy_indices],\n",
        "                          mode='markers', name=\"buy\", opacity=1.0), row=2, col=1)\n",
        "fig1.add_trace(go.Scatter(x=x_list[sell_indices], y=data_array[sell_indices],\n",
        "                          mode='markers', name=\"sell\", opacity=1.0), row=2, col=1)\n",
        "\n",
        "fig1.update_xaxes(title_text=\"Step\")\n",
        "fig1.show()\n"
      ],
      "metadata": {
        "colab": {
          "base_uri": "https://localhost:8080/",
          "height": 542
        },
        "id": "c2gJcd3FU54v",
        "outputId": "ed211e42-e911-4471-8d39-e45839859821"
      },
      "execution_count": 51,
      "outputs": [
        {
          "output_type": "display_data",
          "data": {
            "text/html": [
              "<html>\n",
              "<head><meta charset=\"utf-8\" /></head>\n",
              "<body>\n",
              "    <div>            <script src=\"https://cdnjs.cloudflare.com/ajax/libs/mathjax/2.7.5/MathJax.js?config=TeX-AMS-MML_SVG\"></script><script type=\"text/javascript\">if (window.MathJax && window.MathJax.Hub && window.MathJax.Hub.Config) {window.MathJax.Hub.Config({SVG: {font: \"STIX-Web\"}});}</script>                <script type=\"text/javascript\">window.PlotlyConfig = {MathJaxConfig: 'local'};</script>\n",
              "        <script charset=\"utf-8\" src=\"https://cdn.plot.ly/plotly-2.24.1.min.js\"></script>                <div id=\"747c8d31-73ee-452c-b315-18fe7faf9373\" class=\"plotly-graph-div\" style=\"height:525px; width:100%;\"></div>            <script type=\"text/javascript\">                                    window.PLOTLYENV=window.PLOTLYENV || {};                                    if (document.getElementById(\"747c8d31-73ee-452c-b315-18fe7faf9373\")) {                    Plotly.newPlot(                        \"747c8d31-73ee-452c-b315-18fe7faf9373\",                        [{\"mode\":\"lines\",\"name\":\"Profit Evolution\",\"opacity\":1,\"x\":[0,1,2,3,4,5,6,7,8,9,10,11,12,13,14,15,16,17,18,19,20,21,22,23,24,25,26,27,28,29,30,31,32,33,34,35,36,37,38,39,40,41,42,43,44,45,46,47,48,49,50,51,52,53,54,55,56,57,58,59,60,61,62,63,64,65,66,67,68,69,70,71,72,73,74,75,76,77,78,79,80,81,82,83,84,85,86,87,88,89,90,91,92,93,94,95,96,97,98],\"y\":[0,0,0,0,0,0,0,0,0,0,0,0,0,0,0,0,0,0,0,0,0,0,0,0,0,0,0,0,0,0,0,0,0,0,0,0,0,0,0,0,0,0,0,0,0,0,0,0,0,0,0,0,0,0,0,0,0,0,0,0,0,0,0,0,0,0,0,0,0,0,0,0,0,0,0,0,0,0,0,0,0,0,0,0,0,0,0,0,0,0,0,0,0,0,0,0,0,0,0],\"type\":\"scatter\",\"xaxis\":\"x\",\"yaxis\":\"y\"},{\"mode\":\"lines\",\"name\":\"Reward\",\"opacity\":0.5,\"x\":[0,1,2,3,4,5,6,7,8,9,10,11,12,13,14,15,16,17,18,19,20,21,22,23,24,25,26,27,28,29,30,31,32,33,34,35,36,37,38,39,40,41,42,43,44,45,46,47,48,49,50,51,52,53,54,55,56,57,58,59,60,61,62,63,64,65,66,67,68,69,70,71,72,73,74,75,76,77,78,79,80,81,82,83,84,85,86,87,88,89,90,91,92,93,94,95,96,97,98],\"y\":[0,0,0,0,0,0,0,0,0,0,0,0,0,0,0,0,0,0,0,0,0,0,0,0,0,0,0,0,0,0,0,0,0,0,0,0,0,0,0,0,0,0,0,0,0,0,0,0,0,0,0,0,0,0,0,0,0,0,0,0,0,0,0,0,0,0,0,0,0,0,0,0,0,0,0,0,0,0,0,0,0,0,0,0,0,0,0,0,0,0,0,0,0,0,0,0,0,0,0],\"type\":\"scatter\",\"xaxis\":\"x\",\"yaxis\":\"y\"},{\"line\":{\"color\":\"black\"},\"mode\":\"lines\",\"name\":\"Dataset\",\"x\":[0,1,2,3,4,5,6,7,8,9,10,11,12,13,14,15,16,17,18,19,20,21,22,23,24,25,26,27,28,29,30,31,32,33,34,35,36,37,38,39,40,41,42,43,44,45,46,47,48,49,50,51,52,53,54,55,56,57,58,59,60,61,62,63,64,65,66,67,68,69,70,71,72,73,74,75,76,77,78,79,80,81,82,83,84,85,86,87,88,89,90,91,92,93,94,95,96,97,98],\"y\":[139.56,139.13,135.94,125.75,135.81,133.31,127.31,130.38,125.19,131.75,125.0,119.44,109.25,113.81,111.87,123.87,126.87,121.12,118.87,120.5,128.31,121.31,126.75,124.06,124.31,117.87,115.06,110.69,113.12,110.12,105.44,99.31,102.81,107.62,101.0,105.69,101.37,100.75,94.0,89.94,85.81,87.69,87.27,86.37,87.56,84.0,89.12,92.56,91.31,92.87,96.56,94.81,95.75,91.19,94.5,90.44,92.37,91.19,96.62,101.25,55.63,53.75,51.69,54.13,51.75,54.44,51.25,52.38,53.31,51.63,51.81,54.44,57.13,56.94,58.88,56.5,57.69,58.31,57.25,52.69,55.13,53.56,48.69,50.06,50.06,52.0,48.31,50.81,49.31,47.25,48.0,47.38,47.94,46.75,47.5,47.56,47.69,47.06,46.69],\"type\":\"scatter\",\"xaxis\":\"x2\",\"yaxis\":\"y2\"},{\"mode\":\"markers\",\"name\":\"stay\",\"opacity\":1.0,\"x\":[],\"y\":[],\"type\":\"scatter\",\"xaxis\":\"x2\",\"yaxis\":\"y2\"},{\"mode\":\"markers\",\"name\":\"buy\",\"opacity\":1.0,\"x\":[0,1,2,3,4,5,6,7,8,9,10,11,12,13,14,15,16,17,18,19,20,21,22,23,24,25,26,27,28,29,30,31,32,33,34,35,36,37,38,39,40,41,42,43,44,45,46,47,48,49,50,51,52,53,54,55,56,57,58,59,60,61,62,63,64,65,66,67,68,69,70,71,72,73,74,75,76,77,78,79,80,81,82,83,84,85,86,87,88,89,90,91,92,93,94,95,96,97,98],\"y\":[139.56,139.13,135.94,125.75,135.81,133.31,127.31,130.38,125.19,131.75,125.0,119.44,109.25,113.81,111.87,123.87,126.87,121.12,118.87,120.5,128.31,121.31,126.75,124.06,124.31,117.87,115.06,110.69,113.12,110.12,105.44,99.31,102.81,107.62,101.0,105.69,101.37,100.75,94.0,89.94,85.81,87.69,87.27,86.37,87.56,84.0,89.12,92.56,91.31,92.87,96.56,94.81,95.75,91.19,94.5,90.44,92.37,91.19,96.62,101.25,55.63,53.75,51.69,54.13,51.75,54.44,51.25,52.38,53.31,51.63,51.81,54.44,57.13,56.94,58.88,56.5,57.69,58.31,57.25,52.69,55.13,53.56,48.69,50.06,50.06,52.0,48.31,50.81,49.31,47.25,48.0,47.38,47.94,46.75,47.5,47.56,47.69,47.06,46.69],\"type\":\"scatter\",\"xaxis\":\"x2\",\"yaxis\":\"y2\"},{\"mode\":\"markers\",\"name\":\"sell\",\"opacity\":1.0,\"x\":[],\"y\":[],\"type\":\"scatter\",\"xaxis\":\"x2\",\"yaxis\":\"y2\"}],                        {\"template\":{\"data\":{\"histogram2dcontour\":[{\"type\":\"histogram2dcontour\",\"colorbar\":{\"outlinewidth\":0,\"ticks\":\"\"},\"colorscale\":[[0.0,\"#0d0887\"],[0.1111111111111111,\"#46039f\"],[0.2222222222222222,\"#7201a8\"],[0.3333333333333333,\"#9c179e\"],[0.4444444444444444,\"#bd3786\"],[0.5555555555555556,\"#d8576b\"],[0.6666666666666666,\"#ed7953\"],[0.7777777777777778,\"#fb9f3a\"],[0.8888888888888888,\"#fdca26\"],[1.0,\"#f0f921\"]]}],\"choropleth\":[{\"type\":\"choropleth\",\"colorbar\":{\"outlinewidth\":0,\"ticks\":\"\"}}],\"histogram2d\":[{\"type\":\"histogram2d\",\"colorbar\":{\"outlinewidth\":0,\"ticks\":\"\"},\"colorscale\":[[0.0,\"#0d0887\"],[0.1111111111111111,\"#46039f\"],[0.2222222222222222,\"#7201a8\"],[0.3333333333333333,\"#9c179e\"],[0.4444444444444444,\"#bd3786\"],[0.5555555555555556,\"#d8576b\"],[0.6666666666666666,\"#ed7953\"],[0.7777777777777778,\"#fb9f3a\"],[0.8888888888888888,\"#fdca26\"],[1.0,\"#f0f921\"]]}],\"heatmap\":[{\"type\":\"heatmap\",\"colorbar\":{\"outlinewidth\":0,\"ticks\":\"\"},\"colorscale\":[[0.0,\"#0d0887\"],[0.1111111111111111,\"#46039f\"],[0.2222222222222222,\"#7201a8\"],[0.3333333333333333,\"#9c179e\"],[0.4444444444444444,\"#bd3786\"],[0.5555555555555556,\"#d8576b\"],[0.6666666666666666,\"#ed7953\"],[0.7777777777777778,\"#fb9f3a\"],[0.8888888888888888,\"#fdca26\"],[1.0,\"#f0f921\"]]}],\"heatmapgl\":[{\"type\":\"heatmapgl\",\"colorbar\":{\"outlinewidth\":0,\"ticks\":\"\"},\"colorscale\":[[0.0,\"#0d0887\"],[0.1111111111111111,\"#46039f\"],[0.2222222222222222,\"#7201a8\"],[0.3333333333333333,\"#9c179e\"],[0.4444444444444444,\"#bd3786\"],[0.5555555555555556,\"#d8576b\"],[0.6666666666666666,\"#ed7953\"],[0.7777777777777778,\"#fb9f3a\"],[0.8888888888888888,\"#fdca26\"],[1.0,\"#f0f921\"]]}],\"contourcarpet\":[{\"type\":\"contourcarpet\",\"colorbar\":{\"outlinewidth\":0,\"ticks\":\"\"}}],\"contour\":[{\"type\":\"contour\",\"colorbar\":{\"outlinewidth\":0,\"ticks\":\"\"},\"colorscale\":[[0.0,\"#0d0887\"],[0.1111111111111111,\"#46039f\"],[0.2222222222222222,\"#7201a8\"],[0.3333333333333333,\"#9c179e\"],[0.4444444444444444,\"#bd3786\"],[0.5555555555555556,\"#d8576b\"],[0.6666666666666666,\"#ed7953\"],[0.7777777777777778,\"#fb9f3a\"],[0.8888888888888888,\"#fdca26\"],[1.0,\"#f0f921\"]]}],\"surface\":[{\"type\":\"surface\",\"colorbar\":{\"outlinewidth\":0,\"ticks\":\"\"},\"colorscale\":[[0.0,\"#0d0887\"],[0.1111111111111111,\"#46039f\"],[0.2222222222222222,\"#7201a8\"],[0.3333333333333333,\"#9c179e\"],[0.4444444444444444,\"#bd3786\"],[0.5555555555555556,\"#d8576b\"],[0.6666666666666666,\"#ed7953\"],[0.7777777777777778,\"#fb9f3a\"],[0.8888888888888888,\"#fdca26\"],[1.0,\"#f0f921\"]]}],\"mesh3d\":[{\"type\":\"mesh3d\",\"colorbar\":{\"outlinewidth\":0,\"ticks\":\"\"}}],\"scatter\":[{\"fillpattern\":{\"fillmode\":\"overlay\",\"size\":10,\"solidity\":0.2},\"type\":\"scatter\"}],\"parcoords\":[{\"type\":\"parcoords\",\"line\":{\"colorbar\":{\"outlinewidth\":0,\"ticks\":\"\"}}}],\"scatterpolargl\":[{\"type\":\"scatterpolargl\",\"marker\":{\"colorbar\":{\"outlinewidth\":0,\"ticks\":\"\"}}}],\"bar\":[{\"error_x\":{\"color\":\"#2a3f5f\"},\"error_y\":{\"color\":\"#2a3f5f\"},\"marker\":{\"line\":{\"color\":\"#E5ECF6\",\"width\":0.5},\"pattern\":{\"fillmode\":\"overlay\",\"size\":10,\"solidity\":0.2}},\"type\":\"bar\"}],\"scattergeo\":[{\"type\":\"scattergeo\",\"marker\":{\"colorbar\":{\"outlinewidth\":0,\"ticks\":\"\"}}}],\"scatterpolar\":[{\"type\":\"scatterpolar\",\"marker\":{\"colorbar\":{\"outlinewidth\":0,\"ticks\":\"\"}}}],\"histogram\":[{\"marker\":{\"pattern\":{\"fillmode\":\"overlay\",\"size\":10,\"solidity\":0.2}},\"type\":\"histogram\"}],\"scattergl\":[{\"type\":\"scattergl\",\"marker\":{\"colorbar\":{\"outlinewidth\":0,\"ticks\":\"\"}}}],\"scatter3d\":[{\"type\":\"scatter3d\",\"line\":{\"colorbar\":{\"outlinewidth\":0,\"ticks\":\"\"}},\"marker\":{\"colorbar\":{\"outlinewidth\":0,\"ticks\":\"\"}}}],\"scattermapbox\":[{\"type\":\"scattermapbox\",\"marker\":{\"colorbar\":{\"outlinewidth\":0,\"ticks\":\"\"}}}],\"scatterternary\":[{\"type\":\"scatterternary\",\"marker\":{\"colorbar\":{\"outlinewidth\":0,\"ticks\":\"\"}}}],\"scattercarpet\":[{\"type\":\"scattercarpet\",\"marker\":{\"colorbar\":{\"outlinewidth\":0,\"ticks\":\"\"}}}],\"carpet\":[{\"aaxis\":{\"endlinecolor\":\"#2a3f5f\",\"gridcolor\":\"white\",\"linecolor\":\"white\",\"minorgridcolor\":\"white\",\"startlinecolor\":\"#2a3f5f\"},\"baxis\":{\"endlinecolor\":\"#2a3f5f\",\"gridcolor\":\"white\",\"linecolor\":\"white\",\"minorgridcolor\":\"white\",\"startlinecolor\":\"#2a3f5f\"},\"type\":\"carpet\"}],\"table\":[{\"cells\":{\"fill\":{\"color\":\"#EBF0F8\"},\"line\":{\"color\":\"white\"}},\"header\":{\"fill\":{\"color\":\"#C8D4E3\"},\"line\":{\"color\":\"white\"}},\"type\":\"table\"}],\"barpolar\":[{\"marker\":{\"line\":{\"color\":\"#E5ECF6\",\"width\":0.5},\"pattern\":{\"fillmode\":\"overlay\",\"size\":10,\"solidity\":0.2}},\"type\":\"barpolar\"}],\"pie\":[{\"automargin\":true,\"type\":\"pie\"}]},\"layout\":{\"autotypenumbers\":\"strict\",\"colorway\":[\"#636efa\",\"#EF553B\",\"#00cc96\",\"#ab63fa\",\"#FFA15A\",\"#19d3f3\",\"#FF6692\",\"#B6E880\",\"#FF97FF\",\"#FECB52\"],\"font\":{\"color\":\"#2a3f5f\"},\"hovermode\":\"closest\",\"hoverlabel\":{\"align\":\"left\"},\"paper_bgcolor\":\"white\",\"plot_bgcolor\":\"#E5ECF6\",\"polar\":{\"bgcolor\":\"#E5ECF6\",\"angularaxis\":{\"gridcolor\":\"white\",\"linecolor\":\"white\",\"ticks\":\"\"},\"radialaxis\":{\"gridcolor\":\"white\",\"linecolor\":\"white\",\"ticks\":\"\"}},\"ternary\":{\"bgcolor\":\"#E5ECF6\",\"aaxis\":{\"gridcolor\":\"white\",\"linecolor\":\"white\",\"ticks\":\"\"},\"baxis\":{\"gridcolor\":\"white\",\"linecolor\":\"white\",\"ticks\":\"\"},\"caxis\":{\"gridcolor\":\"white\",\"linecolor\":\"white\",\"ticks\":\"\"}},\"coloraxis\":{\"colorbar\":{\"outlinewidth\":0,\"ticks\":\"\"}},\"colorscale\":{\"sequential\":[[0.0,\"#0d0887\"],[0.1111111111111111,\"#46039f\"],[0.2222222222222222,\"#7201a8\"],[0.3333333333333333,\"#9c179e\"],[0.4444444444444444,\"#bd3786\"],[0.5555555555555556,\"#d8576b\"],[0.6666666666666666,\"#ed7953\"],[0.7777777777777778,\"#fb9f3a\"],[0.8888888888888888,\"#fdca26\"],[1.0,\"#f0f921\"]],\"sequentialminus\":[[0.0,\"#0d0887\"],[0.1111111111111111,\"#46039f\"],[0.2222222222222222,\"#7201a8\"],[0.3333333333333333,\"#9c179e\"],[0.4444444444444444,\"#bd3786\"],[0.5555555555555556,\"#d8576b\"],[0.6666666666666666,\"#ed7953\"],[0.7777777777777778,\"#fb9f3a\"],[0.8888888888888888,\"#fdca26\"],[1.0,\"#f0f921\"]],\"diverging\":[[0,\"#8e0152\"],[0.1,\"#c51b7d\"],[0.2,\"#de77ae\"],[0.3,\"#f1b6da\"],[0.4,\"#fde0ef\"],[0.5,\"#f7f7f7\"],[0.6,\"#e6f5d0\"],[0.7,\"#b8e186\"],[0.8,\"#7fbc41\"],[0.9,\"#4d9221\"],[1,\"#276419\"]]},\"xaxis\":{\"gridcolor\":\"white\",\"linecolor\":\"white\",\"ticks\":\"\",\"title\":{\"standoff\":15},\"zerolinecolor\":\"white\",\"automargin\":true,\"zerolinewidth\":2},\"yaxis\":{\"gridcolor\":\"white\",\"linecolor\":\"white\",\"ticks\":\"\",\"title\":{\"standoff\":15},\"zerolinecolor\":\"white\",\"automargin\":true,\"zerolinewidth\":2},\"scene\":{\"xaxis\":{\"backgroundcolor\":\"#E5ECF6\",\"gridcolor\":\"white\",\"linecolor\":\"white\",\"showbackground\":true,\"ticks\":\"\",\"zerolinecolor\":\"white\",\"gridwidth\":2},\"yaxis\":{\"backgroundcolor\":\"#E5ECF6\",\"gridcolor\":\"white\",\"linecolor\":\"white\",\"showbackground\":true,\"ticks\":\"\",\"zerolinecolor\":\"white\",\"gridwidth\":2},\"zaxis\":{\"backgroundcolor\":\"#E5ECF6\",\"gridcolor\":\"white\",\"linecolor\":\"white\",\"showbackground\":true,\"ticks\":\"\",\"zerolinecolor\":\"white\",\"gridwidth\":2}},\"shapedefaults\":{\"line\":{\"color\":\"#2a3f5f\"}},\"annotationdefaults\":{\"arrowcolor\":\"#2a3f5f\",\"arrowhead\":0,\"arrowwidth\":1},\"geo\":{\"bgcolor\":\"white\",\"landcolor\":\"#E5ECF6\",\"subunitcolor\":\"white\",\"showland\":true,\"showlakes\":true,\"lakecolor\":\"white\"},\"title\":{\"x\":0.05},\"mapbox\":{\"style\":\"light\"}}},\"xaxis\":{\"anchor\":\"y\",\"domain\":[0.0,1.0],\"matches\":\"x2\",\"showticklabels\":false,\"title\":{\"text\":\"Step\"}},\"yaxis\":{\"anchor\":\"x\",\"domain\":[0.575,1.0]},\"xaxis2\":{\"anchor\":\"y2\",\"domain\":[0.0,1.0],\"title\":{\"text\":\"Step\"}},\"yaxis2\":{\"anchor\":\"x2\",\"domain\":[0.0,0.425]}},                        {\"responsive\": true}                    ).then(function(){\n",
              "                            \n",
              "var gd = document.getElementById('747c8d31-73ee-452c-b315-18fe7faf9373');\n",
              "var x = new MutationObserver(function (mutations, observer) {{\n",
              "        var display = window.getComputedStyle(gd).display;\n",
              "        if (!display || display === 'none') {{\n",
              "            console.log([gd, 'removed!']);\n",
              "            Plotly.purge(gd);\n",
              "            observer.disconnect();\n",
              "        }}\n",
              "}});\n",
              "\n",
              "// Listen for the removal of the full notebook cells\n",
              "var notebookContainer = gd.closest('#notebook-container');\n",
              "if (notebookContainer) {{\n",
              "    x.observe(notebookContainer, {childList: true});\n",
              "}}\n",
              "\n",
              "// Listen for the clearing of the current output cell\n",
              "var outputEl = gd.closest('.output');\n",
              "if (outputEl) {{\n",
              "    x.observe(outputEl, {childList: true});\n",
              "}}\n",
              "\n",
              "                        })                };                            </script>        </div>\n",
              "</body>\n",
              "</html>"
            ]
          },
          "metadata": {}
        }
      ]
    },
    {
      "cell_type": "markdown",
      "source": [
        "## Ejercicio 2"
      ],
      "metadata": {
        "id": "C_zRHhYxucsa"
      }
    },
    {
      "cell_type": "markdown",
      "source": [
        "*Prueba* con una función 0.1-greedy"
      ],
      "metadata": {
        "id": "f218_1PyDBDz"
      }
    },
    {
      "cell_type": "code",
      "source": [
        "pev, rev, history = test_model(agent=dql_agent_exp1, env=entorno_exp1, epsilon=0.01)"
      ],
      "metadata": {
        "colab": {
          "base_uri": "https://localhost:8080/"
        },
        "id": "enAcIkHOoDwv",
        "outputId": "0dde66fc-7288-42a8-88e6-f30e860b9f8e"
      },
      "execution_count": 60,
      "outputs": [
        {
          "output_type": "stream",
          "name": "stderr",
          "text": [
            "<ipython-input-47-04752e11e2c3>:73: FutureWarning:\n",
            "\n",
            "Series.__getitem__ treating keys as positions is deprecated. In a future version, integer keys will always be treated as labels (consistent with DataFrame behavior). To access a value by position, use `ser.iloc[pos]`\n",
            "\n",
            "<ipython-input-47-04752e11e2c3>:91: FutureWarning:\n",
            "\n",
            "Series.__getitem__ treating keys as positions is deprecated. In a future version, integer keys will always be treated as labels (consistent with DataFrame behavior). To access a value by position, use `ser.iloc[pos]`\n",
            "\n",
            "<ipython-input-47-04752e11e2c3>:27: FutureWarning:\n",
            "\n",
            "Series.__getitem__ treating keys as positions is deprecated. In a future version, integer keys will always be treated as labels (consistent with DataFrame behavior). To access a value by position, use `ser.iloc[pos]`\n",
            "\n"
          ]
        }
      ]
    },
    {
      "cell_type": "code",
      "source": [
        "\"\"\"\n",
        "Seguimiento adql_agent_exp1 con una arquitecura intermedia\n",
        "\n",
        "\"\"\"\n",
        "pev, rev, history = test_model(agent=dql_agent_exp1, env=entorno_exp1, epsilon=0.01)\n"
      ],
      "metadata": {
        "colab": {
          "base_uri": "https://localhost:8080/"
        },
        "id": "Y-Ch7RaZUopO",
        "outputId": "4799baca-17bb-4673-d767-3a5563d3e62d"
      },
      "execution_count": 87,
      "outputs": [
        {
          "output_type": "stream",
          "name": "stderr",
          "text": [
            "<ipython-input-47-04752e11e2c3>:73: FutureWarning:\n",
            "\n",
            "Series.__getitem__ treating keys as positions is deprecated. In a future version, integer keys will always be treated as labels (consistent with DataFrame behavior). To access a value by position, use `ser.iloc[pos]`\n",
            "\n",
            "<ipython-input-47-04752e11e2c3>:91: FutureWarning:\n",
            "\n",
            "Series.__getitem__ treating keys as positions is deprecated. In a future version, integer keys will always be treated as labels (consistent with DataFrame behavior). To access a value by position, use `ser.iloc[pos]`\n",
            "\n",
            "<ipython-input-47-04752e11e2c3>:27: FutureWarning:\n",
            "\n",
            "Series.__getitem__ treating keys as positions is deprecated. In a future version, integer keys will always be treated as labels (consistent with DataFrame behavior). To access a value by position, use `ser.iloc[pos]`\n",
            "\n"
          ]
        }
      ]
    },
    {
      "cell_type": "code",
      "source": [
        "\"\"\"\n",
        "Seguimiento adql_agent_exp1 con una arquitecura compleja\n",
        "\n",
        "\"\"\"\n",
        "\n",
        "pev, rev, history = test_model(agent=dql_agent_exp1, env=entorno_exp1, epsilon=0.01)\n"
      ],
      "metadata": {
        "colab": {
          "base_uri": "https://localhost:8080/"
        },
        "id": "0a1NyTkiXWkJ",
        "outputId": "ede84791-112f-44b4-aa86-489279b3c51e"
      },
      "execution_count": 98,
      "outputs": [
        {
          "output_type": "stream",
          "name": "stderr",
          "text": [
            "<ipython-input-47-04752e11e2c3>:73: FutureWarning:\n",
            "\n",
            "Series.__getitem__ treating keys as positions is deprecated. In a future version, integer keys will always be treated as labels (consistent with DataFrame behavior). To access a value by position, use `ser.iloc[pos]`\n",
            "\n",
            "<ipython-input-47-04752e11e2c3>:91: FutureWarning:\n",
            "\n",
            "Series.__getitem__ treating keys as positions is deprecated. In a future version, integer keys will always be treated as labels (consistent with DataFrame behavior). To access a value by position, use `ser.iloc[pos]`\n",
            "\n",
            "<ipython-input-47-04752e11e2c3>:27: FutureWarning:\n",
            "\n",
            "Series.__getitem__ treating keys as positions is deprecated. In a future version, integer keys will always be treated as labels (consistent with DataFrame behavior). To access a value by position, use `ser.iloc[pos]`\n",
            "\n"
          ]
        }
      ]
    },
    {
      "cell_type": "code",
      "source": [
        "x_list = np.arange(len(pev))\n",
        "\n",
        "fig1 = make_subplots(rows=2, cols=1, shared_xaxes=True)\n",
        "\n",
        "fig1.add_trace(go.Scatter(x=x_list, y=pev, mode='lines', name=\"Profit Evolution\",\n",
        "                          opacity=1), row=1, col=1)\n",
        "fig1.add_trace(go.Scatter(x=x_list, y=rev, mode='lines', name=\"Reward\",\n",
        "                          opacity=0.5), row=1, col=1)\n",
        "\n",
        "\n",
        "data_array = np.array([his[0] for his in history])\n",
        "action_list = np.array([his[1] for his in history])\n",
        "\n",
        "stay_indices = action_list == 'Stay'\n",
        "buy_indices = action_list == 'Buy'\n",
        "sell_indices = action_list == 'Sell'\n",
        "\n",
        "fig1.add_trace(go.Scatter(x=x_list, y=data_array, name=\"Dataset\", mode=\"lines\",\n",
        "                          line=dict(color=\"black\")), row=2, col=1)\n",
        "fig1.add_trace(go.Scatter(x=x_list[stay_indices], y=data_array[stay_indices],\n",
        "                          mode='markers', name=\"stay\", opacity=1.0), row=2, col=1)\n",
        "fig1.add_trace(go.Scatter(x=x_list[buy_indices], y=data_array[buy_indices],\n",
        "                          mode='markers', name=\"buy\", opacity=1.0), row=2, col=1)\n",
        "fig1.add_trace(go.Scatter(x=x_list[sell_indices], y=data_array[sell_indices],\n",
        "                          mode='markers', name=\"sell\", opacity=1.0), row=2, col=1)\n",
        "\n",
        "fig1.update_xaxes(title_text=\"Step\")\n",
        "fig1.show()\n"
      ],
      "metadata": {
        "colab": {
          "base_uri": "https://localhost:8080/",
          "height": 542
        },
        "id": "nC1Pxg9IoGGP",
        "outputId": "9dfc6ce7-b56b-410e-f0b2-a0a11167c3b1"
      },
      "execution_count": 61,
      "outputs": [
        {
          "output_type": "display_data",
          "data": {
            "text/html": [
              "<html>\n",
              "<head><meta charset=\"utf-8\" /></head>\n",
              "<body>\n",
              "    <div>            <script src=\"https://cdnjs.cloudflare.com/ajax/libs/mathjax/2.7.5/MathJax.js?config=TeX-AMS-MML_SVG\"></script><script type=\"text/javascript\">if (window.MathJax && window.MathJax.Hub && window.MathJax.Hub.Config) {window.MathJax.Hub.Config({SVG: {font: \"STIX-Web\"}});}</script>                <script type=\"text/javascript\">window.PlotlyConfig = {MathJaxConfig: 'local'};</script>\n",
              "        <script charset=\"utf-8\" src=\"https://cdn.plot.ly/plotly-2.24.1.min.js\"></script>                <div id=\"9023375e-bd90-43a0-97be-db6be7d71b2d\" class=\"plotly-graph-div\" style=\"height:525px; width:100%;\"></div>            <script type=\"text/javascript\">                                    window.PLOTLYENV=window.PLOTLYENV || {};                                    if (document.getElementById(\"9023375e-bd90-43a0-97be-db6be7d71b2d\")) {                    Plotly.newPlot(                        \"9023375e-bd90-43a0-97be-db6be7d71b2d\",                        [{\"mode\":\"lines\",\"name\":\"Profit Evolution\",\"opacity\":1,\"x\":[0,1,2,3,4,5,6,7,8,9,10,11,12,13,14,15,16,17,18,19,20,21,22,23,24,25,26,27,28,29,30,31,32,33,34,35,36,37,38,39,40,41,42,43,44,45,46,47,48,49,50,51,52,53,54,55,56,57,58,59,60,61,62,63,64,65,66,67,68,69,70,71,72,73,74,75,76,77,78,79,80,81,82,83,84,85,86,87,88,89,90,91,92,93,94,95,96,97,98],\"y\":[0,0,0,0,0,-2.8799999999999955,-2.8799999999999955,-2.8799999999999955,-2.8799999999999955,-2.8799999999999955,-2.8799999999999955,-2.8799999999999955,-2.8799999999999955,-2.8799999999999955,-2.8799999999999955,-26.94999999999999,-26.94999999999999,-26.94999999999999,-31.579999999999984,-31.579999999999984,-36.26999999999998,-27.399999999999977,-27.399999999999977,-14.45999999999998,-14.45999999999998,-14.45999999999998,-14.45999999999998,-14.45999999999998,-14.45999999999998,-14.45999999999998,-14.45999999999998,-14.45999999999998,-34.01999999999998,-52.51999999999998,-68.95999999999998,-68.95999999999998,-68.95999999999998,-91.89999999999998,-106.20999999999998,-106.20999999999998,-106.20999999999998,-106.20999999999998,-129.20999999999998,-129.20999999999998,-129.20999999999998,-129.20999999999998,-129.20999999999998,-145.52999999999997,-145.52999999999997,-145.52999999999997,-145.52999999999997,-149.96999999999997,-149.15999999999997,-140.67999999999995,-140.67999999999995,-140.67999999999995,-140.67999999999995,-140.67999999999995,-135.85999999999996,-135.85999999999996,-135.85999999999996,-135.85999999999996,-135.85999999999996,-168.16999999999996,-205.34999999999997,-205.34999999999997,-205.34999999999997,-250.71999999999997,-250.71999999999997,-250.71999999999997,-300.34,-300.34,-300.34,-300.34,-300.34,-300.34,-300.34,-300.34,-300.34,-300.34,-300.34,-300.34,-302.40999999999997,-302.40999999999997,-302.40999999999997,-302.40999999999997,-302.40999999999997,-307.84999999999997,-307.84999999999997,-307.84999999999997,-307.84999999999997,-307.84999999999997,-307.84999999999997,-307.84999999999997,-307.84999999999997,-307.84999999999997,-307.84999999999997,-311.90999999999997,-311.90999999999997],\"type\":\"scatter\",\"xaxis\":\"x\",\"yaxis\":\"y\"},{\"mode\":\"lines\",\"name\":\"Reward\",\"opacity\":0.5,\"x\":[0,1,2,3,4,5,6,7,8,9,10,11,12,13,14,15,16,17,18,19,20,21,22,23,24,25,26,27,28,29,30,31,32,33,34,35,36,37,38,39,40,41,42,43,44,45,46,47,48,49,50,51,52,53,54,55,56,57,58,59,60,61,62,63,64,65,66,67,68,69,70,71,72,73,74,75,76,77,78,79,80,81,82,83,84,85,86,87,88,89,90,91,92,93,94,95,96,97,98],\"y\":[0,0,0,0,0,-2.8799999999999955,0,0,0,0,0,0,0,0,0,-24.069999999999993,0,0,-4.6299999999999955,0,-4.689999999999998,8.870000000000005,0,12.939999999999998,0,0,0,0,0,0,0,0,-19.560000000000002,-18.5,-16.439999999999998,0,0,-22.939999999999998,-14.310000000000002,0,0,0,-23.0,0,0,0,0,-16.319999999999993,0,0,0,-4.439999999999998,0.8100000000000023,8.480000000000004,0,0,0,0,4.819999999999993,0,0,0,0,-32.31,-37.18,0,0,-45.370000000000005,0,0,-49.62,0,0,0,0,0,0,0,0,0,0,0,-2.0700000000000003,0,0,0,0,-5.439999999999998,0,0,0,0,0,0,0,0,0,-4.060000000000002,0],\"type\":\"scatter\",\"xaxis\":\"x\",\"yaxis\":\"y\"},{\"line\":{\"color\":\"black\"},\"mode\":\"lines\",\"name\":\"Dataset\",\"x\":[0,1,2,3,4,5,6,7,8,9,10,11,12,13,14,15,16,17,18,19,20,21,22,23,24,25,26,27,28,29,30,31,32,33,34,35,36,37,38,39,40,41,42,43,44,45,46,47,48,49,50,51,52,53,54,55,56,57,58,59,60,61,62,63,64,65,66,67,68,69,70,71,72,73,74,75,76,77,78,79,80,81,82,83,84,85,86,87,88,89,90,91,92,93,94,95,96,97,98],\"y\":[139.56,139.13,135.94,125.75,135.81,133.31,127.31,130.38,125.19,131.75,125.0,119.44,109.25,113.81,111.87,123.87,126.87,121.12,118.87,120.5,128.31,121.31,126.75,124.06,124.31,117.87,115.06,110.69,113.12,110.12,105.44,99.31,102.81,107.62,101.0,105.69,101.37,100.75,94.0,89.94,85.81,87.69,87.27,86.37,87.56,84.0,89.12,92.56,91.31,92.87,96.56,94.81,95.75,91.19,94.5,90.44,92.37,91.19,96.62,101.25,55.63,53.75,51.69,54.13,51.75,54.44,51.25,52.38,53.31,51.63,51.81,54.44,57.13,56.94,58.88,56.5,57.69,58.31,57.25,52.69,55.13,53.56,48.69,50.06,50.06,52.0,48.31,50.81,49.31,47.25,48.0,47.38,47.94,46.75,47.5,47.56,47.69,47.06,46.69],\"type\":\"scatter\",\"xaxis\":\"x2\",\"yaxis\":\"y2\"},{\"mode\":\"markers\",\"name\":\"stay\",\"opacity\":1.0,\"x\":[1,2,6,7,8,10,11,13,16,17,26,29,30,36,40,41,45,48,50,54,55,56,57,66,74,78,79,81,83,84,85,86,88,89,90,91,93,94,95,96],\"y\":[139.13,135.94,127.31,130.38,125.19,125.0,119.44,113.81,126.87,121.12,115.06,110.12,105.44,101.37,85.81,87.69,84.0,91.31,96.56,94.5,90.44,92.37,91.19,51.25,58.88,57.25,52.69,53.56,50.06,50.06,52.0,48.31,49.31,47.25,48.0,47.38,46.75,47.5,47.56,47.69],\"type\":\"scatter\",\"xaxis\":\"x2\",\"yaxis\":\"y2\"},{\"mode\":\"markers\",\"name\":\"buy\",\"opacity\":1.0,\"x\":[0,3,4,9,12,14,19,22,24,25,27,28,31,35,39,43,44,46,49,59,60,61,62,65,68,69,71,72,73,75,76,77,80,92,98],\"y\":[139.56,125.75,135.81,131.75,109.25,111.87,120.5,126.75,124.31,117.87,110.69,113.12,99.31,105.69,89.94,86.37,87.56,89.12,92.87,101.25,55.63,53.75,51.69,54.44,53.31,51.63,54.44,57.13,56.94,56.5,57.69,58.31,55.13,47.94,46.69],\"type\":\"scatter\",\"xaxis\":\"x2\",\"yaxis\":\"y2\"},{\"mode\":\"markers\",\"name\":\"sell\",\"opacity\":1.0,\"x\":[5,15,18,20,21,23,32,33,34,37,38,42,47,51,52,53,58,63,64,67,70,82,87,97],\"y\":[133.31,123.87,118.87,128.31,121.31,124.06,102.81,107.62,101.0,100.75,94.0,87.27,92.56,94.81,95.75,91.19,96.62,54.13,51.75,52.38,51.81,48.69,50.81,47.06],\"type\":\"scatter\",\"xaxis\":\"x2\",\"yaxis\":\"y2\"}],                        {\"template\":{\"data\":{\"histogram2dcontour\":[{\"type\":\"histogram2dcontour\",\"colorbar\":{\"outlinewidth\":0,\"ticks\":\"\"},\"colorscale\":[[0.0,\"#0d0887\"],[0.1111111111111111,\"#46039f\"],[0.2222222222222222,\"#7201a8\"],[0.3333333333333333,\"#9c179e\"],[0.4444444444444444,\"#bd3786\"],[0.5555555555555556,\"#d8576b\"],[0.6666666666666666,\"#ed7953\"],[0.7777777777777778,\"#fb9f3a\"],[0.8888888888888888,\"#fdca26\"],[1.0,\"#f0f921\"]]}],\"choropleth\":[{\"type\":\"choropleth\",\"colorbar\":{\"outlinewidth\":0,\"ticks\":\"\"}}],\"histogram2d\":[{\"type\":\"histogram2d\",\"colorbar\":{\"outlinewidth\":0,\"ticks\":\"\"},\"colorscale\":[[0.0,\"#0d0887\"],[0.1111111111111111,\"#46039f\"],[0.2222222222222222,\"#7201a8\"],[0.3333333333333333,\"#9c179e\"],[0.4444444444444444,\"#bd3786\"],[0.5555555555555556,\"#d8576b\"],[0.6666666666666666,\"#ed7953\"],[0.7777777777777778,\"#fb9f3a\"],[0.8888888888888888,\"#fdca26\"],[1.0,\"#f0f921\"]]}],\"heatmap\":[{\"type\":\"heatmap\",\"colorbar\":{\"outlinewidth\":0,\"ticks\":\"\"},\"colorscale\":[[0.0,\"#0d0887\"],[0.1111111111111111,\"#46039f\"],[0.2222222222222222,\"#7201a8\"],[0.3333333333333333,\"#9c179e\"],[0.4444444444444444,\"#bd3786\"],[0.5555555555555556,\"#d8576b\"],[0.6666666666666666,\"#ed7953\"],[0.7777777777777778,\"#fb9f3a\"],[0.8888888888888888,\"#fdca26\"],[1.0,\"#f0f921\"]]}],\"heatmapgl\":[{\"type\":\"heatmapgl\",\"colorbar\":{\"outlinewidth\":0,\"ticks\":\"\"},\"colorscale\":[[0.0,\"#0d0887\"],[0.1111111111111111,\"#46039f\"],[0.2222222222222222,\"#7201a8\"],[0.3333333333333333,\"#9c179e\"],[0.4444444444444444,\"#bd3786\"],[0.5555555555555556,\"#d8576b\"],[0.6666666666666666,\"#ed7953\"],[0.7777777777777778,\"#fb9f3a\"],[0.8888888888888888,\"#fdca26\"],[1.0,\"#f0f921\"]]}],\"contourcarpet\":[{\"type\":\"contourcarpet\",\"colorbar\":{\"outlinewidth\":0,\"ticks\":\"\"}}],\"contour\":[{\"type\":\"contour\",\"colorbar\":{\"outlinewidth\":0,\"ticks\":\"\"},\"colorscale\":[[0.0,\"#0d0887\"],[0.1111111111111111,\"#46039f\"],[0.2222222222222222,\"#7201a8\"],[0.3333333333333333,\"#9c179e\"],[0.4444444444444444,\"#bd3786\"],[0.5555555555555556,\"#d8576b\"],[0.6666666666666666,\"#ed7953\"],[0.7777777777777778,\"#fb9f3a\"],[0.8888888888888888,\"#fdca26\"],[1.0,\"#f0f921\"]]}],\"surface\":[{\"type\":\"surface\",\"colorbar\":{\"outlinewidth\":0,\"ticks\":\"\"},\"colorscale\":[[0.0,\"#0d0887\"],[0.1111111111111111,\"#46039f\"],[0.2222222222222222,\"#7201a8\"],[0.3333333333333333,\"#9c179e\"],[0.4444444444444444,\"#bd3786\"],[0.5555555555555556,\"#d8576b\"],[0.6666666666666666,\"#ed7953\"],[0.7777777777777778,\"#fb9f3a\"],[0.8888888888888888,\"#fdca26\"],[1.0,\"#f0f921\"]]}],\"mesh3d\":[{\"type\":\"mesh3d\",\"colorbar\":{\"outlinewidth\":0,\"ticks\":\"\"}}],\"scatter\":[{\"fillpattern\":{\"fillmode\":\"overlay\",\"size\":10,\"solidity\":0.2},\"type\":\"scatter\"}],\"parcoords\":[{\"type\":\"parcoords\",\"line\":{\"colorbar\":{\"outlinewidth\":0,\"ticks\":\"\"}}}],\"scatterpolargl\":[{\"type\":\"scatterpolargl\",\"marker\":{\"colorbar\":{\"outlinewidth\":0,\"ticks\":\"\"}}}],\"bar\":[{\"error_x\":{\"color\":\"#2a3f5f\"},\"error_y\":{\"color\":\"#2a3f5f\"},\"marker\":{\"line\":{\"color\":\"#E5ECF6\",\"width\":0.5},\"pattern\":{\"fillmode\":\"overlay\",\"size\":10,\"solidity\":0.2}},\"type\":\"bar\"}],\"scattergeo\":[{\"type\":\"scattergeo\",\"marker\":{\"colorbar\":{\"outlinewidth\":0,\"ticks\":\"\"}}}],\"scatterpolar\":[{\"type\":\"scatterpolar\",\"marker\":{\"colorbar\":{\"outlinewidth\":0,\"ticks\":\"\"}}}],\"histogram\":[{\"marker\":{\"pattern\":{\"fillmode\":\"overlay\",\"size\":10,\"solidity\":0.2}},\"type\":\"histogram\"}],\"scattergl\":[{\"type\":\"scattergl\",\"marker\":{\"colorbar\":{\"outlinewidth\":0,\"ticks\":\"\"}}}],\"scatter3d\":[{\"type\":\"scatter3d\",\"line\":{\"colorbar\":{\"outlinewidth\":0,\"ticks\":\"\"}},\"marker\":{\"colorbar\":{\"outlinewidth\":0,\"ticks\":\"\"}}}],\"scattermapbox\":[{\"type\":\"scattermapbox\",\"marker\":{\"colorbar\":{\"outlinewidth\":0,\"ticks\":\"\"}}}],\"scatterternary\":[{\"type\":\"scatterternary\",\"marker\":{\"colorbar\":{\"outlinewidth\":0,\"ticks\":\"\"}}}],\"scattercarpet\":[{\"type\":\"scattercarpet\",\"marker\":{\"colorbar\":{\"outlinewidth\":0,\"ticks\":\"\"}}}],\"carpet\":[{\"aaxis\":{\"endlinecolor\":\"#2a3f5f\",\"gridcolor\":\"white\",\"linecolor\":\"white\",\"minorgridcolor\":\"white\",\"startlinecolor\":\"#2a3f5f\"},\"baxis\":{\"endlinecolor\":\"#2a3f5f\",\"gridcolor\":\"white\",\"linecolor\":\"white\",\"minorgridcolor\":\"white\",\"startlinecolor\":\"#2a3f5f\"},\"type\":\"carpet\"}],\"table\":[{\"cells\":{\"fill\":{\"color\":\"#EBF0F8\"},\"line\":{\"color\":\"white\"}},\"header\":{\"fill\":{\"color\":\"#C8D4E3\"},\"line\":{\"color\":\"white\"}},\"type\":\"table\"}],\"barpolar\":[{\"marker\":{\"line\":{\"color\":\"#E5ECF6\",\"width\":0.5},\"pattern\":{\"fillmode\":\"overlay\",\"size\":10,\"solidity\":0.2}},\"type\":\"barpolar\"}],\"pie\":[{\"automargin\":true,\"type\":\"pie\"}]},\"layout\":{\"autotypenumbers\":\"strict\",\"colorway\":[\"#636efa\",\"#EF553B\",\"#00cc96\",\"#ab63fa\",\"#FFA15A\",\"#19d3f3\",\"#FF6692\",\"#B6E880\",\"#FF97FF\",\"#FECB52\"],\"font\":{\"color\":\"#2a3f5f\"},\"hovermode\":\"closest\",\"hoverlabel\":{\"align\":\"left\"},\"paper_bgcolor\":\"white\",\"plot_bgcolor\":\"#E5ECF6\",\"polar\":{\"bgcolor\":\"#E5ECF6\",\"angularaxis\":{\"gridcolor\":\"white\",\"linecolor\":\"white\",\"ticks\":\"\"},\"radialaxis\":{\"gridcolor\":\"white\",\"linecolor\":\"white\",\"ticks\":\"\"}},\"ternary\":{\"bgcolor\":\"#E5ECF6\",\"aaxis\":{\"gridcolor\":\"white\",\"linecolor\":\"white\",\"ticks\":\"\"},\"baxis\":{\"gridcolor\":\"white\",\"linecolor\":\"white\",\"ticks\":\"\"},\"caxis\":{\"gridcolor\":\"white\",\"linecolor\":\"white\",\"ticks\":\"\"}},\"coloraxis\":{\"colorbar\":{\"outlinewidth\":0,\"ticks\":\"\"}},\"colorscale\":{\"sequential\":[[0.0,\"#0d0887\"],[0.1111111111111111,\"#46039f\"],[0.2222222222222222,\"#7201a8\"],[0.3333333333333333,\"#9c179e\"],[0.4444444444444444,\"#bd3786\"],[0.5555555555555556,\"#d8576b\"],[0.6666666666666666,\"#ed7953\"],[0.7777777777777778,\"#fb9f3a\"],[0.8888888888888888,\"#fdca26\"],[1.0,\"#f0f921\"]],\"sequentialminus\":[[0.0,\"#0d0887\"],[0.1111111111111111,\"#46039f\"],[0.2222222222222222,\"#7201a8\"],[0.3333333333333333,\"#9c179e\"],[0.4444444444444444,\"#bd3786\"],[0.5555555555555556,\"#d8576b\"],[0.6666666666666666,\"#ed7953\"],[0.7777777777777778,\"#fb9f3a\"],[0.8888888888888888,\"#fdca26\"],[1.0,\"#f0f921\"]],\"diverging\":[[0,\"#8e0152\"],[0.1,\"#c51b7d\"],[0.2,\"#de77ae\"],[0.3,\"#f1b6da\"],[0.4,\"#fde0ef\"],[0.5,\"#f7f7f7\"],[0.6,\"#e6f5d0\"],[0.7,\"#b8e186\"],[0.8,\"#7fbc41\"],[0.9,\"#4d9221\"],[1,\"#276419\"]]},\"xaxis\":{\"gridcolor\":\"white\",\"linecolor\":\"white\",\"ticks\":\"\",\"title\":{\"standoff\":15},\"zerolinecolor\":\"white\",\"automargin\":true,\"zerolinewidth\":2},\"yaxis\":{\"gridcolor\":\"white\",\"linecolor\":\"white\",\"ticks\":\"\",\"title\":{\"standoff\":15},\"zerolinecolor\":\"white\",\"automargin\":true,\"zerolinewidth\":2},\"scene\":{\"xaxis\":{\"backgroundcolor\":\"#E5ECF6\",\"gridcolor\":\"white\",\"linecolor\":\"white\",\"showbackground\":true,\"ticks\":\"\",\"zerolinecolor\":\"white\",\"gridwidth\":2},\"yaxis\":{\"backgroundcolor\":\"#E5ECF6\",\"gridcolor\":\"white\",\"linecolor\":\"white\",\"showbackground\":true,\"ticks\":\"\",\"zerolinecolor\":\"white\",\"gridwidth\":2},\"zaxis\":{\"backgroundcolor\":\"#E5ECF6\",\"gridcolor\":\"white\",\"linecolor\":\"white\",\"showbackground\":true,\"ticks\":\"\",\"zerolinecolor\":\"white\",\"gridwidth\":2}},\"shapedefaults\":{\"line\":{\"color\":\"#2a3f5f\"}},\"annotationdefaults\":{\"arrowcolor\":\"#2a3f5f\",\"arrowhead\":0,\"arrowwidth\":1},\"geo\":{\"bgcolor\":\"white\",\"landcolor\":\"#E5ECF6\",\"subunitcolor\":\"white\",\"showland\":true,\"showlakes\":true,\"lakecolor\":\"white\"},\"title\":{\"x\":0.05},\"mapbox\":{\"style\":\"light\"}}},\"xaxis\":{\"anchor\":\"y\",\"domain\":[0.0,1.0],\"matches\":\"x2\",\"showticklabels\":false,\"title\":{\"text\":\"Step\"}},\"yaxis\":{\"anchor\":\"x\",\"domain\":[0.575,1.0]},\"xaxis2\":{\"anchor\":\"y2\",\"domain\":[0.0,1.0],\"title\":{\"text\":\"Step\"}},\"yaxis2\":{\"anchor\":\"x2\",\"domain\":[0.0,0.425]}},                        {\"responsive\": true}                    ).then(function(){\n",
              "                            \n",
              "var gd = document.getElementById('9023375e-bd90-43a0-97be-db6be7d71b2d');\n",
              "var x = new MutationObserver(function (mutations, observer) {{\n",
              "        var display = window.getComputedStyle(gd).display;\n",
              "        if (!display || display === 'none') {{\n",
              "            console.log([gd, 'removed!']);\n",
              "            Plotly.purge(gd);\n",
              "            observer.disconnect();\n",
              "        }}\n",
              "}});\n",
              "\n",
              "// Listen for the removal of the full notebook cells\n",
              "var notebookContainer = gd.closest('#notebook-container');\n",
              "if (notebookContainer) {{\n",
              "    x.observe(notebookContainer, {childList: true});\n",
              "}}\n",
              "\n",
              "// Listen for the clearing of the current output cell\n",
              "var outputEl = gd.closest('.output');\n",
              "if (outputEl) {{\n",
              "    x.observe(outputEl, {childList: true});\n",
              "}}\n",
              "\n",
              "                        })                };                            </script>        </div>\n",
              "</body>\n",
              "</html>"
            ]
          },
          "metadata": {}
        }
      ]
    },
    {
      "cell_type": "code",
      "source": [
        "\"\"\"\n",
        "Seguimiento adql_agent_exp1 con una arquitecura intermedia\n",
        "\n",
        "\"\"\"\n",
        "\n",
        "x_list = np.arange(len(pev))\n",
        "\n",
        "fig1 = make_subplots(rows=2, cols=1, shared_xaxes=True)\n",
        "\n",
        "fig1.add_trace(go.Scatter(x=x_list, y=pev, mode='lines', name=\"Profit Evolution\",\n",
        "                          opacity=1), row=1, col=1)\n",
        "fig1.add_trace(go.Scatter(x=x_list, y=rev, mode='lines', name=\"Reward\",\n",
        "                          opacity=0.5), row=1, col=1)\n",
        "\n",
        "\n",
        "data_array = np.array([his[0] for his in history])\n",
        "action_list = np.array([his[1] for his in history])\n",
        "\n",
        "stay_indices = action_list == 'Stay'\n",
        "buy_indices = action_list == 'Buy'\n",
        "sell_indices = action_list == 'Sell'\n",
        "\n",
        "fig1.add_trace(go.Scatter(x=x_list, y=data_array, name=\"Dataset\", mode=\"lines\",\n",
        "                          line=dict(color=\"black\")), row=2, col=1)\n",
        "fig1.add_trace(go.Scatter(x=x_list[stay_indices], y=data_array[stay_indices],\n",
        "                          mode='markers', name=\"stay\", opacity=1.0), row=2, col=1)\n",
        "fig1.add_trace(go.Scatter(x=x_list[buy_indices], y=data_array[buy_indices],\n",
        "                          mode='markers', name=\"buy\", opacity=1.0), row=2, col=1)\n",
        "fig1.add_trace(go.Scatter(x=x_list[sell_indices], y=data_array[sell_indices],\n",
        "                          mode='markers', name=\"sell\", opacity=1.0), row=2, col=1)\n",
        "\n",
        "fig1.update_xaxes(title_text=\"Step\")\n",
        "fig1.show()"
      ],
      "metadata": {
        "colab": {
          "base_uri": "https://localhost:8080/",
          "height": 542
        },
        "id": "ioBS1FRmUx_l",
        "outputId": "da8728b0-7484-400e-b5af-6ef4d4f80c74"
      },
      "execution_count": 88,
      "outputs": [
        {
          "output_type": "display_data",
          "data": {
            "text/html": [
              "<html>\n",
              "<head><meta charset=\"utf-8\" /></head>\n",
              "<body>\n",
              "    <div>            <script src=\"https://cdnjs.cloudflare.com/ajax/libs/mathjax/2.7.5/MathJax.js?config=TeX-AMS-MML_SVG\"></script><script type=\"text/javascript\">if (window.MathJax && window.MathJax.Hub && window.MathJax.Hub.Config) {window.MathJax.Hub.Config({SVG: {font: \"STIX-Web\"}});}</script>                <script type=\"text/javascript\">window.PlotlyConfig = {MathJaxConfig: 'local'};</script>\n",
              "        <script charset=\"utf-8\" src=\"https://cdn.plot.ly/plotly-2.24.1.min.js\"></script>                <div id=\"87efb638-7ecc-4861-abf3-b49afb3df1cc\" class=\"plotly-graph-div\" style=\"height:525px; width:100%;\"></div>            <script type=\"text/javascript\">                                    window.PLOTLYENV=window.PLOTLYENV || {};                                    if (document.getElementById(\"87efb638-7ecc-4861-abf3-b49afb3df1cc\")) {                    Plotly.newPlot(                        \"87efb638-7ecc-4861-abf3-b49afb3df1cc\",                        [{\"mode\":\"lines\",\"name\":\"Profit Evolution\",\"opacity\":1,\"x\":[0,1,2,3,4,5,6,7,8,9,10,11,12,13,14,15,16,17,18,19,20,21,22,23,24,25,26,27,28,29,30,31,32,33,34,35,36,37,38,39,40,41,42,43,44,45,46,47,48,49,50,51,52,53,54,55,56,57,58,59,60,61,62,63,64,65,66,67,68,69,70,71,72,73,74,75,76,77,78,79,80,81,82,83,84,85,86,87,88,89,90,91,92,93,94,95,96,97,98],\"y\":[0,0,0,0,0,0,0,0,0,0,0,0,-16.370000000000005,-16.370000000000005,-35.870000000000005,-49.19,-49.19,-49.19,-49.19,-39.56999999999999,-39.56999999999999,-39.56999999999999,-42.129999999999995,-42.129999999999995,-42.129999999999995,-42.129999999999995,-42.129999999999995,-42.129999999999995,-52.56,-52.56,-69.19,-69.19,-69.19,-69.19,-69.19,-92.5,-92.5,-92.5,-92.5,-113.56,-113.56,-113.56,-131.56,-131.56,-131.56,-131.56,-131.56,-128.25,-123.25,-123.25,-121.69,-121.69,-121.69,-121.69,-121.69,-121.69,-121.69,-121.69,-121.69,-121.69,-116.19,-116.19,-116.19,-116.19,-116.19,-155.63,-155.63,-155.63,-155.63,-155.63,-196.37,-241.18,-240.49,-237.49,-234.99,-229.42000000000002,-229.42000000000002,-229.42000000000002,-227.61,-227.61,-232.61,-232.61,-236.3,-242.74,-242.74,-242.74,-240.8,-240.8,-240.8,-240.8,-240.8,-242.86,-242.86,-245.73000000000002,-245.73000000000002,-245.48000000000002,-245.48000000000002,-245.48000000000002,-245.48000000000002],\"type\":\"scatter\",\"xaxis\":\"x\",\"yaxis\":\"y\"},{\"mode\":\"lines\",\"name\":\"Reward\",\"opacity\":0.5,\"x\":[0,1,2,3,4,5,6,7,8,9,10,11,12,13,14,15,16,17,18,19,20,21,22,23,24,25,26,27,28,29,30,31,32,33,34,35,36,37,38,39,40,41,42,43,44,45,46,47,48,49,50,51,52,53,54,55,56,57,58,59,60,61,62,63,64,65,66,67,68,69,70,71,72,73,74,75,76,77,78,79,80,81,82,83,84,85,86,87,88,89,90,91,92,93,94,95,96,97,98],\"y\":[0,0,0,0,0,0,0,0,0,0,0,0,-16.370000000000005,0,-19.5,-13.319999999999993,0,0,0,9.620000000000005,0,0,-2.5600000000000023,0,0,0,0,0,-10.430000000000007,0,-16.629999999999995,0,0,0,0,-23.310000000000002,0,0,0,-21.060000000000002,0,0,-18.0,0,0,0,0,3.3100000000000023,5.0,0,1.5600000000000023,0,0,0,0,0,0,0,0,0,5.5,0,0,0,0,-39.44,0,0,0,0,-40.74,-44.81,0.6899999999999977,3.0,2.5,5.57,0,0,1.8100000000000023,0,-5.0,0,-3.6899999999999977,-6.440000000000005,0,0,1.9399999999999977,0,0,0,0,-2.0600000000000023,0,-2.8700000000000045,0,0.25,0,0,0],\"type\":\"scatter\",\"xaxis\":\"x\",\"yaxis\":\"y\"},{\"line\":{\"color\":\"black\"},\"mode\":\"lines\",\"name\":\"Dataset\",\"x\":[0,1,2,3,4,5,6,7,8,9,10,11,12,13,14,15,16,17,18,19,20,21,22,23,24,25,26,27,28,29,30,31,32,33,34,35,36,37,38,39,40,41,42,43,44,45,46,47,48,49,50,51,52,53,54,55,56,57,58,59,60,61,62,63,64,65,66,67,68,69,70,71,72,73,74,75,76,77,78,79,80,81,82,83,84,85,86,87,88,89,90,91,92,93,94,95,96,97,98],\"y\":[139.56,139.13,135.94,125.75,135.81,133.31,127.31,130.38,125.19,131.75,125.0,119.44,109.25,113.81,111.87,123.87,126.87,121.12,118.87,120.5,128.31,121.31,126.75,124.06,124.31,117.87,115.06,110.69,113.12,110.12,105.44,99.31,102.81,107.62,101.0,105.69,101.37,100.75,94.0,89.94,85.81,87.69,87.27,86.37,87.56,84.0,89.12,92.56,91.31,92.87,96.56,94.81,95.75,91.19,94.5,90.44,92.37,91.19,96.62,101.25,55.63,53.75,51.69,54.13,51.75,54.44,51.25,52.38,53.31,51.63,51.81,54.44,57.13,56.94,58.88,56.5,57.69,58.31,57.25,52.69,55.13,53.56,48.69,50.06,50.06,52.0,48.31,50.81,49.31,47.25,48.0,47.38,47.94,46.75,47.5,47.56,47.69,47.06,46.69],\"type\":\"scatter\",\"xaxis\":\"x2\",\"yaxis\":\"y2\"},{\"mode\":\"markers\",\"name\":\"stay\",\"opacity\":1.0,\"x\":[1,4,7,8,10,11,17,20,21,24,26,29,31,32,33,34,37,38,40,43,44,46,51,55,56,58,61,63,67,68,87,89,94,98],\"y\":[139.13,135.81,130.38,125.19,125.0,119.44,121.12,128.31,121.31,124.31,115.06,110.12,99.31,102.81,107.62,101.0,100.75,94.0,85.81,86.37,87.56,89.12,94.81,90.44,92.37,96.62,53.75,54.13,52.38,53.31,50.81,47.25,47.5,46.69],\"type\":\"scatter\",\"xaxis\":\"x2\",\"yaxis\":\"y2\"},{\"mode\":\"markers\",\"name\":\"buy\",\"opacity\":1.0,\"x\":[5,6,9,13,16,18,23,25,27,36,41,45,49,53,54,57,59,62,64,66,69,76,77,79,81,84,85,88,90,92,96,97],\"y\":[133.31,127.31,131.75,113.81,126.87,118.87,124.06,117.87,110.69,101.37,87.69,84.0,92.87,91.19,94.5,91.19,101.25,51.69,51.75,51.25,51.63,57.69,58.31,52.69,53.56,50.06,52.0,49.31,48.0,47.94,47.69,47.06],\"type\":\"scatter\",\"xaxis\":\"x2\",\"yaxis\":\"y2\"},{\"mode\":\"markers\",\"name\":\"sell\",\"opacity\":1.0,\"x\":[0,2,3,12,14,15,19,22,28,30,35,39,42,47,48,50,52,60,65,70,71,72,73,74,75,78,80,82,83,86,91,93,95],\"y\":[139.56,135.94,125.75,109.25,111.87,123.87,120.5,126.75,113.12,105.44,105.69,89.94,87.27,92.56,91.31,96.56,95.75,55.63,54.44,51.81,54.44,57.13,56.94,58.88,56.5,57.25,55.13,48.69,50.06,48.31,47.38,46.75,47.56],\"type\":\"scatter\",\"xaxis\":\"x2\",\"yaxis\":\"y2\"}],                        {\"template\":{\"data\":{\"histogram2dcontour\":[{\"type\":\"histogram2dcontour\",\"colorbar\":{\"outlinewidth\":0,\"ticks\":\"\"},\"colorscale\":[[0.0,\"#0d0887\"],[0.1111111111111111,\"#46039f\"],[0.2222222222222222,\"#7201a8\"],[0.3333333333333333,\"#9c179e\"],[0.4444444444444444,\"#bd3786\"],[0.5555555555555556,\"#d8576b\"],[0.6666666666666666,\"#ed7953\"],[0.7777777777777778,\"#fb9f3a\"],[0.8888888888888888,\"#fdca26\"],[1.0,\"#f0f921\"]]}],\"choropleth\":[{\"type\":\"choropleth\",\"colorbar\":{\"outlinewidth\":0,\"ticks\":\"\"}}],\"histogram2d\":[{\"type\":\"histogram2d\",\"colorbar\":{\"outlinewidth\":0,\"ticks\":\"\"},\"colorscale\":[[0.0,\"#0d0887\"],[0.1111111111111111,\"#46039f\"],[0.2222222222222222,\"#7201a8\"],[0.3333333333333333,\"#9c179e\"],[0.4444444444444444,\"#bd3786\"],[0.5555555555555556,\"#d8576b\"],[0.6666666666666666,\"#ed7953\"],[0.7777777777777778,\"#fb9f3a\"],[0.8888888888888888,\"#fdca26\"],[1.0,\"#f0f921\"]]}],\"heatmap\":[{\"type\":\"heatmap\",\"colorbar\":{\"outlinewidth\":0,\"ticks\":\"\"},\"colorscale\":[[0.0,\"#0d0887\"],[0.1111111111111111,\"#46039f\"],[0.2222222222222222,\"#7201a8\"],[0.3333333333333333,\"#9c179e\"],[0.4444444444444444,\"#bd3786\"],[0.5555555555555556,\"#d8576b\"],[0.6666666666666666,\"#ed7953\"],[0.7777777777777778,\"#fb9f3a\"],[0.8888888888888888,\"#fdca26\"],[1.0,\"#f0f921\"]]}],\"heatmapgl\":[{\"type\":\"heatmapgl\",\"colorbar\":{\"outlinewidth\":0,\"ticks\":\"\"},\"colorscale\":[[0.0,\"#0d0887\"],[0.1111111111111111,\"#46039f\"],[0.2222222222222222,\"#7201a8\"],[0.3333333333333333,\"#9c179e\"],[0.4444444444444444,\"#bd3786\"],[0.5555555555555556,\"#d8576b\"],[0.6666666666666666,\"#ed7953\"],[0.7777777777777778,\"#fb9f3a\"],[0.8888888888888888,\"#fdca26\"],[1.0,\"#f0f921\"]]}],\"contourcarpet\":[{\"type\":\"contourcarpet\",\"colorbar\":{\"outlinewidth\":0,\"ticks\":\"\"}}],\"contour\":[{\"type\":\"contour\",\"colorbar\":{\"outlinewidth\":0,\"ticks\":\"\"},\"colorscale\":[[0.0,\"#0d0887\"],[0.1111111111111111,\"#46039f\"],[0.2222222222222222,\"#7201a8\"],[0.3333333333333333,\"#9c179e\"],[0.4444444444444444,\"#bd3786\"],[0.5555555555555556,\"#d8576b\"],[0.6666666666666666,\"#ed7953\"],[0.7777777777777778,\"#fb9f3a\"],[0.8888888888888888,\"#fdca26\"],[1.0,\"#f0f921\"]]}],\"surface\":[{\"type\":\"surface\",\"colorbar\":{\"outlinewidth\":0,\"ticks\":\"\"},\"colorscale\":[[0.0,\"#0d0887\"],[0.1111111111111111,\"#46039f\"],[0.2222222222222222,\"#7201a8\"],[0.3333333333333333,\"#9c179e\"],[0.4444444444444444,\"#bd3786\"],[0.5555555555555556,\"#d8576b\"],[0.6666666666666666,\"#ed7953\"],[0.7777777777777778,\"#fb9f3a\"],[0.8888888888888888,\"#fdca26\"],[1.0,\"#f0f921\"]]}],\"mesh3d\":[{\"type\":\"mesh3d\",\"colorbar\":{\"outlinewidth\":0,\"ticks\":\"\"}}],\"scatter\":[{\"fillpattern\":{\"fillmode\":\"overlay\",\"size\":10,\"solidity\":0.2},\"type\":\"scatter\"}],\"parcoords\":[{\"type\":\"parcoords\",\"line\":{\"colorbar\":{\"outlinewidth\":0,\"ticks\":\"\"}}}],\"scatterpolargl\":[{\"type\":\"scatterpolargl\",\"marker\":{\"colorbar\":{\"outlinewidth\":0,\"ticks\":\"\"}}}],\"bar\":[{\"error_x\":{\"color\":\"#2a3f5f\"},\"error_y\":{\"color\":\"#2a3f5f\"},\"marker\":{\"line\":{\"color\":\"#E5ECF6\",\"width\":0.5},\"pattern\":{\"fillmode\":\"overlay\",\"size\":10,\"solidity\":0.2}},\"type\":\"bar\"}],\"scattergeo\":[{\"type\":\"scattergeo\",\"marker\":{\"colorbar\":{\"outlinewidth\":0,\"ticks\":\"\"}}}],\"scatterpolar\":[{\"type\":\"scatterpolar\",\"marker\":{\"colorbar\":{\"outlinewidth\":0,\"ticks\":\"\"}}}],\"histogram\":[{\"marker\":{\"pattern\":{\"fillmode\":\"overlay\",\"size\":10,\"solidity\":0.2}},\"type\":\"histogram\"}],\"scattergl\":[{\"type\":\"scattergl\",\"marker\":{\"colorbar\":{\"outlinewidth\":0,\"ticks\":\"\"}}}],\"scatter3d\":[{\"type\":\"scatter3d\",\"line\":{\"colorbar\":{\"outlinewidth\":0,\"ticks\":\"\"}},\"marker\":{\"colorbar\":{\"outlinewidth\":0,\"ticks\":\"\"}}}],\"scattermapbox\":[{\"type\":\"scattermapbox\",\"marker\":{\"colorbar\":{\"outlinewidth\":0,\"ticks\":\"\"}}}],\"scatterternary\":[{\"type\":\"scatterternary\",\"marker\":{\"colorbar\":{\"outlinewidth\":0,\"ticks\":\"\"}}}],\"scattercarpet\":[{\"type\":\"scattercarpet\",\"marker\":{\"colorbar\":{\"outlinewidth\":0,\"ticks\":\"\"}}}],\"carpet\":[{\"aaxis\":{\"endlinecolor\":\"#2a3f5f\",\"gridcolor\":\"white\",\"linecolor\":\"white\",\"minorgridcolor\":\"white\",\"startlinecolor\":\"#2a3f5f\"},\"baxis\":{\"endlinecolor\":\"#2a3f5f\",\"gridcolor\":\"white\",\"linecolor\":\"white\",\"minorgridcolor\":\"white\",\"startlinecolor\":\"#2a3f5f\"},\"type\":\"carpet\"}],\"table\":[{\"cells\":{\"fill\":{\"color\":\"#EBF0F8\"},\"line\":{\"color\":\"white\"}},\"header\":{\"fill\":{\"color\":\"#C8D4E3\"},\"line\":{\"color\":\"white\"}},\"type\":\"table\"}],\"barpolar\":[{\"marker\":{\"line\":{\"color\":\"#E5ECF6\",\"width\":0.5},\"pattern\":{\"fillmode\":\"overlay\",\"size\":10,\"solidity\":0.2}},\"type\":\"barpolar\"}],\"pie\":[{\"automargin\":true,\"type\":\"pie\"}]},\"layout\":{\"autotypenumbers\":\"strict\",\"colorway\":[\"#636efa\",\"#EF553B\",\"#00cc96\",\"#ab63fa\",\"#FFA15A\",\"#19d3f3\",\"#FF6692\",\"#B6E880\",\"#FF97FF\",\"#FECB52\"],\"font\":{\"color\":\"#2a3f5f\"},\"hovermode\":\"closest\",\"hoverlabel\":{\"align\":\"left\"},\"paper_bgcolor\":\"white\",\"plot_bgcolor\":\"#E5ECF6\",\"polar\":{\"bgcolor\":\"#E5ECF6\",\"angularaxis\":{\"gridcolor\":\"white\",\"linecolor\":\"white\",\"ticks\":\"\"},\"radialaxis\":{\"gridcolor\":\"white\",\"linecolor\":\"white\",\"ticks\":\"\"}},\"ternary\":{\"bgcolor\":\"#E5ECF6\",\"aaxis\":{\"gridcolor\":\"white\",\"linecolor\":\"white\",\"ticks\":\"\"},\"baxis\":{\"gridcolor\":\"white\",\"linecolor\":\"white\",\"ticks\":\"\"},\"caxis\":{\"gridcolor\":\"white\",\"linecolor\":\"white\",\"ticks\":\"\"}},\"coloraxis\":{\"colorbar\":{\"outlinewidth\":0,\"ticks\":\"\"}},\"colorscale\":{\"sequential\":[[0.0,\"#0d0887\"],[0.1111111111111111,\"#46039f\"],[0.2222222222222222,\"#7201a8\"],[0.3333333333333333,\"#9c179e\"],[0.4444444444444444,\"#bd3786\"],[0.5555555555555556,\"#d8576b\"],[0.6666666666666666,\"#ed7953\"],[0.7777777777777778,\"#fb9f3a\"],[0.8888888888888888,\"#fdca26\"],[1.0,\"#f0f921\"]],\"sequentialminus\":[[0.0,\"#0d0887\"],[0.1111111111111111,\"#46039f\"],[0.2222222222222222,\"#7201a8\"],[0.3333333333333333,\"#9c179e\"],[0.4444444444444444,\"#bd3786\"],[0.5555555555555556,\"#d8576b\"],[0.6666666666666666,\"#ed7953\"],[0.7777777777777778,\"#fb9f3a\"],[0.8888888888888888,\"#fdca26\"],[1.0,\"#f0f921\"]],\"diverging\":[[0,\"#8e0152\"],[0.1,\"#c51b7d\"],[0.2,\"#de77ae\"],[0.3,\"#f1b6da\"],[0.4,\"#fde0ef\"],[0.5,\"#f7f7f7\"],[0.6,\"#e6f5d0\"],[0.7,\"#b8e186\"],[0.8,\"#7fbc41\"],[0.9,\"#4d9221\"],[1,\"#276419\"]]},\"xaxis\":{\"gridcolor\":\"white\",\"linecolor\":\"white\",\"ticks\":\"\",\"title\":{\"standoff\":15},\"zerolinecolor\":\"white\",\"automargin\":true,\"zerolinewidth\":2},\"yaxis\":{\"gridcolor\":\"white\",\"linecolor\":\"white\",\"ticks\":\"\",\"title\":{\"standoff\":15},\"zerolinecolor\":\"white\",\"automargin\":true,\"zerolinewidth\":2},\"scene\":{\"xaxis\":{\"backgroundcolor\":\"#E5ECF6\",\"gridcolor\":\"white\",\"linecolor\":\"white\",\"showbackground\":true,\"ticks\":\"\",\"zerolinecolor\":\"white\",\"gridwidth\":2},\"yaxis\":{\"backgroundcolor\":\"#E5ECF6\",\"gridcolor\":\"white\",\"linecolor\":\"white\",\"showbackground\":true,\"ticks\":\"\",\"zerolinecolor\":\"white\",\"gridwidth\":2},\"zaxis\":{\"backgroundcolor\":\"#E5ECF6\",\"gridcolor\":\"white\",\"linecolor\":\"white\",\"showbackground\":true,\"ticks\":\"\",\"zerolinecolor\":\"white\",\"gridwidth\":2}},\"shapedefaults\":{\"line\":{\"color\":\"#2a3f5f\"}},\"annotationdefaults\":{\"arrowcolor\":\"#2a3f5f\",\"arrowhead\":0,\"arrowwidth\":1},\"geo\":{\"bgcolor\":\"white\",\"landcolor\":\"#E5ECF6\",\"subunitcolor\":\"white\",\"showland\":true,\"showlakes\":true,\"lakecolor\":\"white\"},\"title\":{\"x\":0.05},\"mapbox\":{\"style\":\"light\"}}},\"xaxis\":{\"anchor\":\"y\",\"domain\":[0.0,1.0],\"matches\":\"x2\",\"showticklabels\":false,\"title\":{\"text\":\"Step\"}},\"yaxis\":{\"anchor\":\"x\",\"domain\":[0.575,1.0]},\"xaxis2\":{\"anchor\":\"y2\",\"domain\":[0.0,1.0],\"title\":{\"text\":\"Step\"}},\"yaxis2\":{\"anchor\":\"x2\",\"domain\":[0.0,0.425]}},                        {\"responsive\": true}                    ).then(function(){\n",
              "                            \n",
              "var gd = document.getElementById('87efb638-7ecc-4861-abf3-b49afb3df1cc');\n",
              "var x = new MutationObserver(function (mutations, observer) {{\n",
              "        var display = window.getComputedStyle(gd).display;\n",
              "        if (!display || display === 'none') {{\n",
              "            console.log([gd, 'removed!']);\n",
              "            Plotly.purge(gd);\n",
              "            observer.disconnect();\n",
              "        }}\n",
              "}});\n",
              "\n",
              "// Listen for the removal of the full notebook cells\n",
              "var notebookContainer = gd.closest('#notebook-container');\n",
              "if (notebookContainer) {{\n",
              "    x.observe(notebookContainer, {childList: true});\n",
              "}}\n",
              "\n",
              "// Listen for the clearing of the current output cell\n",
              "var outputEl = gd.closest('.output');\n",
              "if (outputEl) {{\n",
              "    x.observe(outputEl, {childList: true});\n",
              "}}\n",
              "\n",
              "                        })                };                            </script>        </div>\n",
              "</body>\n",
              "</html>"
            ]
          },
          "metadata": {}
        }
      ]
    },
    {
      "cell_type": "code",
      "source": [
        "\"\"\"\n",
        "Seguimiento adql_agent_exp1 con una arquitecura compleja\n",
        "\n",
        "\"\"\"\n",
        "\n",
        "x_list = np.arange(len(pev))\n",
        "\n",
        "fig1 = make_subplots(rows=2, cols=1, shared_xaxes=True)\n",
        "\n",
        "fig1.add_trace(go.Scatter(x=x_list, y=pev, mode='lines', name=\"Profit Evolution\",\n",
        "                          opacity=1), row=1, col=1)\n",
        "fig1.add_trace(go.Scatter(x=x_list, y=rev, mode='lines', name=\"Reward\",\n",
        "                          opacity=0.5), row=1, col=1)\n",
        "\n",
        "\n",
        "data_array = np.array([his[0] for his in history])\n",
        "action_list = np.array([his[1] for his in history])\n",
        "\n",
        "stay_indices = action_list == 'Stay'\n",
        "buy_indices = action_list == 'Buy'\n",
        "sell_indices = action_list == 'Sell'\n",
        "\n",
        "fig1.add_trace(go.Scatter(x=x_list, y=data_array, name=\"Dataset\", mode=\"lines\",\n",
        "                          line=dict(color=\"black\")), row=2, col=1)\n",
        "fig1.add_trace(go.Scatter(x=x_list[stay_indices], y=data_array[stay_indices],\n",
        "                          mode='markers', name=\"stay\", opacity=1.0), row=2, col=1)\n",
        "fig1.add_trace(go.Scatter(x=x_list[buy_indices], y=data_array[buy_indices],\n",
        "                          mode='markers', name=\"buy\", opacity=1.0), row=2, col=1)\n",
        "fig1.add_trace(go.Scatter(x=x_list[sell_indices], y=data_array[sell_indices],\n",
        "                          mode='markers', name=\"sell\", opacity=1.0), row=2, col=1)\n",
        "\n",
        "fig1.update_xaxes(title_text=\"Step\")\n",
        "fig1.show()"
      ],
      "metadata": {
        "colab": {
          "base_uri": "https://localhost:8080/",
          "height": 542
        },
        "id": "BOh-SlJIXe87",
        "outputId": "d25c049a-ad28-452f-b43c-5a189a7fa0a2"
      },
      "execution_count": 99,
      "outputs": [
        {
          "output_type": "display_data",
          "data": {
            "text/html": [
              "<html>\n",
              "<head><meta charset=\"utf-8\" /></head>\n",
              "<body>\n",
              "    <div>            <script src=\"https://cdnjs.cloudflare.com/ajax/libs/mathjax/2.7.5/MathJax.js?config=TeX-AMS-MML_SVG\"></script><script type=\"text/javascript\">if (window.MathJax && window.MathJax.Hub && window.MathJax.Hub.Config) {window.MathJax.Hub.Config({SVG: {font: \"STIX-Web\"}});}</script>                <script type=\"text/javascript\">window.PlotlyConfig = {MathJaxConfig: 'local'};</script>\n",
              "        <script charset=\"utf-8\" src=\"https://cdn.plot.ly/plotly-2.24.1.min.js\"></script>                <div id=\"7ddac9b7-c107-442d-9e78-36ffb62e23e2\" class=\"plotly-graph-div\" style=\"height:525px; width:100%;\"></div>            <script type=\"text/javascript\">                                    window.PLOTLYENV=window.PLOTLYENV || {};                                    if (document.getElementById(\"7ddac9b7-c107-442d-9e78-36ffb62e23e2\")) {                    Plotly.newPlot(                        \"7ddac9b7-c107-442d-9e78-36ffb62e23e2\",                        [{\"mode\":\"lines\",\"name\":\"Profit Evolution\",\"opacity\":1,\"x\":[0,1,2,3,4,5,6,7,8,9,10,11,12,13,14,15,16,17,18,19,20,21,22,23,24,25,26,27,28,29,30,31,32,33,34,35,36,37,38,39,40,41,42,43,44,45,46,47,48,49,50,51,52,53,54,55,56,57,58,59,60,61,62,63,64,65,66,67,68,69,70,71,72,73,74,75,76,77,78,79,80,81,82,83,84,85,86,87,88,89,90,91,92,93,94,95,96,97,98],\"y\":[0,0.8700000000000045,0.8700000000000045,0.8700000000000045,-12.509999999999991,-12.509999999999991,-12.509999999999991,-12.509999999999991,-12.509999999999991,-12.509999999999991,-12.509999999999991,-12.509999999999991,-12.509999999999991,-22.69999999999999,-22.69999999999999,-22.69999999999999,-22.69999999999999,-22.69999999999999,-15.389999999999986,-15.389999999999986,-15.389999999999986,-15.389999999999986,-15.389999999999986,-12.509999999999991,-12.509999999999991,-12.509999999999991,-12.509999999999991,-24.319999999999993,-24.319999999999993,-24.319999999999993,-24.319999999999993,-24.319999999999993,-24.319999999999993,-24.319999999999993,-37.19999999999999,-37.19999999999999,-37.19999999999999,-64.13999999999999,-87.44999999999999,-104.13999999999999,-127.32,-127.32,-127.32,-127.32,-127.32,-139.07,-157.88,-157.88,-157.88,-157.88,-166.01,-157.14,-157.14,-157.14,-157.14,-157.14,-153.96999999999997,-150.71999999999997,-152.08999999999997,-152.08999999999997,-152.08999999999997,-152.08999999999997,-152.08999999999997,-152.08999999999997,-152.08999999999997,-152.08999999999997,-152.08999999999997,-152.08999999999997,-152.08999999999997,-152.08999999999997,-152.08999999999997,-152.08999999999997,-152.08999999999997,-186.26999999999998,-186.26999999999998,-186.26999999999998,-186.26999999999998,-186.26999999999998,-186.26999999999998,-186.26999999999998,-186.26999999999998,-186.26999999999998,-186.26999999999998,-186.26999999999998,-186.26999999999998,-186.26999999999998,-229.07999999999998,-271.96,-271.96,-271.96,-319.21,-319.21,-319.21,-322.96,-330.34,-334.59,-341.46999999999997,-345.03,-350.34999999999997],\"type\":\"scatter\",\"xaxis\":\"x\",\"yaxis\":\"y\"},{\"mode\":\"lines\",\"name\":\"Reward\",\"opacity\":0.5,\"x\":[0,1,2,3,4,5,6,7,8,9,10,11,12,13,14,15,16,17,18,19,20,21,22,23,24,25,26,27,28,29,30,31,32,33,34,35,36,37,38,39,40,41,42,43,44,45,46,47,48,49,50,51,52,53,54,55,56,57,58,59,60,61,62,63,64,65,66,67,68,69,70,71,72,73,74,75,76,77,78,79,80,81,82,83,84,85,86,87,88,89,90,91,92,93,94,95,96,97,98],\"y\":[0,0.8700000000000045,0,0,-13.379999999999995,0,0,0,0,0,0,0,0,-10.189999999999998,0,0,0,0,7.310000000000002,0,0,0,0,2.8799999999999955,0,0,0,-11.810000000000002,0,0,0,0,0,0,-12.879999999999995,0,0,-26.939999999999998,-23.310000000000002,-16.689999999999998,-23.180000000000007,0,0,0,0,-11.75,-18.810000000000002,0,0,0,-8.129999999999995,8.870000000000005,0,0,0,0,3.1700000000000017,3.25,-1.3700000000000045,0,0,0,0,0,0,0,0,0,0,0,0,0,0,-34.18,0,0,0,0,0,0,0,0,0,0,0,0,-42.81,-42.879999999999995,0,0,-47.25,0,0,-3.75,-7.380000000000003,-4.25,-6.8799999999999955,-3.5600000000000023,-5.32],\"type\":\"scatter\",\"xaxis\":\"x\",\"yaxis\":\"y\"},{\"line\":{\"color\":\"black\"},\"mode\":\"lines\",\"name\":\"Dataset\",\"x\":[0,1,2,3,4,5,6,7,8,9,10,11,12,13,14,15,16,17,18,19,20,21,22,23,24,25,26,27,28,29,30,31,32,33,34,35,36,37,38,39,40,41,42,43,44,45,46,47,48,49,50,51,52,53,54,55,56,57,58,59,60,61,62,63,64,65,66,67,68,69,70,71,72,73,74,75,76,77,78,79,80,81,82,83,84,85,86,87,88,89,90,91,92,93,94,95,96,97,98],\"y\":[139.56,139.13,135.94,125.75,135.81,133.31,127.31,130.38,125.19,131.75,125.0,119.44,109.25,113.81,111.87,123.87,126.87,121.12,118.87,120.5,128.31,121.31,126.75,124.06,124.31,117.87,115.06,110.69,113.12,110.12,105.44,99.31,102.81,107.62,101.0,105.69,101.37,100.75,94.0,89.94,85.81,87.69,87.27,86.37,87.56,84.0,89.12,92.56,91.31,92.87,96.56,94.81,95.75,91.19,94.5,90.44,92.37,91.19,96.62,101.25,55.63,53.75,51.69,54.13,51.75,54.44,51.25,52.38,53.31,51.63,51.81,54.44,57.13,56.94,58.88,56.5,57.69,58.31,57.25,52.69,55.13,53.56,48.69,50.06,50.06,52.0,48.31,50.81,49.31,47.25,48.0,47.38,47.94,46.75,47.5,47.56,47.69,47.06,46.69],\"type\":\"scatter\",\"xaxis\":\"x2\",\"yaxis\":\"y2\"},{\"mode\":\"markers\",\"name\":\"stay\",\"opacity\":1.0,\"x\":[3,5,6,8,10,15,19,22,25,26,30,31,36,41,44,53,59,60,61,62,70,72,75,80,81,88,89,91,92],\"y\":[125.75,133.31,127.31,125.19,125.0,123.87,120.5,126.75,117.87,115.06,105.44,99.31,101.37,87.69,87.56,91.19,101.25,55.63,53.75,51.69,51.81,57.13,56.5,55.13,53.56,49.31,47.25,47.38,47.94],\"type\":\"scatter\",\"xaxis\":\"x2\",\"yaxis\":\"y2\"},{\"mode\":\"markers\",\"name\":\"buy\",\"opacity\":1.0,\"x\":[0,2,12,14,16,17,20,21,24,28,29,32,33,35,42,43,47,48,49,52,54,55,63,64,65,66,67,68,69,71,74,76,77,78,79,82,83,84,85],\"y\":[139.56,135.94,109.25,111.87,126.87,121.12,128.31,121.31,124.31,113.12,110.12,102.81,107.62,105.69,87.27,86.37,92.56,91.31,92.87,95.75,94.5,90.44,54.13,51.75,54.44,51.25,52.38,53.31,51.63,54.44,58.88,57.69,58.31,57.25,52.69,48.69,50.06,50.06,52.0],\"type\":\"scatter\",\"xaxis\":\"x2\",\"yaxis\":\"y2\"},{\"mode\":\"markers\",\"name\":\"sell\",\"opacity\":1.0,\"x\":[1,4,7,9,11,13,18,23,27,34,37,38,39,40,45,46,50,51,56,57,58,73,86,87,90,93,94,95,96,97,98],\"y\":[139.13,135.81,130.38,131.75,119.44,113.81,118.87,124.06,110.69,101.0,100.75,94.0,89.94,85.81,84.0,89.12,96.56,94.81,92.37,91.19,96.62,56.94,48.31,50.81,48.0,46.75,47.5,47.56,47.69,47.06,46.69],\"type\":\"scatter\",\"xaxis\":\"x2\",\"yaxis\":\"y2\"}],                        {\"template\":{\"data\":{\"histogram2dcontour\":[{\"type\":\"histogram2dcontour\",\"colorbar\":{\"outlinewidth\":0,\"ticks\":\"\"},\"colorscale\":[[0.0,\"#0d0887\"],[0.1111111111111111,\"#46039f\"],[0.2222222222222222,\"#7201a8\"],[0.3333333333333333,\"#9c179e\"],[0.4444444444444444,\"#bd3786\"],[0.5555555555555556,\"#d8576b\"],[0.6666666666666666,\"#ed7953\"],[0.7777777777777778,\"#fb9f3a\"],[0.8888888888888888,\"#fdca26\"],[1.0,\"#f0f921\"]]}],\"choropleth\":[{\"type\":\"choropleth\",\"colorbar\":{\"outlinewidth\":0,\"ticks\":\"\"}}],\"histogram2d\":[{\"type\":\"histogram2d\",\"colorbar\":{\"outlinewidth\":0,\"ticks\":\"\"},\"colorscale\":[[0.0,\"#0d0887\"],[0.1111111111111111,\"#46039f\"],[0.2222222222222222,\"#7201a8\"],[0.3333333333333333,\"#9c179e\"],[0.4444444444444444,\"#bd3786\"],[0.5555555555555556,\"#d8576b\"],[0.6666666666666666,\"#ed7953\"],[0.7777777777777778,\"#fb9f3a\"],[0.8888888888888888,\"#fdca26\"],[1.0,\"#f0f921\"]]}],\"heatmap\":[{\"type\":\"heatmap\",\"colorbar\":{\"outlinewidth\":0,\"ticks\":\"\"},\"colorscale\":[[0.0,\"#0d0887\"],[0.1111111111111111,\"#46039f\"],[0.2222222222222222,\"#7201a8\"],[0.3333333333333333,\"#9c179e\"],[0.4444444444444444,\"#bd3786\"],[0.5555555555555556,\"#d8576b\"],[0.6666666666666666,\"#ed7953\"],[0.7777777777777778,\"#fb9f3a\"],[0.8888888888888888,\"#fdca26\"],[1.0,\"#f0f921\"]]}],\"heatmapgl\":[{\"type\":\"heatmapgl\",\"colorbar\":{\"outlinewidth\":0,\"ticks\":\"\"},\"colorscale\":[[0.0,\"#0d0887\"],[0.1111111111111111,\"#46039f\"],[0.2222222222222222,\"#7201a8\"],[0.3333333333333333,\"#9c179e\"],[0.4444444444444444,\"#bd3786\"],[0.5555555555555556,\"#d8576b\"],[0.6666666666666666,\"#ed7953\"],[0.7777777777777778,\"#fb9f3a\"],[0.8888888888888888,\"#fdca26\"],[1.0,\"#f0f921\"]]}],\"contourcarpet\":[{\"type\":\"contourcarpet\",\"colorbar\":{\"outlinewidth\":0,\"ticks\":\"\"}}],\"contour\":[{\"type\":\"contour\",\"colorbar\":{\"outlinewidth\":0,\"ticks\":\"\"},\"colorscale\":[[0.0,\"#0d0887\"],[0.1111111111111111,\"#46039f\"],[0.2222222222222222,\"#7201a8\"],[0.3333333333333333,\"#9c179e\"],[0.4444444444444444,\"#bd3786\"],[0.5555555555555556,\"#d8576b\"],[0.6666666666666666,\"#ed7953\"],[0.7777777777777778,\"#fb9f3a\"],[0.8888888888888888,\"#fdca26\"],[1.0,\"#f0f921\"]]}],\"surface\":[{\"type\":\"surface\",\"colorbar\":{\"outlinewidth\":0,\"ticks\":\"\"},\"colorscale\":[[0.0,\"#0d0887\"],[0.1111111111111111,\"#46039f\"],[0.2222222222222222,\"#7201a8\"],[0.3333333333333333,\"#9c179e\"],[0.4444444444444444,\"#bd3786\"],[0.5555555555555556,\"#d8576b\"],[0.6666666666666666,\"#ed7953\"],[0.7777777777777778,\"#fb9f3a\"],[0.8888888888888888,\"#fdca26\"],[1.0,\"#f0f921\"]]}],\"mesh3d\":[{\"type\":\"mesh3d\",\"colorbar\":{\"outlinewidth\":0,\"ticks\":\"\"}}],\"scatter\":[{\"fillpattern\":{\"fillmode\":\"overlay\",\"size\":10,\"solidity\":0.2},\"type\":\"scatter\"}],\"parcoords\":[{\"type\":\"parcoords\",\"line\":{\"colorbar\":{\"outlinewidth\":0,\"ticks\":\"\"}}}],\"scatterpolargl\":[{\"type\":\"scatterpolargl\",\"marker\":{\"colorbar\":{\"outlinewidth\":0,\"ticks\":\"\"}}}],\"bar\":[{\"error_x\":{\"color\":\"#2a3f5f\"},\"error_y\":{\"color\":\"#2a3f5f\"},\"marker\":{\"line\":{\"color\":\"#E5ECF6\",\"width\":0.5},\"pattern\":{\"fillmode\":\"overlay\",\"size\":10,\"solidity\":0.2}},\"type\":\"bar\"}],\"scattergeo\":[{\"type\":\"scattergeo\",\"marker\":{\"colorbar\":{\"outlinewidth\":0,\"ticks\":\"\"}}}],\"scatterpolar\":[{\"type\":\"scatterpolar\",\"marker\":{\"colorbar\":{\"outlinewidth\":0,\"ticks\":\"\"}}}],\"histogram\":[{\"marker\":{\"pattern\":{\"fillmode\":\"overlay\",\"size\":10,\"solidity\":0.2}},\"type\":\"histogram\"}],\"scattergl\":[{\"type\":\"scattergl\",\"marker\":{\"colorbar\":{\"outlinewidth\":0,\"ticks\":\"\"}}}],\"scatter3d\":[{\"type\":\"scatter3d\",\"line\":{\"colorbar\":{\"outlinewidth\":0,\"ticks\":\"\"}},\"marker\":{\"colorbar\":{\"outlinewidth\":0,\"ticks\":\"\"}}}],\"scattermapbox\":[{\"type\":\"scattermapbox\",\"marker\":{\"colorbar\":{\"outlinewidth\":0,\"ticks\":\"\"}}}],\"scatterternary\":[{\"type\":\"scatterternary\",\"marker\":{\"colorbar\":{\"outlinewidth\":0,\"ticks\":\"\"}}}],\"scattercarpet\":[{\"type\":\"scattercarpet\",\"marker\":{\"colorbar\":{\"outlinewidth\":0,\"ticks\":\"\"}}}],\"carpet\":[{\"aaxis\":{\"endlinecolor\":\"#2a3f5f\",\"gridcolor\":\"white\",\"linecolor\":\"white\",\"minorgridcolor\":\"white\",\"startlinecolor\":\"#2a3f5f\"},\"baxis\":{\"endlinecolor\":\"#2a3f5f\",\"gridcolor\":\"white\",\"linecolor\":\"white\",\"minorgridcolor\":\"white\",\"startlinecolor\":\"#2a3f5f\"},\"type\":\"carpet\"}],\"table\":[{\"cells\":{\"fill\":{\"color\":\"#EBF0F8\"},\"line\":{\"color\":\"white\"}},\"header\":{\"fill\":{\"color\":\"#C8D4E3\"},\"line\":{\"color\":\"white\"}},\"type\":\"table\"}],\"barpolar\":[{\"marker\":{\"line\":{\"color\":\"#E5ECF6\",\"width\":0.5},\"pattern\":{\"fillmode\":\"overlay\",\"size\":10,\"solidity\":0.2}},\"type\":\"barpolar\"}],\"pie\":[{\"automargin\":true,\"type\":\"pie\"}]},\"layout\":{\"autotypenumbers\":\"strict\",\"colorway\":[\"#636efa\",\"#EF553B\",\"#00cc96\",\"#ab63fa\",\"#FFA15A\",\"#19d3f3\",\"#FF6692\",\"#B6E880\",\"#FF97FF\",\"#FECB52\"],\"font\":{\"color\":\"#2a3f5f\"},\"hovermode\":\"closest\",\"hoverlabel\":{\"align\":\"left\"},\"paper_bgcolor\":\"white\",\"plot_bgcolor\":\"#E5ECF6\",\"polar\":{\"bgcolor\":\"#E5ECF6\",\"angularaxis\":{\"gridcolor\":\"white\",\"linecolor\":\"white\",\"ticks\":\"\"},\"radialaxis\":{\"gridcolor\":\"white\",\"linecolor\":\"white\",\"ticks\":\"\"}},\"ternary\":{\"bgcolor\":\"#E5ECF6\",\"aaxis\":{\"gridcolor\":\"white\",\"linecolor\":\"white\",\"ticks\":\"\"},\"baxis\":{\"gridcolor\":\"white\",\"linecolor\":\"white\",\"ticks\":\"\"},\"caxis\":{\"gridcolor\":\"white\",\"linecolor\":\"white\",\"ticks\":\"\"}},\"coloraxis\":{\"colorbar\":{\"outlinewidth\":0,\"ticks\":\"\"}},\"colorscale\":{\"sequential\":[[0.0,\"#0d0887\"],[0.1111111111111111,\"#46039f\"],[0.2222222222222222,\"#7201a8\"],[0.3333333333333333,\"#9c179e\"],[0.4444444444444444,\"#bd3786\"],[0.5555555555555556,\"#d8576b\"],[0.6666666666666666,\"#ed7953\"],[0.7777777777777778,\"#fb9f3a\"],[0.8888888888888888,\"#fdca26\"],[1.0,\"#f0f921\"]],\"sequentialminus\":[[0.0,\"#0d0887\"],[0.1111111111111111,\"#46039f\"],[0.2222222222222222,\"#7201a8\"],[0.3333333333333333,\"#9c179e\"],[0.4444444444444444,\"#bd3786\"],[0.5555555555555556,\"#d8576b\"],[0.6666666666666666,\"#ed7953\"],[0.7777777777777778,\"#fb9f3a\"],[0.8888888888888888,\"#fdca26\"],[1.0,\"#f0f921\"]],\"diverging\":[[0,\"#8e0152\"],[0.1,\"#c51b7d\"],[0.2,\"#de77ae\"],[0.3,\"#f1b6da\"],[0.4,\"#fde0ef\"],[0.5,\"#f7f7f7\"],[0.6,\"#e6f5d0\"],[0.7,\"#b8e186\"],[0.8,\"#7fbc41\"],[0.9,\"#4d9221\"],[1,\"#276419\"]]},\"xaxis\":{\"gridcolor\":\"white\",\"linecolor\":\"white\",\"ticks\":\"\",\"title\":{\"standoff\":15},\"zerolinecolor\":\"white\",\"automargin\":true,\"zerolinewidth\":2},\"yaxis\":{\"gridcolor\":\"white\",\"linecolor\":\"white\",\"ticks\":\"\",\"title\":{\"standoff\":15},\"zerolinecolor\":\"white\",\"automargin\":true,\"zerolinewidth\":2},\"scene\":{\"xaxis\":{\"backgroundcolor\":\"#E5ECF6\",\"gridcolor\":\"white\",\"linecolor\":\"white\",\"showbackground\":true,\"ticks\":\"\",\"zerolinecolor\":\"white\",\"gridwidth\":2},\"yaxis\":{\"backgroundcolor\":\"#E5ECF6\",\"gridcolor\":\"white\",\"linecolor\":\"white\",\"showbackground\":true,\"ticks\":\"\",\"zerolinecolor\":\"white\",\"gridwidth\":2},\"zaxis\":{\"backgroundcolor\":\"#E5ECF6\",\"gridcolor\":\"white\",\"linecolor\":\"white\",\"showbackground\":true,\"ticks\":\"\",\"zerolinecolor\":\"white\",\"gridwidth\":2}},\"shapedefaults\":{\"line\":{\"color\":\"#2a3f5f\"}},\"annotationdefaults\":{\"arrowcolor\":\"#2a3f5f\",\"arrowhead\":0,\"arrowwidth\":1},\"geo\":{\"bgcolor\":\"white\",\"landcolor\":\"#E5ECF6\",\"subunitcolor\":\"white\",\"showland\":true,\"showlakes\":true,\"lakecolor\":\"white\"},\"title\":{\"x\":0.05},\"mapbox\":{\"style\":\"light\"}}},\"xaxis\":{\"anchor\":\"y\",\"domain\":[0.0,1.0],\"matches\":\"x2\",\"showticklabels\":false,\"title\":{\"text\":\"Step\"}},\"yaxis\":{\"anchor\":\"x\",\"domain\":[0.575,1.0]},\"xaxis2\":{\"anchor\":\"y2\",\"domain\":[0.0,1.0],\"title\":{\"text\":\"Step\"}},\"yaxis2\":{\"anchor\":\"x2\",\"domain\":[0.0,0.425]}},                        {\"responsive\": true}                    ).then(function(){\n",
              "                            \n",
              "var gd = document.getElementById('7ddac9b7-c107-442d-9e78-36ffb62e23e2');\n",
              "var x = new MutationObserver(function (mutations, observer) {{\n",
              "        var display = window.getComputedStyle(gd).display;\n",
              "        if (!display || display === 'none') {{\n",
              "            console.log([gd, 'removed!']);\n",
              "            Plotly.purge(gd);\n",
              "            observer.disconnect();\n",
              "        }}\n",
              "}});\n",
              "\n",
              "// Listen for the removal of the full notebook cells\n",
              "var notebookContainer = gd.closest('#notebook-container');\n",
              "if (notebookContainer) {{\n",
              "    x.observe(notebookContainer, {childList: true});\n",
              "}}\n",
              "\n",
              "// Listen for the clearing of the current output cell\n",
              "var outputEl = gd.closest('.output');\n",
              "if (outputEl) {{\n",
              "    x.observe(outputEl, {childList: true});\n",
              "}}\n",
              "\n",
              "                        })                };                            </script>        </div>\n",
              "</body>\n",
              "</html>"
            ]
          },
          "metadata": {}
        }
      ]
    },
    {
      "cell_type": "code",
      "source": [
        "pev, rev, history = test_model(agent=dql_agent_exp2, env=entorno_exp2, epsilon=0.01)"
      ],
      "metadata": {
        "colab": {
          "base_uri": "https://localhost:8080/"
        },
        "id": "7Oc4O8WfjXjc",
        "outputId": "14648e74-7d10-4bd7-fcea-8a0e4e6f5f66"
      },
      "execution_count": 62,
      "outputs": [
        {
          "output_type": "stream",
          "name": "stderr",
          "text": [
            "<ipython-input-47-04752e11e2c3>:73: FutureWarning:\n",
            "\n",
            "Series.__getitem__ treating keys as positions is deprecated. In a future version, integer keys will always be treated as labels (consistent with DataFrame behavior). To access a value by position, use `ser.iloc[pos]`\n",
            "\n",
            "<ipython-input-47-04752e11e2c3>:91: FutureWarning:\n",
            "\n",
            "Series.__getitem__ treating keys as positions is deprecated. In a future version, integer keys will always be treated as labels (consistent with DataFrame behavior). To access a value by position, use `ser.iloc[pos]`\n",
            "\n",
            "<ipython-input-47-04752e11e2c3>:27: FutureWarning:\n",
            "\n",
            "Series.__getitem__ treating keys as positions is deprecated. In a future version, integer keys will always be treated as labels (consistent with DataFrame behavior). To access a value by position, use `ser.iloc[pos]`\n",
            "\n"
          ]
        }
      ]
    },
    {
      "cell_type": "code",
      "source": [
        "x_list = np.arange(len(pev))\n",
        "\n",
        "fig1 = make_subplots(rows=2, cols=1, shared_xaxes=True)\n",
        "\n",
        "fig1.add_trace(go.Scatter(x=x_list, y=pev, mode='lines', name=\"Profit Evolution\",\n",
        "                          opacity=1), row=1, col=1)\n",
        "fig1.add_trace(go.Scatter(x=x_list, y=rev, mode='lines', name=\"Reward\",\n",
        "                          opacity=0.5), row=1, col=1)\n",
        "\n",
        "\n",
        "data_array = np.array([his[0] for his in history])\n",
        "action_list = np.array([his[1] for his in history])\n",
        "\n",
        "stay_indices = action_list == 'Stay'\n",
        "buy_indices = action_list == 'Buy'\n",
        "sell_indices = action_list == 'Sell'\n",
        "\n",
        "fig1.add_trace(go.Scatter(x=x_list, y=data_array, name=\"Dataset\", mode=\"lines\",\n",
        "                          line=dict(color=\"black\")), row=2, col=1)\n",
        "fig1.add_trace(go.Scatter(x=x_list[stay_indices], y=data_array[stay_indices],\n",
        "                          mode='markers', name=\"stay\", opacity=1.0), row=2, col=1)\n",
        "fig1.add_trace(go.Scatter(x=x_list[buy_indices], y=data_array[buy_indices],\n",
        "                          mode='markers', name=\"buy\", opacity=1.0), row=2, col=1)\n",
        "fig1.add_trace(go.Scatter(x=x_list[sell_indices], y=data_array[sell_indices],\n",
        "                          mode='markers', name=\"sell\", opacity=1.0), row=2, col=1)\n",
        "\n",
        "fig1.update_xaxes(title_text=\"Step\")\n",
        "fig1.show()\n"
      ],
      "metadata": {
        "colab": {
          "base_uri": "https://localhost:8080/",
          "height": 542
        },
        "id": "0ersuvZKjldn",
        "outputId": "39feab19-8728-41a4-d434-2418063f7ef4"
      },
      "execution_count": 63,
      "outputs": [
        {
          "output_type": "display_data",
          "data": {
            "text/html": [
              "<html>\n",
              "<head><meta charset=\"utf-8\" /></head>\n",
              "<body>\n",
              "    <div>            <script src=\"https://cdnjs.cloudflare.com/ajax/libs/mathjax/2.7.5/MathJax.js?config=TeX-AMS-MML_SVG\"></script><script type=\"text/javascript\">if (window.MathJax && window.MathJax.Hub && window.MathJax.Hub.Config) {window.MathJax.Hub.Config({SVG: {font: \"STIX-Web\"}});}</script>                <script type=\"text/javascript\">window.PlotlyConfig = {MathJaxConfig: 'local'};</script>\n",
              "        <script charset=\"utf-8\" src=\"https://cdn.plot.ly/plotly-2.24.1.min.js\"></script>                <div id=\"4912c14f-592f-45ff-9696-c51bad241bd9\" class=\"plotly-graph-div\" style=\"height:525px; width:100%;\"></div>            <script type=\"text/javascript\">                                    window.PLOTLYENV=window.PLOTLYENV || {};                                    if (document.getElementById(\"4912c14f-592f-45ff-9696-c51bad241bd9\")) {                    Plotly.newPlot(                        \"4912c14f-592f-45ff-9696-c51bad241bd9\",                        [{\"mode\":\"lines\",\"name\":\"Profit Evolution\",\"opacity\":1,\"x\":[0,1,2,3,4,5,6,7,8,9,10,11,12,13,14,15,16,17,18,19,20,21,22,23,24,25,26,27,28,29,30,31,32,33,34,35,36,37,38,39,40,41,42,43,44,45,46,47,48,49,50,51,52,53,54,55,56,57,58,59,60,61,62,63,64,65,66,67,68,69,70,71,72,73,74,75,76,77,78,79,80,81,82,83,84,85,86,87,88,89,90,91,92,93,94,95,96,97,98],\"y\":[0,0,0,0,0,0,0,0,0,-13.5,-17.560000000000002,-17.560000000000002,-17.560000000000002,-41.620000000000005,-41.620000000000005,-41.620000000000005,-45.06,-48.56999999999999,-48.56999999999999,-48.56999999999999,-53.06999999999999,-53.06999999999999,-53.06999999999999,-53.06999999999999,-42.81999999999999,-42.81999999999999,-42.81999999999999,-48.879999999999995,-48.879999999999995,-54.629999999999995,-54.629999999999995,-54.629999999999995,-54.629999999999995,-54.629999999999995,-75.32,-75.32,-96.38,-119.32,-119.32,-143.19,-143.19,-167.5,-185.25,-200.79000000000002,-200.79000000000002,-214.23000000000002,-230.98000000000002,-230.98000000000002,-228.36,-228.36,-228.36,-218.17000000000002,-212.48000000000002,-212.48000000000002,-212.48000000000002,-212.48000000000002,-213.35000000000002,-213.35000000000002,-215.03000000000003,-214.16000000000003,-214.16000000000003,-214.16000000000003,-252.78000000000003,-252.78000000000003,-252.78000000000003,-252.78000000000003,-250.03000000000003,-252.91000000000003,-252.91000000000003,-252.91000000000003,-252.91000000000003,-252.91000000000003,-252.91000000000003,-252.91000000000003,-252.91000000000003,-252.91000000000003,-252.91000000000003,-247.60000000000002,-247.60000000000002,-247.60000000000002,-247.60000000000002,-247.60000000000002,-245.67000000000002,-245.67000000000002,-245.67000000000002,-245.67000000000002,-245.67000000000002,-245.67000000000002,-245.67000000000002,-253.3,-253.3,-253.3,-263.17,-267.92,-276.3,-277.49,-279.99,-282.36,-283.61],\"type\":\"scatter\",\"xaxis\":\"x\",\"yaxis\":\"y\"},{\"mode\":\"lines\",\"name\":\"Reward\",\"opacity\":0.5,\"x\":[0,1,2,3,4,5,6,7,8,9,10,11,12,13,14,15,16,17,18,19,20,21,22,23,24,25,26,27,28,29,30,31,32,33,34,35,36,37,38,39,40,41,42,43,44,45,46,47,48,49,50,51,52,53,54,55,56,57,58,59,60,61,62,63,64,65,66,67,68,69,70,71,72,73,74,75,76,77,78,79,80,81,82,83,84,85,86,87,88,89,90,91,92,93,94,95,96,97,98],\"y\":[0,0,0,0,0,0,0,0,0,-13.5,-4.060000000000002,0,0,-24.060000000000002,0,0,-3.4399999999999977,-3.509999999999991,0,0,-4.5,0,0,0,10.25,0,0,-6.060000000000002,0,-5.75,0,0,0,0,-20.689999999999998,0,-21.060000000000002,-22.939999999999998,0,-23.870000000000005,0,-24.310000000000002,-17.75,-15.540000000000006,0,-13.439999999999998,-16.75,0,2.6200000000000045,0,0,10.189999999999998,5.689999999999998,0,0,0,-0.8700000000000045,0,-1.6800000000000068,0.8700000000000045,0,0,-38.620000000000005,0,0,0,2.75,-2.8800000000000026,0,0,0,0,0,0,0,0,0,5.309999999999995,0,0,0,0,1.9299999999999997,0,0,0,0,0,0,-7.6299999999999955,0,0,-9.869999999999997,-4.75,-8.380000000000003,-1.1899999999999977,-2.5,-2.3700000000000045,-1.25],\"type\":\"scatter\",\"xaxis\":\"x\",\"yaxis\":\"y\"},{\"line\":{\"color\":\"black\"},\"mode\":\"lines\",\"name\":\"Dataset\",\"x\":[0,1,2,3,4,5,6,7,8,9,10,11,12,13,14,15,16,17,18,19,20,21,22,23,24,25,26,27,28,29,30,31,32,33,34,35,36,37,38,39,40,41,42,43,44,45,46,47,48,49,50,51,52,53,54,55,56,57,58,59,60,61,62,63,64,65,66,67,68,69,70,71,72,73,74,75,76,77,78,79,80,81,82,83,84,85,86,87,88,89,90,91,92,93,94,95,96,97,98],\"y\":[139.56,139.13,135.94,125.75,135.81,133.31,127.31,130.38,125.19,131.75,125.0,119.44,109.25,113.81,111.87,123.87,126.87,121.12,118.87,120.5,128.31,121.31,126.75,124.06,124.31,117.87,115.06,110.69,113.12,110.12,105.44,99.31,102.81,107.62,101.0,105.69,101.37,100.75,94.0,89.94,85.81,87.69,87.27,86.37,87.56,84.0,89.12,92.56,91.31,92.87,96.56,94.81,95.75,91.19,94.5,90.44,92.37,91.19,96.62,101.25,55.63,53.75,51.69,54.13,51.75,54.44,51.25,52.38,53.31,51.63,51.81,54.44,57.13,56.94,58.88,56.5,57.69,58.31,57.25,52.69,55.13,53.56,48.69,50.06,50.06,52.0,48.31,50.81,49.31,47.25,48.0,47.38,47.94,46.75,47.5,47.56,47.69,47.06,46.69],\"type\":\"scatter\",\"xaxis\":\"x2\",\"yaxis\":\"y2\"},{\"mode\":\"markers\",\"name\":\"stay\",\"opacity\":1.0,\"x\":[1,2,3,4,12,15,22,28,32,54,55,60,61,65,69,71,72,73,75,76,78,86,90,91],\"y\":[139.13,135.94,125.75,135.81,109.25,123.87,126.75,113.12,102.81,94.5,90.44,55.63,53.75,54.44,51.63,54.44,57.13,56.94,56.5,57.69,57.25,48.31,48.0,47.38],\"type\":\"scatter\",\"xaxis\":\"x2\",\"yaxis\":\"y2\"},{\"mode\":\"markers\",\"name\":\"buy\",\"opacity\":1.0,\"x\":[0,5,6,7,8,11,14,18,19,21,23,25,26,30,31,33,35,38,40,44,47,49,50,53,57,63,64,68,70,74,79,80,81,83,84,85,87,88],\"y\":[139.56,133.31,127.31,130.38,125.19,119.44,111.87,118.87,120.5,121.31,124.06,117.87,115.06,105.44,99.31,107.62,105.69,94.0,85.81,87.56,92.56,92.87,96.56,91.19,91.19,54.13,51.75,53.31,51.81,58.88,52.69,55.13,53.56,50.06,50.06,52.0,50.81,49.31],\"type\":\"scatter\",\"xaxis\":\"x2\",\"yaxis\":\"y2\"},{\"mode\":\"markers\",\"name\":\"sell\",\"opacity\":1.0,\"x\":[9,10,13,16,17,20,24,27,29,34,36,37,39,41,42,43,45,46,48,51,52,56,58,59,62,66,67,77,82,89,92,93,94,95,96,97,98],\"y\":[131.75,125.0,113.81,126.87,121.12,128.31,124.31,110.69,110.12,101.0,101.37,100.75,89.94,87.69,87.27,86.37,84.0,89.12,91.31,94.81,95.75,92.37,96.62,101.25,51.69,51.25,52.38,58.31,48.69,47.25,47.94,46.75,47.5,47.56,47.69,47.06,46.69],\"type\":\"scatter\",\"xaxis\":\"x2\",\"yaxis\":\"y2\"}],                        {\"template\":{\"data\":{\"histogram2dcontour\":[{\"type\":\"histogram2dcontour\",\"colorbar\":{\"outlinewidth\":0,\"ticks\":\"\"},\"colorscale\":[[0.0,\"#0d0887\"],[0.1111111111111111,\"#46039f\"],[0.2222222222222222,\"#7201a8\"],[0.3333333333333333,\"#9c179e\"],[0.4444444444444444,\"#bd3786\"],[0.5555555555555556,\"#d8576b\"],[0.6666666666666666,\"#ed7953\"],[0.7777777777777778,\"#fb9f3a\"],[0.8888888888888888,\"#fdca26\"],[1.0,\"#f0f921\"]]}],\"choropleth\":[{\"type\":\"choropleth\",\"colorbar\":{\"outlinewidth\":0,\"ticks\":\"\"}}],\"histogram2d\":[{\"type\":\"histogram2d\",\"colorbar\":{\"outlinewidth\":0,\"ticks\":\"\"},\"colorscale\":[[0.0,\"#0d0887\"],[0.1111111111111111,\"#46039f\"],[0.2222222222222222,\"#7201a8\"],[0.3333333333333333,\"#9c179e\"],[0.4444444444444444,\"#bd3786\"],[0.5555555555555556,\"#d8576b\"],[0.6666666666666666,\"#ed7953\"],[0.7777777777777778,\"#fb9f3a\"],[0.8888888888888888,\"#fdca26\"],[1.0,\"#f0f921\"]]}],\"heatmap\":[{\"type\":\"heatmap\",\"colorbar\":{\"outlinewidth\":0,\"ticks\":\"\"},\"colorscale\":[[0.0,\"#0d0887\"],[0.1111111111111111,\"#46039f\"],[0.2222222222222222,\"#7201a8\"],[0.3333333333333333,\"#9c179e\"],[0.4444444444444444,\"#bd3786\"],[0.5555555555555556,\"#d8576b\"],[0.6666666666666666,\"#ed7953\"],[0.7777777777777778,\"#fb9f3a\"],[0.8888888888888888,\"#fdca26\"],[1.0,\"#f0f921\"]]}],\"heatmapgl\":[{\"type\":\"heatmapgl\",\"colorbar\":{\"outlinewidth\":0,\"ticks\":\"\"},\"colorscale\":[[0.0,\"#0d0887\"],[0.1111111111111111,\"#46039f\"],[0.2222222222222222,\"#7201a8\"],[0.3333333333333333,\"#9c179e\"],[0.4444444444444444,\"#bd3786\"],[0.5555555555555556,\"#d8576b\"],[0.6666666666666666,\"#ed7953\"],[0.7777777777777778,\"#fb9f3a\"],[0.8888888888888888,\"#fdca26\"],[1.0,\"#f0f921\"]]}],\"contourcarpet\":[{\"type\":\"contourcarpet\",\"colorbar\":{\"outlinewidth\":0,\"ticks\":\"\"}}],\"contour\":[{\"type\":\"contour\",\"colorbar\":{\"outlinewidth\":0,\"ticks\":\"\"},\"colorscale\":[[0.0,\"#0d0887\"],[0.1111111111111111,\"#46039f\"],[0.2222222222222222,\"#7201a8\"],[0.3333333333333333,\"#9c179e\"],[0.4444444444444444,\"#bd3786\"],[0.5555555555555556,\"#d8576b\"],[0.6666666666666666,\"#ed7953\"],[0.7777777777777778,\"#fb9f3a\"],[0.8888888888888888,\"#fdca26\"],[1.0,\"#f0f921\"]]}],\"surface\":[{\"type\":\"surface\",\"colorbar\":{\"outlinewidth\":0,\"ticks\":\"\"},\"colorscale\":[[0.0,\"#0d0887\"],[0.1111111111111111,\"#46039f\"],[0.2222222222222222,\"#7201a8\"],[0.3333333333333333,\"#9c179e\"],[0.4444444444444444,\"#bd3786\"],[0.5555555555555556,\"#d8576b\"],[0.6666666666666666,\"#ed7953\"],[0.7777777777777778,\"#fb9f3a\"],[0.8888888888888888,\"#fdca26\"],[1.0,\"#f0f921\"]]}],\"mesh3d\":[{\"type\":\"mesh3d\",\"colorbar\":{\"outlinewidth\":0,\"ticks\":\"\"}}],\"scatter\":[{\"fillpattern\":{\"fillmode\":\"overlay\",\"size\":10,\"solidity\":0.2},\"type\":\"scatter\"}],\"parcoords\":[{\"type\":\"parcoords\",\"line\":{\"colorbar\":{\"outlinewidth\":0,\"ticks\":\"\"}}}],\"scatterpolargl\":[{\"type\":\"scatterpolargl\",\"marker\":{\"colorbar\":{\"outlinewidth\":0,\"ticks\":\"\"}}}],\"bar\":[{\"error_x\":{\"color\":\"#2a3f5f\"},\"error_y\":{\"color\":\"#2a3f5f\"},\"marker\":{\"line\":{\"color\":\"#E5ECF6\",\"width\":0.5},\"pattern\":{\"fillmode\":\"overlay\",\"size\":10,\"solidity\":0.2}},\"type\":\"bar\"}],\"scattergeo\":[{\"type\":\"scattergeo\",\"marker\":{\"colorbar\":{\"outlinewidth\":0,\"ticks\":\"\"}}}],\"scatterpolar\":[{\"type\":\"scatterpolar\",\"marker\":{\"colorbar\":{\"outlinewidth\":0,\"ticks\":\"\"}}}],\"histogram\":[{\"marker\":{\"pattern\":{\"fillmode\":\"overlay\",\"size\":10,\"solidity\":0.2}},\"type\":\"histogram\"}],\"scattergl\":[{\"type\":\"scattergl\",\"marker\":{\"colorbar\":{\"outlinewidth\":0,\"ticks\":\"\"}}}],\"scatter3d\":[{\"type\":\"scatter3d\",\"line\":{\"colorbar\":{\"outlinewidth\":0,\"ticks\":\"\"}},\"marker\":{\"colorbar\":{\"outlinewidth\":0,\"ticks\":\"\"}}}],\"scattermapbox\":[{\"type\":\"scattermapbox\",\"marker\":{\"colorbar\":{\"outlinewidth\":0,\"ticks\":\"\"}}}],\"scatterternary\":[{\"type\":\"scatterternary\",\"marker\":{\"colorbar\":{\"outlinewidth\":0,\"ticks\":\"\"}}}],\"scattercarpet\":[{\"type\":\"scattercarpet\",\"marker\":{\"colorbar\":{\"outlinewidth\":0,\"ticks\":\"\"}}}],\"carpet\":[{\"aaxis\":{\"endlinecolor\":\"#2a3f5f\",\"gridcolor\":\"white\",\"linecolor\":\"white\",\"minorgridcolor\":\"white\",\"startlinecolor\":\"#2a3f5f\"},\"baxis\":{\"endlinecolor\":\"#2a3f5f\",\"gridcolor\":\"white\",\"linecolor\":\"white\",\"minorgridcolor\":\"white\",\"startlinecolor\":\"#2a3f5f\"},\"type\":\"carpet\"}],\"table\":[{\"cells\":{\"fill\":{\"color\":\"#EBF0F8\"},\"line\":{\"color\":\"white\"}},\"header\":{\"fill\":{\"color\":\"#C8D4E3\"},\"line\":{\"color\":\"white\"}},\"type\":\"table\"}],\"barpolar\":[{\"marker\":{\"line\":{\"color\":\"#E5ECF6\",\"width\":0.5},\"pattern\":{\"fillmode\":\"overlay\",\"size\":10,\"solidity\":0.2}},\"type\":\"barpolar\"}],\"pie\":[{\"automargin\":true,\"type\":\"pie\"}]},\"layout\":{\"autotypenumbers\":\"strict\",\"colorway\":[\"#636efa\",\"#EF553B\",\"#00cc96\",\"#ab63fa\",\"#FFA15A\",\"#19d3f3\",\"#FF6692\",\"#B6E880\",\"#FF97FF\",\"#FECB52\"],\"font\":{\"color\":\"#2a3f5f\"},\"hovermode\":\"closest\",\"hoverlabel\":{\"align\":\"left\"},\"paper_bgcolor\":\"white\",\"plot_bgcolor\":\"#E5ECF6\",\"polar\":{\"bgcolor\":\"#E5ECF6\",\"angularaxis\":{\"gridcolor\":\"white\",\"linecolor\":\"white\",\"ticks\":\"\"},\"radialaxis\":{\"gridcolor\":\"white\",\"linecolor\":\"white\",\"ticks\":\"\"}},\"ternary\":{\"bgcolor\":\"#E5ECF6\",\"aaxis\":{\"gridcolor\":\"white\",\"linecolor\":\"white\",\"ticks\":\"\"},\"baxis\":{\"gridcolor\":\"white\",\"linecolor\":\"white\",\"ticks\":\"\"},\"caxis\":{\"gridcolor\":\"white\",\"linecolor\":\"white\",\"ticks\":\"\"}},\"coloraxis\":{\"colorbar\":{\"outlinewidth\":0,\"ticks\":\"\"}},\"colorscale\":{\"sequential\":[[0.0,\"#0d0887\"],[0.1111111111111111,\"#46039f\"],[0.2222222222222222,\"#7201a8\"],[0.3333333333333333,\"#9c179e\"],[0.4444444444444444,\"#bd3786\"],[0.5555555555555556,\"#d8576b\"],[0.6666666666666666,\"#ed7953\"],[0.7777777777777778,\"#fb9f3a\"],[0.8888888888888888,\"#fdca26\"],[1.0,\"#f0f921\"]],\"sequentialminus\":[[0.0,\"#0d0887\"],[0.1111111111111111,\"#46039f\"],[0.2222222222222222,\"#7201a8\"],[0.3333333333333333,\"#9c179e\"],[0.4444444444444444,\"#bd3786\"],[0.5555555555555556,\"#d8576b\"],[0.6666666666666666,\"#ed7953\"],[0.7777777777777778,\"#fb9f3a\"],[0.8888888888888888,\"#fdca26\"],[1.0,\"#f0f921\"]],\"diverging\":[[0,\"#8e0152\"],[0.1,\"#c51b7d\"],[0.2,\"#de77ae\"],[0.3,\"#f1b6da\"],[0.4,\"#fde0ef\"],[0.5,\"#f7f7f7\"],[0.6,\"#e6f5d0\"],[0.7,\"#b8e186\"],[0.8,\"#7fbc41\"],[0.9,\"#4d9221\"],[1,\"#276419\"]]},\"xaxis\":{\"gridcolor\":\"white\",\"linecolor\":\"white\",\"ticks\":\"\",\"title\":{\"standoff\":15},\"zerolinecolor\":\"white\",\"automargin\":true,\"zerolinewidth\":2},\"yaxis\":{\"gridcolor\":\"white\",\"linecolor\":\"white\",\"ticks\":\"\",\"title\":{\"standoff\":15},\"zerolinecolor\":\"white\",\"automargin\":true,\"zerolinewidth\":2},\"scene\":{\"xaxis\":{\"backgroundcolor\":\"#E5ECF6\",\"gridcolor\":\"white\",\"linecolor\":\"white\",\"showbackground\":true,\"ticks\":\"\",\"zerolinecolor\":\"white\",\"gridwidth\":2},\"yaxis\":{\"backgroundcolor\":\"#E5ECF6\",\"gridcolor\":\"white\",\"linecolor\":\"white\",\"showbackground\":true,\"ticks\":\"\",\"zerolinecolor\":\"white\",\"gridwidth\":2},\"zaxis\":{\"backgroundcolor\":\"#E5ECF6\",\"gridcolor\":\"white\",\"linecolor\":\"white\",\"showbackground\":true,\"ticks\":\"\",\"zerolinecolor\":\"white\",\"gridwidth\":2}},\"shapedefaults\":{\"line\":{\"color\":\"#2a3f5f\"}},\"annotationdefaults\":{\"arrowcolor\":\"#2a3f5f\",\"arrowhead\":0,\"arrowwidth\":1},\"geo\":{\"bgcolor\":\"white\",\"landcolor\":\"#E5ECF6\",\"subunitcolor\":\"white\",\"showland\":true,\"showlakes\":true,\"lakecolor\":\"white\"},\"title\":{\"x\":0.05},\"mapbox\":{\"style\":\"light\"}}},\"xaxis\":{\"anchor\":\"y\",\"domain\":[0.0,1.0],\"matches\":\"x2\",\"showticklabels\":false,\"title\":{\"text\":\"Step\"}},\"yaxis\":{\"anchor\":\"x\",\"domain\":[0.575,1.0]},\"xaxis2\":{\"anchor\":\"y2\",\"domain\":[0.0,1.0],\"title\":{\"text\":\"Step\"}},\"yaxis2\":{\"anchor\":\"x2\",\"domain\":[0.0,0.425]}},                        {\"responsive\": true}                    ).then(function(){\n",
              "                            \n",
              "var gd = document.getElementById('4912c14f-592f-45ff-9696-c51bad241bd9');\n",
              "var x = new MutationObserver(function (mutations, observer) {{\n",
              "        var display = window.getComputedStyle(gd).display;\n",
              "        if (!display || display === 'none') {{\n",
              "            console.log([gd, 'removed!']);\n",
              "            Plotly.purge(gd);\n",
              "            observer.disconnect();\n",
              "        }}\n",
              "}});\n",
              "\n",
              "// Listen for the removal of the full notebook cells\n",
              "var notebookContainer = gd.closest('#notebook-container');\n",
              "if (notebookContainer) {{\n",
              "    x.observe(notebookContainer, {childList: true});\n",
              "}}\n",
              "\n",
              "// Listen for the clearing of the current output cell\n",
              "var outputEl = gd.closest('.output');\n",
              "if (outputEl) {{\n",
              "    x.observe(outputEl, {childList: true});\n",
              "}}\n",
              "\n",
              "                        })                };                            </script>        </div>\n",
              "</body>\n",
              "</html>"
            ]
          },
          "metadata": {}
        }
      ]
    },
    {
      "cell_type": "code",
      "source": [
        "pev, rev, history = test_model(agent=dql_agent_exp2, env=entorno_exp2, epsilon=0.01)"
      ],
      "metadata": {
        "colab": {
          "base_uri": "https://localhost:8080/"
        },
        "id": "Wkd8xlnzjvf-",
        "outputId": "9386c5ea-a307-4b65-fbe2-0d0e9448a6c4"
      },
      "execution_count": 64,
      "outputs": [
        {
          "output_type": "stream",
          "name": "stderr",
          "text": [
            "<ipython-input-47-04752e11e2c3>:73: FutureWarning:\n",
            "\n",
            "Series.__getitem__ treating keys as positions is deprecated. In a future version, integer keys will always be treated as labels (consistent with DataFrame behavior). To access a value by position, use `ser.iloc[pos]`\n",
            "\n",
            "<ipython-input-47-04752e11e2c3>:91: FutureWarning:\n",
            "\n",
            "Series.__getitem__ treating keys as positions is deprecated. In a future version, integer keys will always be treated as labels (consistent with DataFrame behavior). To access a value by position, use `ser.iloc[pos]`\n",
            "\n",
            "<ipython-input-47-04752e11e2c3>:27: FutureWarning:\n",
            "\n",
            "Series.__getitem__ treating keys as positions is deprecated. In a future version, integer keys will always be treated as labels (consistent with DataFrame behavior). To access a value by position, use `ser.iloc[pos]`\n",
            "\n"
          ]
        }
      ]
    },
    {
      "cell_type": "code",
      "source": [
        "x_list = np.arange(len(pev))\n",
        "\n",
        "fig1 = make_subplots(rows=2, cols=1, shared_xaxes=True)\n",
        "\n",
        "fig1.add_trace(go.Scatter(x=x_list, y=pev, mode='lines', name=\"Profit Evolution\",\n",
        "                          opacity=1), row=1, col=1)\n",
        "fig1.add_trace(go.Scatter(x=x_list, y=rev, mode='lines', name=\"Reward\",\n",
        "                          opacity=0.5), row=1, col=1)\n",
        "\n",
        "\n",
        "data_array = np.array([his[0] for his in history])\n",
        "action_list = np.array([his[1] for his in history])\n",
        "\n",
        "stay_indices = action_list == 'Stay'\n",
        "buy_indices = action_list == 'Buy'\n",
        "sell_indices = action_list == 'Sell'\n",
        "\n",
        "fig1.add_trace(go.Scatter(x=x_list, y=data_array, name=\"Dataset\", mode=\"lines\",\n",
        "                          line=dict(color=\"black\")), row=2, col=1)\n",
        "fig1.add_trace(go.Scatter(x=x_list[stay_indices], y=data_array[stay_indices],\n",
        "                          mode='markers', name=\"stay\", opacity=1.0), row=2, col=1)\n",
        "fig1.add_trace(go.Scatter(x=x_list[buy_indices], y=data_array[buy_indices],\n",
        "                          mode='markers', name=\"buy\", opacity=1.0), row=2, col=1)\n",
        "fig1.add_trace(go.Scatter(x=x_list[sell_indices], y=data_array[sell_indices],\n",
        "                          mode='markers', name=\"sell\", opacity=1.0), row=2, col=1)\n",
        "\n",
        "fig1.update_xaxes(title_text=\"Step\")\n",
        "fig1.show()"
      ],
      "metadata": {
        "colab": {
          "base_uri": "https://localhost:8080/",
          "height": 542
        },
        "id": "yh_i38yUj3kc",
        "outputId": "27e53b2a-c253-4360-91b6-c402e711676a"
      },
      "execution_count": 65,
      "outputs": [
        {
          "output_type": "display_data",
          "data": {
            "text/html": [
              "<html>\n",
              "<head><meta charset=\"utf-8\" /></head>\n",
              "<body>\n",
              "    <div>            <script src=\"https://cdnjs.cloudflare.com/ajax/libs/mathjax/2.7.5/MathJax.js?config=TeX-AMS-MML_SVG\"></script><script type=\"text/javascript\">if (window.MathJax && window.MathJax.Hub && window.MathJax.Hub.Config) {window.MathJax.Hub.Config({SVG: {font: \"STIX-Web\"}});}</script>                <script type=\"text/javascript\">window.PlotlyConfig = {MathJaxConfig: 'local'};</script>\n",
              "        <script charset=\"utf-8\" src=\"https://cdn.plot.ly/plotly-2.24.1.min.js\"></script>                <div id=\"4d3bf733-45d2-45ce-9e2c-633c42a92b0a\" class=\"plotly-graph-div\" style=\"height:525px; width:100%;\"></div>            <script type=\"text/javascript\">                                    window.PLOTLYENV=window.PLOTLYENV || {};                                    if (document.getElementById(\"4d3bf733-45d2-45ce-9e2c-633c42a92b0a\")) {                    Plotly.newPlot(                        \"4d3bf733-45d2-45ce-9e2c-633c42a92b0a\",                        [{\"mode\":\"lines\",\"name\":\"Profit Evolution\",\"opacity\":1,\"x\":[0,1,2,3,4,5,6,7,8,9,10,11,12,13,14,15,16,17,18,19,20,21,22,23,24,25,26,27,28,29,30,31,32,33,34,35,36,37,38,39,40,41,42,43,44,45,46,47,48,49,50,51,52,53,54,55,56,57,58,59,60,61,62,63,64,65,66,67,68,69,70,71,72,73,74,75,76,77,78,79,80,81,82,83,84,85,86,87,88,89,90,91,92,93,94,95,96,97,98],\"y\":[0,0,0,0,-13.810000000000002,-13.810000000000002,-19.629999999999995,-19.629999999999995,-19.629999999999995,-19.629999999999995,-19.629999999999995,-19.629999999999995,-36.129999999999995,-36.129999999999995,-36.129999999999995,-36.129999999999995,-36.129999999999995,-36.129999999999995,-36.129999999999995,-36.129999999999995,-36.129999999999995,-36.129999999999995,-36.129999999999995,-45.19,-45.19,-48.19,-48.19,-63.50999999999999,-77.82,-73.94999999999999,-73.94999999999999,-82.32,-82.32,-106.38,-106.38,-106.38,-106.38,-126.13,-126.13,-126.13,-126.13,-161.63,-184.06,-197.54000000000002,-197.54000000000002,-197.54000000000002,-197.54000000000002,-197.54000000000002,-197.54000000000002,-197.54000000000002,-198.67000000000002,-188.48000000000002,-181.23000000000002,-169.48000000000002,-169.48000000000002,-169.48000000000002,-169.48000000000002,-169.48000000000002,-169.48000000000002,-161.98000000000002,-161.98000000000002,-198.91000000000003,-198.91000000000003,-198.91000000000003,-236.09000000000003,-236.09000000000003,-272.84000000000003,-316.09000000000003,-316.09000000000003,-316.09000000000003,-355.65000000000003,-355.65000000000003,-355.65000000000003,-399.77000000000004,-399.77000000000004,-399.77000000000004,-399.77000000000004,-393.77000000000004,-393.77000000000004,-393.77000000000004,-393.46000000000004,-390.14000000000004,-393.52000000000004,-393.52000000000004,-402.34000000000003,-402.34000000000003,-402.34000000000003,-402.34000000000003,-402.34000000000003,-402.34000000000003,-402.34000000000003,-402.34000000000003,-402.34000000000003,-410.90000000000003,-410.90000000000003,-421.71000000000004,-431.40000000000003,-433.77000000000004,-433.77000000000004],\"type\":\"scatter\",\"xaxis\":\"x\",\"yaxis\":\"y\"},{\"mode\":\"lines\",\"name\":\"Reward\",\"opacity\":0.5,\"x\":[0,1,2,3,4,5,6,7,8,9,10,11,12,13,14,15,16,17,18,19,20,21,22,23,24,25,26,27,28,29,30,31,32,33,34,35,36,37,38,39,40,41,42,43,44,45,46,47,48,49,50,51,52,53,54,55,56,57,58,59,60,61,62,63,64,65,66,67,68,69,70,71,72,73,74,75,76,77,78,79,80,81,82,83,84,85,86,87,88,89,90,91,92,93,94,95,96,97,98],\"y\":[0,0,0,0,-13.810000000000002,0,-5.819999999999993,0,0,0,0,0,-16.5,0,0,0,0,0,0,0,0,0,0,-9.060000000000002,0,-3.0,0,-15.319999999999993,-14.310000000000002,3.8700000000000045,0,-8.370000000000005,0,-24.060000000000002,0,0,0,-19.75,0,0,0,-35.5,-22.430000000000007,-13.480000000000004,0,0,0,0,0,0,-1.1299999999999955,10.189999999999998,7.25,11.75,0,0,0,0,0,7.5,0,-36.93,0,0,-37.18,0,-36.75,-43.25,0,0,-39.559999999999995,0,0,-44.12,0,0,0,6.0,0,0,0.30999999999999517,3.3200000000000003,-3.3799999999999955,0,-8.82,0,0,0,0,0,0,0,0,-8.560000000000002,0,-10.810000000000002,-9.689999999999998,-2.3700000000000045,0],\"type\":\"scatter\",\"xaxis\":\"x\",\"yaxis\":\"y\"},{\"line\":{\"color\":\"black\"},\"mode\":\"lines\",\"name\":\"Dataset\",\"x\":[0,1,2,3,4,5,6,7,8,9,10,11,12,13,14,15,16,17,18,19,20,21,22,23,24,25,26,27,28,29,30,31,32,33,34,35,36,37,38,39,40,41,42,43,44,45,46,47,48,49,50,51,52,53,54,55,56,57,58,59,60,61,62,63,64,65,66,67,68,69,70,71,72,73,74,75,76,77,78,79,80,81,82,83,84,85,86,87,88,89,90,91,92,93,94,95,96,97,98],\"y\":[139.56,139.13,135.94,125.75,135.81,133.31,127.31,130.38,125.19,131.75,125.0,119.44,109.25,113.81,111.87,123.87,126.87,121.12,118.87,120.5,128.31,121.31,126.75,124.06,124.31,117.87,115.06,110.69,113.12,110.12,105.44,99.31,102.81,107.62,101.0,105.69,101.37,100.75,94.0,89.94,85.81,87.69,87.27,86.37,87.56,84.0,89.12,92.56,91.31,92.87,96.56,94.81,95.75,91.19,94.5,90.44,92.37,91.19,96.62,101.25,55.63,53.75,51.69,54.13,51.75,54.44,51.25,52.38,53.31,51.63,51.81,54.44,57.13,56.94,58.88,56.5,57.69,58.31,57.25,52.69,55.13,53.56,48.69,50.06,50.06,52.0,48.31,50.81,49.31,47.25,48.0,47.38,47.94,46.75,47.5,47.56,47.69,47.06,46.69],\"type\":\"scatter\",\"xaxis\":\"x2\",\"yaxis\":\"y2\"},{\"mode\":\"markers\",\"name\":\"stay\",\"opacity\":1.0,\"x\":[9,10,15,16,19,20,21,24,26,32,34,35,36,40,56,57,62,65,69,72,83,86,87,88,89,90,94],\"y\":[131.75,125.0,123.87,126.87,120.5,128.31,121.31,124.31,115.06,102.81,101.0,105.69,101.37,85.81,92.37,91.19,51.69,54.44,51.63,57.13,50.06,48.31,50.81,49.31,47.25,48.0,47.5],\"type\":\"scatter\",\"xaxis\":\"x2\",\"yaxis\":\"y2\"},{\"mode\":\"markers\",\"name\":\"buy\",\"opacity\":1.0,\"x\":[1,2,3,5,7,8,11,13,14,17,18,22,30,38,39,44,45,46,47,48,49,54,55,58,60,63,68,71,74,75,76,78,79,85,91,92,98],\"y\":[139.13,135.94,125.75,133.31,130.38,125.19,119.44,113.81,111.87,121.12,118.87,126.75,105.44,94.0,89.94,87.56,84.0,89.12,92.56,91.31,92.87,94.5,90.44,96.62,55.63,54.13,53.31,54.44,58.88,56.5,57.69,57.25,52.69,52.0,47.38,47.94,46.69],\"type\":\"scatter\",\"xaxis\":\"x2\",\"yaxis\":\"y2\"},{\"mode\":\"markers\",\"name\":\"sell\",\"opacity\":1.0,\"x\":[0,4,6,12,23,25,27,28,29,31,33,37,41,42,43,50,51,52,53,59,61,64,66,67,70,73,77,80,81,82,84,93,95,96,97],\"y\":[139.56,135.81,127.31,109.25,124.06,117.87,110.69,113.12,110.12,99.31,107.62,100.75,87.69,87.27,86.37,96.56,94.81,95.75,91.19,101.25,53.75,51.75,51.25,52.38,51.81,56.94,58.31,55.13,53.56,48.69,50.06,46.75,47.56,47.69,47.06],\"type\":\"scatter\",\"xaxis\":\"x2\",\"yaxis\":\"y2\"}],                        {\"template\":{\"data\":{\"histogram2dcontour\":[{\"type\":\"histogram2dcontour\",\"colorbar\":{\"outlinewidth\":0,\"ticks\":\"\"},\"colorscale\":[[0.0,\"#0d0887\"],[0.1111111111111111,\"#46039f\"],[0.2222222222222222,\"#7201a8\"],[0.3333333333333333,\"#9c179e\"],[0.4444444444444444,\"#bd3786\"],[0.5555555555555556,\"#d8576b\"],[0.6666666666666666,\"#ed7953\"],[0.7777777777777778,\"#fb9f3a\"],[0.8888888888888888,\"#fdca26\"],[1.0,\"#f0f921\"]]}],\"choropleth\":[{\"type\":\"choropleth\",\"colorbar\":{\"outlinewidth\":0,\"ticks\":\"\"}}],\"histogram2d\":[{\"type\":\"histogram2d\",\"colorbar\":{\"outlinewidth\":0,\"ticks\":\"\"},\"colorscale\":[[0.0,\"#0d0887\"],[0.1111111111111111,\"#46039f\"],[0.2222222222222222,\"#7201a8\"],[0.3333333333333333,\"#9c179e\"],[0.4444444444444444,\"#bd3786\"],[0.5555555555555556,\"#d8576b\"],[0.6666666666666666,\"#ed7953\"],[0.7777777777777778,\"#fb9f3a\"],[0.8888888888888888,\"#fdca26\"],[1.0,\"#f0f921\"]]}],\"heatmap\":[{\"type\":\"heatmap\",\"colorbar\":{\"outlinewidth\":0,\"ticks\":\"\"},\"colorscale\":[[0.0,\"#0d0887\"],[0.1111111111111111,\"#46039f\"],[0.2222222222222222,\"#7201a8\"],[0.3333333333333333,\"#9c179e\"],[0.4444444444444444,\"#bd3786\"],[0.5555555555555556,\"#d8576b\"],[0.6666666666666666,\"#ed7953\"],[0.7777777777777778,\"#fb9f3a\"],[0.8888888888888888,\"#fdca26\"],[1.0,\"#f0f921\"]]}],\"heatmapgl\":[{\"type\":\"heatmapgl\",\"colorbar\":{\"outlinewidth\":0,\"ticks\":\"\"},\"colorscale\":[[0.0,\"#0d0887\"],[0.1111111111111111,\"#46039f\"],[0.2222222222222222,\"#7201a8\"],[0.3333333333333333,\"#9c179e\"],[0.4444444444444444,\"#bd3786\"],[0.5555555555555556,\"#d8576b\"],[0.6666666666666666,\"#ed7953\"],[0.7777777777777778,\"#fb9f3a\"],[0.8888888888888888,\"#fdca26\"],[1.0,\"#f0f921\"]]}],\"contourcarpet\":[{\"type\":\"contourcarpet\",\"colorbar\":{\"outlinewidth\":0,\"ticks\":\"\"}}],\"contour\":[{\"type\":\"contour\",\"colorbar\":{\"outlinewidth\":0,\"ticks\":\"\"},\"colorscale\":[[0.0,\"#0d0887\"],[0.1111111111111111,\"#46039f\"],[0.2222222222222222,\"#7201a8\"],[0.3333333333333333,\"#9c179e\"],[0.4444444444444444,\"#bd3786\"],[0.5555555555555556,\"#d8576b\"],[0.6666666666666666,\"#ed7953\"],[0.7777777777777778,\"#fb9f3a\"],[0.8888888888888888,\"#fdca26\"],[1.0,\"#f0f921\"]]}],\"surface\":[{\"type\":\"surface\",\"colorbar\":{\"outlinewidth\":0,\"ticks\":\"\"},\"colorscale\":[[0.0,\"#0d0887\"],[0.1111111111111111,\"#46039f\"],[0.2222222222222222,\"#7201a8\"],[0.3333333333333333,\"#9c179e\"],[0.4444444444444444,\"#bd3786\"],[0.5555555555555556,\"#d8576b\"],[0.6666666666666666,\"#ed7953\"],[0.7777777777777778,\"#fb9f3a\"],[0.8888888888888888,\"#fdca26\"],[1.0,\"#f0f921\"]]}],\"mesh3d\":[{\"type\":\"mesh3d\",\"colorbar\":{\"outlinewidth\":0,\"ticks\":\"\"}}],\"scatter\":[{\"fillpattern\":{\"fillmode\":\"overlay\",\"size\":10,\"solidity\":0.2},\"type\":\"scatter\"}],\"parcoords\":[{\"type\":\"parcoords\",\"line\":{\"colorbar\":{\"outlinewidth\":0,\"ticks\":\"\"}}}],\"scatterpolargl\":[{\"type\":\"scatterpolargl\",\"marker\":{\"colorbar\":{\"outlinewidth\":0,\"ticks\":\"\"}}}],\"bar\":[{\"error_x\":{\"color\":\"#2a3f5f\"},\"error_y\":{\"color\":\"#2a3f5f\"},\"marker\":{\"line\":{\"color\":\"#E5ECF6\",\"width\":0.5},\"pattern\":{\"fillmode\":\"overlay\",\"size\":10,\"solidity\":0.2}},\"type\":\"bar\"}],\"scattergeo\":[{\"type\":\"scattergeo\",\"marker\":{\"colorbar\":{\"outlinewidth\":0,\"ticks\":\"\"}}}],\"scatterpolar\":[{\"type\":\"scatterpolar\",\"marker\":{\"colorbar\":{\"outlinewidth\":0,\"ticks\":\"\"}}}],\"histogram\":[{\"marker\":{\"pattern\":{\"fillmode\":\"overlay\",\"size\":10,\"solidity\":0.2}},\"type\":\"histogram\"}],\"scattergl\":[{\"type\":\"scattergl\",\"marker\":{\"colorbar\":{\"outlinewidth\":0,\"ticks\":\"\"}}}],\"scatter3d\":[{\"type\":\"scatter3d\",\"line\":{\"colorbar\":{\"outlinewidth\":0,\"ticks\":\"\"}},\"marker\":{\"colorbar\":{\"outlinewidth\":0,\"ticks\":\"\"}}}],\"scattermapbox\":[{\"type\":\"scattermapbox\",\"marker\":{\"colorbar\":{\"outlinewidth\":0,\"ticks\":\"\"}}}],\"scatterternary\":[{\"type\":\"scatterternary\",\"marker\":{\"colorbar\":{\"outlinewidth\":0,\"ticks\":\"\"}}}],\"scattercarpet\":[{\"type\":\"scattercarpet\",\"marker\":{\"colorbar\":{\"outlinewidth\":0,\"ticks\":\"\"}}}],\"carpet\":[{\"aaxis\":{\"endlinecolor\":\"#2a3f5f\",\"gridcolor\":\"white\",\"linecolor\":\"white\",\"minorgridcolor\":\"white\",\"startlinecolor\":\"#2a3f5f\"},\"baxis\":{\"endlinecolor\":\"#2a3f5f\",\"gridcolor\":\"white\",\"linecolor\":\"white\",\"minorgridcolor\":\"white\",\"startlinecolor\":\"#2a3f5f\"},\"type\":\"carpet\"}],\"table\":[{\"cells\":{\"fill\":{\"color\":\"#EBF0F8\"},\"line\":{\"color\":\"white\"}},\"header\":{\"fill\":{\"color\":\"#C8D4E3\"},\"line\":{\"color\":\"white\"}},\"type\":\"table\"}],\"barpolar\":[{\"marker\":{\"line\":{\"color\":\"#E5ECF6\",\"width\":0.5},\"pattern\":{\"fillmode\":\"overlay\",\"size\":10,\"solidity\":0.2}},\"type\":\"barpolar\"}],\"pie\":[{\"automargin\":true,\"type\":\"pie\"}]},\"layout\":{\"autotypenumbers\":\"strict\",\"colorway\":[\"#636efa\",\"#EF553B\",\"#00cc96\",\"#ab63fa\",\"#FFA15A\",\"#19d3f3\",\"#FF6692\",\"#B6E880\",\"#FF97FF\",\"#FECB52\"],\"font\":{\"color\":\"#2a3f5f\"},\"hovermode\":\"closest\",\"hoverlabel\":{\"align\":\"left\"},\"paper_bgcolor\":\"white\",\"plot_bgcolor\":\"#E5ECF6\",\"polar\":{\"bgcolor\":\"#E5ECF6\",\"angularaxis\":{\"gridcolor\":\"white\",\"linecolor\":\"white\",\"ticks\":\"\"},\"radialaxis\":{\"gridcolor\":\"white\",\"linecolor\":\"white\",\"ticks\":\"\"}},\"ternary\":{\"bgcolor\":\"#E5ECF6\",\"aaxis\":{\"gridcolor\":\"white\",\"linecolor\":\"white\",\"ticks\":\"\"},\"baxis\":{\"gridcolor\":\"white\",\"linecolor\":\"white\",\"ticks\":\"\"},\"caxis\":{\"gridcolor\":\"white\",\"linecolor\":\"white\",\"ticks\":\"\"}},\"coloraxis\":{\"colorbar\":{\"outlinewidth\":0,\"ticks\":\"\"}},\"colorscale\":{\"sequential\":[[0.0,\"#0d0887\"],[0.1111111111111111,\"#46039f\"],[0.2222222222222222,\"#7201a8\"],[0.3333333333333333,\"#9c179e\"],[0.4444444444444444,\"#bd3786\"],[0.5555555555555556,\"#d8576b\"],[0.6666666666666666,\"#ed7953\"],[0.7777777777777778,\"#fb9f3a\"],[0.8888888888888888,\"#fdca26\"],[1.0,\"#f0f921\"]],\"sequentialminus\":[[0.0,\"#0d0887\"],[0.1111111111111111,\"#46039f\"],[0.2222222222222222,\"#7201a8\"],[0.3333333333333333,\"#9c179e\"],[0.4444444444444444,\"#bd3786\"],[0.5555555555555556,\"#d8576b\"],[0.6666666666666666,\"#ed7953\"],[0.7777777777777778,\"#fb9f3a\"],[0.8888888888888888,\"#fdca26\"],[1.0,\"#f0f921\"]],\"diverging\":[[0,\"#8e0152\"],[0.1,\"#c51b7d\"],[0.2,\"#de77ae\"],[0.3,\"#f1b6da\"],[0.4,\"#fde0ef\"],[0.5,\"#f7f7f7\"],[0.6,\"#e6f5d0\"],[0.7,\"#b8e186\"],[0.8,\"#7fbc41\"],[0.9,\"#4d9221\"],[1,\"#276419\"]]},\"xaxis\":{\"gridcolor\":\"white\",\"linecolor\":\"white\",\"ticks\":\"\",\"title\":{\"standoff\":15},\"zerolinecolor\":\"white\",\"automargin\":true,\"zerolinewidth\":2},\"yaxis\":{\"gridcolor\":\"white\",\"linecolor\":\"white\",\"ticks\":\"\",\"title\":{\"standoff\":15},\"zerolinecolor\":\"white\",\"automargin\":true,\"zerolinewidth\":2},\"scene\":{\"xaxis\":{\"backgroundcolor\":\"#E5ECF6\",\"gridcolor\":\"white\",\"linecolor\":\"white\",\"showbackground\":true,\"ticks\":\"\",\"zerolinecolor\":\"white\",\"gridwidth\":2},\"yaxis\":{\"backgroundcolor\":\"#E5ECF6\",\"gridcolor\":\"white\",\"linecolor\":\"white\",\"showbackground\":true,\"ticks\":\"\",\"zerolinecolor\":\"white\",\"gridwidth\":2},\"zaxis\":{\"backgroundcolor\":\"#E5ECF6\",\"gridcolor\":\"white\",\"linecolor\":\"white\",\"showbackground\":true,\"ticks\":\"\",\"zerolinecolor\":\"white\",\"gridwidth\":2}},\"shapedefaults\":{\"line\":{\"color\":\"#2a3f5f\"}},\"annotationdefaults\":{\"arrowcolor\":\"#2a3f5f\",\"arrowhead\":0,\"arrowwidth\":1},\"geo\":{\"bgcolor\":\"white\",\"landcolor\":\"#E5ECF6\",\"subunitcolor\":\"white\",\"showland\":true,\"showlakes\":true,\"lakecolor\":\"white\"},\"title\":{\"x\":0.05},\"mapbox\":{\"style\":\"light\"}}},\"xaxis\":{\"anchor\":\"y\",\"domain\":[0.0,1.0],\"matches\":\"x2\",\"showticklabels\":false,\"title\":{\"text\":\"Step\"}},\"yaxis\":{\"anchor\":\"x\",\"domain\":[0.575,1.0]},\"xaxis2\":{\"anchor\":\"y2\",\"domain\":[0.0,1.0],\"title\":{\"text\":\"Step\"}},\"yaxis2\":{\"anchor\":\"x2\",\"domain\":[0.0,0.425]}},                        {\"responsive\": true}                    ).then(function(){\n",
              "                            \n",
              "var gd = document.getElementById('4d3bf733-45d2-45ce-9e2c-633c42a92b0a');\n",
              "var x = new MutationObserver(function (mutations, observer) {{\n",
              "        var display = window.getComputedStyle(gd).display;\n",
              "        if (!display || display === 'none') {{\n",
              "            console.log([gd, 'removed!']);\n",
              "            Plotly.purge(gd);\n",
              "            observer.disconnect();\n",
              "        }}\n",
              "}});\n",
              "\n",
              "// Listen for the removal of the full notebook cells\n",
              "var notebookContainer = gd.closest('#notebook-container');\n",
              "if (notebookContainer) {{\n",
              "    x.observe(notebookContainer, {childList: true});\n",
              "}}\n",
              "\n",
              "// Listen for the clearing of the current output cell\n",
              "var outputEl = gd.closest('.output');\n",
              "if (outputEl) {{\n",
              "    x.observe(outputEl, {childList: true});\n",
              "}}\n",
              "\n",
              "                        })                };                            </script>        </div>\n",
              "</body>\n",
              "</html>"
            ]
          },
          "metadata": {}
        }
      ]
    },
    {
      "cell_type": "code",
      "source": [
        "pev, rev, history = test_model(agent=dql_agent_exp3, env=entorno_exp3, epsilon=0.01)"
      ],
      "metadata": {
        "colab": {
          "base_uri": "https://localhost:8080/"
        },
        "id": "euYbAGEvpUy0",
        "outputId": "8f5d6f9f-5975-41e6-9a2a-7d2f2d7b1902"
      },
      "execution_count": 66,
      "outputs": [
        {
          "output_type": "stream",
          "name": "stderr",
          "text": [
            "<ipython-input-47-04752e11e2c3>:73: FutureWarning:\n",
            "\n",
            "Series.__getitem__ treating keys as positions is deprecated. In a future version, integer keys will always be treated as labels (consistent with DataFrame behavior). To access a value by position, use `ser.iloc[pos]`\n",
            "\n",
            "<ipython-input-47-04752e11e2c3>:91: FutureWarning:\n",
            "\n",
            "Series.__getitem__ treating keys as positions is deprecated. In a future version, integer keys will always be treated as labels (consistent with DataFrame behavior). To access a value by position, use `ser.iloc[pos]`\n",
            "\n",
            "<ipython-input-47-04752e11e2c3>:27: FutureWarning:\n",
            "\n",
            "Series.__getitem__ treating keys as positions is deprecated. In a future version, integer keys will always be treated as labels (consistent with DataFrame behavior). To access a value by position, use `ser.iloc[pos]`\n",
            "\n"
          ]
        }
      ]
    },
    {
      "cell_type": "code",
      "source": [
        "x_list = np.arange(len(pev))\n",
        "\n",
        "fig1 = make_subplots(rows=2, cols=1, shared_xaxes=True)\n",
        "\n",
        "fig1.add_trace(go.Scatter(x=x_list, y=pev, mode='lines', name=\"Profit Evolution\",\n",
        "                          opacity=1), row=1, col=1)\n",
        "fig1.add_trace(go.Scatter(x=x_list, y=rev, mode='lines', name=\"Reward\",\n",
        "                          opacity=0.5), row=1, col=1)\n",
        "\n",
        "\n",
        "data_array = np.array([his[0] for his in history])\n",
        "action_list = np.array([his[1] for his in history])\n",
        "\n",
        "stay_indices = action_list == 'Stay'\n",
        "buy_indices = action_list == 'Buy'\n",
        "sell_indices = action_list == 'Sell'\n",
        "\n",
        "fig1.add_trace(go.Scatter(x=x_list, y=data_array, name=\"Dataset\", mode=\"lines\",\n",
        "                          line=dict(color=\"black\")), row=2, col=1)\n",
        "fig1.add_trace(go.Scatter(x=x_list[stay_indices], y=data_array[stay_indices],\n",
        "                          mode='markers', name=\"stay\", opacity=1.0), row=2, col=1)\n",
        "fig1.add_trace(go.Scatter(x=x_list[buy_indices], y=data_array[buy_indices],\n",
        "                          mode='markers', name=\"buy\", opacity=1.0), row=2, col=1)\n",
        "fig1.add_trace(go.Scatter(x=x_list[sell_indices], y=data_array[sell_indices],\n",
        "                          mode='markers', name=\"sell\", opacity=1.0), row=2, col=1)\n",
        "\n",
        "fig1.update_xaxes(title_text=\"Step\")\n",
        "fig1.show()\n",
        "\n"
      ],
      "metadata": {
        "colab": {
          "base_uri": "https://localhost:8080/",
          "height": 542
        },
        "id": "O2jOOmfKpX-R",
        "outputId": "075374bc-8c14-4a89-dbd0-7ad4d41d16ec"
      },
      "execution_count": 67,
      "outputs": [
        {
          "output_type": "display_data",
          "data": {
            "text/html": [
              "<html>\n",
              "<head><meta charset=\"utf-8\" /></head>\n",
              "<body>\n",
              "    <div>            <script src=\"https://cdnjs.cloudflare.com/ajax/libs/mathjax/2.7.5/MathJax.js?config=TeX-AMS-MML_SVG\"></script><script type=\"text/javascript\">if (window.MathJax && window.MathJax.Hub && window.MathJax.Hub.Config) {window.MathJax.Hub.Config({SVG: {font: \"STIX-Web\"}});}</script>                <script type=\"text/javascript\">window.PlotlyConfig = {MathJaxConfig: 'local'};</script>\n",
              "        <script charset=\"utf-8\" src=\"https://cdn.plot.ly/plotly-2.24.1.min.js\"></script>                <div id=\"ae609da9-f2b2-4f73-baa4-b5c81d3fed4a\" class=\"plotly-graph-div\" style=\"height:525px; width:100%;\"></div>            <script type=\"text/javascript\">                                    window.PLOTLYENV=window.PLOTLYENV || {};                                    if (document.getElementById(\"ae609da9-f2b2-4f73-baa4-b5c81d3fed4a\")) {                    Plotly.newPlot(                        \"ae609da9-f2b2-4f73-baa4-b5c81d3fed4a\",                        [{\"mode\":\"lines\",\"name\":\"Profit Evolution\",\"opacity\":1,\"x\":[0,1,2,3,4,5,6,7,8,9,10,11,12,13,14,15,16,17,18,19,20,21,22,23,24,25,26,27,28,29,30,31,32,33,34,35,36,37,38,39,40,41,42,43,44,45,46,47,48,49,50,51,52,53,54,55,56,57,58,59,60,61,62,63,64,65,66,67,68,69,70,71,72,73,74,75,76,77,78,79,80,81,82,83,84,85,86,87,88,89,90,91,92,93,94,95,96,97,98],\"y\":[0,0.8700000000000045,0.8700000000000045,0.8700000000000045,0.8700000000000045,0.8700000000000045,0.8700000000000045,-7.6299999999999955,-10.560000000000002,-10.560000000000002,-10.560000000000002,-10.560000000000002,-10.560000000000002,-10.560000000000002,-10.560000000000002,-7.939999999999998,-7.939999999999998,-7.939999999999998,-7.939999999999998,-7.939999999999998,-7.939999999999998,-7.939999999999998,-7.939999999999998,-7.939999999999998,-7.939999999999998,-7.939999999999998,-7.939999999999998,-10.75,-10.75,-10.75,-10.75,-16.0,-16.0,-12.5,-12.5,-19.120000000000005,-19.120000000000005,-19.120000000000005,-19.120000000000005,-19.120000000000005,-19.120000000000005,-19.120000000000005,-19.120000000000005,-21.790000000000006,-21.230000000000004,-21.230000000000004,-21.230000000000004,-21.230000000000004,-21.230000000000004,-21.230000000000004,-15.920000000000002,-15.920000000000002,-15.920000000000002,-15.920000000000002,-8.730000000000004,-8.730000000000004,-7.410000000000011,-7.6000000000000085,-7.6000000000000085,-7.6000000000000085,-7.6000000000000085,-46.78000000000001,-88.78,-88.78,-129.15,-129.15,-171.33,-171.33,-171.33,-171.33,-171.33,-220.77,-220.77,-220.77,-220.77,-220.77,-220.77,-220.77,-220.77,-220.77,-219.77,-219.77,-219.77,-219.77,-219.77,-219.77,-219.77,-219.77,-220.71,-220.71,-220.71,-226.02,-226.02,-226.02,-233.71,-233.71,-233.71,-233.71,-233.71],\"type\":\"scatter\",\"xaxis\":\"x\",\"yaxis\":\"y\"},{\"mode\":\"lines\",\"name\":\"Reward\",\"opacity\":0.5,\"x\":[0,1,2,3,4,5,6,7,8,9,10,11,12,13,14,15,16,17,18,19,20,21,22,23,24,25,26,27,28,29,30,31,32,33,34,35,36,37,38,39,40,41,42,43,44,45,46,47,48,49,50,51,52,53,54,55,56,57,58,59,60,61,62,63,64,65,66,67,68,69,70,71,72,73,74,75,76,77,78,79,80,81,82,83,84,85,86,87,88,89,90,91,92,93,94,95,96,97,98],\"y\":[0,0.8700000000000045,0,0,0,0,0,-8.5,-2.930000000000007,0,0,0,0,0,0,2.6200000000000045,0,0,0,0,0,0,0,0,0,0,0,-2.8100000000000023,0,0,0,-5.25,0,3.5,0,-6.6200000000000045,0,0,0,0,0,0,0,-2.6700000000000017,0.5600000000000023,0,0,0,0,0,5.310000000000002,0,0,0,7.189999999999998,0,1.3199999999999932,-0.18999999999999773,0,0,0,-39.18,-42.0,0,-40.37,0,-42.18000000000001,0,0,0,0,-49.44,0,0,0,0,0,0,0,0,1.0,0,0,0,0,0,0,0,-0.9399999999999977,0,0,-5.310000000000002,0,0,-7.689999999999998,0,0,0,0],\"type\":\"scatter\",\"xaxis\":\"x\",\"yaxis\":\"y\"},{\"line\":{\"color\":\"black\"},\"mode\":\"lines\",\"name\":\"Dataset\",\"x\":[0,1,2,3,4,5,6,7,8,9,10,11,12,13,14,15,16,17,18,19,20,21,22,23,24,25,26,27,28,29,30,31,32,33,34,35,36,37,38,39,40,41,42,43,44,45,46,47,48,49,50,51,52,53,54,55,56,57,58,59,60,61,62,63,64,65,66,67,68,69,70,71,72,73,74,75,76,77,78,79,80,81,82,83,84,85,86,87,88,89,90,91,92,93,94,95,96,97,98],\"y\":[139.56,139.13,135.94,125.75,135.81,133.31,127.31,130.38,125.19,131.75,125.0,119.44,109.25,113.81,111.87,123.87,126.87,121.12,118.87,120.5,128.31,121.31,126.75,124.06,124.31,117.87,115.06,110.69,113.12,110.12,105.44,99.31,102.81,107.62,101.0,105.69,101.37,100.75,94.0,89.94,85.81,87.69,87.27,86.37,87.56,84.0,89.12,92.56,91.31,92.87,96.56,94.81,95.75,91.19,94.5,90.44,92.37,91.19,96.62,101.25,55.63,53.75,51.69,54.13,51.75,54.44,51.25,52.38,53.31,51.63,51.81,54.44,57.13,56.94,58.88,56.5,57.69,58.31,57.25,52.69,55.13,53.56,48.69,50.06,50.06,52.0,48.31,50.81,49.31,47.25,48.0,47.38,47.94,46.75,47.5,47.56,47.69,47.06,46.69],\"type\":\"scatter\",\"xaxis\":\"x2\",\"yaxis\":\"y2\"},{\"mode\":\"markers\",\"name\":\"stay\",\"opacity\":1.0,\"x\":[2,3,9,11,14,17,23,25,29,30,36,37,39,42,49,51,58,67,68,70,75,77,79,82,83,86,89,90,92,96,98],\"y\":[135.94,125.75,131.75,119.44,111.87,121.12,124.06,117.87,110.12,105.44,101.37,100.75,89.94,87.27,92.87,94.81,96.62,52.38,53.31,51.81,56.5,58.31,52.69,48.69,50.06,48.31,47.25,48.0,47.94,47.69,46.69],\"type\":\"scatter\",\"xaxis\":\"x2\",\"yaxis\":\"y2\"},{\"mode\":\"markers\",\"name\":\"buy\",\"opacity\":1.0,\"x\":[0,5,6,13,26,28,32,34,40,41,45,46,47,48,52,53,55,59,60,63,65,69,72,73,74,76,78,81,84,85,87,93,95,97],\"y\":[139.56,133.31,127.31,113.81,115.06,113.12,102.81,101.0,85.81,87.69,84.0,89.12,92.56,91.31,95.75,91.19,90.44,101.25,55.63,54.13,54.44,51.63,57.13,56.94,58.88,57.69,57.25,53.56,50.06,52.0,50.81,46.75,47.56,47.06],\"type\":\"scatter\",\"xaxis\":\"x2\",\"yaxis\":\"y2\"},{\"mode\":\"markers\",\"name\":\"sell\",\"opacity\":1.0,\"x\":[1,4,7,8,10,12,15,16,18,19,20,21,22,24,27,31,33,35,38,43,44,50,54,56,57,61,62,64,66,71,80,88,91,94],\"y\":[139.13,135.81,130.38,125.19,125.0,109.25,123.87,126.87,118.87,120.5,128.31,121.31,126.75,124.31,110.69,99.31,107.62,105.69,94.0,86.37,87.56,96.56,94.5,92.37,91.19,53.75,51.69,51.75,51.25,54.44,55.13,49.31,47.38,47.5],\"type\":\"scatter\",\"xaxis\":\"x2\",\"yaxis\":\"y2\"}],                        {\"template\":{\"data\":{\"histogram2dcontour\":[{\"type\":\"histogram2dcontour\",\"colorbar\":{\"outlinewidth\":0,\"ticks\":\"\"},\"colorscale\":[[0.0,\"#0d0887\"],[0.1111111111111111,\"#46039f\"],[0.2222222222222222,\"#7201a8\"],[0.3333333333333333,\"#9c179e\"],[0.4444444444444444,\"#bd3786\"],[0.5555555555555556,\"#d8576b\"],[0.6666666666666666,\"#ed7953\"],[0.7777777777777778,\"#fb9f3a\"],[0.8888888888888888,\"#fdca26\"],[1.0,\"#f0f921\"]]}],\"choropleth\":[{\"type\":\"choropleth\",\"colorbar\":{\"outlinewidth\":0,\"ticks\":\"\"}}],\"histogram2d\":[{\"type\":\"histogram2d\",\"colorbar\":{\"outlinewidth\":0,\"ticks\":\"\"},\"colorscale\":[[0.0,\"#0d0887\"],[0.1111111111111111,\"#46039f\"],[0.2222222222222222,\"#7201a8\"],[0.3333333333333333,\"#9c179e\"],[0.4444444444444444,\"#bd3786\"],[0.5555555555555556,\"#d8576b\"],[0.6666666666666666,\"#ed7953\"],[0.7777777777777778,\"#fb9f3a\"],[0.8888888888888888,\"#fdca26\"],[1.0,\"#f0f921\"]]}],\"heatmap\":[{\"type\":\"heatmap\",\"colorbar\":{\"outlinewidth\":0,\"ticks\":\"\"},\"colorscale\":[[0.0,\"#0d0887\"],[0.1111111111111111,\"#46039f\"],[0.2222222222222222,\"#7201a8\"],[0.3333333333333333,\"#9c179e\"],[0.4444444444444444,\"#bd3786\"],[0.5555555555555556,\"#d8576b\"],[0.6666666666666666,\"#ed7953\"],[0.7777777777777778,\"#fb9f3a\"],[0.8888888888888888,\"#fdca26\"],[1.0,\"#f0f921\"]]}],\"heatmapgl\":[{\"type\":\"heatmapgl\",\"colorbar\":{\"outlinewidth\":0,\"ticks\":\"\"},\"colorscale\":[[0.0,\"#0d0887\"],[0.1111111111111111,\"#46039f\"],[0.2222222222222222,\"#7201a8\"],[0.3333333333333333,\"#9c179e\"],[0.4444444444444444,\"#bd3786\"],[0.5555555555555556,\"#d8576b\"],[0.6666666666666666,\"#ed7953\"],[0.7777777777777778,\"#fb9f3a\"],[0.8888888888888888,\"#fdca26\"],[1.0,\"#f0f921\"]]}],\"contourcarpet\":[{\"type\":\"contourcarpet\",\"colorbar\":{\"outlinewidth\":0,\"ticks\":\"\"}}],\"contour\":[{\"type\":\"contour\",\"colorbar\":{\"outlinewidth\":0,\"ticks\":\"\"},\"colorscale\":[[0.0,\"#0d0887\"],[0.1111111111111111,\"#46039f\"],[0.2222222222222222,\"#7201a8\"],[0.3333333333333333,\"#9c179e\"],[0.4444444444444444,\"#bd3786\"],[0.5555555555555556,\"#d8576b\"],[0.6666666666666666,\"#ed7953\"],[0.7777777777777778,\"#fb9f3a\"],[0.8888888888888888,\"#fdca26\"],[1.0,\"#f0f921\"]]}],\"surface\":[{\"type\":\"surface\",\"colorbar\":{\"outlinewidth\":0,\"ticks\":\"\"},\"colorscale\":[[0.0,\"#0d0887\"],[0.1111111111111111,\"#46039f\"],[0.2222222222222222,\"#7201a8\"],[0.3333333333333333,\"#9c179e\"],[0.4444444444444444,\"#bd3786\"],[0.5555555555555556,\"#d8576b\"],[0.6666666666666666,\"#ed7953\"],[0.7777777777777778,\"#fb9f3a\"],[0.8888888888888888,\"#fdca26\"],[1.0,\"#f0f921\"]]}],\"mesh3d\":[{\"type\":\"mesh3d\",\"colorbar\":{\"outlinewidth\":0,\"ticks\":\"\"}}],\"scatter\":[{\"fillpattern\":{\"fillmode\":\"overlay\",\"size\":10,\"solidity\":0.2},\"type\":\"scatter\"}],\"parcoords\":[{\"type\":\"parcoords\",\"line\":{\"colorbar\":{\"outlinewidth\":0,\"ticks\":\"\"}}}],\"scatterpolargl\":[{\"type\":\"scatterpolargl\",\"marker\":{\"colorbar\":{\"outlinewidth\":0,\"ticks\":\"\"}}}],\"bar\":[{\"error_x\":{\"color\":\"#2a3f5f\"},\"error_y\":{\"color\":\"#2a3f5f\"},\"marker\":{\"line\":{\"color\":\"#E5ECF6\",\"width\":0.5},\"pattern\":{\"fillmode\":\"overlay\",\"size\":10,\"solidity\":0.2}},\"type\":\"bar\"}],\"scattergeo\":[{\"type\":\"scattergeo\",\"marker\":{\"colorbar\":{\"outlinewidth\":0,\"ticks\":\"\"}}}],\"scatterpolar\":[{\"type\":\"scatterpolar\",\"marker\":{\"colorbar\":{\"outlinewidth\":0,\"ticks\":\"\"}}}],\"histogram\":[{\"marker\":{\"pattern\":{\"fillmode\":\"overlay\",\"size\":10,\"solidity\":0.2}},\"type\":\"histogram\"}],\"scattergl\":[{\"type\":\"scattergl\",\"marker\":{\"colorbar\":{\"outlinewidth\":0,\"ticks\":\"\"}}}],\"scatter3d\":[{\"type\":\"scatter3d\",\"line\":{\"colorbar\":{\"outlinewidth\":0,\"ticks\":\"\"}},\"marker\":{\"colorbar\":{\"outlinewidth\":0,\"ticks\":\"\"}}}],\"scattermapbox\":[{\"type\":\"scattermapbox\",\"marker\":{\"colorbar\":{\"outlinewidth\":0,\"ticks\":\"\"}}}],\"scatterternary\":[{\"type\":\"scatterternary\",\"marker\":{\"colorbar\":{\"outlinewidth\":0,\"ticks\":\"\"}}}],\"scattercarpet\":[{\"type\":\"scattercarpet\",\"marker\":{\"colorbar\":{\"outlinewidth\":0,\"ticks\":\"\"}}}],\"carpet\":[{\"aaxis\":{\"endlinecolor\":\"#2a3f5f\",\"gridcolor\":\"white\",\"linecolor\":\"white\",\"minorgridcolor\":\"white\",\"startlinecolor\":\"#2a3f5f\"},\"baxis\":{\"endlinecolor\":\"#2a3f5f\",\"gridcolor\":\"white\",\"linecolor\":\"white\",\"minorgridcolor\":\"white\",\"startlinecolor\":\"#2a3f5f\"},\"type\":\"carpet\"}],\"table\":[{\"cells\":{\"fill\":{\"color\":\"#EBF0F8\"},\"line\":{\"color\":\"white\"}},\"header\":{\"fill\":{\"color\":\"#C8D4E3\"},\"line\":{\"color\":\"white\"}},\"type\":\"table\"}],\"barpolar\":[{\"marker\":{\"line\":{\"color\":\"#E5ECF6\",\"width\":0.5},\"pattern\":{\"fillmode\":\"overlay\",\"size\":10,\"solidity\":0.2}},\"type\":\"barpolar\"}],\"pie\":[{\"automargin\":true,\"type\":\"pie\"}]},\"layout\":{\"autotypenumbers\":\"strict\",\"colorway\":[\"#636efa\",\"#EF553B\",\"#00cc96\",\"#ab63fa\",\"#FFA15A\",\"#19d3f3\",\"#FF6692\",\"#B6E880\",\"#FF97FF\",\"#FECB52\"],\"font\":{\"color\":\"#2a3f5f\"},\"hovermode\":\"closest\",\"hoverlabel\":{\"align\":\"left\"},\"paper_bgcolor\":\"white\",\"plot_bgcolor\":\"#E5ECF6\",\"polar\":{\"bgcolor\":\"#E5ECF6\",\"angularaxis\":{\"gridcolor\":\"white\",\"linecolor\":\"white\",\"ticks\":\"\"},\"radialaxis\":{\"gridcolor\":\"white\",\"linecolor\":\"white\",\"ticks\":\"\"}},\"ternary\":{\"bgcolor\":\"#E5ECF6\",\"aaxis\":{\"gridcolor\":\"white\",\"linecolor\":\"white\",\"ticks\":\"\"},\"baxis\":{\"gridcolor\":\"white\",\"linecolor\":\"white\",\"ticks\":\"\"},\"caxis\":{\"gridcolor\":\"white\",\"linecolor\":\"white\",\"ticks\":\"\"}},\"coloraxis\":{\"colorbar\":{\"outlinewidth\":0,\"ticks\":\"\"}},\"colorscale\":{\"sequential\":[[0.0,\"#0d0887\"],[0.1111111111111111,\"#46039f\"],[0.2222222222222222,\"#7201a8\"],[0.3333333333333333,\"#9c179e\"],[0.4444444444444444,\"#bd3786\"],[0.5555555555555556,\"#d8576b\"],[0.6666666666666666,\"#ed7953\"],[0.7777777777777778,\"#fb9f3a\"],[0.8888888888888888,\"#fdca26\"],[1.0,\"#f0f921\"]],\"sequentialminus\":[[0.0,\"#0d0887\"],[0.1111111111111111,\"#46039f\"],[0.2222222222222222,\"#7201a8\"],[0.3333333333333333,\"#9c179e\"],[0.4444444444444444,\"#bd3786\"],[0.5555555555555556,\"#d8576b\"],[0.6666666666666666,\"#ed7953\"],[0.7777777777777778,\"#fb9f3a\"],[0.8888888888888888,\"#fdca26\"],[1.0,\"#f0f921\"]],\"diverging\":[[0,\"#8e0152\"],[0.1,\"#c51b7d\"],[0.2,\"#de77ae\"],[0.3,\"#f1b6da\"],[0.4,\"#fde0ef\"],[0.5,\"#f7f7f7\"],[0.6,\"#e6f5d0\"],[0.7,\"#b8e186\"],[0.8,\"#7fbc41\"],[0.9,\"#4d9221\"],[1,\"#276419\"]]},\"xaxis\":{\"gridcolor\":\"white\",\"linecolor\":\"white\",\"ticks\":\"\",\"title\":{\"standoff\":15},\"zerolinecolor\":\"white\",\"automargin\":true,\"zerolinewidth\":2},\"yaxis\":{\"gridcolor\":\"white\",\"linecolor\":\"white\",\"ticks\":\"\",\"title\":{\"standoff\":15},\"zerolinecolor\":\"white\",\"automargin\":true,\"zerolinewidth\":2},\"scene\":{\"xaxis\":{\"backgroundcolor\":\"#E5ECF6\",\"gridcolor\":\"white\",\"linecolor\":\"white\",\"showbackground\":true,\"ticks\":\"\",\"zerolinecolor\":\"white\",\"gridwidth\":2},\"yaxis\":{\"backgroundcolor\":\"#E5ECF6\",\"gridcolor\":\"white\",\"linecolor\":\"white\",\"showbackground\":true,\"ticks\":\"\",\"zerolinecolor\":\"white\",\"gridwidth\":2},\"zaxis\":{\"backgroundcolor\":\"#E5ECF6\",\"gridcolor\":\"white\",\"linecolor\":\"white\",\"showbackground\":true,\"ticks\":\"\",\"zerolinecolor\":\"white\",\"gridwidth\":2}},\"shapedefaults\":{\"line\":{\"color\":\"#2a3f5f\"}},\"annotationdefaults\":{\"arrowcolor\":\"#2a3f5f\",\"arrowhead\":0,\"arrowwidth\":1},\"geo\":{\"bgcolor\":\"white\",\"landcolor\":\"#E5ECF6\",\"subunitcolor\":\"white\",\"showland\":true,\"showlakes\":true,\"lakecolor\":\"white\"},\"title\":{\"x\":0.05},\"mapbox\":{\"style\":\"light\"}}},\"xaxis\":{\"anchor\":\"y\",\"domain\":[0.0,1.0],\"matches\":\"x2\",\"showticklabels\":false,\"title\":{\"text\":\"Step\"}},\"yaxis\":{\"anchor\":\"x\",\"domain\":[0.575,1.0]},\"xaxis2\":{\"anchor\":\"y2\",\"domain\":[0.0,1.0],\"title\":{\"text\":\"Step\"}},\"yaxis2\":{\"anchor\":\"x2\",\"domain\":[0.0,0.425]}},                        {\"responsive\": true}                    ).then(function(){\n",
              "                            \n",
              "var gd = document.getElementById('ae609da9-f2b2-4f73-baa4-b5c81d3fed4a');\n",
              "var x = new MutationObserver(function (mutations, observer) {{\n",
              "        var display = window.getComputedStyle(gd).display;\n",
              "        if (!display || display === 'none') {{\n",
              "            console.log([gd, 'removed!']);\n",
              "            Plotly.purge(gd);\n",
              "            observer.disconnect();\n",
              "        }}\n",
              "}});\n",
              "\n",
              "// Listen for the removal of the full notebook cells\n",
              "var notebookContainer = gd.closest('#notebook-container');\n",
              "if (notebookContainer) {{\n",
              "    x.observe(notebookContainer, {childList: true});\n",
              "}}\n",
              "\n",
              "// Listen for the clearing of the current output cell\n",
              "var outputEl = gd.closest('.output');\n",
              "if (outputEl) {{\n",
              "    x.observe(outputEl, {childList: true});\n",
              "}}\n",
              "\n",
              "                        })                };                            </script>        </div>\n",
              "</body>\n",
              "</html>"
            ]
          },
          "metadata": {}
        }
      ]
    },
    {
      "cell_type": "code",
      "source": [
        "pev, rev, history = test_model(agent=dql_agent, env=entorno, epsilon=0.01)"
      ],
      "metadata": {
        "id": "ODYkhQRtDAwL"
      },
      "execution_count": 52,
      "outputs": []
    },
    {
      "cell_type": "code",
      "source": [
        "x_list = np.arange(len(pev))\n",
        "\n",
        "fig1 = make_subplots(rows=2, cols=1, shared_xaxes=True)\n",
        "\n",
        "fig1.add_trace(go.Scatter(x=x_list, y=pev, mode='lines', name=\"Profit Evolution\",\n",
        "                          opacity=1), row=1, col=1)\n",
        "fig1.add_trace(go.Scatter(x=x_list, y=rev, mode='lines', name=\"Reward\",\n",
        "                          opacity=0.5), row=1, col=1)\n",
        "\n",
        "\n",
        "data_array = np.array([his[0] for his in history])\n",
        "action_list = np.array([his[1] for his in history])\n",
        "\n",
        "stay_indices = action_list == 'Stay'\n",
        "buy_indices = action_list == 'Buy'\n",
        "sell_indices = action_list == 'Sell'\n",
        "\n",
        "fig1.add_trace(go.Scatter(x=x_list, y=data_array, name=\"Dataset\", mode=\"lines\",\n",
        "                          line=dict(color=\"black\")), row=2, col=1)\n",
        "fig1.add_trace(go.Scatter(x=x_list[stay_indices], y=data_array[stay_indices],\n",
        "                          mode='markers', name=\"stay\", opacity=1.0), row=2, col=1)\n",
        "fig1.add_trace(go.Scatter(x=x_list[buy_indices], y=data_array[buy_indices],\n",
        "                          mode='markers', name=\"buy\", opacity=1.0), row=2, col=1)\n",
        "fig1.add_trace(go.Scatter(x=x_list[sell_indices], y=data_array[sell_indices],\n",
        "                          mode='markers', name=\"sell\", opacity=1.0), row=2, col=1)\n",
        "\n",
        "fig1.update_xaxes(title_text=\"Step\")\n",
        "fig1.show()\n",
        "\n"
      ],
      "metadata": {
        "colab": {
          "base_uri": "https://localhost:8080/",
          "height": 542
        },
        "id": "CKFtGukEDG2Q",
        "outputId": "9cdf0400-fd13-49a7-9e42-e690f1ed7d68"
      },
      "execution_count": 53,
      "outputs": [
        {
          "output_type": "display_data",
          "data": {
            "text/html": [
              "<html>\n",
              "<head><meta charset=\"utf-8\" /></head>\n",
              "<body>\n",
              "    <div>            <script src=\"https://cdnjs.cloudflare.com/ajax/libs/mathjax/2.7.5/MathJax.js?config=TeX-AMS-MML_SVG\"></script><script type=\"text/javascript\">if (window.MathJax && window.MathJax.Hub && window.MathJax.Hub.Config) {window.MathJax.Hub.Config({SVG: {font: \"STIX-Web\"}});}</script>                <script type=\"text/javascript\">window.PlotlyConfig = {MathJaxConfig: 'local'};</script>\n",
              "        <script charset=\"utf-8\" src=\"https://cdn.plot.ly/plotly-2.24.1.min.js\"></script>                <div id=\"c95819ef-1f71-41c8-aefb-730624e390f4\" class=\"plotly-graph-div\" style=\"height:525px; width:100%;\"></div>            <script type=\"text/javascript\">                                    window.PLOTLYENV=window.PLOTLYENV || {};                                    if (document.getElementById(\"c95819ef-1f71-41c8-aefb-730624e390f4\")) {                    Plotly.newPlot(                        \"c95819ef-1f71-41c8-aefb-730624e390f4\",                        [{\"mode\":\"lines\",\"name\":\"Profit Evolution\",\"opacity\":1,\"x\":[0,1,2,3,4,5,6,7,8,9,10,11,12,13,14,15,16,17,18,19,20,21,22,23,24,25,26,27,28,29,30,31,32,33,34,35,36,37,38,39,40,41,42,43,44,45,46,47,48,49,50,51,52,53,54,55,56,57,58,59,60,61,62,63,64,65,66,67,68,69,70,71,72,73,74,75,76,77,78,79,80,81,82,83,84,85,86,87,88,89,90,91,92,93,94,95,96,97,98],\"y\":[0,0,0,-3.6200000000000045,-3.6200000000000045,6.439999999999998,6.439999999999998,6.439999999999998,6.439999999999998,6.439999999999998,6.439999999999998,1.0600000000000023,1.0600000000000023,1.0600000000000023,1.0600000000000023,-0.8799999999999955,-0.8799999999999955,-0.8799999999999955,-6.6299999999999955,-6.6299999999999955,-6.6299999999999955,-6.6299999999999955,-4.189999999999998,2.0600000000000023,-2.1899999999999977,-2.1899999999999977,-2.1899999999999977,-2.1899999999999977,-2.1899999999999977,-2.1899999999999977,-2.1899999999999977,-2.1899999999999977,-2.1899999999999977,1.3100000000000023,1.3100000000000023,1.3100000000000023,1.3100000000000023,1.3100000000000023,1.3100000000000023,1.3100000000000023,-2.75,-2.75,-2.75,-2.75,-2.1899999999999977,-2.1899999999999977,-2.1899999999999977,-2.1899999999999977,-2.1899999999999977,-2.1899999999999977,-2.1899999999999977,-2.1899999999999977,-2.1899999999999977,-2.1899999999999977,-2.1899999999999977,-2.1899999999999977,-2.1899999999999977,-1.1299999999999955,-1.1299999999999955,-0.2599999999999909,9.800000000000011,-29.069999999999986,-29.069999999999986,-29.069999999999986,-29.069999999999986,-29.069999999999986,-29.069999999999986,-31.569999999999986,-31.569999999999986,-32.389999999999986,-32.389999999999986,-32.329999999999984,-32.329999999999984,-26.829999999999984,-26.829999999999984,-26.829999999999984,-26.829999999999984,-26.829999999999984,-26.829999999999984,-26.079999999999984,-26.079999999999984,-26.079999999999984,-27.649999999999984,-27.649999999999984,-27.649999999999984,-27.649999999999984,-27.649999999999984,-27.649999999999984,-27.649999999999984,-28.399999999999984,-28.399999999999984,-28.399999999999984,-28.399999999999984,-28.399999999999984,-28.399999999999984,-28.399999999999984,-28.399999999999984,-28.399999999999984,-28.399999999999984],\"type\":\"scatter\",\"xaxis\":\"x\",\"yaxis\":\"y\"},{\"mode\":\"lines\",\"name\":\"Reward\",\"opacity\":0.5,\"x\":[0,1,2,3,4,5,6,7,8,9,10,11,12,13,14,15,16,17,18,19,20,21,22,23,24,25,26,27,28,29,30,31,32,33,34,35,36,37,38,39,40,41,42,43,44,45,46,47,48,49,50,51,52,53,54,55,56,57,58,59,60,61,62,63,64,65,66,67,68,69,70,71,72,73,74,75,76,77,78,79,80,81,82,83,84,85,86,87,88,89,90,91,92,93,94,95,96,97,98],\"y\":[0,0,0,-3.6200000000000045,0,10.060000000000002,0,0,0,0,0,-5.3799999999999955,0,0,0,-1.9399999999999977,0,0,-5.75,0,0,0,2.4399999999999977,6.25,-4.25,0,0,0,0,0,0,0,0,3.5,0,0,0,0,0,0,-4.060000000000002,0,0,0,0.5600000000000023,0,0,0,0,0,0,0,0,0,0,0,0,1.0600000000000023,0,0.8700000000000045,10.060000000000002,-38.87,0,0,0,0,0,-2.5,0,-0.8200000000000003,0,0.060000000000002274,0,5.5,0,0,0,0,0,0.75,0,0,-1.5700000000000003,0,0,0,0,0,0,-0.75,0,0,0,0,0,0,0,0,0],\"type\":\"scatter\",\"xaxis\":\"x\",\"yaxis\":\"y\"},{\"line\":{\"color\":\"black\"},\"mode\":\"lines\",\"name\":\"Dataset\",\"x\":[0,1,2,3,4,5,6,7,8,9,10,11,12,13,14,15,16,17,18,19,20,21,22,23,24,25,26,27,28,29,30,31,32,33,34,35,36,37,38,39,40,41,42,43,44,45,46,47,48,49,50,51,52,53,54,55,56,57,58,59,60,61,62,63,64,65,66,67,68,69,70,71,72,73,74,75,76,77,78,79,80,81,82,83,84,85,86,87,88,89,90,91,92,93,94,95,96,97,98],\"y\":[139.56,139.13,135.94,125.75,135.81,133.31,127.31,130.38,125.19,131.75,125.0,119.44,109.25,113.81,111.87,123.87,126.87,121.12,118.87,120.5,128.31,121.31,126.75,124.06,124.31,117.87,115.06,110.69,113.12,110.12,105.44,99.31,102.81,107.62,101.0,105.69,101.37,100.75,94.0,89.94,85.81,87.69,87.27,86.37,87.56,84.0,89.12,92.56,91.31,92.87,96.56,94.81,95.75,91.19,94.5,90.44,92.37,91.19,96.62,101.25,55.63,53.75,51.69,54.13,51.75,54.44,51.25,52.38,53.31,51.63,51.81,54.44,57.13,56.94,58.88,56.5,57.69,58.31,57.25,52.69,55.13,53.56,48.69,50.06,50.06,52.0,48.31,50.81,49.31,47.25,48.0,47.38,47.94,46.75,47.5,47.56,47.69,47.06,46.69],\"type\":\"scatter\",\"xaxis\":\"x2\",\"yaxis\":\"y2\"},{\"mode\":\"markers\",\"name\":\"stay\",\"opacity\":1.0,\"x\":[2,6,9,10,13,16,27,29,31,38,42,43,45,47,48,50,51,52,56,58,63,66,68,72,75,77,78,85,87,88,92],\"y\":[135.94,127.31,131.75,125.0,113.81,126.87,110.69,110.12,99.31,94.0,87.27,86.37,84.0,92.56,91.31,96.56,94.81,95.75,92.37,96.62,54.13,51.25,53.31,57.13,56.5,58.31,57.25,52.0,50.81,49.31,47.94],\"type\":\"scatter\",\"xaxis\":\"x2\",\"yaxis\":\"y2\"},{\"mode\":\"markers\",\"name\":\"buy\",\"opacity\":1.0,\"x\":[1,4,8,14,17,19,20,21,32,39,41,49,53,54,55,62,64,65,70,76,81,84,86,90,91,93,94,95,96,97,98],\"y\":[139.13,135.81,125.19,111.87,121.12,120.5,128.31,121.31,102.81,89.94,87.69,92.87,91.19,94.5,90.44,51.69,51.75,54.44,51.81,57.69,53.56,50.06,48.31,48.0,47.38,46.75,47.5,47.56,47.69,47.06,46.69],\"type\":\"scatter\",\"xaxis\":\"x2\",\"yaxis\":\"y2\"},{\"mode\":\"markers\",\"name\":\"sell\",\"opacity\":1.0,\"x\":[0,3,5,7,11,12,15,18,22,23,24,25,26,28,30,33,34,35,36,37,40,44,46,57,59,60,61,67,69,71,73,74,79,80,82,83,89],\"y\":[139.56,125.75,133.31,130.38,119.44,109.25,123.87,118.87,126.75,124.06,124.31,117.87,115.06,113.12,105.44,107.62,101.0,105.69,101.37,100.75,85.81,87.56,89.12,91.19,101.25,55.63,53.75,52.38,51.63,54.44,56.94,58.88,52.69,55.13,48.69,50.06,47.25],\"type\":\"scatter\",\"xaxis\":\"x2\",\"yaxis\":\"y2\"}],                        {\"template\":{\"data\":{\"histogram2dcontour\":[{\"type\":\"histogram2dcontour\",\"colorbar\":{\"outlinewidth\":0,\"ticks\":\"\"},\"colorscale\":[[0.0,\"#0d0887\"],[0.1111111111111111,\"#46039f\"],[0.2222222222222222,\"#7201a8\"],[0.3333333333333333,\"#9c179e\"],[0.4444444444444444,\"#bd3786\"],[0.5555555555555556,\"#d8576b\"],[0.6666666666666666,\"#ed7953\"],[0.7777777777777778,\"#fb9f3a\"],[0.8888888888888888,\"#fdca26\"],[1.0,\"#f0f921\"]]}],\"choropleth\":[{\"type\":\"choropleth\",\"colorbar\":{\"outlinewidth\":0,\"ticks\":\"\"}}],\"histogram2d\":[{\"type\":\"histogram2d\",\"colorbar\":{\"outlinewidth\":0,\"ticks\":\"\"},\"colorscale\":[[0.0,\"#0d0887\"],[0.1111111111111111,\"#46039f\"],[0.2222222222222222,\"#7201a8\"],[0.3333333333333333,\"#9c179e\"],[0.4444444444444444,\"#bd3786\"],[0.5555555555555556,\"#d8576b\"],[0.6666666666666666,\"#ed7953\"],[0.7777777777777778,\"#fb9f3a\"],[0.8888888888888888,\"#fdca26\"],[1.0,\"#f0f921\"]]}],\"heatmap\":[{\"type\":\"heatmap\",\"colorbar\":{\"outlinewidth\":0,\"ticks\":\"\"},\"colorscale\":[[0.0,\"#0d0887\"],[0.1111111111111111,\"#46039f\"],[0.2222222222222222,\"#7201a8\"],[0.3333333333333333,\"#9c179e\"],[0.4444444444444444,\"#bd3786\"],[0.5555555555555556,\"#d8576b\"],[0.6666666666666666,\"#ed7953\"],[0.7777777777777778,\"#fb9f3a\"],[0.8888888888888888,\"#fdca26\"],[1.0,\"#f0f921\"]]}],\"heatmapgl\":[{\"type\":\"heatmapgl\",\"colorbar\":{\"outlinewidth\":0,\"ticks\":\"\"},\"colorscale\":[[0.0,\"#0d0887\"],[0.1111111111111111,\"#46039f\"],[0.2222222222222222,\"#7201a8\"],[0.3333333333333333,\"#9c179e\"],[0.4444444444444444,\"#bd3786\"],[0.5555555555555556,\"#d8576b\"],[0.6666666666666666,\"#ed7953\"],[0.7777777777777778,\"#fb9f3a\"],[0.8888888888888888,\"#fdca26\"],[1.0,\"#f0f921\"]]}],\"contourcarpet\":[{\"type\":\"contourcarpet\",\"colorbar\":{\"outlinewidth\":0,\"ticks\":\"\"}}],\"contour\":[{\"type\":\"contour\",\"colorbar\":{\"outlinewidth\":0,\"ticks\":\"\"},\"colorscale\":[[0.0,\"#0d0887\"],[0.1111111111111111,\"#46039f\"],[0.2222222222222222,\"#7201a8\"],[0.3333333333333333,\"#9c179e\"],[0.4444444444444444,\"#bd3786\"],[0.5555555555555556,\"#d8576b\"],[0.6666666666666666,\"#ed7953\"],[0.7777777777777778,\"#fb9f3a\"],[0.8888888888888888,\"#fdca26\"],[1.0,\"#f0f921\"]]}],\"surface\":[{\"type\":\"surface\",\"colorbar\":{\"outlinewidth\":0,\"ticks\":\"\"},\"colorscale\":[[0.0,\"#0d0887\"],[0.1111111111111111,\"#46039f\"],[0.2222222222222222,\"#7201a8\"],[0.3333333333333333,\"#9c179e\"],[0.4444444444444444,\"#bd3786\"],[0.5555555555555556,\"#d8576b\"],[0.6666666666666666,\"#ed7953\"],[0.7777777777777778,\"#fb9f3a\"],[0.8888888888888888,\"#fdca26\"],[1.0,\"#f0f921\"]]}],\"mesh3d\":[{\"type\":\"mesh3d\",\"colorbar\":{\"outlinewidth\":0,\"ticks\":\"\"}}],\"scatter\":[{\"fillpattern\":{\"fillmode\":\"overlay\",\"size\":10,\"solidity\":0.2},\"type\":\"scatter\"}],\"parcoords\":[{\"type\":\"parcoords\",\"line\":{\"colorbar\":{\"outlinewidth\":0,\"ticks\":\"\"}}}],\"scatterpolargl\":[{\"type\":\"scatterpolargl\",\"marker\":{\"colorbar\":{\"outlinewidth\":0,\"ticks\":\"\"}}}],\"bar\":[{\"error_x\":{\"color\":\"#2a3f5f\"},\"error_y\":{\"color\":\"#2a3f5f\"},\"marker\":{\"line\":{\"color\":\"#E5ECF6\",\"width\":0.5},\"pattern\":{\"fillmode\":\"overlay\",\"size\":10,\"solidity\":0.2}},\"type\":\"bar\"}],\"scattergeo\":[{\"type\":\"scattergeo\",\"marker\":{\"colorbar\":{\"outlinewidth\":0,\"ticks\":\"\"}}}],\"scatterpolar\":[{\"type\":\"scatterpolar\",\"marker\":{\"colorbar\":{\"outlinewidth\":0,\"ticks\":\"\"}}}],\"histogram\":[{\"marker\":{\"pattern\":{\"fillmode\":\"overlay\",\"size\":10,\"solidity\":0.2}},\"type\":\"histogram\"}],\"scattergl\":[{\"type\":\"scattergl\",\"marker\":{\"colorbar\":{\"outlinewidth\":0,\"ticks\":\"\"}}}],\"scatter3d\":[{\"type\":\"scatter3d\",\"line\":{\"colorbar\":{\"outlinewidth\":0,\"ticks\":\"\"}},\"marker\":{\"colorbar\":{\"outlinewidth\":0,\"ticks\":\"\"}}}],\"scattermapbox\":[{\"type\":\"scattermapbox\",\"marker\":{\"colorbar\":{\"outlinewidth\":0,\"ticks\":\"\"}}}],\"scatterternary\":[{\"type\":\"scatterternary\",\"marker\":{\"colorbar\":{\"outlinewidth\":0,\"ticks\":\"\"}}}],\"scattercarpet\":[{\"type\":\"scattercarpet\",\"marker\":{\"colorbar\":{\"outlinewidth\":0,\"ticks\":\"\"}}}],\"carpet\":[{\"aaxis\":{\"endlinecolor\":\"#2a3f5f\",\"gridcolor\":\"white\",\"linecolor\":\"white\",\"minorgridcolor\":\"white\",\"startlinecolor\":\"#2a3f5f\"},\"baxis\":{\"endlinecolor\":\"#2a3f5f\",\"gridcolor\":\"white\",\"linecolor\":\"white\",\"minorgridcolor\":\"white\",\"startlinecolor\":\"#2a3f5f\"},\"type\":\"carpet\"}],\"table\":[{\"cells\":{\"fill\":{\"color\":\"#EBF0F8\"},\"line\":{\"color\":\"white\"}},\"header\":{\"fill\":{\"color\":\"#C8D4E3\"},\"line\":{\"color\":\"white\"}},\"type\":\"table\"}],\"barpolar\":[{\"marker\":{\"line\":{\"color\":\"#E5ECF6\",\"width\":0.5},\"pattern\":{\"fillmode\":\"overlay\",\"size\":10,\"solidity\":0.2}},\"type\":\"barpolar\"}],\"pie\":[{\"automargin\":true,\"type\":\"pie\"}]},\"layout\":{\"autotypenumbers\":\"strict\",\"colorway\":[\"#636efa\",\"#EF553B\",\"#00cc96\",\"#ab63fa\",\"#FFA15A\",\"#19d3f3\",\"#FF6692\",\"#B6E880\",\"#FF97FF\",\"#FECB52\"],\"font\":{\"color\":\"#2a3f5f\"},\"hovermode\":\"closest\",\"hoverlabel\":{\"align\":\"left\"},\"paper_bgcolor\":\"white\",\"plot_bgcolor\":\"#E5ECF6\",\"polar\":{\"bgcolor\":\"#E5ECF6\",\"angularaxis\":{\"gridcolor\":\"white\",\"linecolor\":\"white\",\"ticks\":\"\"},\"radialaxis\":{\"gridcolor\":\"white\",\"linecolor\":\"white\",\"ticks\":\"\"}},\"ternary\":{\"bgcolor\":\"#E5ECF6\",\"aaxis\":{\"gridcolor\":\"white\",\"linecolor\":\"white\",\"ticks\":\"\"},\"baxis\":{\"gridcolor\":\"white\",\"linecolor\":\"white\",\"ticks\":\"\"},\"caxis\":{\"gridcolor\":\"white\",\"linecolor\":\"white\",\"ticks\":\"\"}},\"coloraxis\":{\"colorbar\":{\"outlinewidth\":0,\"ticks\":\"\"}},\"colorscale\":{\"sequential\":[[0.0,\"#0d0887\"],[0.1111111111111111,\"#46039f\"],[0.2222222222222222,\"#7201a8\"],[0.3333333333333333,\"#9c179e\"],[0.4444444444444444,\"#bd3786\"],[0.5555555555555556,\"#d8576b\"],[0.6666666666666666,\"#ed7953\"],[0.7777777777777778,\"#fb9f3a\"],[0.8888888888888888,\"#fdca26\"],[1.0,\"#f0f921\"]],\"sequentialminus\":[[0.0,\"#0d0887\"],[0.1111111111111111,\"#46039f\"],[0.2222222222222222,\"#7201a8\"],[0.3333333333333333,\"#9c179e\"],[0.4444444444444444,\"#bd3786\"],[0.5555555555555556,\"#d8576b\"],[0.6666666666666666,\"#ed7953\"],[0.7777777777777778,\"#fb9f3a\"],[0.8888888888888888,\"#fdca26\"],[1.0,\"#f0f921\"]],\"diverging\":[[0,\"#8e0152\"],[0.1,\"#c51b7d\"],[0.2,\"#de77ae\"],[0.3,\"#f1b6da\"],[0.4,\"#fde0ef\"],[0.5,\"#f7f7f7\"],[0.6,\"#e6f5d0\"],[0.7,\"#b8e186\"],[0.8,\"#7fbc41\"],[0.9,\"#4d9221\"],[1,\"#276419\"]]},\"xaxis\":{\"gridcolor\":\"white\",\"linecolor\":\"white\",\"ticks\":\"\",\"title\":{\"standoff\":15},\"zerolinecolor\":\"white\",\"automargin\":true,\"zerolinewidth\":2},\"yaxis\":{\"gridcolor\":\"white\",\"linecolor\":\"white\",\"ticks\":\"\",\"title\":{\"standoff\":15},\"zerolinecolor\":\"white\",\"automargin\":true,\"zerolinewidth\":2},\"scene\":{\"xaxis\":{\"backgroundcolor\":\"#E5ECF6\",\"gridcolor\":\"white\",\"linecolor\":\"white\",\"showbackground\":true,\"ticks\":\"\",\"zerolinecolor\":\"white\",\"gridwidth\":2},\"yaxis\":{\"backgroundcolor\":\"#E5ECF6\",\"gridcolor\":\"white\",\"linecolor\":\"white\",\"showbackground\":true,\"ticks\":\"\",\"zerolinecolor\":\"white\",\"gridwidth\":2},\"zaxis\":{\"backgroundcolor\":\"#E5ECF6\",\"gridcolor\":\"white\",\"linecolor\":\"white\",\"showbackground\":true,\"ticks\":\"\",\"zerolinecolor\":\"white\",\"gridwidth\":2}},\"shapedefaults\":{\"line\":{\"color\":\"#2a3f5f\"}},\"annotationdefaults\":{\"arrowcolor\":\"#2a3f5f\",\"arrowhead\":0,\"arrowwidth\":1},\"geo\":{\"bgcolor\":\"white\",\"landcolor\":\"#E5ECF6\",\"subunitcolor\":\"white\",\"showland\":true,\"showlakes\":true,\"lakecolor\":\"white\"},\"title\":{\"x\":0.05},\"mapbox\":{\"style\":\"light\"}}},\"xaxis\":{\"anchor\":\"y\",\"domain\":[0.0,1.0],\"matches\":\"x2\",\"showticklabels\":false,\"title\":{\"text\":\"Step\"}},\"yaxis\":{\"anchor\":\"x\",\"domain\":[0.575,1.0]},\"xaxis2\":{\"anchor\":\"y2\",\"domain\":[0.0,1.0],\"title\":{\"text\":\"Step\"}},\"yaxis2\":{\"anchor\":\"x2\",\"domain\":[0.0,0.425]}},                        {\"responsive\": true}                    ).then(function(){\n",
              "                            \n",
              "var gd = document.getElementById('c95819ef-1f71-41c8-aefb-730624e390f4');\n",
              "var x = new MutationObserver(function (mutations, observer) {{\n",
              "        var display = window.getComputedStyle(gd).display;\n",
              "        if (!display || display === 'none') {{\n",
              "            console.log([gd, 'removed!']);\n",
              "            Plotly.purge(gd);\n",
              "            observer.disconnect();\n",
              "        }}\n",
              "}});\n",
              "\n",
              "// Listen for the removal of the full notebook cells\n",
              "var notebookContainer = gd.closest('#notebook-container');\n",
              "if (notebookContainer) {{\n",
              "    x.observe(notebookContainer, {childList: true});\n",
              "}}\n",
              "\n",
              "// Listen for the clearing of the current output cell\n",
              "var outputEl = gd.closest('.output');\n",
              "if (outputEl) {{\n",
              "    x.observe(outputEl, {childList: true});\n",
              "}}\n",
              "\n",
              "                        })                };                            </script>        </div>\n",
              "</body>\n",
              "</html>"
            ]
          },
          "metadata": {}
        }
      ]
    },
    {
      "cell_type": "markdown",
      "source": [
        "## Ejercicio 3"
      ],
      "metadata": {
        "id": "bVglHNu_fQnL"
      }
    },
    {
      "cell_type": "code",
      "source": [
        "\"\"\"\n",
        "Este código carga datos de prueba para el stock \"AAPL\", recorta los datos a los primeros 1000 puntos y divide los datos de entrenamiento y prueba en una proporción de 50-50.\n",
        "Luego, para el Experimento 1, se crea un entorno de trading utilizando estos datos de prueba, con la opción de impresión detallada desactivada.\n",
        "Además, se inicializa un agente DQL para este experimento, con un nombre específico y sin cargar un modelo preentrenado.\n",
        "\"\"\"\n",
        "\n",
        "# Cargar los datos del conjunto de pruebas para el stock \"AAPL\"\n",
        "# Utiliza solo los primeros 1000 datos y divide los datos de entrenamiento y prueba en una proporción de 0.5\n",
        "_, test_data = dataset_loader(stock_name=\"AAPL\", clip_data=1000, train_portion=0.5)\n",
        "# Experimento 1\n",
        "# Creamos un entorno de trading con los datos de prueba cargados, sin imprimir información detallada (verbose=False)\n",
        "entorno_exp1 = Trading_Environment(test_data, verbose=False)\n",
        "# Creamos un agente DQL para el experimento 1, sin cargar un modelo preentrenado (pretrained=False)\n",
        "dql_agent_exp1 = DQL_Agent(entorno_exp1, agent_name=\"robot_d5ql_full_50_exp_1\", pretrained=False) # true\n"
      ],
      "metadata": {
        "colab": {
          "base_uri": "https://localhost:8080/"
        },
        "id": "xcesLLKFoNGh",
        "outputId": "b1613c0b-a771-4f70-d46e-bef891d50b30"
      },
      "execution_count": 68,
      "outputs": [
        {
          "output_type": "stream",
          "name": "stderr",
          "text": [
            "<ipython-input-4-3669e1f5687e>:20: SettingWithCopyWarning:\n",
            "\n",
            "\n",
            "A value is trying to be set on a copy of a slice from a DataFrame\n",
            "\n",
            "See the caveats in the documentation: https://pandas.pydata.org/pandas-docs/stable/user_guide/indexing.html#returning-a-view-versus-a-copy\n",
            "\n",
            "<ipython-input-47-04752e11e2c3>:73: FutureWarning:\n",
            "\n",
            "Series.__getitem__ treating keys as positions is deprecated. In a future version, integer keys will always be treated as labels (consistent with DataFrame behavior). To access a value by position, use `ser.iloc[pos]`\n",
            "\n",
            "<ipython-input-47-04752e11e2c3>:91: FutureWarning:\n",
            "\n",
            "Series.__getitem__ treating keys as positions is deprecated. In a future version, integer keys will always be treated as labels (consistent with DataFrame behavior). To access a value by position, use `ser.iloc[pos]`\n",
            "\n"
          ]
        },
        {
          "output_type": "stream",
          "name": "stdout",
          "text": [
            "Timeline:\n",
            " 1999-11-01 <---[501]---> 2001-10-30 <---[500]---> 2003-10-23\n"
          ]
        }
      ]
    },
    {
      "cell_type": "code",
      "source": [
        "\"\"\"\n",
        "Seguimiento adql_agent_exp1 con una arquitecura intermedia\n",
        "\n",
        "\"\"\"\n",
        "# Cargar los datos del conjunto de pruebas para el stock \"AAPL\"\n",
        "# Utiliza solo los primeros 1000 datos y divide los datos de entrenamiento y prueba en una proporción de 0.5\n",
        "_, test_data = dataset_loader(stock_name=\"AAPL\", clip_data=1000, train_portion=0.5)\n",
        "# Experimento 1\n",
        "# Creamos un entorno de trading con los datos de prueba cargados, sin imprimir información detallada (verbose=False)\n",
        "entorno_exp1 = Trading_Environment(test_data, verbose=False)\n",
        "# Creamos un agente DQL para el experimento 1, sin cargar un modelo preentrenado (pretrained=False)\n",
        "dql_agent_exp1 = DQL_Agent(entorno_exp1, agent_name=\"robot_d5ql_full_50_exp_1\", pretrained=False) # true\n"
      ],
      "metadata": {
        "colab": {
          "base_uri": "https://localhost:8080/"
        },
        "id": "QaRsdUkUVC0F",
        "outputId": "cd1c0732-eb7a-425f-b8db-620fcbce9ce2"
      },
      "execution_count": 89,
      "outputs": [
        {
          "output_type": "stream",
          "name": "stderr",
          "text": [
            "<ipython-input-4-3669e1f5687e>:20: SettingWithCopyWarning:\n",
            "\n",
            "\n",
            "A value is trying to be set on a copy of a slice from a DataFrame\n",
            "\n",
            "See the caveats in the documentation: https://pandas.pydata.org/pandas-docs/stable/user_guide/indexing.html#returning-a-view-versus-a-copy\n",
            "\n",
            "<ipython-input-47-04752e11e2c3>:73: FutureWarning:\n",
            "\n",
            "Series.__getitem__ treating keys as positions is deprecated. In a future version, integer keys will always be treated as labels (consistent with DataFrame behavior). To access a value by position, use `ser.iloc[pos]`\n",
            "\n",
            "<ipython-input-47-04752e11e2c3>:91: FutureWarning:\n",
            "\n",
            "Series.__getitem__ treating keys as positions is deprecated. In a future version, integer keys will always be treated as labels (consistent with DataFrame behavior). To access a value by position, use `ser.iloc[pos]`\n",
            "\n"
          ]
        },
        {
          "output_type": "stream",
          "name": "stdout",
          "text": [
            "Timeline:\n",
            " 1999-11-01 <---[501]---> 2001-10-30 <---[500]---> 2003-10-23\n"
          ]
        }
      ]
    },
    {
      "cell_type": "code",
      "source": [
        "\"\"\"\n",
        "Seguimiento adql_agent_exp1 con una arquitecura compleja\n",
        "\n",
        "\"\"\"\n",
        "\n",
        "# Cargar los datos del conjunto de pruebas para el stock \"AAPL\"\n",
        "# Utiliza solo los primeros 1000 datos y divide los datos de entrenamiento y prueba en una proporción de 0.5\n",
        "_, test_data = dataset_loader(stock_name=\"AAPL\", clip_data=1000, train_portion=0.5)\n",
        "# Experimento 1\n",
        "# Creamos un entorno de trading con los datos de prueba cargados, sin imprimir información detallada (verbose=False)\n",
        "entorno_exp1 = Trading_Environment(test_data, verbose=False)\n",
        "# Creamos un agente DQL para el experimento 1, sin cargar un modelo preentrenado (pretrained=False)\n",
        "dql_agent_exp1 = DQL_Agent(entorno_exp1, agent_name=\"robot_d5ql_full_50_exp_1\", pretrained=False) # true"
      ],
      "metadata": {
        "colab": {
          "base_uri": "https://localhost:8080/"
        },
        "id": "mTOpQCHFXqzg",
        "outputId": "e2c855f5-da69-4429-8017-60fbf83614d5"
      },
      "execution_count": 100,
      "outputs": [
        {
          "output_type": "stream",
          "name": "stdout",
          "text": [
            "Timeline:\n",
            " 1999-11-01 <---[501]---> 2001-10-30 <---[500]---> 2003-10-23\n"
          ]
        },
        {
          "output_type": "stream",
          "name": "stderr",
          "text": [
            "<ipython-input-4-3669e1f5687e>:20: SettingWithCopyWarning:\n",
            "\n",
            "\n",
            "A value is trying to be set on a copy of a slice from a DataFrame\n",
            "\n",
            "See the caveats in the documentation: https://pandas.pydata.org/pandas-docs/stable/user_guide/indexing.html#returning-a-view-versus-a-copy\n",
            "\n",
            "<ipython-input-47-04752e11e2c3>:73: FutureWarning:\n",
            "\n",
            "Series.__getitem__ treating keys as positions is deprecated. In a future version, integer keys will always be treated as labels (consistent with DataFrame behavior). To access a value by position, use `ser.iloc[pos]`\n",
            "\n",
            "<ipython-input-47-04752e11e2c3>:91: FutureWarning:\n",
            "\n",
            "Series.__getitem__ treating keys as positions is deprecated. In a future version, integer keys will always be treated as labels (consistent with DataFrame behavior). To access a value by position, use `ser.iloc[pos]`\n",
            "\n"
          ]
        }
      ]
    },
    {
      "cell_type": "code",
      "source": [
        "dql_agent_exp1.model.summary()"
      ],
      "metadata": {
        "colab": {
          "base_uri": "https://localhost:8080/"
        },
        "id": "N9FTOZBOoWsd",
        "outputId": "81fea269-c8ed-4bcb-e9ef-05f6542c4af9"
      },
      "execution_count": 69,
      "outputs": [
        {
          "output_type": "stream",
          "name": "stdout",
          "text": [
            "Model: \"robot_d5ql_full_50_exp_1_Simple\"\n",
            "_________________________________________________________________\n",
            " Layer (type)                Output Shape              Param #   \n",
            "=================================================================\n",
            " Layer1 (Dense)              (None, 64)                768       \n",
            "                                                                 \n",
            " OutputLayer (Dense)         (None, 3)                 195       \n",
            "                                                                 \n",
            "=================================================================\n",
            "Total params: 963 (3.76 KB)\n",
            "Trainable params: 963 (3.76 KB)\n",
            "Non-trainable params: 0 (0.00 Byte)\n",
            "_________________________________________________________________\n"
          ]
        }
      ]
    },
    {
      "cell_type": "code",
      "source": [
        "\"\"\"\n",
        "Carga los datos de prueba para el stock \"AAPL\", recorta los datos a los primeros 1000 puntos y divide los datos de entrenamiento y prueba en una proporción de 50-50.\n",
        "Luego, para el Experimento 2, se crea un entorno de trading utilizando estos datos de prueba, con la opción de impresión detallada desactivada.\n",
        "Además, se inicializa un agente DQL para este experimento, con un nombre específico y sin cargar un modelo preentrenado.\n",
        "\"\"\"\n",
        "\n",
        "# Cargar los datos del conjunto de pruebas para el stock \"AAPL\"\n",
        "# Utiliza solo los primeros 1000 datos y divide los datos de entrenamiento y prueba en una proporción de 0.5\n",
        "_, test_data = dataset_loader(stock_name=\"AAPL\", clip_data=1000, train_portion=0.5)\n",
        "# Experimento 2\n",
        "# Creamos un entorno de trading con los datos de prueba cargados, sin imprimir información detallada (verbose=False)\n",
        "entorno_exp2 = Trading_Environment(test_data, verbose=False)\n",
        "\n",
        "# Creamos un agente DQL para el experimento 2, sin cargar un modelo preentrenado (pretrained=False)\n",
        "dql_agent_exp2 = DQL_Agent(entorno_exp2, agent_name=\"robot_d5ql_full_50_exp_2\", pretrained=False) # true\n"
      ],
      "metadata": {
        "colab": {
          "base_uri": "https://localhost:8080/"
        },
        "id": "xtgpzWHGkCSr",
        "outputId": "b4183207-5eac-40b3-8bbc-fd29dfa9ef8e"
      },
      "execution_count": 70,
      "outputs": [
        {
          "output_type": "stream",
          "name": "stdout",
          "text": [
            "Timeline:\n",
            " 1999-11-01 <---[501]---> 2001-10-30 <---[500]---> 2003-10-23\n"
          ]
        },
        {
          "output_type": "stream",
          "name": "stderr",
          "text": [
            "<ipython-input-4-3669e1f5687e>:20: SettingWithCopyWarning:\n",
            "\n",
            "\n",
            "A value is trying to be set on a copy of a slice from a DataFrame\n",
            "\n",
            "See the caveats in the documentation: https://pandas.pydata.org/pandas-docs/stable/user_guide/indexing.html#returning-a-view-versus-a-copy\n",
            "\n",
            "<ipython-input-47-04752e11e2c3>:73: FutureWarning:\n",
            "\n",
            "Series.__getitem__ treating keys as positions is deprecated. In a future version, integer keys will always be treated as labels (consistent with DataFrame behavior). To access a value by position, use `ser.iloc[pos]`\n",
            "\n",
            "<ipython-input-47-04752e11e2c3>:91: FutureWarning:\n",
            "\n",
            "Series.__getitem__ treating keys as positions is deprecated. In a future version, integer keys will always be treated as labels (consistent with DataFrame behavior). To access a value by position, use `ser.iloc[pos]`\n",
            "\n"
          ]
        }
      ]
    },
    {
      "cell_type": "code",
      "source": [
        "dql_agent_exp2.model.summary()"
      ],
      "metadata": {
        "colab": {
          "base_uri": "https://localhost:8080/"
        },
        "id": "Fq0gwwjNkpTg",
        "outputId": "d80664fd-0523-4f59-b8c8-a258ffa43ef6"
      },
      "execution_count": 71,
      "outputs": [
        {
          "output_type": "stream",
          "name": "stdout",
          "text": [
            "Model: \"robot_d5ql_full_50_exp_2_Simple\"\n",
            "_________________________________________________________________\n",
            " Layer (type)                Output Shape              Param #   \n",
            "=================================================================\n",
            " Layer1 (Dense)              (None, 64)                768       \n",
            "                                                                 \n",
            " OutputLayer (Dense)         (None, 3)                 195       \n",
            "                                                                 \n",
            "=================================================================\n",
            "Total params: 963 (3.76 KB)\n",
            "Trainable params: 963 (3.76 KB)\n",
            "Non-trainable params: 0 (0.00 Byte)\n",
            "_________________________________________________________________\n"
          ]
        }
      ]
    },
    {
      "cell_type": "code",
      "source": [
        "\"\"\"\n",
        "En este bloque de código, se carga el conjunto de datos de prueba para el stock \"AAPL\",\n",
        "se recortan los datos a los primeros 1000 puntos y se dividen en datos de entrenamiento y prueba en una proporción de 50-50.\n",
        "Luego, para el Experimento 3, se crea un entorno de trading utilizando estos datos de prueba, con la opción de impresión detallada desactivada.\n",
        "Además, se inicializa un agente DQL para este experimento, con un nombre específico y sin cargar un modelo preentrenado.\n",
        "\n",
        "\"\"\"\n",
        "\n",
        "# Cargar los datos del conjunto de pruebas para el stock \"AAPL\"\n",
        "# Utiliza solo los primeros 1000 datos y divide los datos de entrenamiento y prueba en una proporción de 0.5\n",
        "_, test_data = dataset_loader(stock_name=\"AAPL\", clip_data=1000, train_portion=0.5)\n",
        "# Experimento 3\n",
        "# Creamos un entorno de trading con los datos de prueba cargados, sin imprimir información detallada (verbose=False)\n",
        "entorno_exp3 = Trading_Environment(test_data, verbose=False)\n",
        "# Creamos un agente DQL para el experimento 3, sin cargar un modelo preentrenado (pretrained=False)\n",
        "dql_agent_exp3 = DQL_Agent(entorno_exp3, agent_name=\"robot_d5ql_full_50_exp_3\", pretrained=False) # true\n"
      ],
      "metadata": {
        "colab": {
          "base_uri": "https://localhost:8080/"
        },
        "id": "DQeA1gmtpejZ",
        "outputId": "2f11126b-7827-4a2e-e7d3-8013ac12ca61"
      },
      "execution_count": 72,
      "outputs": [
        {
          "output_type": "stream",
          "name": "stdout",
          "text": [
            "Timeline:\n",
            " 1999-11-01 <---[501]---> 2001-10-30 <---[500]---> 2003-10-23\n"
          ]
        },
        {
          "output_type": "stream",
          "name": "stderr",
          "text": [
            "<ipython-input-4-3669e1f5687e>:20: SettingWithCopyWarning:\n",
            "\n",
            "\n",
            "A value is trying to be set on a copy of a slice from a DataFrame\n",
            "\n",
            "See the caveats in the documentation: https://pandas.pydata.org/pandas-docs/stable/user_guide/indexing.html#returning-a-view-versus-a-copy\n",
            "\n",
            "<ipython-input-47-04752e11e2c3>:73: FutureWarning:\n",
            "\n",
            "Series.__getitem__ treating keys as positions is deprecated. In a future version, integer keys will always be treated as labels (consistent with DataFrame behavior). To access a value by position, use `ser.iloc[pos]`\n",
            "\n",
            "<ipython-input-47-04752e11e2c3>:91: FutureWarning:\n",
            "\n",
            "Series.__getitem__ treating keys as positions is deprecated. In a future version, integer keys will always be treated as labels (consistent with DataFrame behavior). To access a value by position, use `ser.iloc[pos]`\n",
            "\n"
          ]
        }
      ]
    },
    {
      "cell_type": "code",
      "source": [
        "dql_agent_exp3.model.summary()"
      ],
      "metadata": {
        "colab": {
          "base_uri": "https://localhost:8080/"
        },
        "id": "MWLaW5NOplqs",
        "outputId": "f7f64ede-b571-4afe-d9f2-454cd7f27a49"
      },
      "execution_count": 73,
      "outputs": [
        {
          "output_type": "stream",
          "name": "stdout",
          "text": [
            "Model: \"robot_d5ql_full_50_exp_3_Simple\"\n",
            "_________________________________________________________________\n",
            " Layer (type)                Output Shape              Param #   \n",
            "=================================================================\n",
            " Layer1 (Dense)              (None, 64)                768       \n",
            "                                                                 \n",
            " OutputLayer (Dense)         (None, 3)                 195       \n",
            "                                                                 \n",
            "=================================================================\n",
            "Total params: 963 (3.76 KB)\n",
            "Trainable params: 963 (3.76 KB)\n",
            "Non-trainable params: 0 (0.00 Byte)\n",
            "_________________________________________________________________\n"
          ]
        }
      ]
    },
    {
      "cell_type": "code",
      "source": [
        "_, test_data = dataset_loader(stock_name=\"AAPL\", clip_data=1000, train_portion=0.5)\n",
        "\n",
        "entorno = Trading_Environment(test_data, verbose=False)\n",
        "agente = DQL_Agent(entorno, agent_name=\"robot_d5ql_full_50\", pretrained=False) # true\n"
      ],
      "metadata": {
        "colab": {
          "base_uri": "https://localhost:8080/"
        },
        "id": "nXTPGIfzJi-M",
        "outputId": "7c1e22d0-76e1-4928-b86c-a57af7d8adcd"
      },
      "execution_count": 32,
      "outputs": [
        {
          "output_type": "stream",
          "name": "stdout",
          "text": [
            "Timeline:\n",
            " 1999-11-01 <---[501]---> 2001-10-30 <---[500]---> 2003-10-23\n"
          ]
        },
        {
          "output_type": "stream",
          "name": "stderr",
          "text": [
            "<ipython-input-4-3669e1f5687e>:20: SettingWithCopyWarning:\n",
            "\n",
            "\n",
            "A value is trying to be set on a copy of a slice from a DataFrame\n",
            "\n",
            "See the caveats in the documentation: https://pandas.pydata.org/pandas-docs/stable/user_guide/indexing.html#returning-a-view-versus-a-copy\n",
            "\n",
            "<ipython-input-5-bdf297553138>:73: FutureWarning:\n",
            "\n",
            "Series.__getitem__ treating keys as positions is deprecated. In a future version, integer keys will always be treated as labels (consistent with DataFrame behavior). To access a value by position, use `ser.iloc[pos]`\n",
            "\n",
            "<ipython-input-5-bdf297553138>:87: FutureWarning:\n",
            "\n",
            "Series.__getitem__ treating keys as positions is deprecated. In a future version, integer keys will always be treated as labels (consistent with DataFrame behavior). To access a value by position, use `ser.iloc[pos]`\n",
            "\n"
          ]
        }
      ]
    },
    {
      "cell_type": "code",
      "source": [
        "agente.model.summary()"
      ],
      "metadata": {
        "colab": {
          "base_uri": "https://localhost:8080/"
        },
        "id": "71xVoM4ufE5p",
        "outputId": "abe7c7c4-a57b-4360-c56d-ce67d098505e"
      },
      "execution_count": 33,
      "outputs": [
        {
          "output_type": "stream",
          "name": "stdout",
          "text": [
            "Model: \"robot_d5ql_full_50_Simple\"\n",
            "_________________________________________________________________\n",
            " Layer (type)                Output Shape              Param #   \n",
            "=================================================================\n",
            " Layer1 (Dense)              (None, 64)                768       \n",
            "                                                                 \n",
            " OutputLayer (Dense)         (None, 3)                 195       \n",
            "                                                                 \n",
            "=================================================================\n",
            "Total params: 963 (3.76 KB)\n",
            "Trainable params: 963 (3.76 KB)\n",
            "Non-trainable params: 0 (0.00 Byte)\n",
            "_________________________________________________________________\n"
          ]
        }
      ]
    },
    {
      "cell_type": "code",
      "source": [
        "!pip install visualkeras\n",
        "import visualkeras"
      ],
      "metadata": {
        "colab": {
          "base_uri": "https://localhost:8080/"
        },
        "id": "AvAgvqV1J3m5",
        "outputId": "1ffc912f-d6c0-4abb-b3e7-a15b72c5db05"
      },
      "execution_count": 34,
      "outputs": [
        {
          "output_type": "stream",
          "name": "stdout",
          "text": [
            "Collecting visualkeras\n",
            "  Downloading visualkeras-0.0.2-py3-none-any.whl (12 kB)\n",
            "Requirement already satisfied: pillow>=6.2.0 in /usr/local/lib/python3.10/dist-packages (from visualkeras) (9.4.0)\n",
            "Requirement already satisfied: numpy>=1.18.1 in /usr/local/lib/python3.10/dist-packages (from visualkeras) (1.25.2)\n",
            "Collecting aggdraw>=1.3.11 (from visualkeras)\n",
            "  Downloading aggdraw-1.3.18.post0-cp310-cp310-manylinux_2_17_x86_64.manylinux2014_x86_64.whl (993 kB)\n",
            "\u001b[2K     \u001b[90m━━━━━━━━━━━━━━━━━━━━━━━━━━━━━━━━━━━━━━━━\u001b[0m \u001b[32m993.8/993.8 kB\u001b[0m \u001b[31m12.6 MB/s\u001b[0m eta \u001b[36m0:00:00\u001b[0m\n",
            "\u001b[?25hInstalling collected packages: aggdraw, visualkeras\n",
            "Successfully installed aggdraw-1.3.18.post0 visualkeras-0.0.2\n"
          ]
        }
      ]
    },
    {
      "cell_type": "code",
      "source": [
        "visualkeras.layered_view(dql_agent_exp1.model)"
      ],
      "metadata": {
        "colab": {
          "base_uri": "https://localhost:8080/",
          "height": 44
        },
        "id": "cEbRSBnmocWe",
        "outputId": "ce255808-4655-4a2c-a369-3aa4dfa1dffe"
      },
      "execution_count": 35,
      "outputs": [
        {
          "output_type": "execute_result",
          "data": {
            "text/plain": [
              "<PIL.Image.Image image mode=RGBA size=77x27>"
            ],
            "image/png": "[encoded data removed]"
          },
          "metadata": {},
          "execution_count": 35
        }
      ]
    },
    {
      "cell_type": "code",
      "source": [
        "visualkeras.layered_view(dql_agent_exp2.model)"
      ],
      "metadata": {
        "colab": {
          "base_uri": "https://localhost:8080/",
          "height": 44
        },
        "id": "iNg5qugEkthW",
        "outputId": "18c6ac97-50e9-4ae6-fd96-d92cf1e96376"
      },
      "execution_count": 36,
      "outputs": [
        {
          "output_type": "execute_result",
          "data": {
            "text/plain": [
              "<PIL.Image.Image image mode=RGBA size=77x27>"
            ],
            "image/png": "[encoded data removed]"
          },
          "metadata": {},
          "execution_count": 36
        }
      ]
    },
    {
      "cell_type": "code",
      "source": [
        "visualkeras.layered_view(dql_agent_exp3.model)"
      ],
      "metadata": {
        "colab": {
          "base_uri": "https://localhost:8080/",
          "height": 44
        },
        "id": "PR_6TbXxpsrJ",
        "outputId": "8b76049e-7218-441d-bfc7-7ae7a6a58318"
      },
      "execution_count": 37,
      "outputs": [
        {
          "output_type": "execute_result",
          "data": {
            "text/plain": [
              "<PIL.Image.Image image mode=RGBA size=77x27>"
            ],
            "image/png": "[encoded data removed]"
          },
          "metadata": {},
          "execution_count": 37
        }
      ]
    },
    {
      "cell_type": "code",
      "source": [
        "visualkeras.layered_view(agente.model)"
      ],
      "metadata": {
        "colab": {
          "base_uri": "https://localhost:8080/",
          "height": 44
        },
        "id": "8DuNUj7ofJXH",
        "outputId": "8e76c573-b5ad-419e-fd6f-8371a0505965"
      },
      "execution_count": 57,
      "outputs": [
        {
          "output_type": "execute_result",
          "data": {
            "text/plain": [
              "<PIL.Image.Image image mode=RGBA size=77x27>"
            ],
            "image/png": "[encoded data removed]"
          },
          "metadata": {},
          "execution_count": 57
        }
      ]
    },
    {
      "cell_type": "code",
      "source": [
        "\n",
        "# Ejecutar el modelo entrenado en el entorno de prueba\n",
        "# para evaluar su desempeño.\n",
        "# Utiliza el agente DQL del Experimento 1 (dql_agent_exp1)\n",
        "# y el entorno correspondiente (entorno_exp1).\n",
        "# Establece el valor de epsilon en 0.01 para reducir la exploración.\n",
        "\n",
        "pev, rev, history = test_model(agent=dql_agent_exp1, env=entorno_exp1, epsilon=0.01)"
      ],
      "metadata": {
        "colab": {
          "base_uri": "https://localhost:8080/"
        },
        "id": "-eRxXeDQofx1",
        "outputId": "9f70b2f9-c5dc-468c-83d4-15f3d44ffd31"
      },
      "execution_count": 75,
      "outputs": [
        {
          "output_type": "stream",
          "name": "stderr",
          "text": [
            "<ipython-input-47-04752e11e2c3>:73: FutureWarning:\n",
            "\n",
            "Series.__getitem__ treating keys as positions is deprecated. In a future version, integer keys will always be treated as labels (consistent with DataFrame behavior). To access a value by position, use `ser.iloc[pos]`\n",
            "\n",
            "<ipython-input-47-04752e11e2c3>:91: FutureWarning:\n",
            "\n",
            "Series.__getitem__ treating keys as positions is deprecated. In a future version, integer keys will always be treated as labels (consistent with DataFrame behavior). To access a value by position, use `ser.iloc[pos]`\n",
            "\n",
            "<ipython-input-47-04752e11e2c3>:27: FutureWarning:\n",
            "\n",
            "Series.__getitem__ treating keys as positions is deprecated. In a future version, integer keys will always be treated as labels (consistent with DataFrame behavior). To access a value by position, use `ser.iloc[pos]`\n",
            "\n"
          ]
        }
      ]
    },
    {
      "cell_type": "code",
      "source": [
        "\"\"\"\n",
        "Seguimiento adql_agent_exp1 con una arquitecura intermedia\n",
        "\n",
        "\"\"\"\n",
        "\n",
        "pev, rev, history = test_model(agent=dql_agent_exp1, env=entorno_exp1, epsilon=0.01)"
      ],
      "metadata": {
        "colab": {
          "base_uri": "https://localhost:8080/"
        },
        "id": "XosAyEa4VSbM",
        "outputId": "861738c0-ef70-4d61-e4d2-77b7c1576d1f"
      },
      "execution_count": 90,
      "outputs": [
        {
          "output_type": "stream",
          "name": "stderr",
          "text": [
            "<ipython-input-47-04752e11e2c3>:73: FutureWarning:\n",
            "\n",
            "Series.__getitem__ treating keys as positions is deprecated. In a future version, integer keys will always be treated as labels (consistent with DataFrame behavior). To access a value by position, use `ser.iloc[pos]`\n",
            "\n",
            "<ipython-input-47-04752e11e2c3>:91: FutureWarning:\n",
            "\n",
            "Series.__getitem__ treating keys as positions is deprecated. In a future version, integer keys will always be treated as labels (consistent with DataFrame behavior). To access a value by position, use `ser.iloc[pos]`\n",
            "\n",
            "<ipython-input-47-04752e11e2c3>:27: FutureWarning:\n",
            "\n",
            "Series.__getitem__ treating keys as positions is deprecated. In a future version, integer keys will always be treated as labels (consistent with DataFrame behavior). To access a value by position, use `ser.iloc[pos]`\n",
            "\n"
          ]
        }
      ]
    },
    {
      "cell_type": "code",
      "source": [
        "\"\"\"\n",
        "Seguimiento adql_agent_exp1 con una arquitecura compleja\n",
        "\n",
        "\"\"\"\n",
        "\n",
        "pev, rev, history = test_model(agent=dql_agent_exp1, env=entorno_exp1, epsilon=0.01)"
      ],
      "metadata": {
        "colab": {
          "base_uri": "https://localhost:8080/"
        },
        "id": "haF8xg5HYJ5U",
        "outputId": "54503706-98fb-4bea-ea77-8dc67a69abfd"
      },
      "execution_count": 101,
      "outputs": [
        {
          "output_type": "stream",
          "name": "stderr",
          "text": [
            "<ipython-input-47-04752e11e2c3>:73: FutureWarning:\n",
            "\n",
            "Series.__getitem__ treating keys as positions is deprecated. In a future version, integer keys will always be treated as labels (consistent with DataFrame behavior). To access a value by position, use `ser.iloc[pos]`\n",
            "\n",
            "<ipython-input-47-04752e11e2c3>:91: FutureWarning:\n",
            "\n",
            "Series.__getitem__ treating keys as positions is deprecated. In a future version, integer keys will always be treated as labels (consistent with DataFrame behavior). To access a value by position, use `ser.iloc[pos]`\n",
            "\n",
            "<ipython-input-47-04752e11e2c3>:27: FutureWarning:\n",
            "\n",
            "Series.__getitem__ treating keys as positions is deprecated. In a future version, integer keys will always be treated as labels (consistent with DataFrame behavior). To access a value by position, use `ser.iloc[pos]`\n",
            "\n"
          ]
        }
      ]
    },
    {
      "cell_type": "code",
      "source": [
        "# Generar un gráfico para visualizar la evolución de la ganancia (Profit Evolution) y la recompensa (Reward)\n",
        "# a lo largo de los pasos de tiempo, así como las decisiones de compra, venta y espera tomadas por el agente.\n",
        "x_list = np.arange(len(pev))\n",
        "\n",
        "# Crear un objeto de trazado con dos filas y una columna para mostrar los gráficos de Profit Evolution y Reward\n",
        "fig1 = make_subplots(rows=2, cols=1, shared_xaxes=True)\n",
        "\n",
        "# Agregar la evolución de la ganancia (pev) como una línea continua en el primer gráfico\n",
        "fig1.add_trace(go.Scatter(x=x_list, y=pev, mode='lines', name=\"Profit Evolution\",\n",
        "                          opacity=1), row=1, col=1)\n",
        "# Agregar la recompensa (rev) como una línea continua con menor opacidad en el primer gráfico\n",
        "fig1.add_trace(go.Scatter(x=x_list, y=rev, mode='lines', name=\"Reward\",\n",
        "                          opacity=0.5), row=1, col=1)\n",
        "\n",
        "# Extraer los datos de la observación del entorno (historia de observaciones) y las acciones tomadas por el agente\n",
        "data_array = np.array([his[0] for his in history])\n",
        "action_list = np.array([his[1] for his in history])\n",
        "\n",
        "# Identificar los índices de las acciones de \"Stay\", \"Buy\" y \"Sell\"\n",
        "stay_indices = action_list == 'Stay'\n",
        "buy_indices = action_list == 'Buy'\n",
        "sell_indices = action_list == 'Sell'\n",
        "\n",
        "# Agregar el dataset como una línea continua en el segundo gráfico\n",
        "fig1.add_trace(go.Scatter(x=x_list, y=data_array, name=\"Dataset\", mode=\"lines\",\n",
        "                          line=dict(color=\"black\")), row=2, col=1)\n",
        "fig1.add_trace(go.Scatter(x=x_list[stay_indices], y=data_array[stay_indices],\n",
        "                          mode='markers', name=\"stay\", opacity=1.0), row=2, col=1)\n",
        "fig1.add_trace(go.Scatter(x=x_list[buy_indices], y=data_array[buy_indices],\n",
        "                          mode='markers', name=\"buy\", opacity=1.0), row=2, col=1)\n",
        "fig1.add_trace(go.Scatter(x=x_list[sell_indices], y=data_array[sell_indices],\n",
        "                          mode='markers', name=\"sell\", opacity=1.0), row=2, col=1)\n",
        "\n",
        "# Actualizar los ejes x con el título \"Step\"\n",
        "fig1.update_xaxes(title_text=\"Step\")\n",
        "\n",
        "# Mostrar el gráfico\n",
        "fig1.show()\n",
        "\n",
        "\"\"\"\n",
        "Este bloque de código genera un gráfico que muestra la evolución de la ganancia y la recompensa a lo largo de los pasos de tiempo,\n",
        "así como las decisiones de compra, venta y espera tomadas por el agente durante el experimento.\n",
        "Las líneas continuas representan la evolución de la ganancia y el dataset, mientras que los puntos indican las acciones específicas tomadas por el agente.\n",
        "\n",
        "\"\"\""
      ],
      "metadata": {
        "colab": {
          "base_uri": "https://localhost:8080/",
          "height": 542
        },
        "id": "zm13MbxvoiPW",
        "outputId": "66a7df3c-7089-4d93-e08d-b3e9fdeaf37c"
      },
      "execution_count": 76,
      "outputs": [
        {
          "output_type": "display_data",
          "data": {
            "text/html": [
              "<html>\n",
              "<head><meta charset=\"utf-8\" /></head>\n",
              "<body>\n",
              "    <div>            <script src=\"https://cdnjs.cloudflare.com/ajax/libs/mathjax/2.7.5/MathJax.js?config=TeX-AMS-MML_SVG\"></script><script type=\"text/javascript\">if (window.MathJax && window.MathJax.Hub && window.MathJax.Hub.Config) {window.MathJax.Hub.Config({SVG: {font: \"STIX-Web\"}});}</script>                <script type=\"text/javascript\">window.PlotlyConfig = {MathJaxConfig: 'local'};</script>\n",
              "        <script charset=\"utf-8\" src=\"https://cdn.plot.ly/plotly-2.24.1.min.js\"></script>                <div id=\"fbb9df14-5f02-4804-98cf-a2f6cb0693f0\" class=\"plotly-graph-div\" style=\"height:525px; width:100%;\"></div>            <script type=\"text/javascript\">                                    window.PLOTLYENV=window.PLOTLYENV || {};                                    if (document.getElementById(\"fbb9df14-5f02-4804-98cf-a2f6cb0693f0\")) {                    Plotly.newPlot(                        \"fbb9df14-5f02-4804-98cf-a2f6cb0693f0\",                        [{\"mode\":\"lines\",\"name\":\"Profit Evolution\",\"opacity\":1,\"x\":[0,1,2,3,4,5,6,7,8,9,10,11,12,13,14,15,16,17,18,19,20,21,22,23,24,25,26,27,28,29,30,31,32,33,34,35,36,37,38,39,40,41,42,43,44,45,46,47,48,49,50,51,52,53,54,55,56,57,58,59,60,61,62,63,64,65,66,67,68,69,70,71,72,73,74,75,76,77,78,79,80,81,82,83,84,85,86,87,88,89,90,91,92,93,94,95,96,97,98,99,100,101,102,103,104,105,106,107,108,109,110,111,112,113,114,115,116,117,118,119,120,121,122,123,124,125,126,127,128,129,130,131,132,133,134,135,136,137,138,139,140,141,142,143,144,145,146,147,148,149,150,151,152,153,154,155,156,157,158,159,160,161,162,163,164,165,166,167,168,169,170,171,172,173,174,175,176,177,178,179,180,181,182,183,184,185,186,187,188,189,190,191,192,193,194,195,196,197,198,199,200,201,202,203,204,205,206,207,208,209,210,211,212,213,214,215,216,217,218,219,220,221,222,223,224,225,226,227,228,229,230,231,232,233,234,235,236,237,238,239,240,241,242,243,244,245,246,247,248,249,250,251,252,253,254,255,256,257,258,259,260,261,262,263,264,265,266,267,268,269,270,271,272,273,274,275,276,277,278,279,280,281,282,283,284,285,286,287,288,289,290,291,292,293,294,295,296,297,298,299,300,301,302,303,304,305,306,307,308,309,310,311,312,313,314,315,316,317,318,319,320,321,322,323,324,325,326,327,328,329,330,331,332,333,334,335,336,337,338,339,340,341,342,343,344,345,346,347,348,349,350,351,352,353,354,355,356,357,358,359,360,361,362,363,364,365,366,367,368,369,370,371,372,373,374,375,376,377,378,379,380,381,382,383,384,385,386,387,388,389,390,391,392,393,394,395,396,397,398,399,400,401,402,403,404,405,406,407,408,409,410,411,412,413,414,415,416,417,418,419,420,421,422,423,424,425,426,427,428,429,430,431,432,433,434,435,436,437,438,439,440,441,442,443,444,445,446,447,448,449,450,451,452,453,454,455,456,457,458,459,460,461,462,463,464,465,466,467,468,469,470,471,472,473,474,475,476,477,478,479,480,481,482,483,484,485,486,487,488,489,490,491,492,493,494,495,496,497,498],\"y\":[0,0,0,0,0,0,1.9899999999999984,2.129999999999999,2.129999999999999,1.8099999999999987,1.8099999999999987,1.8099999999999987,1.8099999999999987,1.8099999999999987,1.8099999999999987,1.8099999999999987,1.8099999999999987,2.6799999999999997,4.050000000000001,4.050000000000001,5.050000000000001,5.790000000000003,5.790000000000003,5.790000000000003,5.790000000000003,5.790000000000003,5.790000000000003,5.790000000000003,5.790000000000003,5.790000000000003,3.5199999999999996,3.5199999999999996,3.5199999999999996,3.5199999999999996,3.5199999999999996,3.5199999999999996,3.5199999999999996,1.7399999999999984,1.7399999999999984,1.7399999999999984,1.7399999999999984,1.7399999999999984,1.7399999999999984,1.7399999999999984,1.7399999999999984,2.8900000000000006,3.25,3.25,3.25,3.25,3.6799999999999997,3.2099999999999973,3.2099999999999973,3.2099999999999973,3.2099999999999973,3.8900000000000006,3.6400000000000006,3.6400000000000006,3.6400000000000006,3.6400000000000006,3.6400000000000006,4.810000000000002,5.600000000000001,5.600000000000001,5.600000000000001,5.600000000000001,9.82,9.82,9.82,9.82,13.100000000000001,13.100000000000001,15.630000000000003,15.630000000000003,15.630000000000003,15.630000000000003,15.510000000000002,15.510000000000002,15.510000000000002,15.510000000000002,15.510000000000002,14.200000000000003,14.200000000000003,14.200000000000003,14.200000000000003,14.200000000000003,14.200000000000003,14.200000000000003,14.200000000000003,14.850000000000001,14.850000000000001,13.989999999999998,13.989999999999998,13.989999999999998,14.699999999999996,14.699999999999996,15.719999999999999,15.719999999999999,15.719999999999999,16.45,16.45,16.45,18.62,18.62,18.62,18.62,20.78,20.78,20.78,21.070000000000004,21.070000000000004,24.230000000000004,24.230000000000004,25.780000000000005,25.780000000000005,25.780000000000005,27.660000000000004,27.660000000000004,28.120000000000005,28.120000000000005,28.120000000000005,28.120000000000005,26.180000000000007,25.290000000000006,26.100000000000005,26.100000000000005,26.100000000000005,25.150000000000006,23.730000000000004,23.730000000000004,23.730000000000004,23.730000000000004,23.730000000000004,23.730000000000004,23.730000000000004,23.730000000000004,23.730000000000004,24.180000000000007,24.260000000000005,22.660000000000007,22.660000000000007,22.10000000000001,22.10000000000001,22.10000000000001,19.97000000000001,19.97000000000001,18.29000000000001,17.43000000000001,17.43000000000001,17.43000000000001,15.90000000000001,15.90000000000001,15.90000000000001,15.90000000000001,13.52000000000001,13.52000000000001,10.300000000000011,10.300000000000011,10.300000000000011,10.300000000000011,10.300000000000011,1.5400000000000134,1.5400000000000134,1.5400000000000134,1.5400000000000134,-6.679999999999989,-6.679999999999989,-12.399999999999991,-16.93999999999999,-16.93999999999999,-16.93999999999999,-19.38999999999999,-19.38999999999999,-21.60999999999999,-21.60999999999999,-21.60999999999999,-20.49999999999999,-19.90999999999999,-21.419999999999987,-21.419999999999987,-24.179999999999986,-24.179999999999986,-28.44999999999998,-28.44999999999998,-28.44999999999998,-28.44999999999998,-28.44999999999998,-28.44999999999998,-30.719999999999985,-30.719999999999985,-30.719999999999985,-30.719999999999985,-30.719999999999985,-33.98999999999999,-33.98999999999999,-33.98999999999999,-36.499999999999986,-36.499999999999986,-36.499999999999986,-36.499999999999986,-36.499999999999986,-35.719999999999985,-35.719999999999985,-35.719999999999985,-35.719999999999985,-35.719999999999985,-35.719999999999985,-35.719999999999985,-35.719999999999985,-35.719999999999985,-35.719999999999985,-35.719999999999985,-35.719999999999985,-35.899999999999984,-35.899999999999984,-35.899999999999984,-35.899999999999984,-35.94999999999999,-36.829999999999984,-37.45999999999999,-37.40999999999998,-37.40999999999998,-37.12999999999998,-38.51999999999998,-38.51999999999998,-38.51999999999998,-38.51999999999998,-38.28999999999998,-38.28999999999998,-37.619999999999976,-37.619999999999976,-37.619999999999976,-37.619999999999976,-37.699999999999974,-37.699999999999974,-37.699999999999974,-38.339999999999975,-38.339999999999975,-39.019999999999975,-39.019999999999975,-39.019999999999975,-39.019999999999975,-39.019999999999975,-39.77999999999997,-39.77999999999997,-39.24999999999997,-39.24999999999997,-38.87999999999997,-38.959999999999965,-38.959999999999965,-38.959999999999965,-38.959999999999965,-38.419999999999966,-38.419999999999966,-38.419999999999966,-37.889999999999965,-37.889999999999965,-37.569999999999965,-37.569999999999965,-37.569999999999965,-37.569999999999965,-37.569999999999965,-37.569999999999965,-37.569999999999965,-37.569999999999965,-37.569999999999965,-37.569999999999965,-38.33999999999997,-38.33999999999997,-38.33999999999997,-38.33999999999997,-38.87999999999997,-38.87999999999997,-38.87999999999997,-38.87999999999997,-38.87999999999997,-39.179999999999964,-39.179999999999964,-40.57999999999997,-40.57999999999997,-40.57999999999997,-40.57999999999997,-40.57999999999997,-40.57999999999997,-40.57999999999997,-41.50999999999997,-41.50999999999997,-43.27999999999997,-43.27999999999997,-43.27999999999997,-43.27999999999997,-43.27999999999997,-43.27999999999997,-43.27999999999997,-43.27999999999997,-43.27999999999997,-43.27999999999997,-43.27999999999997,-43.27999999999997,-43.27999999999997,-44.31999999999997,-44.31999999999997,-44.31999999999997,-44.339999999999975,-44.339999999999975,-44.339999999999975,-44.339999999999975,-44.339999999999975,-45.739999999999974,-47.059999999999974,-47.059999999999974,-47.059999999999974,-47.059999999999974,-47.059999999999974,-47.059999999999974,-47.88999999999997,-48.01999999999997,-48.26999999999997,-48.26999999999997,-48.40999999999997,-48.40999999999997,-48.40999999999997,-48.40999999999997,-48.40999999999997,-48.40999999999997,-48.40999999999997,-48.40999999999997,-48.40999999999997,-48.40999999999997,-48.40999999999997,-48.40999999999997,-48.40999999999997,-48.40999999999997,-47.68999999999997,-47.03999999999997,-47.03999999999997,-46.87999999999997,-46.319999999999965,-46.65999999999997,-47.02999999999997,-47.02999999999997,-47.02999999999997,-47.02999999999997,-46.85999999999997,-46.85999999999997,-46.85999999999997,-46.85999999999997,-46.85999999999997,-46.85999999999997,-46.57999999999997,-46.82999999999997,-46.82999999999997,-46.82999999999997,-46.82999999999997,-46.82999999999997,-46.82999999999997,-46.82999999999997,-46.82999999999997,-46.82999999999997,-46.43999999999997,-46.52999999999997,-46.659999999999975,-46.91999999999997,-46.91999999999997,-46.91999999999997,-46.91999999999997,-46.91999999999997,-46.91999999999997,-47.949999999999974,-47.949999999999974,-47.949999999999974,-47.949999999999974,-47.949999999999974,-48.949999999999974,-48.949999999999974,-48.949999999999974,-49.119999999999976,-49.119999999999976,-49.20999999999998,-48.38999999999998,-48.38999999999998,-48.38999999999998,-48.38999999999998,-48.38999999999998,-44.84999999999998,-44.84999999999998,-44.84999999999998,-40.76999999999998,-40.76999999999998,-40.76999999999998,-37.19999999999998,-34.34999999999998,-34.34999999999998,-34.34999999999998,-34.34999999999998,-34.34999999999998,-31.199999999999978,-31.199999999999978,-31.199999999999978,-28.43999999999998,-25.24999999999998,-25.24999999999998,-25.24999999999998,-25.24999999999998,-22.22999999999998,-22.22999999999998,-22.22999999999998,-19.26999999999998,-19.26999999999998,-19.26999999999998,-19.26999999999998,-13.329999999999977,-13.329999999999977,-13.329999999999977,-8.129999999999976,-8.129999999999976,-2.2299999999999773,-2.2299999999999773,-2.2299999999999773,-2.2299999999999773,-2.2299999999999773,-2.2299999999999773,4.130000000000024,4.130000000000024,4.130000000000024,4.130000000000024,4.130000000000024,10.170000000000023,12.280000000000022,12.280000000000022,12.280000000000022,15.489000000000026,15.489000000000026,15.489000000000026,15.489000000000026,15.489000000000026,15.489000000000026,15.489000000000026,15.489000000000026,15.489000000000026,15.489000000000026,15.489000000000026,15.489000000000026,15.489000000000026,15.489000000000026,17.119000000000025,17.119000000000025,18.109000000000023,19.25900000000002,19.25900000000002,20.989000000000022,20.989000000000022,20.989000000000022,20.989000000000022,20.989000000000022,20.989000000000022,20.989000000000022,20.989000000000022,20.989000000000022,24.18900000000002,24.18900000000002,28.84900000000002,28.84900000000002,28.84900000000002,28.84900000000002,28.84900000000002,33.94900000000002,33.94900000000002,33.94900000000002,39.71900000000002,39.71900000000002,44.47900000000003,44.47900000000003,48.40900000000003,48.40900000000003,48.40900000000003,51.36900000000003,51.36900000000003,51.36900000000003,51.36900000000003,51.36900000000003,51.36900000000003,52.889000000000024,52.889000000000024,54.39900000000003,54.39900000000003,54.39900000000003,54.39900000000003,54.39900000000003,54.39900000000003,54.39900000000003,59.659000000000034,59.659000000000034,65.74900000000004,65.74900000000004,69.43900000000004,73.38900000000004,73.38900000000004,73.38900000000004],\"type\":\"scatter\",\"xaxis\":\"x\",\"yaxis\":\"y\"},{\"mode\":\"lines\",\"name\":\"Reward\",\"opacity\":0.5,\"x\":[0,1,2,3,4,5,6,7,8,9,10,11,12,13,14,15,16,17,18,19,20,21,22,23,24,25,26,27,28,29,30,31,32,33,34,35,36,37,38,39,40,41,42,43,44,45,46,47,48,49,50,51,52,53,54,55,56,57,58,59,60,61,62,63,64,65,66,67,68,69,70,71,72,73,74,75,76,77,78,79,80,81,82,83,84,85,86,87,88,89,90,91,92,93,94,95,96,97,98,99,100,101,102,103,104,105,106,107,108,109,110,111,112,113,114,115,116,117,118,119,120,121,122,123,124,125,126,127,128,129,130,131,132,133,134,135,136,137,138,139,140,141,142,143,144,145,146,147,148,149,150,151,152,153,154,155,156,157,158,159,160,161,162,163,164,165,166,167,168,169,170,171,172,173,174,175,176,177,178,179,180,181,182,183,184,185,186,187,188,189,190,191,192,193,194,195,196,197,198,199,200,201,202,203,204,205,206,207,208,209,210,211,212,213,214,215,216,217,218,219,220,221,222,223,224,225,226,227,228,229,230,231,232,233,234,235,236,237,238,239,240,241,242,243,244,245,246,247,248,249,250,251,252,253,254,255,256,257,258,259,260,261,262,263,264,265,266,267,268,269,270,271,272,273,274,275,276,277,278,279,280,281,282,283,284,285,286,287,288,289,290,291,292,293,294,295,296,297,298,299,300,301,302,303,304,305,306,307,308,309,310,311,312,313,314,315,316,317,318,319,320,321,322,323,324,325,326,327,328,329,330,331,332,333,334,335,336,337,338,339,340,341,342,343,344,345,346,347,348,349,350,351,352,353,354,355,356,357,358,359,360,361,362,363,364,365,366,367,368,369,370,371,372,373,374,375,376,377,378,379,380,381,382,383,384,385,386,387,388,389,390,391,392,393,394,395,396,397,398,399,400,401,402,403,404,405,406,407,408,409,410,411,412,413,414,415,416,417,418,419,420,421,422,423,424,425,426,427,428,429,430,431,432,433,434,435,436,437,438,439,440,441,442,443,444,445,446,447,448,449,450,451,452,453,454,455,456,457,458,459,460,461,462,463,464,465,466,467,468,469,470,471,472,473,474,475,476,477,478,479,480,481,482,483,484,485,486,487,488,489,490,491,492,493,494,495,496,497,498],\"y\":[0,0,0,0,0,0,1.9899999999999984,0.14000000000000057,0,-0.3200000000000003,0,0,0,0,0,0,0,0.870000000000001,1.370000000000001,0,1.0,0.740000000000002,0,0,0,0,0,0,0,0,-2.270000000000003,0,0,0,0,0,0,-1.7800000000000011,0,0,0,0,0,0,0,1.1500000000000021,0.35999999999999943,0,0,0,0.4299999999999997,-0.4700000000000024,0,0,0,0.6800000000000033,-0.25,0,0,0,0,1.1700000000000017,0.7899999999999991,0,0,0,4.219999999999999,0,0,0,3.280000000000001,0,2.530000000000001,0,0,0,-0.120000000000001,0,0,0,0,-1.3099999999999987,0,0,0,0,0,0,0,0.6499999999999986,0,-0.860000000000003,0,0,0.7099999999999973,0,1.0200000000000031,0,0,0.7300000000000004,0,0,2.1700000000000017,0,0,0,2.16,0,0,0.2900000000000027,0,3.16,0,1.5500000000000007,0,0,1.879999999999999,0,0.46000000000000085,0,0,0,-1.9399999999999977,-0.8900000000000006,0.8099999999999987,0,0,-0.9499999999999993,-1.4200000000000017,0,0,0,0,0,0,0,0,0.45000000000000284,0.0799999999999983,-1.5999999999999979,0,-0.5599999999999987,0,0,-2.129999999999999,0,-1.6799999999999997,-0.8599999999999994,0,0,-1.5300000000000011,0,0,0,-2.379999999999999,0,-3.219999999999999,0,0,0,0,-8.759999999999998,0,0,0,-8.220000000000002,0,-5.720000000000002,-4.539999999999999,0,0,-2.4499999999999993,0,-2.219999999999999,0,0,1.1099999999999994,0.5899999999999999,-1.5099999999999998,0,-2.759999999999998,0,-4.269999999999998,0,0,0,0,0,-2.2700000000000014,0,0,0,0,-3.2700000000000014,0,0,-2.51,0,0,0,0,0.7800000000000011,0,0,0,0,0,0,0,0,0,0,0,-0.17999999999999972,0,0,0,-0.05000000000000071,-0.879999999999999,-0.6300000000000008,0.05000000000000071,0,0.27999999999999936,-1.3900000000000006,0,0,0,0.23000000000000043,0,0.6699999999999999,0,0,0,-0.08000000000000007,0,0,-0.6400000000000006,0,-0.6800000000000015,0,0,0,0,-0.7599999999999998,0,0.5300000000000011,0,0.370000000000001,-0.08000000000000007,0,0,0,0.5400000000000009,0,0,0.5300000000000011,0,0.3200000000000003,0,0,0,0,0,0,0,0,0,-0.7700000000000014,0,0,0,-0.5399999999999991,0,0,0,0,-0.29999999999999893,0,-1.4000000000000021,0,0,0,0,0,0,-0.9300000000000015,0,-1.7700000000000014,0,0,0,0,0,0,0,0,0,0,0,0,-1.040000000000001,0,0,-0.02000000000000135,0,0,0,0,-1.3999999999999986,-1.3200000000000003,0,0,0,0,0,-0.8300000000000001,-0.129999999999999,-0.25,0,-0.14000000000000057,0,0,0,0,0,0,0,0,0,0,0,0,0,0.7199999999999989,0.6500000000000004,0,0.16000000000000014,0.5599999999999987,-0.33999999999999986,-0.370000000000001,0,0,0,0.16999999999999993,0,0,0,0,0,0.27999999999999936,-0.25,0,0,0,0,0,0,0,0,0.39000000000000057,-0.08999999999999986,-0.13000000000000078,-0.2599999999999998,0,0,0,0,0,-1.0300000000000011,0,0,0,0,-1.0,0,0,-0.16999999999999993,0,-0.08999999999999986,0.8200000000000003,0,0,0,0,3.539999999999999,0,0,4.08,0,0,3.5699999999999985,2.8500000000000014,0,0,0,0,3.150000000000002,0,0,2.759999999999998,3.1900000000000013,0,0,0,3.0199999999999996,0,0,2.960000000000001,0,0,0,5.940000000000001,0,0,5.200000000000001,0,5.899999999999999,0,0,0,0,0,6.360000000000001,0,0,0,0,6.039999999999999,2.1099999999999994,0,0,3.209000000000003,0,0,0,0,0,0,0,0,0,0,0,0,0,1.629999999999999,0,0.9899999999999984,1.1499999999999986,0,1.7300000000000004,0,0,0,0,0,0,0,0,3.1999999999999993,0,4.66,0,0,0,0,5.099999999999998,0,0,5.77,0,4.760000000000002,0,3.9299999999999997,0,0,2.9599999999999973,0,0,0,0,0,1.5199999999999996,0,1.5100000000000016,0,0,0,0,0,0,5.260000000000002,0,6.09,0,3.6900000000000013,3.9499999999999993,0,0],\"type\":\"scatter\",\"xaxis\":\"x\",\"yaxis\":\"y\"},{\"line\":{\"color\":\"black\"},\"mode\":\"lines\",\"name\":\"Dataset\",\"x\":[0,1,2,3,4,5,6,7,8,9,10,11,12,13,14,15,16,17,18,19,20,21,22,23,24,25,26,27,28,29,30,31,32,33,34,35,36,37,38,39,40,41,42,43,44,45,46,47,48,49,50,51,52,53,54,55,56,57,58,59,60,61,62,63,64,65,66,67,68,69,70,71,72,73,74,75,76,77,78,79,80,81,82,83,84,85,86,87,88,89,90,91,92,93,94,95,96,97,98,99,100,101,102,103,104,105,106,107,108,109,110,111,112,113,114,115,116,117,118,119,120,121,122,123,124,125,126,127,128,129,130,131,132,133,134,135,136,137,138,139,140,141,142,143,144,145,146,147,148,149,150,151,152,153,154,155,156,157,158,159,160,161,162,163,164,165,166,167,168,169,170,171,172,173,174,175,176,177,178,179,180,181,182,183,184,185,186,187,188,189,190,191,192,193,194,195,196,197,198,199,200,201,202,203,204,205,206,207,208,209,210,211,212,213,214,215,216,217,218,219,220,221,222,223,224,225,226,227,228,229,230,231,232,233,234,235,236,237,238,239,240,241,242,243,244,245,246,247,248,249,250,251,252,253,254,255,256,257,258,259,260,261,262,263,264,265,266,267,268,269,270,271,272,273,274,275,276,277,278,279,280,281,282,283,284,285,286,287,288,289,290,291,292,293,294,295,296,297,298,299,300,301,302,303,304,305,306,307,308,309,310,311,312,313,314,315,316,317,318,319,320,321,322,323,324,325,326,327,328,329,330,331,332,333,334,335,336,337,338,339,340,341,342,343,344,345,346,347,348,349,350,351,352,353,354,355,356,357,358,359,360,361,362,363,364,365,366,367,368,369,370,371,372,373,374,375,376,377,378,379,380,381,382,383,384,385,386,387,388,389,390,391,392,393,394,395,396,397,398,399,400,401,402,403,404,405,406,407,408,409,410,411,412,413,414,415,416,417,418,419,420,421,422,423,424,425,426,427,428,429,430,431,432,433,434,435,436,437,438,439,440,441,442,443,444,445,446,447,448,449,450,451,452,453,454,455,456,457,458,459,460,461,462,463,464,465,466,467,468,469,470,471,472,473,474,475,476,477,478,479,480,481,482,483,484,485,486,487,488,489,490,491,492,493,494,495,496,497,498],\"y\":[17.56,18.59,18.57,19.07,19.57,19.59,18.71,18.71,18.75,19.37,19.61,19.45,18.97,20.0,19.53,19.68,19.84,21.37,21.0,20.53,20.42,21.3,21.05,22.4,23.76,22.78,22.54,22.54,21.78,21.49,21.0,20.39,20.62,21.01,21.62,20.67,21.0,21.36,21.49,22.07,22.43,21.9,23.3,23.58,23.69,22.9,22.61,21.65,21.23,21.05,21.15,21.7,20.78,22.48,22.17,21.82,23.02,23.21,23.25,23.27,23.07,24.09,24.72,24.41,25.35,25.45,24.67,24.3,24.03,24.98,24.71,25.01,24.6,23.9,22.62,23.13,21.5,22.74,23.81,23.67,21.96,21.7,23.45,24.29,23.53,24.07,24.38,24.66,25.06,24.72,24.49,24.43,24.95,24.74,24.85,24.92,24.27,24.09,23.35,23.46,23.47,23.67,24.46,24.07,23.75,24.9,24.74,24.56,24.1,24.66,24.86,25.06,25.0,25.74,26.11,25.41,24.98,24.53,24.25,23.77,24.12,23.01,23.96,24.27,23.98,23.69,23.51,22.65,22.47,24.37,24.19,23.32,23.94,25.61,25.28,25.21,25.01,24.74,23.46,24.32,25.18,24.15,23.98,23.98,24.2,23.3,22.91,22.78,22.72,22.16,21.4,21.48,20.46,20.09,19.54,20.1,20.54,20.15,17.12,17.11,16.85,17.27,17.14,16.55,17.06,17.72,17.06,16.94,17.55,18.74,18.01,17.53,17.32,18.3,17.5,18.23,17.86,15.63,14.99,14.96,14.92,14.47,15.2,14.36,14.34,15.02,15.43,15.26,14.8,14.45,13.99,14.74,15.03,15.3,15.0,14.99,14.59,15.17,15.61,15.81,15.98,15.91,16.12,15.97,15.73,15.53,14.85,14.7,14.7,14.75,14.05,14.48,14.18,14.38,14.37,14.33,14.29,14.14,14.17,14.5,14.8,15.02,14.58,14.87,14.85,14.64,14.93,14.7,14.72,14.5,14.51,14.17,14.3,14.03,13.77,13.69,13.6,14.12,14.51,14.77,15.16,14.56,14.11,14.34,14.56,14.7,14.88,14.69,15.42,15.61,15.44,15.98,16.07,16.36,16.89,16.9,17.22,16.0,15.84,15.16,15.64,15.59,16.3,15.95,15.65,15.27,15.53,16.35,16.01,15.97,15.41,15.72,15.5,15.18,15.16,14.97,14.63,14.95,14.75,15.28,15.49,15.19,14.79,14.85,15.08,14.57,14.2,14.14,14.49,14.36,14.4,14.06,14.07,14.33,14.8,14.9,14.9,14.85,14.55,14.68,14.72,14.63,14.61,14.43,14.62,14.1,14.02,13.88,14.17,13.8,14.13,14.58,14.58,14.32,14.36,14.66,14.6,14.45,14.43,14.15,14.35,14.35,14.39,14.54,14.67,15.27,14.85,14.77,15.0,14.74,15.02,14.5,14.86,15.01,14.65,14.56,14.62,14.56,14.53,14.37,14.23,14.22,14.72,14.78,15.01,15.0,14.95,14.91,15.0,14.37,14.55,14.41,14.49,14.57,14.14,14.16,14.6,14.46,14.41,14.49,14.45,14.19,14.37,13.2,13.58,13.39,13.24,13.12,13.14,13.51,13.58,13.44,13.35,13.86,14.06,14.22,14.36,14.45,16.09,17.5,17.65,18.0,18.3,18.56,18.67,18.55,18.73,18.8,18.1,17.79,17.85,18.24,18.32,18.88,18.28,18.1,17.95,17.45,17.31,17.6,17.64,17.15,16.79,17.18,17.45,17.77,17.42,18.27,18.19,19.12,19.14,19.2,19.06,18.78,19.09,19.29,18.73,19.06,19.09,19.27,19.13,19.87,20.4,19.89,19.58,19.85,19.9,19.61,19.87,20.9,20.859,20.61,20.8,20.79,20.51,21.54,20.99,20.72,20.28,21.08,20.73,21.21,20.38,19.63,19.93,19.64,19.66,19.7,20.18,19.97,19.71,20.34,20.32,21.01,21.68,20.88,20.86,21.05,21.48,22.19,22.61,22.85,22.95,22.83,22.5,22.74,22.37,22.18,22.56,23.1,22.21,22.36,22.12,22.88,22.58,22.08,22.43,21.32,20.43,20.69,21.3,20.72,20.79,20.57,21.69,22.29,23.22,23.06,23.45,23.68,24.35,24.55,24.82,23.25,22.75,23.22,23.18,22.76,22.99],\"type\":\"scatter\",\"xaxis\":\"x2\",\"yaxis\":\"y2\"},{\"mode\":\"markers\",\"name\":\"stay\",\"opacity\":1.0,\"x\":[1,2,5,8,19,22,24,29,31,32,34,36,38,41,44,47,48,53,57,58,63,67,68,71,73,80,84,87,88,90,92,97,98,101,105,107,119,121,125,130,131,133,136,140,142,143,145,149,151,157,158,160,164,169,179,181,187,191,194,195,197,198,199,200,202,203,205,206,207,209,210,212,215,225,226,228,230,231,232,235,237,241,242,244,246,250,259,262,265,273,274,275,279,289,293,294,295,298,302,304,306,310,311,314,322,325,327,328,329,330,332,340,341,344,345,348,353,354,355,357,363,367,369,371,372,375,377,382,388,389,393,394,398,402,406,408,419,421,423,424,429,434,436,439,440,441,452,456,457,458,465,468,472,474,478,479,481,483,485,489,497],\"y\":[18.59,18.57,19.59,18.75,20.53,21.05,23.76,21.49,20.39,20.62,21.62,21.0,21.49,21.9,23.69,21.65,21.23,22.48,23.21,23.25,24.41,24.3,24.03,25.01,23.9,21.96,23.53,24.66,25.06,24.49,24.95,24.09,23.35,23.67,24.9,24.56,23.77,23.01,23.69,24.19,23.32,25.61,25.01,25.18,23.98,23.98,23.3,22.16,21.48,20.15,17.12,16.85,17.06,18.74,14.96,14.47,15.26,14.74,15.0,14.99,15.17,15.61,15.81,15.98,16.12,15.97,15.53,14.85,14.7,14.75,14.05,14.18,14.33,14.64,14.93,14.72,14.51,14.17,14.3,13.69,14.12,14.56,14.11,14.56,14.88,15.44,15.16,16.3,15.27,15.18,15.16,14.97,15.28,14.36,14.33,14.8,14.9,14.55,14.61,14.62,14.02,14.13,14.58,14.36,14.39,15.27,14.77,15.0,14.74,15.02,14.86,14.23,14.22,15.01,15.0,15.0,14.57,14.14,14.16,14.46,13.2,13.12,13.51,13.44,13.35,14.22,14.45,18.3,18.1,17.79,18.88,18.28,17.31,16.79,17.42,18.19,19.27,19.87,19.89,19.58,20.9,20.51,20.99,21.08,20.73,21.21,20.32,20.86,21.05,21.48,22.74,22.56,22.12,22.58,20.43,20.69,20.72,20.57,22.29,23.68,22.76],\"type\":\"scatter\",\"xaxis\":\"x2\",\"yaxis\":\"y2\"},{\"mode\":\"markers\",\"name\":\"buy\",\"opacity\":1.0,\"x\":[0,3,4,13,14,15,16,25,26,27,28,33,35,39,40,42,43,49,52,54,59,60,64,65,69,74,75,77,78,79,82,83,85,86,93,95,100,103,104,108,110,112,114,115,117,120,126,129,132,134,135,148,152,153,155,159,162,163,166,170,172,174,175,183,184,185,186,189,190,192,204,208,211,214,216,221,224,234,239,240,251,254,256,263,264,266,268,269,270,272,277,280,281,282,283,284,286,288,290,291,292,296,297,299,301,305,307,312,313,318,320,321,323,324,326,331,335,342,346,347,351,352,356,358,364,365,366,370,374,380,381,383,385,386,392,395,397,401,403,405,409,410,412,413,415,417,418,420,425,426,430,432,433,435,437,438,442,443,444,446,449,451,453,454,455,460,462,463,464,467,470,475,477,480,486,487,488,490,492,494,498],\"y\":[17.56,19.07,19.57,20.0,19.53,19.68,19.84,22.78,22.54,22.54,21.78,21.01,20.67,22.07,22.43,23.3,23.58,21.05,20.78,22.17,23.27,23.07,25.35,25.45,24.98,22.62,23.13,22.74,23.81,23.67,23.45,24.29,24.07,24.38,24.74,24.92,23.47,24.07,23.75,24.1,24.86,25.0,26.11,25.41,24.53,24.12,23.51,24.37,23.94,25.28,25.21,22.72,20.46,20.09,20.1,17.11,17.14,16.55,17.06,18.01,17.32,17.5,18.23,14.36,14.34,15.02,15.43,14.45,13.99,15.03,15.73,14.7,14.48,14.37,14.29,15.02,14.85,13.77,14.77,15.16,15.98,16.89,17.22,15.95,15.65,15.53,16.01,15.97,15.41,15.5,14.95,15.49,15.19,14.79,14.85,15.08,14.2,14.49,14.4,14.06,14.07,14.9,14.85,14.68,14.63,14.1,13.88,14.58,14.32,14.43,14.35,14.35,14.54,14.67,14.85,14.5,14.56,14.72,14.95,14.91,14.41,14.49,14.6,14.41,13.58,13.39,13.24,13.58,14.06,17.65,18.0,18.56,18.55,18.73,18.32,18.1,17.45,17.15,17.18,17.77,19.12,19.14,19.06,18.78,19.29,19.06,19.09,19.13,19.85,19.9,20.859,20.8,20.79,21.54,20.72,20.28,20.38,19.63,19.93,19.66,19.97,20.34,21.01,21.68,20.88,22.61,22.95,22.83,22.5,22.18,22.21,22.08,21.32,21.3,23.22,23.06,23.45,24.35,24.82,22.75,22.99],\"type\":\"scatter\",\"xaxis\":\"x2\",\"yaxis\":\"y2\"},{\"mode\":\"markers\",\"name\":\"sell\",\"opacity\":1.0,\"x\":[6,7,9,10,11,12,17,18,20,21,23,30,37,45,46,50,51,55,56,61,62,66,70,72,76,81,89,91,94,96,99,102,106,109,111,113,116,118,122,123,124,127,128,137,138,139,141,144,146,147,150,154,156,161,165,167,168,171,173,176,177,178,180,182,188,193,196,201,213,217,218,219,220,222,223,227,229,233,236,238,243,245,247,248,249,252,253,255,257,258,260,261,267,271,276,278,285,287,300,303,308,309,315,316,317,319,333,334,336,337,338,339,343,349,350,359,360,361,362,368,373,376,378,379,384,387,390,391,396,399,400,404,407,411,414,416,422,427,428,431,445,447,448,450,459,461,466,469,471,473,476,482,484,491,493,495,496],\"y\":[18.71,18.71,19.37,19.61,19.45,18.97,21.37,21.0,20.42,21.3,22.4,21.0,21.36,22.9,22.61,21.15,21.7,21.82,23.02,24.09,24.72,24.67,24.71,24.6,21.5,21.7,24.72,24.43,24.85,24.27,23.46,24.46,24.74,24.66,25.06,25.74,24.98,24.25,23.96,24.27,23.98,22.65,22.47,24.74,23.46,24.32,24.15,24.2,22.91,22.78,21.4,19.54,20.54,17.27,17.72,16.94,17.55,17.53,18.3,17.86,15.63,14.99,14.92,15.2,14.8,15.3,14.59,15.91,14.38,14.14,14.17,14.5,14.8,14.58,14.87,14.7,14.5,14.03,13.6,14.51,14.34,14.7,14.69,15.42,15.61,16.07,16.36,16.9,16.0,15.84,15.64,15.59,16.35,15.72,14.63,14.75,14.57,14.14,14.72,14.43,14.17,13.8,14.66,14.6,14.45,14.15,15.01,14.65,14.62,14.56,14.53,14.37,14.78,14.37,14.55,14.49,14.45,14.19,14.37,13.14,13.86,14.36,16.09,17.5,18.67,18.8,17.85,18.24,17.95,17.6,17.64,17.45,18.27,19.2,19.09,18.73,20.4,19.61,19.87,20.61,19.64,19.7,20.18,19.71,22.19,22.85,22.37,23.1,22.36,22.88,22.43,20.79,21.69,24.55,23.25,23.22,23.18],\"type\":\"scatter\",\"xaxis\":\"x2\",\"yaxis\":\"y2\"}],                        {\"template\":{\"data\":{\"histogram2dcontour\":[{\"type\":\"histogram2dcontour\",\"colorbar\":{\"outlinewidth\":0,\"ticks\":\"\"},\"colorscale\":[[0.0,\"#0d0887\"],[0.1111111111111111,\"#46039f\"],[0.2222222222222222,\"#7201a8\"],[0.3333333333333333,\"#9c179e\"],[0.4444444444444444,\"#bd3786\"],[0.5555555555555556,\"#d8576b\"],[0.6666666666666666,\"#ed7953\"],[0.7777777777777778,\"#fb9f3a\"],[0.8888888888888888,\"#fdca26\"],[1.0,\"#f0f921\"]]}],\"choropleth\":[{\"type\":\"choropleth\",\"colorbar\":{\"outlinewidth\":0,\"ticks\":\"\"}}],\"histogram2d\":[{\"type\":\"histogram2d\",\"colorbar\":{\"outlinewidth\":0,\"ticks\":\"\"},\"colorscale\":[[0.0,\"#0d0887\"],[0.1111111111111111,\"#46039f\"],[0.2222222222222222,\"#7201a8\"],[0.3333333333333333,\"#9c179e\"],[0.4444444444444444,\"#bd3786\"],[0.5555555555555556,\"#d8576b\"],[0.6666666666666666,\"#ed7953\"],[0.7777777777777778,\"#fb9f3a\"],[0.8888888888888888,\"#fdca26\"],[1.0,\"#f0f921\"]]}],\"heatmap\":[{\"type\":\"heatmap\",\"colorbar\":{\"outlinewidth\":0,\"ticks\":\"\"},\"colorscale\":[[0.0,\"#0d0887\"],[0.1111111111111111,\"#46039f\"],[0.2222222222222222,\"#7201a8\"],[0.3333333333333333,\"#9c179e\"],[0.4444444444444444,\"#bd3786\"],[0.5555555555555556,\"#d8576b\"],[0.6666666666666666,\"#ed7953\"],[0.7777777777777778,\"#fb9f3a\"],[0.8888888888888888,\"#fdca26\"],[1.0,\"#f0f921\"]]}],\"heatmapgl\":[{\"type\":\"heatmapgl\",\"colorbar\":{\"outlinewidth\":0,\"ticks\":\"\"},\"colorscale\":[[0.0,\"#0d0887\"],[0.1111111111111111,\"#46039f\"],[0.2222222222222222,\"#7201a8\"],[0.3333333333333333,\"#9c179e\"],[0.4444444444444444,\"#bd3786\"],[0.5555555555555556,\"#d8576b\"],[0.6666666666666666,\"#ed7953\"],[0.7777777777777778,\"#fb9f3a\"],[0.8888888888888888,\"#fdca26\"],[1.0,\"#f0f921\"]]}],\"contourcarpet\":[{\"type\":\"contourcarpet\",\"colorbar\":{\"outlinewidth\":0,\"ticks\":\"\"}}],\"contour\":[{\"type\":\"contour\",\"colorbar\":{\"outlinewidth\":0,\"ticks\":\"\"},\"colorscale\":[[0.0,\"#0d0887\"],[0.1111111111111111,\"#46039f\"],[0.2222222222222222,\"#7201a8\"],[0.3333333333333333,\"#9c179e\"],[0.4444444444444444,\"#bd3786\"],[0.5555555555555556,\"#d8576b\"],[0.6666666666666666,\"#ed7953\"],[0.7777777777777778,\"#fb9f3a\"],[0.8888888888888888,\"#fdca26\"],[1.0,\"#f0f921\"]]}],\"surface\":[{\"type\":\"surface\",\"colorbar\":{\"outlinewidth\":0,\"ticks\":\"\"},\"colorscale\":[[0.0,\"#0d0887\"],[0.1111111111111111,\"#46039f\"],[0.2222222222222222,\"#7201a8\"],[0.3333333333333333,\"#9c179e\"],[0.4444444444444444,\"#bd3786\"],[0.5555555555555556,\"#d8576b\"],[0.6666666666666666,\"#ed7953\"],[0.7777777777777778,\"#fb9f3a\"],[0.8888888888888888,\"#fdca26\"],[1.0,\"#f0f921\"]]}],\"mesh3d\":[{\"type\":\"mesh3d\",\"colorbar\":{\"outlinewidth\":0,\"ticks\":\"\"}}],\"scatter\":[{\"fillpattern\":{\"fillmode\":\"overlay\",\"size\":10,\"solidity\":0.2},\"type\":\"scatter\"}],\"parcoords\":[{\"type\":\"parcoords\",\"line\":{\"colorbar\":{\"outlinewidth\":0,\"ticks\":\"\"}}}],\"scatterpolargl\":[{\"type\":\"scatterpolargl\",\"marker\":{\"colorbar\":{\"outlinewidth\":0,\"ticks\":\"\"}}}],\"bar\":[{\"error_x\":{\"color\":\"#2a3f5f\"},\"error_y\":{\"color\":\"#2a3f5f\"},\"marker\":{\"line\":{\"color\":\"#E5ECF6\",\"width\":0.5},\"pattern\":{\"fillmode\":\"overlay\",\"size\":10,\"solidity\":0.2}},\"type\":\"bar\"}],\"scattergeo\":[{\"type\":\"scattergeo\",\"marker\":{\"colorbar\":{\"outlinewidth\":0,\"ticks\":\"\"}}}],\"scatterpolar\":[{\"type\":\"scatterpolar\",\"marker\":{\"colorbar\":{\"outlinewidth\":0,\"ticks\":\"\"}}}],\"histogram\":[{\"marker\":{\"pattern\":{\"fillmode\":\"overlay\",\"size\":10,\"solidity\":0.2}},\"type\":\"histogram\"}],\"scattergl\":[{\"type\":\"scattergl\",\"marker\":{\"colorbar\":{\"outlinewidth\":0,\"ticks\":\"\"}}}],\"scatter3d\":[{\"type\":\"scatter3d\",\"line\":{\"colorbar\":{\"outlinewidth\":0,\"ticks\":\"\"}},\"marker\":{\"colorbar\":{\"outlinewidth\":0,\"ticks\":\"\"}}}],\"scattermapbox\":[{\"type\":\"scattermapbox\",\"marker\":{\"colorbar\":{\"outlinewidth\":0,\"ticks\":\"\"}}}],\"scatterternary\":[{\"type\":\"scatterternary\",\"marker\":{\"colorbar\":{\"outlinewidth\":0,\"ticks\":\"\"}}}],\"scattercarpet\":[{\"type\":\"scattercarpet\",\"marker\":{\"colorbar\":{\"outlinewidth\":0,\"ticks\":\"\"}}}],\"carpet\":[{\"aaxis\":{\"endlinecolor\":\"#2a3f5f\",\"gridcolor\":\"white\",\"linecolor\":\"white\",\"minorgridcolor\":\"white\",\"startlinecolor\":\"#2a3f5f\"},\"baxis\":{\"endlinecolor\":\"#2a3f5f\",\"gridcolor\":\"white\",\"linecolor\":\"white\",\"minorgridcolor\":\"white\",\"startlinecolor\":\"#2a3f5f\"},\"type\":\"carpet\"}],\"table\":[{\"cells\":{\"fill\":{\"color\":\"#EBF0F8\"},\"line\":{\"color\":\"white\"}},\"header\":{\"fill\":{\"color\":\"#C8D4E3\"},\"line\":{\"color\":\"white\"}},\"type\":\"table\"}],\"barpolar\":[{\"marker\":{\"line\":{\"color\":\"#E5ECF6\",\"width\":0.5},\"pattern\":{\"fillmode\":\"overlay\",\"size\":10,\"solidity\":0.2}},\"type\":\"barpolar\"}],\"pie\":[{\"automargin\":true,\"type\":\"pie\"}]},\"layout\":{\"autotypenumbers\":\"strict\",\"colorway\":[\"#636efa\",\"#EF553B\",\"#00cc96\",\"#ab63fa\",\"#FFA15A\",\"#19d3f3\",\"#FF6692\",\"#B6E880\",\"#FF97FF\",\"#FECB52\"],\"font\":{\"color\":\"#2a3f5f\"},\"hovermode\":\"closest\",\"hoverlabel\":{\"align\":\"left\"},\"paper_bgcolor\":\"white\",\"plot_bgcolor\":\"#E5ECF6\",\"polar\":{\"bgcolor\":\"#E5ECF6\",\"angularaxis\":{\"gridcolor\":\"white\",\"linecolor\":\"white\",\"ticks\":\"\"},\"radialaxis\":{\"gridcolor\":\"white\",\"linecolor\":\"white\",\"ticks\":\"\"}},\"ternary\":{\"bgcolor\":\"#E5ECF6\",\"aaxis\":{\"gridcolor\":\"white\",\"linecolor\":\"white\",\"ticks\":\"\"},\"baxis\":{\"gridcolor\":\"white\",\"linecolor\":\"white\",\"ticks\":\"\"},\"caxis\":{\"gridcolor\":\"white\",\"linecolor\":\"white\",\"ticks\":\"\"}},\"coloraxis\":{\"colorbar\":{\"outlinewidth\":0,\"ticks\":\"\"}},\"colorscale\":{\"sequential\":[[0.0,\"#0d0887\"],[0.1111111111111111,\"#46039f\"],[0.2222222222222222,\"#7201a8\"],[0.3333333333333333,\"#9c179e\"],[0.4444444444444444,\"#bd3786\"],[0.5555555555555556,\"#d8576b\"],[0.6666666666666666,\"#ed7953\"],[0.7777777777777778,\"#fb9f3a\"],[0.8888888888888888,\"#fdca26\"],[1.0,\"#f0f921\"]],\"sequentialminus\":[[0.0,\"#0d0887\"],[0.1111111111111111,\"#46039f\"],[0.2222222222222222,\"#7201a8\"],[0.3333333333333333,\"#9c179e\"],[0.4444444444444444,\"#bd3786\"],[0.5555555555555556,\"#d8576b\"],[0.6666666666666666,\"#ed7953\"],[0.7777777777777778,\"#fb9f3a\"],[0.8888888888888888,\"#fdca26\"],[1.0,\"#f0f921\"]],\"diverging\":[[0,\"#8e0152\"],[0.1,\"#c51b7d\"],[0.2,\"#de77ae\"],[0.3,\"#f1b6da\"],[0.4,\"#fde0ef\"],[0.5,\"#f7f7f7\"],[0.6,\"#e6f5d0\"],[0.7,\"#b8e186\"],[0.8,\"#7fbc41\"],[0.9,\"#4d9221\"],[1,\"#276419\"]]},\"xaxis\":{\"gridcolor\":\"white\",\"linecolor\":\"white\",\"ticks\":\"\",\"title\":{\"standoff\":15},\"zerolinecolor\":\"white\",\"automargin\":true,\"zerolinewidth\":2},\"yaxis\":{\"gridcolor\":\"white\",\"linecolor\":\"white\",\"ticks\":\"\",\"title\":{\"standoff\":15},\"zerolinecolor\":\"white\",\"automargin\":true,\"zerolinewidth\":2},\"scene\":{\"xaxis\":{\"backgroundcolor\":\"#E5ECF6\",\"gridcolor\":\"white\",\"linecolor\":\"white\",\"showbackground\":true,\"ticks\":\"\",\"zerolinecolor\":\"white\",\"gridwidth\":2},\"yaxis\":{\"backgroundcolor\":\"#E5ECF6\",\"gridcolor\":\"white\",\"linecolor\":\"white\",\"showbackground\":true,\"ticks\":\"\",\"zerolinecolor\":\"white\",\"gridwidth\":2},\"zaxis\":{\"backgroundcolor\":\"#E5ECF6\",\"gridcolor\":\"white\",\"linecolor\":\"white\",\"showbackground\":true,\"ticks\":\"\",\"zerolinecolor\":\"white\",\"gridwidth\":2}},\"shapedefaults\":{\"line\":{\"color\":\"#2a3f5f\"}},\"annotationdefaults\":{\"arrowcolor\":\"#2a3f5f\",\"arrowhead\":0,\"arrowwidth\":1},\"geo\":{\"bgcolor\":\"white\",\"landcolor\":\"#E5ECF6\",\"subunitcolor\":\"white\",\"showland\":true,\"showlakes\":true,\"lakecolor\":\"white\"},\"title\":{\"x\":0.05},\"mapbox\":{\"style\":\"light\"}}},\"xaxis\":{\"anchor\":\"y\",\"domain\":[0.0,1.0],\"matches\":\"x2\",\"showticklabels\":false,\"title\":{\"text\":\"Step\"}},\"yaxis\":{\"anchor\":\"x\",\"domain\":[0.575,1.0]},\"xaxis2\":{\"anchor\":\"y2\",\"domain\":[0.0,1.0],\"title\":{\"text\":\"Step\"}},\"yaxis2\":{\"anchor\":\"x2\",\"domain\":[0.0,0.425]}},                        {\"responsive\": true}                    ).then(function(){\n",
              "                            \n",
              "var gd = document.getElementById('fbb9df14-5f02-4804-98cf-a2f6cb0693f0');\n",
              "var x = new MutationObserver(function (mutations, observer) {{\n",
              "        var display = window.getComputedStyle(gd).display;\n",
              "        if (!display || display === 'none') {{\n",
              "            console.log([gd, 'removed!']);\n",
              "            Plotly.purge(gd);\n",
              "            observer.disconnect();\n",
              "        }}\n",
              "}});\n",
              "\n",
              "// Listen for the removal of the full notebook cells\n",
              "var notebookContainer = gd.closest('#notebook-container');\n",
              "if (notebookContainer) {{\n",
              "    x.observe(notebookContainer, {childList: true});\n",
              "}}\n",
              "\n",
              "// Listen for the clearing of the current output cell\n",
              "var outputEl = gd.closest('.output');\n",
              "if (outputEl) {{\n",
              "    x.observe(outputEl, {childList: true});\n",
              "}}\n",
              "\n",
              "                        })                };                            </script>        </div>\n",
              "</body>\n",
              "</html>"
            ]
          },
          "metadata": {}
        }
      ]
    },
    {
      "cell_type": "code",
      "source": [
        "\"\"\"\n",
        "Seguimiento adql_agent_exp1 con una arquitecura intermedia\n",
        "\n",
        "\"\"\"\n",
        "\n",
        "# Generar un gráfico para visualizar la evolución de la ganancia (Profit Evolution) y la recompensa (Reward)\n",
        "# a lo largo de los pasos de tiempo, así como las decisiones de compra, venta y espera tomadas por el agente.\n",
        "x_list = np.arange(len(pev))\n",
        "\n",
        "# Crear un objeto de trazado con dos filas y una columna para mostrar los gráficos de Profit Evolution y Reward\n",
        "fig1 = make_subplots(rows=2, cols=1, shared_xaxes=True)\n",
        "\n",
        "# Agregar la evolución de la ganancia (pev) como una línea continua en el primer gráfico\n",
        "fig1.add_trace(go.Scatter(x=x_list, y=pev, mode='lines', name=\"Profit Evolution\",\n",
        "                          opacity=1), row=1, col=1)\n",
        "# Agregar la recompensa (rev) como una línea continua con menor opacidad en el primer gráfico\n",
        "fig1.add_trace(go.Scatter(x=x_list, y=rev, mode='lines', name=\"Reward\",\n",
        "                          opacity=0.5), row=1, col=1)\n",
        "\n",
        "# Extraer los datos de la observación del entorno (historia de observaciones) y las acciones tomadas por el agente\n",
        "data_array = np.array([his[0] for his in history])\n",
        "action_list = np.array([his[1] for his in history])\n",
        "\n",
        "# Identificar los índices de las acciones de \"Stay\", \"Buy\" y \"Sell\"\n",
        "stay_indices = action_list == 'Stay'\n",
        "buy_indices = action_list == 'Buy'\n",
        "sell_indices = action_list == 'Sell'\n",
        "\n",
        "# Agregar el dataset como una línea continua en el segundo gráfico\n",
        "fig1.add_trace(go.Scatter(x=x_list, y=data_array, name=\"Dataset\", mode=\"lines\",\n",
        "                          line=dict(color=\"black\")), row=2, col=1)\n",
        "fig1.add_trace(go.Scatter(x=x_list[stay_indices], y=data_array[stay_indices],\n",
        "                          mode='markers', name=\"stay\", opacity=1.0), row=2, col=1)\n",
        "fig1.add_trace(go.Scatter(x=x_list[buy_indices], y=data_array[buy_indices],\n",
        "                          mode='markers', name=\"buy\", opacity=1.0), row=2, col=1)\n",
        "fig1.add_trace(go.Scatter(x=x_list[sell_indices], y=data_array[sell_indices],\n",
        "                          mode='markers', name=\"sell\", opacity=1.0), row=2, col=1)\n",
        "\n",
        "# Actualizar los ejes x con el título \"Step\"\n",
        "fig1.update_xaxes(title_text=\"Step\")\n",
        "\n",
        "# Mostrar el gráfico\n",
        "fig1.show()\n",
        "\n",
        "\"\"\"\n",
        "Este bloque de código genera un gráfico que muestra la evolución de la ganancia y la recompensa a lo largo de los pasos de tiempo,\n",
        "así como las decisiones de compra, venta y espera tomadas por el agente durante el experimento.\n",
        "Las líneas continuas representan la evolución de la ganancia y el dataset, mientras que los puntos indican las acciones específicas tomadas por el agente.\n",
        "\n",
        "\"\"\"\n",
        "\n"
      ],
      "metadata": {
        "colab": {
          "base_uri": "https://localhost:8080/",
          "height": 577
        },
        "id": "rzRNccl5VaO7",
        "outputId": "ddc4e279-d361-403b-d0b0-5522e38e8c7f"
      },
      "execution_count": 91,
      "outputs": [
        {
          "output_type": "display_data",
          "data": {
            "text/html": [
              "<html>\n",
              "<head><meta charset=\"utf-8\" /></head>\n",
              "<body>\n",
              "    <div>            <script src=\"https://cdnjs.cloudflare.com/ajax/libs/mathjax/2.7.5/MathJax.js?config=TeX-AMS-MML_SVG\"></script><script type=\"text/javascript\">if (window.MathJax && window.MathJax.Hub && window.MathJax.Hub.Config) {window.MathJax.Hub.Config({SVG: {font: \"STIX-Web\"}});}</script>                <script type=\"text/javascript\">window.PlotlyConfig = {MathJaxConfig: 'local'};</script>\n",
              "        <script charset=\"utf-8\" src=\"https://cdn.plot.ly/plotly-2.24.1.min.js\"></script>                <div id=\"9c3e7309-bf48-4940-a59b-0418e31ce7df\" class=\"plotly-graph-div\" style=\"height:525px; width:100%;\"></div>            <script type=\"text/javascript\">                                    window.PLOTLYENV=window.PLOTLYENV || {};                                    if (document.getElementById(\"9c3e7309-bf48-4940-a59b-0418e31ce7df\")) {                    Plotly.newPlot(                        \"9c3e7309-bf48-4940-a59b-0418e31ce7df\",                        [{\"mode\":\"lines\",\"name\":\"Profit Evolution\",\"opacity\":1,\"x\":[0,1,2,3,4,5,6,7,8,9,10,11,12,13,14,15,16,17,18,19,20,21,22,23,24,25,26,27,28,29,30,31,32,33,34,35,36,37,38,39,40,41,42,43,44,45,46,47,48,49,50,51,52,53,54,55,56,57,58,59,60,61,62,63,64,65,66,67,68,69,70,71,72,73,74,75,76,77,78,79,80,81,82,83,84,85,86,87,88,89,90,91,92,93,94,95,96,97,98,99,100,101,102,103,104,105,106,107,108,109,110,111,112,113,114,115,116,117,118,119,120,121,122,123,124,125,126,127,128,129,130,131,132,133,134,135,136,137,138,139,140,141,142,143,144,145,146,147,148,149,150,151,152,153,154,155,156,157,158,159,160,161,162,163,164,165,166,167,168,169,170,171,172,173,174,175,176,177,178,179,180,181,182,183,184,185,186,187,188,189,190,191,192,193,194,195,196,197,198,199,200,201,202,203,204,205,206,207,208,209,210,211,212,213,214,215,216,217,218,219,220,221,222,223,224,225,226,227,228,229,230,231,232,233,234,235,236,237,238,239,240,241,242,243,244,245,246,247,248,249,250,251,252,253,254,255,256,257,258,259,260,261,262,263,264,265,266,267,268,269,270,271,272,273,274,275,276,277,278,279,280,281,282,283,284,285,286,287,288,289,290,291,292,293,294,295,296,297,298,299,300,301,302,303,304,305,306,307,308,309,310,311,312,313,314,315,316,317,318,319,320,321,322,323,324,325,326,327,328,329,330,331,332,333,334,335,336,337,338,339,340,341,342,343,344,345,346,347,348,349,350,351,352,353,354,355,356,357,358,359,360,361,362,363,364,365,366,367,368,369,370,371,372,373,374,375,376,377,378,379,380,381,382,383,384,385,386,387,388,389,390,391,392,393,394,395,396,397,398,399,400,401,402,403,404,405,406,407,408,409,410,411,412,413,414,415,416,417,418,419,420,421,422,423,424,425,426,427,428,429,430,431,432,433,434,435,436,437,438,439,440,441,442,443,444,445,446,447,448,449,450,451,452,453,454,455,456,457,458,459,460,461,462,463,464,465,466,467,468,469,470,471,472,473,474,475,476,477,478,479,480,481,482,483,484,485,486,487,488,489,490,491,492,493,494,495,496,497,498],\"y\":[0,-0.0400000000000027,-0.0400000000000027,-0.0400000000000027,-0.0400000000000027,0.9399999999999977,1.9599999999999973,1.9599999999999973,1.9599999999999973,1.9999999999999964,1.9999999999999964,1.9999999999999964,1.9999999999999964,1.9999999999999964,1.9999999999999964,1.9999999999999964,1.9999999999999964,1.9999999999999964,1.9999999999999964,1.9999999999999964,1.9999999999999964,1.9999999999999964,1.9999999999999964,1.9999999999999964,3.3499999999999943,3.3499999999999943,3.3499999999999943,3.3499999999999943,3.3499999999999943,3.3499999999999943,3.3499999999999943,1.8099999999999952,-0.3400000000000034,-0.3400000000000034,-1.110000000000003,-1.110000000000003,-1.9299999999999997,-1.9299999999999997,-1.9299999999999997,-1.9299999999999997,-1.9299999999999997,-1.9299999999999997,-1.9299999999999997,-1.9299999999999997,-1.9299999999999997,-1.8199999999999967,-1.8199999999999967,-1.8199999999999967,-1.8199999999999967,-1.8199999999999967,-1.8199999999999967,-1.8199999999999967,-1.269999999999996,-1.269999999999996,-1.269999999999996,-1.269999999999996,-1.269999999999996,0.9700000000000024,0.9700000000000024,0.9700000000000024,0.9700000000000024,0.9700000000000024,0.9700000000000024,0.9700000000000024,2.1300000000000026,2.1300000000000026,2.1300000000000026,2.1300000000000026,3.1600000000000037,3.1600000000000037,3.1600000000000037,3.1600000000000037,3.1600000000000037,3.1600000000000037,2.3400000000000034,0.2900000000000027,-0.6099999999999994,-4.09,-4.09,-4.09,-4.09,-6.84,-6.84,-8.400000000000002,-8.400000000000002,-8.400000000000002,-8.930000000000003,-8.930000000000003,-8.930000000000003,-8.930000000000003,-8.930000000000003,-8.930000000000003,-7.240000000000002,-7.240000000000002,-7.240000000000002,-7.050000000000001,-6.849999999999998,-6.849999999999998,-6.849999999999998,-6.849999999999998,-6.849999999999998,-8.329999999999998,-8.329999999999998,-8.329999999999998,-8.329999999999998,-8.329999999999998,-8.169999999999998,-8.169999999999998,-8.169999999999998,-8.169999999999998,-8.169999999999998,-7.579999999999998,-5.870000000000001,-5.870000000000001,-5.870000000000001,-3.2200000000000024,-3.2200000000000024,-3.2200000000000024,-3.2200000000000024,-2.640000000000004,-2.640000000000004,-2.640000000000004,-2.640000000000004,-2.640000000000004,-2.1200000000000045,-2.1200000000000045,-2.1200000000000045,-2.1200000000000045,-2.1200000000000045,-4.210000000000004,-3.940000000000005,-3.940000000000005,-3.940000000000005,-5.0000000000000036,-5.0000000000000036,-5.0000000000000036,-5.0000000000000036,-5.73,-6.400000000000002,-6.400000000000002,-5.850000000000001,-5.850000000000001,-5.850000000000001,-5.850000000000001,-5.560000000000002,-5.560000000000002,-5.560000000000002,-6.160000000000004,-6.160000000000004,-6.160000000000004,-6.650000000000002,-6.650000000000002,-6.650000000000002,-6.650000000000002,-11.840000000000003,-11.840000000000003,-11.840000000000003,-11.840000000000003,-11.840000000000003,-11.840000000000003,-11.840000000000003,-11.840000000000003,-11.840000000000003,-11.840000000000003,-11.840000000000003,-19.990000000000006,-25.730000000000008,-25.730000000000008,-32.77000000000001,-32.77000000000001,-32.77000000000001,-32.77000000000001,-39.44000000000001,-44.84000000000001,-44.84000000000001,-48.82000000000001,-48.82000000000001,-48.82000000000001,-48.82000000000001,-54.290000000000006,-58.870000000000005,-61.06,-63.440000000000005,-63.440000000000005,-63.440000000000005,-66.37,-66.37,-68.08000000000001,-68.08000000000001,-69.83000000000001,-72.44000000000001,-72.44000000000001,-72.44000000000001,-72.44000000000001,-72.44000000000001,-74.99000000000001,-74.99000000000001,-74.99000000000001,-74.99000000000001,-74.99000000000001,-74.99000000000001,-74.99000000000001,-77.82000000000001,-77.33000000000001,-77.33000000000001,-75.96000000000001,-75.96000000000001,-75.96000000000001,-75.96000000000001,-75.96000000000001,-75.96000000000001,-76.93,-76.93,-76.93,-76.93,-76.93,-76.59,-76.59,-76.59,-77.16,-77.16,-77.39,-77.39,-77.39,-77.39,-77.39,-77.39,-77.39,-77.99000000000001,-77.86000000000001,-77.86000000000001,-78.52000000000001,-78.52000000000001,-78.52000000000001,-78.52000000000001,-80.28000000000002,-81.29000000000002,-82.39000000000001,-82.39000000000001,-82.39000000000001,-82.39000000000001,-81.41000000000001,-81.23000000000002,-81.23000000000002,-81.23000000000002,-81.23000000000002,-81.23000000000002,-81.23000000000002,-80.91000000000003,-80.91000000000003,-80.91000000000003,-80.91000000000003,-80.91000000000003,-80.91000000000003,-80.91000000000003,-78.31000000000003,-78.31000000000003,-78.31000000000003,-76.45000000000003,-76.45000000000003,-76.45000000000003,-76.45000000000003,-76.45000000000003,-76.45000000000003,-75.00000000000003,-75.00000000000003,-75.00000000000003,-75.00000000000003,-75.00000000000003,-75.00000000000003,-74.05000000000003,-74.05000000000003,-74.05000000000003,-74.05000000000003,-74.05000000000003,-74.05000000000003,-73.66000000000003,-73.66000000000003,-73.66000000000003,-73.78000000000003,-73.78000000000003,-73.78000000000003,-73.78000000000003,-73.78000000000003,-73.78000000000003,-73.34000000000003,-73.34000000000003,-73.34000000000003,-73.34000000000003,-73.34000000000003,-73.34000000000003,-73.44000000000003,-73.44000000000003,-73.44000000000003,-73.44000000000003,-73.44000000000003,-73.44000000000003,-73.44000000000003,-73.44000000000003,-73.44000000000003,-73.44000000000003,-72.89000000000003,-72.89000000000003,-72.89000000000003,-73.23000000000003,-72.72000000000003,-72.72000000000003,-73.40000000000003,-74.40000000000003,-74.40000000000003,-74.40000000000003,-75.88000000000004,-77.28000000000004,-78.77000000000004,-81.67000000000004,-81.67000000000004,-81.67000000000004,-81.67000000000004,-83.06000000000004,-83.06000000000004,-84.07000000000005,-84.07000000000005,-84.07000000000005,-84.07000000000005,-84.07000000000005,-84.07000000000005,-84.07000000000005,-84.07000000000005,-85.60000000000005,-85.87000000000005,-85.87000000000005,-85.87000000000005,-85.87000000000005,-85.87000000000005,-85.87000000000005,-86.63000000000005,-86.63000000000005,-86.63000000000005,-87.79000000000005,-87.79000000000005,-88.60000000000005,-89.32000000000005,-89.67000000000004,-89.15000000000005,-89.15000000000005,-89.15000000000005,-89.15000000000005,-89.15000000000005,-89.15000000000005,-88.64000000000004,-88.64000000000004,-88.64000000000004,-88.59000000000005,-88.59000000000005,-88.59000000000005,-88.59000000000005,-88.76000000000005,-88.76000000000005,-88.76000000000005,-88.76000000000005,-88.76000000000005,-88.76000000000005,-88.76000000000005,-89.19000000000005,-90.89000000000006,-92.21000000000006,-93.67000000000006,-94.98000000000006,-94.98000000000006,-94.98000000000006,-94.98000000000006,-94.98000000000006,-94.98000000000006,-95.73000000000006,-95.73000000000006,-95.84000000000006,-95.42000000000006,-95.42000000000006,-95.42000000000006,-93.99000000000007,-93.99000000000007,-90.77000000000007,-87.12000000000006,-87.12000000000006,-87.12000000000006,-87.12000000000006,-87.12000000000006,-82.93000000000006,-78.80000000000007,-75.20000000000007,-75.20000000000007,-75.20000000000007,-75.20000000000007,-75.20000000000007,-71.33000000000007,-71.33000000000007,-71.33000000000007,-68.00000000000007,-68.00000000000007,-68.00000000000007,-65.35000000000007,-62.62000000000006,-59.61000000000006,-57.420000000000066,-57.420000000000066,-57.420000000000066,-57.420000000000066,-57.420000000000066,-53.560000000000066,-53.560000000000066,-53.560000000000066,-53.560000000000066,-53.560000000000066,-53.560000000000066,-53.560000000000066,-53.560000000000066,-53.560000000000066,-53.560000000000066,-53.560000000000066,-53.560000000000066,-53.560000000000066,-48.920000000000066,-48.920000000000066,-48.920000000000066,-48.920000000000066,-43.530000000000065,-43.530000000000065,-37.210000000000065,-37.210000000000065,-31.200000000000063,-31.200000000000063,-24.79100000000006,-24.79100000000006,-24.79100000000006,-24.79100000000006,-22.841000000000058,-22.841000000000058,-22.841000000000058,-22.841000000000058,-22.841000000000058,-22.841000000000058,-22.841000000000058,-22.841000000000058,-22.841000000000058,-21.76100000000006,-21.76100000000006,-19.911000000000058,-19.911000000000058,-19.911000000000058,-19.911000000000058,-19.911000000000058,-19.911000000000058,-19.911000000000058,-19.911000000000058,-19.911000000000058,-16.471000000000057,-16.471000000000057,-13.931000000000058,-13.931000000000058,-13.931000000000058,-13.931000000000058,-13.931000000000058,-9.361000000000057,-9.361000000000057,-9.361000000000057,-4.961000000000059,-4.961000000000059,-4.961000000000059,-4.961000000000059,-4.961000000000059,-4.961000000000059,-4.961000000000059,-4.961000000000059,-4.961000000000059,-4.961000000000059,-4.961000000000059,-0.19100000000005934,-0.19100000000005934,-0.19100000000005934,-0.19100000000005934,2.7289999999999424,4.908999999999942,4.908999999999942,6.558999999999941,6.558999999999941,8.958999999999943,8.958999999999943,13.118999999999943,13.118999999999943,13.118999999999943,13.118999999999943,13.118999999999943,13.118999999999943,13.118999999999943,17.098999999999943,17.098999999999943,17.098999999999943,17.098999999999943,17.098999999999943],\"type\":\"scatter\",\"xaxis\":\"x\",\"yaxis\":\"y\"},{\"mode\":\"lines\",\"name\":\"Reward\",\"opacity\":0.5,\"x\":[0,1,2,3,4,5,6,7,8,9,10,11,12,13,14,15,16,17,18,19,20,21,22,23,24,25,26,27,28,29,30,31,32,33,34,35,36,37,38,39,40,41,42,43,44,45,46,47,48,49,50,51,52,53,54,55,56,57,58,59,60,61,62,63,64,65,66,67,68,69,70,71,72,73,74,75,76,77,78,79,80,81,82,83,84,85,86,87,88,89,90,91,92,93,94,95,96,97,98,99,100,101,102,103,104,105,106,107,108,109,110,111,112,113,114,115,116,117,118,119,120,121,122,123,124,125,126,127,128,129,130,131,132,133,134,135,136,137,138,139,140,141,142,143,144,145,146,147,148,149,150,151,152,153,154,155,156,157,158,159,160,161,162,163,164,165,166,167,168,169,170,171,172,173,174,175,176,177,178,179,180,181,182,183,184,185,186,187,188,189,190,191,192,193,194,195,196,197,198,199,200,201,202,203,204,205,206,207,208,209,210,211,212,213,214,215,216,217,218,219,220,221,222,223,224,225,226,227,228,229,230,231,232,233,234,235,236,237,238,239,240,241,242,243,244,245,246,247,248,249,250,251,252,253,254,255,256,257,258,259,260,261,262,263,264,265,266,267,268,269,270,271,272,273,274,275,276,277,278,279,280,281,282,283,284,285,286,287,288,289,290,291,292,293,294,295,296,297,298,299,300,301,302,303,304,305,306,307,308,309,310,311,312,313,314,315,316,317,318,319,320,321,322,323,324,325,326,327,328,329,330,331,332,333,334,335,336,337,338,339,340,341,342,343,344,345,346,347,348,349,350,351,352,353,354,355,356,357,358,359,360,361,362,363,364,365,366,367,368,369,370,371,372,373,374,375,376,377,378,379,380,381,382,383,384,385,386,387,388,389,390,391,392,393,394,395,396,397,398,399,400,401,402,403,404,405,406,407,408,409,410,411,412,413,414,415,416,417,418,419,420,421,422,423,424,425,426,427,428,429,430,431,432,433,434,435,436,437,438,439,440,441,442,443,444,445,446,447,448,449,450,451,452,453,454,455,456,457,458,459,460,461,462,463,464,465,466,467,468,469,470,471,472,473,474,475,476,477,478,479,480,481,482,483,484,485,486,487,488,489,490,491,492,493,494,495,496,497,498],\"y\":[0,-0.0400000000000027,0,0,0,0.9800000000000004,1.0199999999999996,0,0,0.03999999999999915,0,0,0,0,0,0,0,0,0,0,0,0,0,0,1.3499999999999979,0,0,0,0,0,0,-1.5399999999999991,-2.1499999999999986,0,-0.7699999999999996,0,-0.8199999999999967,0,0,0,0,0,0,0,0,0.11000000000000298,0,0,0,0,0,0,0.5500000000000007,0,0,0,0,2.2399999999999984,0,0,0,0,0,0,1.1600000000000001,0,0,0,1.0300000000000011,0,0,0,0,0,-0.8200000000000003,-2.0500000000000007,-0.9000000000000021,-3.4800000000000004,0,0,0,-2.75,0,-1.5600000000000023,0,0,-0.5300000000000011,0,0,0,0,0,1.6900000000000013,0,0,0.19000000000000128,0.20000000000000284,0,0,0,0,-1.4800000000000004,0,0,0,0,0.16000000000000014,0,0,0,0,0.5899999999999999,1.7099999999999973,0,0,2.6499999999999986,0,0,0,0.5799999999999983,0,0,0,0,0.5199999999999996,0,0,0,0,-2.09,0.2699999999999996,0,0,-1.0599999999999987,0,0,0,-0.7299999999999969,-0.6700000000000017,0,0.5500000000000007,0,0,0,0.28999999999999915,0,0,-0.6000000000000014,0,0,-0.48999999999999844,0,0,0,-5.190000000000001,0,0,0,0,0,0,0,0,0,0,-8.150000000000002,-5.740000000000002,0,-7.039999999999999,0,0,0,-6.669999999999998,-5.399999999999999,0,-3.9800000000000004,0,0,0,-5.470000000000001,-4.579999999999998,-2.1899999999999995,-2.380000000000001,0,0,-2.9299999999999997,0,-1.7100000000000009,0,-1.75,-2.6099999999999994,0,0,0,0,-2.5500000000000007,0,0,0,0,0,0,-2.8299999999999983,0.4900000000000002,0,1.370000000000001,0,0,0,0,0,-0.9699999999999989,0,0,0,0,0.33999999999999986,0,0,-0.5700000000000003,0,-0.22999999999999865,0,0,0,0,0,0,-0.6000000000000014,0.13000000000000078,0,-0.6600000000000001,0,0,0,-1.7599999999999998,-1.0099999999999998,-1.0999999999999996,0,0,0,0.9800000000000004,0.17999999999999972,0,0,0,0,0,0.3200000000000003,0,0,0,0,0,0,2.6000000000000014,0,0,1.8599999999999994,0,0,0,0,0,1.4499999999999993,0,0,0,0,0,0.9500000000000011,0,0,0,0,0,0.39000000000000057,0,0,-0.11999999999999922,0,0,0,0,0.0,0.4399999999999995,0,0,0,0,0,-0.09999999999999964,0,0,0,0,0,0,0,0,0,0.5500000000000007,0,0,-0.33999999999999986,0.5099999999999998,0,-0.6799999999999997,-1.0,0,0,-1.4799999999999986,-1.4000000000000004,-1.4900000000000002,-2.8999999999999986,0,0,0,-1.3900000000000006,0,-1.0099999999999998,0,0,0,0,0,0,0,-1.5300000000000011,-0.2699999999999996,0,0,0,0,0,-0.7599999999999998,0,0,-1.1600000000000001,0,-0.8100000000000005,-0.7199999999999989,-0.34999999999999964,0.5200000000000014,0,0,0,0,0,0.5099999999999998,0,0,0.05000000000000071,0,0,0,-0.16999999999999993,0,0,0,0,0,0,-0.4300000000000015,-1.700000000000001,-1.3200000000000003,-1.459999999999999,-1.3100000000000005,0,0,0,0,0,-0.75,0,-0.10999999999999943,0.41999999999999993,0,0,1.4299999999999997,0,3.219999999999999,3.6500000000000004,0,0,0,0,4.190000000000001,4.130000000000001,3.6000000000000014,0,0,0,0,3.869999999999999,0,0,3.33,0,0,2.650000000000002,2.7300000000000004,3.009999999999998,2.1899999999999995,0,0,0,0,3.8599999999999994,0,0,0,0,0,0,0,0,0,0,0,0,4.639999999999999,0,0,0,5.389999999999999,0,6.3199999999999985,0,6.010000000000002,0,6.4090000000000025,0,0,0,1.9500000000000028,0,0,0,0,0,0,0,0,1.0799999999999983,0,1.8500000000000014,0,0,0,0,0,0,0,0,3.4400000000000013,0,2.539999999999999,0,0,0,0,4.57,0,0,4.399999999999999,0,0,0,0,0,0,0,0,0,0,4.77,0,0,0,2.9200000000000017,2.1799999999999997,0,1.6499999999999986,0,2.400000000000002,0,4.16,0,0,0,0,0,0,3.9800000000000004,0,0,0,0],\"type\":\"scatter\",\"xaxis\":\"x\",\"yaxis\":\"y\"},{\"line\":{\"color\":\"black\"},\"mode\":\"lines\",\"name\":\"Dataset\",\"x\":[0,1,2,3,4,5,6,7,8,9,10,11,12,13,14,15,16,17,18,19,20,21,22,23,24,25,26,27,28,29,30,31,32,33,34,35,36,37,38,39,40,41,42,43,44,45,46,47,48,49,50,51,52,53,54,55,56,57,58,59,60,61,62,63,64,65,66,67,68,69,70,71,72,73,74,75,76,77,78,79,80,81,82,83,84,85,86,87,88,89,90,91,92,93,94,95,96,97,98,99,100,101,102,103,104,105,106,107,108,109,110,111,112,113,114,115,116,117,118,119,120,121,122,123,124,125,126,127,128,129,130,131,132,133,134,135,136,137,138,139,140,141,142,143,144,145,146,147,148,149,150,151,152,153,154,155,156,157,158,159,160,161,162,163,164,165,166,167,168,169,170,171,172,173,174,175,176,177,178,179,180,181,182,183,184,185,186,187,188,189,190,191,192,193,194,195,196,197,198,199,200,201,202,203,204,205,206,207,208,209,210,211,212,213,214,215,216,217,218,219,220,221,222,223,224,225,226,227,228,229,230,231,232,233,234,235,236,237,238,239,240,241,242,243,244,245,246,247,248,249,250,251,252,253,254,255,256,257,258,259,260,261,262,263,264,265,266,267,268,269,270,271,272,273,274,275,276,277,278,279,280,281,282,283,284,285,286,287,288,289,290,291,292,293,294,295,296,297,298,299,300,301,302,303,304,305,306,307,308,309,310,311,312,313,314,315,316,317,318,319,320,321,322,323,324,325,326,327,328,329,330,331,332,333,334,335,336,337,338,339,340,341,342,343,344,345,346,347,348,349,350,351,352,353,354,355,356,357,358,359,360,361,362,363,364,365,366,367,368,369,370,371,372,373,374,375,376,377,378,379,380,381,382,383,384,385,386,387,388,389,390,391,392,393,394,395,396,397,398,399,400,401,402,403,404,405,406,407,408,409,410,411,412,413,414,415,416,417,418,419,420,421,422,423,424,425,426,427,428,429,430,431,432,433,434,435,436,437,438,439,440,441,442,443,444,445,446,447,448,449,450,451,452,453,454,455,456,457,458,459,460,461,462,463,464,465,466,467,468,469,470,471,472,473,474,475,476,477,478,479,480,481,482,483,484,485,486,487,488,489,490,491,492,493,494,495,496,497,498],\"y\":[17.56,18.59,18.57,19.07,19.57,19.59,18.71,18.71,18.75,19.37,19.61,19.45,18.97,20.0,19.53,19.68,19.84,21.37,21.0,20.53,20.42,21.3,21.05,22.4,23.76,22.78,22.54,22.54,21.78,21.49,21.0,20.39,20.62,21.01,21.62,20.67,21.0,21.36,21.49,22.07,22.43,21.9,23.3,23.58,23.69,22.9,22.61,21.65,21.23,21.05,21.15,21.7,20.78,22.48,22.17,21.82,23.02,23.21,23.25,23.27,23.07,24.09,24.72,24.41,25.35,25.45,24.67,24.3,24.03,24.98,24.71,25.01,24.6,23.9,22.62,23.13,21.5,22.74,23.81,23.67,21.96,21.7,23.45,24.29,23.53,24.07,24.38,24.66,25.06,24.72,24.49,24.43,24.95,24.74,24.85,24.92,24.27,24.09,23.35,23.46,23.47,23.67,24.46,24.07,23.75,24.9,24.74,24.56,24.1,24.66,24.86,25.06,25.0,25.74,26.11,25.41,24.98,24.53,24.25,23.77,24.12,23.01,23.96,24.27,23.98,23.69,23.51,22.65,22.47,24.37,24.19,23.32,23.94,25.61,25.28,25.21,25.01,24.74,23.46,24.32,25.18,24.15,23.98,23.98,24.2,23.3,22.91,22.78,22.72,22.16,21.4,21.48,20.46,20.09,19.54,20.1,20.54,20.15,17.12,17.11,16.85,17.27,17.14,16.55,17.06,17.72,17.06,16.94,17.55,18.74,18.01,17.53,17.32,18.3,17.5,18.23,17.86,15.63,14.99,14.96,14.92,14.47,15.2,14.36,14.34,15.02,15.43,15.26,14.8,14.45,13.99,14.74,15.03,15.3,15.0,14.99,14.59,15.17,15.61,15.81,15.98,15.91,16.12,15.97,15.73,15.53,14.85,14.7,14.7,14.75,14.05,14.48,14.18,14.38,14.37,14.33,14.29,14.14,14.17,14.5,14.8,15.02,14.58,14.87,14.85,14.64,14.93,14.7,14.72,14.5,14.51,14.17,14.3,14.03,13.77,13.69,13.6,14.12,14.51,14.77,15.16,14.56,14.11,14.34,14.56,14.7,14.88,14.69,15.42,15.61,15.44,15.98,16.07,16.36,16.89,16.9,17.22,16.0,15.84,15.16,15.64,15.59,16.3,15.95,15.65,15.27,15.53,16.35,16.01,15.97,15.41,15.72,15.5,15.18,15.16,14.97,14.63,14.95,14.75,15.28,15.49,15.19,14.79,14.85,15.08,14.57,14.2,14.14,14.49,14.36,14.4,14.06,14.07,14.33,14.8,14.9,14.9,14.85,14.55,14.68,14.72,14.63,14.61,14.43,14.62,14.1,14.02,13.88,14.17,13.8,14.13,14.58,14.58,14.32,14.36,14.66,14.6,14.45,14.43,14.15,14.35,14.35,14.39,14.54,14.67,15.27,14.85,14.77,15.0,14.74,15.02,14.5,14.86,15.01,14.65,14.56,14.62,14.56,14.53,14.37,14.23,14.22,14.72,14.78,15.01,15.0,14.95,14.91,15.0,14.37,14.55,14.41,14.49,14.57,14.14,14.16,14.6,14.46,14.41,14.49,14.45,14.19,14.37,13.2,13.58,13.39,13.24,13.12,13.14,13.51,13.58,13.44,13.35,13.86,14.06,14.22,14.36,14.45,16.09,17.5,17.65,18.0,18.3,18.56,18.67,18.55,18.73,18.8,18.1,17.79,17.85,18.24,18.32,18.88,18.28,18.1,17.95,17.45,17.31,17.6,17.64,17.15,16.79,17.18,17.45,17.77,17.42,18.27,18.19,19.12,19.14,19.2,19.06,18.78,19.09,19.29,18.73,19.06,19.09,19.27,19.13,19.87,20.4,19.89,19.58,19.85,19.9,19.61,19.87,20.9,20.859,20.61,20.8,20.79,20.51,21.54,20.99,20.72,20.28,21.08,20.73,21.21,20.38,19.63,19.93,19.64,19.66,19.7,20.18,19.97,19.71,20.34,20.32,21.01,21.68,20.88,20.86,21.05,21.48,22.19,22.61,22.85,22.95,22.83,22.5,22.74,22.37,22.18,22.56,23.1,22.21,22.36,22.12,22.88,22.58,22.08,22.43,21.32,20.43,20.69,21.3,20.72,20.79,20.57,21.69,22.29,23.22,23.06,23.45,23.68,24.35,24.55,24.82,23.25,22.75,23.22,23.18,22.76,22.99],\"type\":\"scatter\",\"xaxis\":\"x2\",\"yaxis\":\"y2\"},{\"mode\":\"markers\",\"name\":\"stay\",\"opacity\":1.0,\"x\":[4,15,17,18,19,20,26,33,35,40,46,54,55,56,61,62,65,66,79,80,82,84,85,87,89,91,98,103,104,107,110,117,118,121,122,123,125,131,132,134,141,142,146,148,151,156,157,158,159,171,174,176,177,183,188,196,199,200,201,204,207,210,212,227,233,234,238,239,244,245,249,251,254,256,261,262,265,267,268,269,273,275,277,280,281,282,283,288,292,293,300,302,303,315,317,321,323,326,327,330,331,333,336,339,344,345,346,350,351,353,354,358,361,368,369,370,372,377,380,383,385,391,398,404,405,407,409,412,413,414,415,417,419,423,424,432,434,443,445,447,448,450,453,454,458,459,460,463,464,466,467,468,472,473,478,482,488,492,495],\"y\":[19.57,19.68,21.37,21.0,20.53,20.42,22.54,21.01,20.67,22.43,22.61,22.17,21.82,23.02,24.09,24.72,25.45,24.67,23.67,21.96,23.45,23.53,24.07,24.66,24.72,24.43,23.35,24.07,23.75,24.56,24.86,24.53,24.25,23.01,23.96,24.27,23.69,23.32,23.94,25.28,24.15,23.98,22.91,22.72,21.48,20.54,20.15,17.12,17.11,17.53,17.5,17.86,15.63,14.36,14.8,14.59,15.81,15.98,15.91,15.73,14.7,14.05,14.18,14.7,14.03,13.77,14.51,14.77,14.56,14.7,15.61,15.98,16.89,17.22,15.59,16.3,15.27,16.35,16.01,15.97,15.18,14.97,14.95,15.49,15.19,14.79,14.85,14.49,14.07,14.33,14.72,14.61,14.43,14.66,14.45,14.35,14.54,14.85,14.77,15.02,14.5,15.01,14.62,14.37,15.01,15.0,14.95,14.55,14.41,14.57,14.14,14.41,14.19,13.14,13.51,13.58,13.35,14.45,17.65,18.56,18.55,18.24,17.31,17.45,17.77,18.27,19.12,19.06,18.78,19.09,19.29,19.06,19.27,19.89,19.58,20.8,20.51,19.63,19.64,19.7,20.18,19.71,21.01,21.68,21.48,22.19,22.61,22.83,22.5,22.37,22.18,22.56,22.12,22.88,20.43,20.79,23.45,24.82,23.22],\"type\":\"scatter\",\"xaxis\":\"x2\",\"yaxis\":\"y2\"},{\"mode\":\"markers\",\"name\":\"buy\",\"opacity\":1.0,\"x\":[0,2,3,8,23,27,28,29,30,44,51,53,59,60,63,67,69,70,71,72,73,78,88,90,93,94,97,99,100,102,105,108,109,113,114,116,120,126,127,128,135,136,139,143,145,149,152,153,155,160,161,162,163,164,167,169,170,178,184,186,191,192,193,194,197,198,206,208,209,213,214,215,217,218,220,222,223,224,225,226,230,232,240,243,246,247,250,252,253,257,259,260,263,266,271,272,274,278,286,287,289,290,294,295,296,297,298,299,306,309,310,316,319,322,324,325,332,334,337,347,348,355,357,359,360,362,371,374,378,384,386,390,392,393,395,396,399,406,410,411,416,418,420,422,426,428,430,433,436,437,438,439,440,441,442,449,451,452,456,461,469,470,471,474,475,477,479,484,486,489,490,491,493,496,497,498],\"y\":[17.56,18.57,19.07,18.75,22.4,22.54,21.78,21.49,21.0,23.69,21.7,22.48,23.27,23.07,24.41,24.3,24.98,24.71,25.01,24.6,23.9,23.81,25.06,24.49,24.74,24.85,24.09,23.46,23.47,24.46,24.9,24.1,24.66,25.74,26.11,24.98,24.12,23.51,22.65,22.47,25.21,25.01,24.32,23.98,23.3,22.16,20.46,20.09,20.1,16.85,17.27,17.14,16.55,17.06,16.94,18.74,18.01,14.99,14.34,15.43,14.74,15.03,15.3,15.0,15.17,15.61,14.85,14.7,14.75,14.38,14.37,14.33,14.14,14.17,14.8,14.58,14.87,14.85,14.64,14.93,14.51,14.3,15.16,14.34,14.88,14.69,15.44,16.07,16.36,16.0,15.16,15.64,15.95,15.53,15.72,15.5,15.16,14.75,14.2,14.14,14.36,14.4,14.8,14.9,14.9,14.85,14.55,14.68,14.02,13.8,14.13,14.6,14.15,14.39,14.67,15.27,14.86,14.65,14.56,14.91,15.0,14.16,14.46,14.49,14.45,14.37,13.44,14.06,16.09,18.67,18.73,17.85,18.32,18.88,18.1,17.95,17.6,17.42,19.14,19.2,18.73,19.09,19.13,20.4,19.9,19.87,20.859,20.79,20.99,20.72,20.28,21.08,20.73,21.21,20.38,19.97,20.34,20.32,20.86,22.85,23.1,22.21,22.36,22.58,22.08,21.32,20.69,21.69,23.22,23.68,24.35,24.55,23.25,23.18,22.76,22.99],\"type\":\"scatter\",\"xaxis\":\"x2\",\"yaxis\":\"y2\"},{\"mode\":\"markers\",\"name\":\"sell\",\"opacity\":1.0,\"x\":[1,5,6,7,9,10,11,12,13,14,16,21,22,24,25,31,32,34,36,37,38,39,41,42,43,45,47,48,49,50,52,57,58,64,68,74,75,76,77,81,83,86,92,95,96,101,106,111,112,115,119,124,129,130,133,137,138,140,144,147,150,154,165,166,168,172,173,175,179,180,181,182,185,187,189,190,195,202,203,205,211,216,219,221,228,229,231,235,236,237,241,242,248,255,258,264,270,276,279,284,285,291,301,304,305,307,308,311,312,313,314,318,320,328,329,335,338,340,341,342,343,349,352,356,363,364,365,366,367,373,375,376,379,381,382,387,388,389,394,397,400,401,402,403,408,421,425,427,429,431,435,444,446,455,457,462,465,476,480,481,483,485,487,494],\"y\":[18.59,19.59,18.71,18.71,19.37,19.61,19.45,18.97,20.0,19.53,19.84,21.3,21.05,23.76,22.78,20.39,20.62,21.62,21.0,21.36,21.49,22.07,21.9,23.3,23.58,22.9,21.65,21.23,21.05,21.15,20.78,23.21,23.25,25.35,24.03,22.62,23.13,21.5,22.74,21.7,24.29,24.38,24.95,24.92,24.27,23.67,24.74,25.06,25.0,25.41,23.77,23.98,24.37,24.19,25.61,24.74,23.46,25.18,24.2,22.78,21.4,19.54,17.72,17.06,17.55,17.32,18.3,18.23,14.96,14.92,14.47,15.2,15.02,15.26,14.45,13.99,14.99,16.12,15.97,15.53,14.48,14.29,14.5,15.02,14.72,14.5,14.17,13.69,13.6,14.12,14.56,14.11,15.42,16.9,15.84,15.65,15.41,14.63,15.28,15.08,14.57,14.06,14.63,14.62,14.1,13.88,14.17,14.58,14.58,14.32,14.36,14.43,14.35,15.0,14.74,14.56,14.53,14.23,14.22,14.72,14.78,14.37,14.49,14.6,13.2,13.58,13.39,13.24,13.12,13.86,14.22,14.36,17.5,18.0,18.3,18.8,18.1,17.79,18.28,17.45,17.64,17.15,16.79,17.18,18.19,19.87,19.85,19.61,20.9,20.61,21.54,19.93,19.66,20.88,21.05,22.95,22.74,22.43,21.3,20.72,20.57,22.29,23.06,22.75],\"type\":\"scatter\",\"xaxis\":\"x2\",\"yaxis\":\"y2\"}],                        {\"template\":{\"data\":{\"histogram2dcontour\":[{\"type\":\"histogram2dcontour\",\"colorbar\":{\"outlinewidth\":0,\"ticks\":\"\"},\"colorscale\":[[0.0,\"#0d0887\"],[0.1111111111111111,\"#46039f\"],[0.2222222222222222,\"#7201a8\"],[0.3333333333333333,\"#9c179e\"],[0.4444444444444444,\"#bd3786\"],[0.5555555555555556,\"#d8576b\"],[0.6666666666666666,\"#ed7953\"],[0.7777777777777778,\"#fb9f3a\"],[0.8888888888888888,\"#fdca26\"],[1.0,\"#f0f921\"]]}],\"choropleth\":[{\"type\":\"choropleth\",\"colorbar\":{\"outlinewidth\":0,\"ticks\":\"\"}}],\"histogram2d\":[{\"type\":\"histogram2d\",\"colorbar\":{\"outlinewidth\":0,\"ticks\":\"\"},\"colorscale\":[[0.0,\"#0d0887\"],[0.1111111111111111,\"#46039f\"],[0.2222222222222222,\"#7201a8\"],[0.3333333333333333,\"#9c179e\"],[0.4444444444444444,\"#bd3786\"],[0.5555555555555556,\"#d8576b\"],[0.6666666666666666,\"#ed7953\"],[0.7777777777777778,\"#fb9f3a\"],[0.8888888888888888,\"#fdca26\"],[1.0,\"#f0f921\"]]}],\"heatmap\":[{\"type\":\"heatmap\",\"colorbar\":{\"outlinewidth\":0,\"ticks\":\"\"},\"colorscale\":[[0.0,\"#0d0887\"],[0.1111111111111111,\"#46039f\"],[0.2222222222222222,\"#7201a8\"],[0.3333333333333333,\"#9c179e\"],[0.4444444444444444,\"#bd3786\"],[0.5555555555555556,\"#d8576b\"],[0.6666666666666666,\"#ed7953\"],[0.7777777777777778,\"#fb9f3a\"],[0.8888888888888888,\"#fdca26\"],[1.0,\"#f0f921\"]]}],\"heatmapgl\":[{\"type\":\"heatmapgl\",\"colorbar\":{\"outlinewidth\":0,\"ticks\":\"\"},\"colorscale\":[[0.0,\"#0d0887\"],[0.1111111111111111,\"#46039f\"],[0.2222222222222222,\"#7201a8\"],[0.3333333333333333,\"#9c179e\"],[0.4444444444444444,\"#bd3786\"],[0.5555555555555556,\"#d8576b\"],[0.6666666666666666,\"#ed7953\"],[0.7777777777777778,\"#fb9f3a\"],[0.8888888888888888,\"#fdca26\"],[1.0,\"#f0f921\"]]}],\"contourcarpet\":[{\"type\":\"contourcarpet\",\"colorbar\":{\"outlinewidth\":0,\"ticks\":\"\"}}],\"contour\":[{\"type\":\"contour\",\"colorbar\":{\"outlinewidth\":0,\"ticks\":\"\"},\"colorscale\":[[0.0,\"#0d0887\"],[0.1111111111111111,\"#46039f\"],[0.2222222222222222,\"#7201a8\"],[0.3333333333333333,\"#9c179e\"],[0.4444444444444444,\"#bd3786\"],[0.5555555555555556,\"#d8576b\"],[0.6666666666666666,\"#ed7953\"],[0.7777777777777778,\"#fb9f3a\"],[0.8888888888888888,\"#fdca26\"],[1.0,\"#f0f921\"]]}],\"surface\":[{\"type\":\"surface\",\"colorbar\":{\"outlinewidth\":0,\"ticks\":\"\"},\"colorscale\":[[0.0,\"#0d0887\"],[0.1111111111111111,\"#46039f\"],[0.2222222222222222,\"#7201a8\"],[0.3333333333333333,\"#9c179e\"],[0.4444444444444444,\"#bd3786\"],[0.5555555555555556,\"#d8576b\"],[0.6666666666666666,\"#ed7953\"],[0.7777777777777778,\"#fb9f3a\"],[0.8888888888888888,\"#fdca26\"],[1.0,\"#f0f921\"]]}],\"mesh3d\":[{\"type\":\"mesh3d\",\"colorbar\":{\"outlinewidth\":0,\"ticks\":\"\"}}],\"scatter\":[{\"fillpattern\":{\"fillmode\":\"overlay\",\"size\":10,\"solidity\":0.2},\"type\":\"scatter\"}],\"parcoords\":[{\"type\":\"parcoords\",\"line\":{\"colorbar\":{\"outlinewidth\":0,\"ticks\":\"\"}}}],\"scatterpolargl\":[{\"type\":\"scatterpolargl\",\"marker\":{\"colorbar\":{\"outlinewidth\":0,\"ticks\":\"\"}}}],\"bar\":[{\"error_x\":{\"color\":\"#2a3f5f\"},\"error_y\":{\"color\":\"#2a3f5f\"},\"marker\":{\"line\":{\"color\":\"#E5ECF6\",\"width\":0.5},\"pattern\":{\"fillmode\":\"overlay\",\"size\":10,\"solidity\":0.2}},\"type\":\"bar\"}],\"scattergeo\":[{\"type\":\"scattergeo\",\"marker\":{\"colorbar\":{\"outlinewidth\":0,\"ticks\":\"\"}}}],\"scatterpolar\":[{\"type\":\"scatterpolar\",\"marker\":{\"colorbar\":{\"outlinewidth\":0,\"ticks\":\"\"}}}],\"histogram\":[{\"marker\":{\"pattern\":{\"fillmode\":\"overlay\",\"size\":10,\"solidity\":0.2}},\"type\":\"histogram\"}],\"scattergl\":[{\"type\":\"scattergl\",\"marker\":{\"colorbar\":{\"outlinewidth\":0,\"ticks\":\"\"}}}],\"scatter3d\":[{\"type\":\"scatter3d\",\"line\":{\"colorbar\":{\"outlinewidth\":0,\"ticks\":\"\"}},\"marker\":{\"colorbar\":{\"outlinewidth\":0,\"ticks\":\"\"}}}],\"scattermapbox\":[{\"type\":\"scattermapbox\",\"marker\":{\"colorbar\":{\"outlinewidth\":0,\"ticks\":\"\"}}}],\"scatterternary\":[{\"type\":\"scatterternary\",\"marker\":{\"colorbar\":{\"outlinewidth\":0,\"ticks\":\"\"}}}],\"scattercarpet\":[{\"type\":\"scattercarpet\",\"marker\":{\"colorbar\":{\"outlinewidth\":0,\"ticks\":\"\"}}}],\"carpet\":[{\"aaxis\":{\"endlinecolor\":\"#2a3f5f\",\"gridcolor\":\"white\",\"linecolor\":\"white\",\"minorgridcolor\":\"white\",\"startlinecolor\":\"#2a3f5f\"},\"baxis\":{\"endlinecolor\":\"#2a3f5f\",\"gridcolor\":\"white\",\"linecolor\":\"white\",\"minorgridcolor\":\"white\",\"startlinecolor\":\"#2a3f5f\"},\"type\":\"carpet\"}],\"table\":[{\"cells\":{\"fill\":{\"color\":\"#EBF0F8\"},\"line\":{\"color\":\"white\"}},\"header\":{\"fill\":{\"color\":\"#C8D4E3\"},\"line\":{\"color\":\"white\"}},\"type\":\"table\"}],\"barpolar\":[{\"marker\":{\"line\":{\"color\":\"#E5ECF6\",\"width\":0.5},\"pattern\":{\"fillmode\":\"overlay\",\"size\":10,\"solidity\":0.2}},\"type\":\"barpolar\"}],\"pie\":[{\"automargin\":true,\"type\":\"pie\"}]},\"layout\":{\"autotypenumbers\":\"strict\",\"colorway\":[\"#636efa\",\"#EF553B\",\"#00cc96\",\"#ab63fa\",\"#FFA15A\",\"#19d3f3\",\"#FF6692\",\"#B6E880\",\"#FF97FF\",\"#FECB52\"],\"font\":{\"color\":\"#2a3f5f\"},\"hovermode\":\"closest\",\"hoverlabel\":{\"align\":\"left\"},\"paper_bgcolor\":\"white\",\"plot_bgcolor\":\"#E5ECF6\",\"polar\":{\"bgcolor\":\"#E5ECF6\",\"angularaxis\":{\"gridcolor\":\"white\",\"linecolor\":\"white\",\"ticks\":\"\"},\"radialaxis\":{\"gridcolor\":\"white\",\"linecolor\":\"white\",\"ticks\":\"\"}},\"ternary\":{\"bgcolor\":\"#E5ECF6\",\"aaxis\":{\"gridcolor\":\"white\",\"linecolor\":\"white\",\"ticks\":\"\"},\"baxis\":{\"gridcolor\":\"white\",\"linecolor\":\"white\",\"ticks\":\"\"},\"caxis\":{\"gridcolor\":\"white\",\"linecolor\":\"white\",\"ticks\":\"\"}},\"coloraxis\":{\"colorbar\":{\"outlinewidth\":0,\"ticks\":\"\"}},\"colorscale\":{\"sequential\":[[0.0,\"#0d0887\"],[0.1111111111111111,\"#46039f\"],[0.2222222222222222,\"#7201a8\"],[0.3333333333333333,\"#9c179e\"],[0.4444444444444444,\"#bd3786\"],[0.5555555555555556,\"#d8576b\"],[0.6666666666666666,\"#ed7953\"],[0.7777777777777778,\"#fb9f3a\"],[0.8888888888888888,\"#fdca26\"],[1.0,\"#f0f921\"]],\"sequentialminus\":[[0.0,\"#0d0887\"],[0.1111111111111111,\"#46039f\"],[0.2222222222222222,\"#7201a8\"],[0.3333333333333333,\"#9c179e\"],[0.4444444444444444,\"#bd3786\"],[0.5555555555555556,\"#d8576b\"],[0.6666666666666666,\"#ed7953\"],[0.7777777777777778,\"#fb9f3a\"],[0.8888888888888888,\"#fdca26\"],[1.0,\"#f0f921\"]],\"diverging\":[[0,\"#8e0152\"],[0.1,\"#c51b7d\"],[0.2,\"#de77ae\"],[0.3,\"#f1b6da\"],[0.4,\"#fde0ef\"],[0.5,\"#f7f7f7\"],[0.6,\"#e6f5d0\"],[0.7,\"#b8e186\"],[0.8,\"#7fbc41\"],[0.9,\"#4d9221\"],[1,\"#276419\"]]},\"xaxis\":{\"gridcolor\":\"white\",\"linecolor\":\"white\",\"ticks\":\"\",\"title\":{\"standoff\":15},\"zerolinecolor\":\"white\",\"automargin\":true,\"zerolinewidth\":2},\"yaxis\":{\"gridcolor\":\"white\",\"linecolor\":\"white\",\"ticks\":\"\",\"title\":{\"standoff\":15},\"zerolinecolor\":\"white\",\"automargin\":true,\"zerolinewidth\":2},\"scene\":{\"xaxis\":{\"backgroundcolor\":\"#E5ECF6\",\"gridcolor\":\"white\",\"linecolor\":\"white\",\"showbackground\":true,\"ticks\":\"\",\"zerolinecolor\":\"white\",\"gridwidth\":2},\"yaxis\":{\"backgroundcolor\":\"#E5ECF6\",\"gridcolor\":\"white\",\"linecolor\":\"white\",\"showbackground\":true,\"ticks\":\"\",\"zerolinecolor\":\"white\",\"gridwidth\":2},\"zaxis\":{\"backgroundcolor\":\"#E5ECF6\",\"gridcolor\":\"white\",\"linecolor\":\"white\",\"showbackground\":true,\"ticks\":\"\",\"zerolinecolor\":\"white\",\"gridwidth\":2}},\"shapedefaults\":{\"line\":{\"color\":\"#2a3f5f\"}},\"annotationdefaults\":{\"arrowcolor\":\"#2a3f5f\",\"arrowhead\":0,\"arrowwidth\":1},\"geo\":{\"bgcolor\":\"white\",\"landcolor\":\"#E5ECF6\",\"subunitcolor\":\"white\",\"showland\":true,\"showlakes\":true,\"lakecolor\":\"white\"},\"title\":{\"x\":0.05},\"mapbox\":{\"style\":\"light\"}}},\"xaxis\":{\"anchor\":\"y\",\"domain\":[0.0,1.0],\"matches\":\"x2\",\"showticklabels\":false,\"title\":{\"text\":\"Step\"}},\"yaxis\":{\"anchor\":\"x\",\"domain\":[0.575,1.0]},\"xaxis2\":{\"anchor\":\"y2\",\"domain\":[0.0,1.0],\"title\":{\"text\":\"Step\"}},\"yaxis2\":{\"anchor\":\"x2\",\"domain\":[0.0,0.425]}},                        {\"responsive\": true}                    ).then(function(){\n",
              "                            \n",
              "var gd = document.getElementById('9c3e7309-bf48-4940-a59b-0418e31ce7df');\n",
              "var x = new MutationObserver(function (mutations, observer) {{\n",
              "        var display = window.getComputedStyle(gd).display;\n",
              "        if (!display || display === 'none') {{\n",
              "            console.log([gd, 'removed!']);\n",
              "            Plotly.purge(gd);\n",
              "            observer.disconnect();\n",
              "        }}\n",
              "}});\n",
              "\n",
              "// Listen for the removal of the full notebook cells\n",
              "var notebookContainer = gd.closest('#notebook-container');\n",
              "if (notebookContainer) {{\n",
              "    x.observe(notebookContainer, {childList: true});\n",
              "}}\n",
              "\n",
              "// Listen for the clearing of the current output cell\n",
              "var outputEl = gd.closest('.output');\n",
              "if (outputEl) {{\n",
              "    x.observe(outputEl, {childList: true});\n",
              "}}\n",
              "\n",
              "                        })                };                            </script>        </div>\n",
              "</body>\n",
              "</html>"
            ]
          },
          "metadata": {}
        },
        {
          "output_type": "execute_result",
          "data": {
            "text/plain": [
              "'\\nEste bloque de código genera un gráfico que muestra la evolución de la ganancia y la recompensa a lo largo de los pasos de tiempo, \\nasí como las decisiones de compra, venta y espera tomadas por el agente durante el experimento. \\nLas líneas continuas representan la evolución de la ganancia y el dataset, mientras que los puntos indican las acciones específicas tomadas por el agente.\\n\\n'"
            ],
            "application/vnd.google.colaboratory.intrinsic+json": {
              "type": "string"
            }
          },
          "metadata": {},
          "execution_count": 91
        }
      ]
    },
    {
      "cell_type": "code",
      "source": [
        "\"\"\"\n",
        "Seguimiento adql_agent_exp1 con una arquitecura compleja\n",
        "\n",
        "\"\"\"\n",
        "\n",
        "# Generar un gráfico para visualizar la evolución de la ganancia (Profit Evolution) y la recompensa (Reward)\n",
        "# a lo largo de los pasos de tiempo, así como las decisiones de compra, venta y espera tomadas por el agente.\n",
        "x_list = np.arange(len(pev))\n",
        "\n",
        "# Crear un objeto de trazado con dos filas y una columna para mostrar los gráficos de Profit Evolution y Reward\n",
        "fig1 = make_subplots(rows=2, cols=1, shared_xaxes=True)\n",
        "\n",
        "# Agregar la evolución de la ganancia (pev) como una línea continua en el primer gráfico\n",
        "fig1.add_trace(go.Scatter(x=x_list, y=pev, mode='lines', name=\"Profit Evolution\",\n",
        "                          opacity=1), row=1, col=1)\n",
        "# Agregar la recompensa (rev) como una línea continua con menor opacidad en el primer gráfico\n",
        "fig1.add_trace(go.Scatter(x=x_list, y=rev, mode='lines', name=\"Reward\",\n",
        "                          opacity=0.5), row=1, col=1)\n",
        "\n",
        "# Extraer los datos de la observación del entorno (historia de observaciones) y las acciones tomadas por el agente\n",
        "data_array = np.array([his[0] for his in history])\n",
        "action_list = np.array([his[1] for his in history])\n",
        "\n",
        "# Identificar los índices de las acciones de \"Stay\", \"Buy\" y \"Sell\"\n",
        "stay_indices = action_list == 'Stay'\n",
        "buy_indices = action_list == 'Buy'\n",
        "sell_indices = action_list == 'Sell'\n",
        "\n",
        "# Agregar el dataset como una línea continua en el segundo gráfico\n",
        "fig1.add_trace(go.Scatter(x=x_list, y=data_array, name=\"Dataset\", mode=\"lines\",\n",
        "                          line=dict(color=\"black\")), row=2, col=1)\n",
        "fig1.add_trace(go.Scatter(x=x_list[stay_indices], y=data_array[stay_indices],\n",
        "                          mode='markers', name=\"stay\", opacity=1.0), row=2, col=1)\n",
        "fig1.add_trace(go.Scatter(x=x_list[buy_indices], y=data_array[buy_indices],\n",
        "                          mode='markers', name=\"buy\", opacity=1.0), row=2, col=1)\n",
        "fig1.add_trace(go.Scatter(x=x_list[sell_indices], y=data_array[sell_indices],\n",
        "                          mode='markers', name=\"sell\", opacity=1.0), row=2, col=1)\n",
        "\n",
        "# Actualizar los ejes x con el título \"Step\"\n",
        "fig1.update_xaxes(title_text=\"Step\")\n",
        "\n",
        "# Mostrar el gráfico\n",
        "fig1.show()\n",
        "\n",
        "\"\"\"\n",
        "Este bloque de código genera un gráfico que muestra la evolución de la ganancia y la recompensa a lo largo de los pasos de tiempo,\n",
        "así como las decisiones de compra, venta y espera tomadas por el agente durante el experimento.\n",
        "Las líneas continuas representan la evolución de la ganancia y el dataset, mientras que los puntos indican las acciones específicas tomadas por el agente.\n",
        "\n",
        "\"\"\"\n"
      ],
      "metadata": {
        "colab": {
          "base_uri": "https://localhost:8080/",
          "height": 577
        },
        "id": "4nO-HUpxYYBS",
        "outputId": "05ba5f7b-8840-4de5-9b76-19b376a56dc4"
      },
      "execution_count": 102,
      "outputs": [
        {
          "output_type": "display_data",
          "data": {
            "text/html": [
              "<html>\n",
              "<head><meta charset=\"utf-8\" /></head>\n",
              "<body>\n",
              "    <div>            <script src=\"https://cdnjs.cloudflare.com/ajax/libs/mathjax/2.7.5/MathJax.js?config=TeX-AMS-MML_SVG\"></script><script type=\"text/javascript\">if (window.MathJax && window.MathJax.Hub && window.MathJax.Hub.Config) {window.MathJax.Hub.Config({SVG: {font: \"STIX-Web\"}});}</script>                <script type=\"text/javascript\">window.PlotlyConfig = {MathJaxConfig: 'local'};</script>\n",
              "        <script charset=\"utf-8\" src=\"https://cdn.plot.ly/plotly-2.24.1.min.js\"></script>                <div id=\"eac5cf60-5134-4238-aa8b-b6abe97c23b6\" class=\"plotly-graph-div\" style=\"height:525px; width:100%;\"></div>            <script type=\"text/javascript\">                                    window.PLOTLYENV=window.PLOTLYENV || {};                                    if (document.getElementById(\"eac5cf60-5134-4238-aa8b-b6abe97c23b6\")) {                    Plotly.newPlot(                        \"eac5cf60-5134-4238-aa8b-b6abe97c23b6\",                        [{\"mode\":\"lines\",\"name\":\"Profit Evolution\",\"opacity\":1,\"x\":[0,1,2,3,4,5,6,7,8,9,10,11,12,13,14,15,16,17,18,19,20,21,22,23,24,25,26,27,28,29,30,31,32,33,34,35,36,37,38,39,40,41,42,43,44,45,46,47,48,49,50,51,52,53,54,55,56,57,58,59,60,61,62,63,64,65,66,67,68,69,70,71,72,73,74,75,76,77,78,79,80,81,82,83,84,85,86,87,88,89,90,91,92,93,94,95,96,97,98,99,100,101,102,103,104,105,106,107,108,109,110,111,112,113,114,115,116,117,118,119,120,121,122,123,124,125,126,127,128,129,130,131,132,133,134,135,136,137,138,139,140,141,142,143,144,145,146,147,148,149,150,151,152,153,154,155,156,157,158,159,160,161,162,163,164,165,166,167,168,169,170,171,172,173,174,175,176,177,178,179,180,181,182,183,184,185,186,187,188,189,190,191,192,193,194,195,196,197,198,199,200,201,202,203,204,205,206,207,208,209,210,211,212,213,214,215,216,217,218,219,220,221,222,223,224,225,226,227,228,229,230,231,232,233,234,235,236,237,238,239,240,241,242,243,244,245,246,247,248,249,250,251,252,253,254,255,256,257,258,259,260,261,262,263,264,265,266,267,268,269,270,271,272,273,274,275,276,277,278,279,280,281,282,283,284,285,286,287,288,289,290,291,292,293,294,295,296,297,298,299,300,301,302,303,304,305,306,307,308,309,310,311,312,313,314,315,316,317,318,319,320,321,322,323,324,325,326,327,328,329,330,331,332,333,334,335,336,337,338,339,340,341,342,343,344,345,346,347,348,349,350,351,352,353,354,355,356,357,358,359,360,361,362,363,364,365,366,367,368,369,370,371,372,373,374,375,376,377,378,379,380,381,382,383,384,385,386,387,388,389,390,391,392,393,394,395,396,397,398,399,400,401,402,403,404,405,406,407,408,409,410,411,412,413,414,415,416,417,418,419,420,421,422,423,424,425,426,427,428,429,430,431,432,433,434,435,436,437,438,439,440,441,442,443,444,445,446,447,448,449,450,451,452,453,454,455,456,457,458,459,460,461,462,463,464,465,466,467,468,469,470,471,472,473,474,475,476,477,478,479,480,481,482,483,484,485,486,487,488,489,490,491,492,493,494,495,496,497,498],\"y\":[0,-0.0400000000000027,-0.0400000000000027,-0.0400000000000027,-0.0400000000000027,-0.0400000000000027,-0.0400000000000027,-0.0400000000000027,-0.9200000000000017,-0.9200000000000017,-0.9200000000000017,-0.9200000000000017,-0.9200000000000017,-0.9200000000000017,-0.9200000000000017,-0.9200000000000017,-0.9200000000000017,-0.5300000000000011,1.3099999999999987,1.3099999999999987,1.3099999999999987,1.3099999999999987,1.3099999999999987,1.3099999999999987,1.3099999999999987,1.3099999999999987,3.669999999999998,3.669999999999998,3.669999999999998,3.669999999999998,3.669999999999998,3.669999999999998,2.759999999999998,2.759999999999998,2.759999999999998,2.759999999999998,2.759999999999998,1.3599999999999994,1.3599999999999994,1.3599999999999994,-0.33000000000000185,-0.4400000000000013,-0.4400000000000013,-0.4400000000000013,-0.4400000000000013,-0.4400000000000013,-0.4400000000000013,0.6799999999999997,0.6799999999999997,0.6799999999999997,0.6799999999999997,0.6799999999999997,0.6799999999999997,0.6799999999999997,0.6799999999999997,0.6799999999999997,1.4899999999999984,1.4899999999999984,3.0500000000000007,5.07,5.07,6.990000000000002,6.990000000000002,6.990000000000002,6.990000000000002,10.640000000000004,10.640000000000004,14.530000000000005,14.530000000000005,16.390000000000004,16.390000000000004,16.390000000000004,16.390000000000004,16.390000000000004,17.020000000000003,17.020000000000003,15.740000000000002,11.790000000000003,10.23,9.329999999999998,9.329999999999998,7.619999999999997,7.619999999999997,7.619999999999997,7.619999999999997,7.619999999999997,7.619999999999997,7.709999999999997,7.709999999999997,7.709999999999997,7.709999999999997,7.479999999999997,7.479999999999997,7.479999999999997,7.479999999999997,7.479999999999997,7.479999999999997,7.479999999999997,7.479999999999997,7.479999999999997,6.199999999999999,6.199999999999999,6.199999999999999,6.199999999999999,6.0,5.66,7.09,7.09,7.09,7.09,7.09,7.09,7.41,7.850000000000001,7.850000000000001,9.86,9.86,9.86,9.86,9.86,9.86,9.32,9.32,9.32,9.32,9.32,9.32,7.970000000000002,5.210000000000001,3.4299999999999997,3.4299999999999997,3.4299999999999997,2.9800000000000004,2.9800000000000004,2.9800000000000004,2.9800000000000004,2.9800000000000004,4.98,5.449999999999999,5.449999999999999,5.399999999999999,6.389999999999997,6.389999999999997,6.389999999999997,5.159999999999997,5.899999999999995,5.049999999999997,3.979999999999997,3.979999999999997,3.979999999999997,3.979999999999997,3.979999999999997,3.979999999999997,3.979999999999997,1.2899999999999956,-1.3300000000000054,-1.3300000000000054,-1.3300000000000054,-2.5800000000000054,-6.940000000000005,-6.940000000000005,-6.940000000000005,-6.940000000000005,-10.340000000000003,-10.900000000000002,-10.900000000000002,-10.900000000000002,-10.900000000000002,-10.900000000000002,-10.41,-10.41,-10.41,-10.41,-10.41,-9.829999999999998,-9.389999999999997,-9.899999999999995,-9.569999999999997,-9.569999999999997,-11.899999999999997,-11.899999999999997,-11.939999999999998,-11.939999999999998,-11.939999999999998,-11.939999999999998,-11.939999999999998,-11.939999999999998,-11.709999999999997,-11.709999999999997,-11.249999999999996,-11.249999999999996,-11.249999999999996,-11.529999999999996,-11.529999999999996,-10.679999999999994,-10.679999999999994,-9.679999999999994,-9.679999999999994,-9.679999999999994,-9.679999999999994,-9.679999999999994,-9.679999999999994,-9.579999999999995,-9.579999999999995,-9.579999999999995,-9.579999999999995,-9.579999999999995,-9.579999999999995,-9.579999999999995,-9.579999999999995,-9.579999999999995,-9.579999999999995,-9.579999999999995,-10.929999999999994,-10.929999999999994,-11.409999999999995,-11.779999999999994,-11.779999999999994,-11.779999999999994,-11.779999999999994,-11.759999999999994,-11.759999999999994,-11.029999999999994,-10.589999999999995,-9.889999999999995,-9.889999999999995,-9.889999999999995,-9.889999999999995,-9.889999999999995,-9.889999999999995,-9.889999999999995,-10.019999999999996,-10.569999999999997,-10.569999999999997,-10.569999999999997,-10.569999999999997,-11.179999999999998,-11.179999999999998,-11.179999999999998,-11.179999999999998,-11.179999999999998,-11.179999999999998,-11.179999999999998,-11.179999999999998,-11.179999999999998,-11.179999999999998,-11.179999999999998,-11.179999999999998,-11.179999999999998,-11.179999999999998,-11.179999999999998,-11.179999999999998,-11.179999999999998,-11.179999999999998,-10.889999999999999,-10.889999999999999,-10.889999999999999,-10.889999999999999,-11.78,-11.78,-12.459999999999999,-12.459999999999999,-12.459999999999999,-11.749999999999998,-11.749999999999998,-11.749999999999998,-12.129999999999999,-12.129999999999999,-12.129999999999999,-12.129999999999999,-12.129999999999999,-12.129999999999999,-12.129999999999999,-12.129999999999999,-12.129999999999999,-12.129999999999999,-12.129999999999999,-12.909999999999998,-12.909999999999998,-13.659999999999998,-13.659999999999998,-13.329999999999998,-13.329999999999998,-13.329999999999998,-13.429999999999998,-13.539999999999997,-13.539999999999997,-13.539999999999997,-13.539999999999997,-13.539999999999997,-13.539999999999997,-13.279999999999998,-13.279999999999998,-13.279999999999998,-13.279999999999998,-13.279999999999998,-13.279999999999998,-12.439999999999998,-12.439999999999998,-12.439999999999998,-11.829999999999998,-11.829999999999998,-11.829999999999998,-11.549999999999999,-11.549999999999999,-11.549999999999999,-12.25,-12.25,-13.27,-13.27,-13.27,-13.27,-13.27,-13.27,-13.5,-13.5,-13.5,-13.620000000000001,-13.620000000000001,-13.620000000000001,-14.100000000000001,-14.100000000000001,-14.100000000000001,-14.100000000000001,-14.100000000000001,-13.860000000000001,-13.860000000000001,-13.63,-12.88,-12.05,-12.05,-12.05,-12.05,-12.05,-12.05,-12.05,-12.05,-12.05,-11.290000000000001,-11.290000000000001,-11.290000000000001,-11.290000000000001,-11.290000000000001,-11.23,-11.23,-11.23,-11.23,-10.71,-10.34,-10.34,-10.34,-10.34,-10.34,-10.34,-10.34,-11.219999999999999,-11.919999999999998,-11.919999999999998,-12.469999999999997,-12.469999999999997,-12.599999999999996,-12.599999999999996,-12.599999999999996,-12.599999999999996,-14.179999999999996,-15.089999999999996,-15.089999999999996,-15.089999999999996,-16.569999999999997,-16.569999999999997,-17.509999999999998,-17.509999999999998,-17.509999999999998,-18.349999999999998,-18.349999999999998,-18.659999999999997,-18.659999999999997,-17.54,-16.67,-14.020000000000001,-14.020000000000001,-14.020000000000001,-14.020000000000001,-9.58,-8.520000000000001,-8.520000000000001,-8.520000000000001,-8.520000000000001,-7.369999999999999,-7.369999999999999,-8.250000000000002,-8.250000000000002,-8.250000000000002,-8.480000000000002,-8.480000000000002,-8.480000000000002,-8.480000000000002,-8.480000000000002,-8.480000000000002,-8.480000000000002,-9.12,-9.12,-9.12,-11.209999999999999,-11.209999999999999,-12.040000000000001,-12.040000000000001,-12.040000000000001,-12.040000000000001,-12.040000000000001,-12.040000000000001,-11.000000000000002,-11.000000000000002,-11.000000000000002,-11.000000000000002,-11.000000000000002,-11.000000000000002,-11.000000000000002,-11.000000000000002,-11.000000000000002,-11.000000000000002,-9.820000000000002,-7.26,-7.26,-5.01,-5.01,-5.01,-2.530000000000003,-1.190000000000003,0.48999999999999666,0.48999999999999666,0.48999999999999666,0.48999999999999666,0.48999999999999666,0.48999999999999666,0.48999999999999666,0.48999999999999666,0.48999999999999666,0.48999999999999666,1.6499999999999968,1.6499999999999968,1.6499999999999968,1.6499999999999968,2.8299999999999965,2.8299999999999965,2.8299999999999965,2.8299999999999965,3.7099999999999955,3.7099999999999955,3.7099999999999955,3.7099999999999955,3.7099999999999955,5.319999999999995,5.319999999999995,5.319999999999995,7.939999999999996,7.939999999999996,7.939999999999996,9.899999999999997,9.899999999999997,12.819999999999999,15.579999999999997,17.53,17.53,17.53,17.53,17.53,17.53,17.53,17.53,17.53,17.53,19.38,19.96,19.96,21.55,21.55,23.26,23.26,23.26,23.26,23.26,23.26,23.26,23.26,24.220000000000002,26.810000000000002,26.810000000000002,26.810000000000002,26.810000000000002,26.810000000000002,26.810000000000002,31.390000000000004,31.390000000000004,31.390000000000004,33.82000000000001,36.03,36.03,36.03],\"type\":\"scatter\",\"xaxis\":\"x\",\"yaxis\":\"y\"},{\"mode\":\"lines\",\"name\":\"Reward\",\"opacity\":0.5,\"x\":[0,1,2,3,4,5,6,7,8,9,10,11,12,13,14,15,16,17,18,19,20,21,22,23,24,25,26,27,28,29,30,31,32,33,34,35,36,37,38,39,40,41,42,43,44,45,46,47,48,49,50,51,52,53,54,55,56,57,58,59,60,61,62,63,64,65,66,67,68,69,70,71,72,73,74,75,76,77,78,79,80,81,82,83,84,85,86,87,88,89,90,91,92,93,94,95,96,97,98,99,100,101,102,103,104,105,106,107,108,109,110,111,112,113,114,115,116,117,118,119,120,121,122,123,124,125,126,127,128,129,130,131,132,133,134,135,136,137,138,139,140,141,142,143,144,145,146,147,148,149,150,151,152,153,154,155,156,157,158,159,160,161,162,163,164,165,166,167,168,169,170,171,172,173,174,175,176,177,178,179,180,181,182,183,184,185,186,187,188,189,190,191,192,193,194,195,196,197,198,199,200,201,202,203,204,205,206,207,208,209,210,211,212,213,214,215,216,217,218,219,220,221,222,223,224,225,226,227,228,229,230,231,232,233,234,235,236,237,238,239,240,241,242,243,244,245,246,247,248,249,250,251,252,253,254,255,256,257,258,259,260,261,262,263,264,265,266,267,268,269,270,271,272,273,274,275,276,277,278,279,280,281,282,283,284,285,286,287,288,289,290,291,292,293,294,295,296,297,298,299,300,301,302,303,304,305,306,307,308,309,310,311,312,313,314,315,316,317,318,319,320,321,322,323,324,325,326,327,328,329,330,331,332,333,334,335,336,337,338,339,340,341,342,343,344,345,346,347,348,349,350,351,352,353,354,355,356,357,358,359,360,361,362,363,364,365,366,367,368,369,370,371,372,373,374,375,376,377,378,379,380,381,382,383,384,385,386,387,388,389,390,391,392,393,394,395,396,397,398,399,400,401,402,403,404,405,406,407,408,409,410,411,412,413,414,415,416,417,418,419,420,421,422,423,424,425,426,427,428,429,430,431,432,433,434,435,436,437,438,439,440,441,442,443,444,445,446,447,448,449,450,451,452,453,454,455,456,457,458,459,460,461,462,463,464,465,466,467,468,469,470,471,472,473,474,475,476,477,478,479,480,481,482,483,484,485,486,487,488,489,490,491,492,493,494,495,496,497,498],\"y\":[0,-0.0400000000000027,0,0,0,0,0,0,-0.879999999999999,0,0,0,0,0,0,0,0,0.39000000000000057,1.8399999999999999,0,0,0,0,0,0,0,2.3599999999999994,0,0,0,0,0,-0.9100000000000001,0,0,0,0,-1.3999999999999986,0,0,-1.6900000000000013,-0.10999999999999943,0,0,0,0,0,1.120000000000001,0,0,0,0,0,0,0,0,0.8099999999999987,0,1.5600000000000023,2.0199999999999996,0,1.9200000000000017,0,0,0,3.650000000000002,0,3.8900000000000006,0,1.8599999999999994,0,0,0,0,0.629999999999999,0,-1.2800000000000011,-3.9499999999999993,-1.5600000000000023,-0.9000000000000021,0,-1.7100000000000009,0,0,0,0,0,0.08999999999999986,0,0,0,-0.23000000000000043,0,0,0,0,0,0,0,0,-1.2799999999999976,0,0,0,-0.1999999999999993,-0.33999999999999986,1.4299999999999997,0,0,0,0,0,0.3200000000000003,0.4400000000000013,0,2.009999999999998,0,0,0,0,0,-0.5399999999999991,0,0,0,0,0,-1.3499999999999979,-2.7600000000000016,-1.7800000000000011,0,0,-0.4499999999999993,0,0,0,0,2.0,0.46999999999999886,0,-0.05000000000000071,0.9899999999999984,0,0,-1.2300000000000004,0.7399999999999984,-0.8499999999999979,-1.0700000000000003,0,0,0,0,0,0,-2.6900000000000013,-2.620000000000001,0,0,-1.25,-4.359999999999999,0,0,0,-3.3999999999999986,-0.5599999999999987,0,0,0,0,0.490000000000002,0,0,0,0,0.5800000000000018,0.4400000000000013,-0.509999999999998,0.3299999999999983,0,-2.33,0,-0.040000000000000924,0,0,0,0,0,0.23000000000000043,0,0.46000000000000085,0,0,-0.27999999999999936,0,0.8500000000000014,0,1.0,0,0,0,0,0,0.09999999999999964,0,0,0,0,0,0,0,0,0,0,-1.3499999999999996,0,-0.4800000000000004,-0.3699999999999992,0,0,0,0.019999999999999574,0,0.7300000000000004,0.4399999999999995,0.6999999999999993,0,0,0,0,0,0,-0.13000000000000078,-0.5500000000000007,0,0,0,-0.6100000000000012,0,0,0,0,0,0,0,0,0,0,0,0,0,0,0,0,0,0.28999999999999915,0,0,0,-0.8900000000000006,0,-0.6799999999999997,0,0,0.7100000000000009,0,0,-0.3800000000000008,0,0,0,0,0,0,0,0,0,0,-0.7799999999999994,0,-0.75,0,0.33000000000000007,0,0,-0.09999999999999964,-0.10999999999999943,0,0,0,0,0,0.2599999999999998,0,0,0,0,0,0.8399999999999999,0,0,0.6099999999999994,0,0,0.27999999999999936,0,0,-0.7000000000000011,0,-1.0199999999999996,0,0,0,0,0,-0.23000000000000043,0,0,-0.120000000000001,0,0,-0.4800000000000004,0,0,0,0,0.2400000000000002,0,0.23000000000000043,0.75,0.8300000000000001,0,0,0,0,0,0,0,0,0.7599999999999998,0,0,0,0,0.0600000000000005,0,0,0,0.5199999999999996,0.370000000000001,0,0,0,0,0,0,-0.879999999999999,-0.6999999999999993,0,-0.5499999999999989,0,-0.129999999999999,0,0,0,-1.58,-0.9100000000000001,0,0,-1.4800000000000004,0,-0.9399999999999995,0,0,-0.8399999999999999,0,-0.3099999999999987,0,1.1199999999999992,0.8699999999999992,2.6500000000000004,0,0,0,4.440000000000001,1.0599999999999987,0,0,0,1.1500000000000021,0,-0.8800000000000026,0,0,-0.23000000000000043,0,0,0,0,0,0,-0.639999999999997,0,0,-2.09,0,-0.8300000000000018,0,0,0,0,0,1.0399999999999991,0,0,0,0,0,0,0,0,0,1.1799999999999997,2.5600000000000023,0,2.25,0,0,2.479999999999997,1.3399999999999999,1.6799999999999997,0,0,0,0,0,0,0,0,0,1.1600000000000001,0,0,0,1.1799999999999997,0,0,0,0.879999999999999,0,0,0,0,1.6099999999999994,0,0,2.620000000000001,0,0,1.9600000000000009,0,2.9200000000000017,2.759999999999998,1.9500000000000028,0,0,0,0,0,0,0,0,0,1.8499999999999979,0.5800000000000018,0,1.5899999999999999,0,1.7100000000000009,0,0,0,0,0,0,0,0.9600000000000009,2.59,0,0,0,0,0,4.580000000000002,0,0,2.4299999999999997,2.2099999999999973,0,0],\"type\":\"scatter\",\"xaxis\":\"x\",\"yaxis\":\"y\"},{\"line\":{\"color\":\"black\"},\"mode\":\"lines\",\"name\":\"Dataset\",\"x\":[0,1,2,3,4,5,6,7,8,9,10,11,12,13,14,15,16,17,18,19,20,21,22,23,24,25,26,27,28,29,30,31,32,33,34,35,36,37,38,39,40,41,42,43,44,45,46,47,48,49,50,51,52,53,54,55,56,57,58,59,60,61,62,63,64,65,66,67,68,69,70,71,72,73,74,75,76,77,78,79,80,81,82,83,84,85,86,87,88,89,90,91,92,93,94,95,96,97,98,99,100,101,102,103,104,105,106,107,108,109,110,111,112,113,114,115,116,117,118,119,120,121,122,123,124,125,126,127,128,129,130,131,132,133,134,135,136,137,138,139,140,141,142,143,144,145,146,147,148,149,150,151,152,153,154,155,156,157,158,159,160,161,162,163,164,165,166,167,168,169,170,171,172,173,174,175,176,177,178,179,180,181,182,183,184,185,186,187,188,189,190,191,192,193,194,195,196,197,198,199,200,201,202,203,204,205,206,207,208,209,210,211,212,213,214,215,216,217,218,219,220,221,222,223,224,225,226,227,228,229,230,231,232,233,234,235,236,237,238,239,240,241,242,243,244,245,246,247,248,249,250,251,252,253,254,255,256,257,258,259,260,261,262,263,264,265,266,267,268,269,270,271,272,273,274,275,276,277,278,279,280,281,282,283,284,285,286,287,288,289,290,291,292,293,294,295,296,297,298,299,300,301,302,303,304,305,306,307,308,309,310,311,312,313,314,315,316,317,318,319,320,321,322,323,324,325,326,327,328,329,330,331,332,333,334,335,336,337,338,339,340,341,342,343,344,345,346,347,348,349,350,351,352,353,354,355,356,357,358,359,360,361,362,363,364,365,366,367,368,369,370,371,372,373,374,375,376,377,378,379,380,381,382,383,384,385,386,387,388,389,390,391,392,393,394,395,396,397,398,399,400,401,402,403,404,405,406,407,408,409,410,411,412,413,414,415,416,417,418,419,420,421,422,423,424,425,426,427,428,429,430,431,432,433,434,435,436,437,438,439,440,441,442,443,444,445,446,447,448,449,450,451,452,453,454,455,456,457,458,459,460,461,462,463,464,465,466,467,468,469,470,471,472,473,474,475,476,477,478,479,480,481,482,483,484,485,486,487,488,489,490,491,492,493,494,495,496,497,498],\"y\":[17.56,18.59,18.57,19.07,19.57,19.59,18.71,18.71,18.75,19.37,19.61,19.45,18.97,20.0,19.53,19.68,19.84,21.37,21.0,20.53,20.42,21.3,21.05,22.4,23.76,22.78,22.54,22.54,21.78,21.49,21.0,20.39,20.62,21.01,21.62,20.67,21.0,21.36,21.49,22.07,22.43,21.9,23.3,23.58,23.69,22.9,22.61,21.65,21.23,21.05,21.15,21.7,20.78,22.48,22.17,21.82,23.02,23.21,23.25,23.27,23.07,24.09,24.72,24.41,25.35,25.45,24.67,24.3,24.03,24.98,24.71,25.01,24.6,23.9,22.62,23.13,21.5,22.74,23.81,23.67,21.96,21.7,23.45,24.29,23.53,24.07,24.38,24.66,25.06,24.72,24.49,24.43,24.95,24.74,24.85,24.92,24.27,24.09,23.35,23.46,23.47,23.67,24.46,24.07,23.75,24.9,24.74,24.56,24.1,24.66,24.86,25.06,25.0,25.74,26.11,25.41,24.98,24.53,24.25,23.77,24.12,23.01,23.96,24.27,23.98,23.69,23.51,22.65,22.47,24.37,24.19,23.32,23.94,25.61,25.28,25.21,25.01,24.74,23.46,24.32,25.18,24.15,23.98,23.98,24.2,23.3,22.91,22.78,22.72,22.16,21.4,21.48,20.46,20.09,19.54,20.1,20.54,20.15,17.12,17.11,16.85,17.27,17.14,16.55,17.06,17.72,17.06,16.94,17.55,18.74,18.01,17.53,17.32,18.3,17.5,18.23,17.86,15.63,14.99,14.96,14.92,14.47,15.2,14.36,14.34,15.02,15.43,15.26,14.8,14.45,13.99,14.74,15.03,15.3,15.0,14.99,14.59,15.17,15.61,15.81,15.98,15.91,16.12,15.97,15.73,15.53,14.85,14.7,14.7,14.75,14.05,14.48,14.18,14.38,14.37,14.33,14.29,14.14,14.17,14.5,14.8,15.02,14.58,14.87,14.85,14.64,14.93,14.7,14.72,14.5,14.51,14.17,14.3,14.03,13.77,13.69,13.6,14.12,14.51,14.77,15.16,14.56,14.11,14.34,14.56,14.7,14.88,14.69,15.42,15.61,15.44,15.98,16.07,16.36,16.89,16.9,17.22,16.0,15.84,15.16,15.64,15.59,16.3,15.95,15.65,15.27,15.53,16.35,16.01,15.97,15.41,15.72,15.5,15.18,15.16,14.97,14.63,14.95,14.75,15.28,15.49,15.19,14.79,14.85,15.08,14.57,14.2,14.14,14.49,14.36,14.4,14.06,14.07,14.33,14.8,14.9,14.9,14.85,14.55,14.68,14.72,14.63,14.61,14.43,14.62,14.1,14.02,13.88,14.17,13.8,14.13,14.58,14.58,14.32,14.36,14.66,14.6,14.45,14.43,14.15,14.35,14.35,14.39,14.54,14.67,15.27,14.85,14.77,15.0,14.74,15.02,14.5,14.86,15.01,14.65,14.56,14.62,14.56,14.53,14.37,14.23,14.22,14.72,14.78,15.01,15.0,14.95,14.91,15.0,14.37,14.55,14.41,14.49,14.57,14.14,14.16,14.6,14.46,14.41,14.49,14.45,14.19,14.37,13.2,13.58,13.39,13.24,13.12,13.14,13.51,13.58,13.44,13.35,13.86,14.06,14.22,14.36,14.45,16.09,17.5,17.65,18.0,18.3,18.56,18.67,18.55,18.73,18.8,18.1,17.79,17.85,18.24,18.32,18.88,18.28,18.1,17.95,17.45,17.31,17.6,17.64,17.15,16.79,17.18,17.45,17.77,17.42,18.27,18.19,19.12,19.14,19.2,19.06,18.78,19.09,19.29,18.73,19.06,19.09,19.27,19.13,19.87,20.4,19.89,19.58,19.85,19.9,19.61,19.87,20.9,20.859,20.61,20.8,20.79,20.51,21.54,20.99,20.72,20.28,21.08,20.73,21.21,20.38,19.63,19.93,19.64,19.66,19.7,20.18,19.97,19.71,20.34,20.32,21.01,21.68,20.88,20.86,21.05,21.48,22.19,22.61,22.85,22.95,22.83,22.5,22.74,22.37,22.18,22.56,23.1,22.21,22.36,22.12,22.88,22.58,22.08,22.43,21.32,20.43,20.69,21.3,20.72,20.79,20.57,21.69,22.29,23.22,23.06,23.45,23.68,24.35,24.55,24.82,23.25,22.75,23.22,23.18,22.76,22.99],\"type\":\"scatter\",\"xaxis\":\"x2\",\"yaxis\":\"y2\"},{\"mode\":\"markers\",\"name\":\"stay\",\"opacity\":1.0,\"x\":[2,7,10,11,13,14,16,19,20,23,27,29,31,33,35,36,38,39,42,43,44,45,46,50,54,57,62,63,70,72,73,75,85,86,93,95,96,99,102,103,114,117,118,123,125,126,133,134,135,149,153,156,161,162,168,171,178,182,184,188,193,195,197,201,205,208,210,211,214,221,225,227,228,230,234,235,237,242,244,248,251,252,256,257,261,267,272,274,276,280,283,286,289,290,298,311,312,313,315,318,321,322,323,326,330,332,335,336,339,340,341,342,345,346,349,350,351,352,354,359,366,369,376,382,387,389,391,398,402,404,406,413,415,416,423,425,431,432,433,434,440,442,444,445,446,449,451,459,463,465,470,474,476,479,482,483,484,488,489,490,493],\"y\":[18.57,18.71,19.61,19.45,20.0,19.53,19.84,20.53,20.42,22.4,22.54,21.49,20.39,21.01,20.67,21.0,21.49,22.07,23.3,23.58,23.69,22.9,22.61,21.15,22.17,23.21,24.72,24.41,24.71,24.6,23.9,23.13,24.07,24.38,24.74,24.92,24.27,23.46,24.46,24.07,26.11,24.53,24.25,24.27,23.69,23.51,25.61,25.28,25.21,22.16,20.09,20.54,17.27,17.14,17.55,17.53,14.99,15.2,14.34,14.8,15.3,14.99,15.17,15.91,15.53,14.7,14.05,14.48,14.37,15.02,14.64,14.7,14.72,14.51,13.77,13.69,14.12,14.11,14.56,15.42,15.98,16.07,17.22,16.0,15.59,16.35,15.5,15.16,14.63,15.49,14.85,14.2,14.36,14.4,14.55,14.58,14.58,14.32,14.66,14.43,14.35,14.39,14.54,14.85,15.02,14.86,14.56,14.62,14.37,14.23,14.22,14.72,15.0,14.95,14.37,14.55,14.41,14.49,14.14,14.49,13.24,13.51,14.36,18.3,18.8,17.79,18.24,17.31,16.79,17.45,17.42,18.78,19.29,18.73,19.89,19.85,20.61,20.8,20.79,20.51,20.73,20.38,19.93,19.64,19.66,19.97,20.34,22.19,22.83,22.74,22.21,22.58,22.43,20.69,20.79,20.57,21.69,23.45,23.68,24.35,23.25],\"type\":\"scatter\",\"xaxis\":\"x2\",\"yaxis\":\"y2\"},{\"mode\":\"markers\",\"name\":\"buy\",\"opacity\":1.0,\"x\":[0,6,12,15,21,22,24,25,28,30,34,48,49,51,52,53,55,60,64,66,68,71,80,84,90,94,97,98,101,107,108,109,110,111,116,119,120,122,124,130,131,136,139,142,143,148,150,151,152,157,160,165,166,167,170,172,173,180,183,185,186,190,191,200,206,207,209,212,217,218,219,226,229,233,253,255,259,262,265,271,273,275,278,282,288,292,293,294,295,296,299,301,302,304,305,307,309,310,316,319,324,331,333,334,337,344,353,357,361,362,363,367,371,372,374,380,381,385,386,392,394,395,396,397,399,401,407,408,409,410,412,414,417,418,419,420,426,430,435,436,437,438,441,448,450,453,454,456,457,464,466,467,468,469,471,478,480,481,487,491,494,497,498],\"y\":[17.56,18.71,18.97,19.68,21.3,21.05,23.76,22.78,21.78,21.0,21.62,21.23,21.05,21.7,20.78,22.48,21.82,23.07,25.35,24.67,24.03,25.01,21.96,23.53,24.49,24.85,24.09,23.35,23.67,24.56,24.1,24.66,24.86,25.06,24.98,23.77,24.12,23.96,23.98,24.19,23.32,25.01,24.32,23.98,23.98,22.72,21.4,21.48,20.46,20.15,16.85,17.72,17.06,16.94,18.01,17.32,18.3,14.92,14.36,15.02,15.43,13.99,14.74,15.98,14.85,14.7,14.75,14.18,14.14,14.17,14.5,14.93,14.5,14.03,16.36,16.9,15.16,16.3,15.27,15.72,15.18,14.97,14.75,14.79,14.49,14.07,14.33,14.8,14.9,14.9,14.68,14.63,14.61,14.62,14.1,13.88,13.8,14.13,14.6,14.15,14.67,14.5,15.01,14.65,14.56,15.01,14.57,14.46,14.19,14.37,13.2,13.12,13.44,13.35,14.06,17.65,18.0,18.55,18.73,18.32,18.28,18.1,17.95,17.45,17.6,17.15,18.27,18.19,19.12,19.14,19.06,19.09,19.06,19.09,19.27,19.13,19.9,20.859,21.54,20.99,20.72,20.28,21.21,20.18,19.71,21.01,21.68,20.86,21.05,22.5,22.37,22.18,22.56,23.1,22.36,20.43,21.3,20.72,23.06,24.55,22.75,22.76,22.99],\"type\":\"scatter\",\"xaxis\":\"x2\",\"yaxis\":\"y2\"},{\"mode\":\"markers\",\"name\":\"sell\",\"opacity\":1.0,\"x\":[1,3,4,5,8,9,17,18,26,32,37,40,41,47,56,58,59,61,65,67,69,74,76,77,78,79,81,82,83,87,88,89,91,92,100,104,105,106,112,113,115,121,127,128,129,132,137,138,140,141,144,145,146,147,154,155,158,159,163,164,169,174,175,176,177,179,181,187,189,192,194,196,198,199,202,203,204,213,215,216,220,222,223,224,231,232,236,238,239,240,241,243,245,246,247,249,250,254,258,260,263,264,266,268,269,270,277,279,281,284,285,287,291,297,300,303,306,308,314,317,320,325,327,328,329,338,343,347,348,355,356,358,360,364,365,368,370,373,375,377,378,379,383,384,388,390,393,400,403,405,411,421,422,424,427,428,429,439,443,447,452,455,458,460,461,462,472,473,475,477,485,486,492,495,496],\"y\":[18.59,19.07,19.57,19.59,18.75,19.37,21.37,21.0,22.54,20.62,21.36,22.43,21.9,21.65,23.02,23.25,23.27,24.09,25.45,24.3,24.98,22.62,21.5,22.74,23.81,23.67,21.7,23.45,24.29,24.66,25.06,24.72,24.43,24.95,23.47,23.75,24.9,24.74,25.0,25.74,25.41,23.01,22.65,22.47,24.37,23.94,24.74,23.46,25.18,24.15,24.2,23.3,22.91,22.78,19.54,20.1,17.12,17.11,16.55,17.06,18.74,17.5,18.23,17.86,15.63,14.96,14.47,15.26,14.45,15.03,15.0,14.59,15.61,15.81,16.12,15.97,15.73,14.38,14.33,14.29,14.8,14.58,14.87,14.85,14.17,14.3,13.6,14.51,14.77,15.16,14.56,14.34,14.7,14.88,14.69,15.61,15.44,16.89,15.84,15.64,15.95,15.65,15.53,16.01,15.97,15.41,14.95,15.28,15.19,15.08,14.57,14.14,14.06,14.85,14.72,14.43,14.02,14.17,14.36,14.45,14.35,15.27,14.77,15.0,14.74,14.53,14.78,14.91,15.0,14.16,14.6,14.41,14.45,13.58,13.39,13.14,13.58,13.86,14.22,14.45,16.09,17.5,18.56,18.67,18.1,17.85,18.88,17.64,17.18,17.77,19.2,19.87,20.4,19.58,19.61,19.87,20.9,21.08,19.63,19.7,20.32,20.88,21.48,22.61,22.85,22.95,22.12,22.88,22.08,21.32,22.29,23.22,24.82,23.22,23.18],\"type\":\"scatter\",\"xaxis\":\"x2\",\"yaxis\":\"y2\"}],                        {\"template\":{\"data\":{\"histogram2dcontour\":[{\"type\":\"histogram2dcontour\",\"colorbar\":{\"outlinewidth\":0,\"ticks\":\"\"},\"colorscale\":[[0.0,\"#0d0887\"],[0.1111111111111111,\"#46039f\"],[0.2222222222222222,\"#7201a8\"],[0.3333333333333333,\"#9c179e\"],[0.4444444444444444,\"#bd3786\"],[0.5555555555555556,\"#d8576b\"],[0.6666666666666666,\"#ed7953\"],[0.7777777777777778,\"#fb9f3a\"],[0.8888888888888888,\"#fdca26\"],[1.0,\"#f0f921\"]]}],\"choropleth\":[{\"type\":\"choropleth\",\"colorbar\":{\"outlinewidth\":0,\"ticks\":\"\"}}],\"histogram2d\":[{\"type\":\"histogram2d\",\"colorbar\":{\"outlinewidth\":0,\"ticks\":\"\"},\"colorscale\":[[0.0,\"#0d0887\"],[0.1111111111111111,\"#46039f\"],[0.2222222222222222,\"#7201a8\"],[0.3333333333333333,\"#9c179e\"],[0.4444444444444444,\"#bd3786\"],[0.5555555555555556,\"#d8576b\"],[0.6666666666666666,\"#ed7953\"],[0.7777777777777778,\"#fb9f3a\"],[0.8888888888888888,\"#fdca26\"],[1.0,\"#f0f921\"]]}],\"heatmap\":[{\"type\":\"heatmap\",\"colorbar\":{\"outlinewidth\":0,\"ticks\":\"\"},\"colorscale\":[[0.0,\"#0d0887\"],[0.1111111111111111,\"#46039f\"],[0.2222222222222222,\"#7201a8\"],[0.3333333333333333,\"#9c179e\"],[0.4444444444444444,\"#bd3786\"],[0.5555555555555556,\"#d8576b\"],[0.6666666666666666,\"#ed7953\"],[0.7777777777777778,\"#fb9f3a\"],[0.8888888888888888,\"#fdca26\"],[1.0,\"#f0f921\"]]}],\"heatmapgl\":[{\"type\":\"heatmapgl\",\"colorbar\":{\"outlinewidth\":0,\"ticks\":\"\"},\"colorscale\":[[0.0,\"#0d0887\"],[0.1111111111111111,\"#46039f\"],[0.2222222222222222,\"#7201a8\"],[0.3333333333333333,\"#9c179e\"],[0.4444444444444444,\"#bd3786\"],[0.5555555555555556,\"#d8576b\"],[0.6666666666666666,\"#ed7953\"],[0.7777777777777778,\"#fb9f3a\"],[0.8888888888888888,\"#fdca26\"],[1.0,\"#f0f921\"]]}],\"contourcarpet\":[{\"type\":\"contourcarpet\",\"colorbar\":{\"outlinewidth\":0,\"ticks\":\"\"}}],\"contour\":[{\"type\":\"contour\",\"colorbar\":{\"outlinewidth\":0,\"ticks\":\"\"},\"colorscale\":[[0.0,\"#0d0887\"],[0.1111111111111111,\"#46039f\"],[0.2222222222222222,\"#7201a8\"],[0.3333333333333333,\"#9c179e\"],[0.4444444444444444,\"#bd3786\"],[0.5555555555555556,\"#d8576b\"],[0.6666666666666666,\"#ed7953\"],[0.7777777777777778,\"#fb9f3a\"],[0.8888888888888888,\"#fdca26\"],[1.0,\"#f0f921\"]]}],\"surface\":[{\"type\":\"surface\",\"colorbar\":{\"outlinewidth\":0,\"ticks\":\"\"},\"colorscale\":[[0.0,\"#0d0887\"],[0.1111111111111111,\"#46039f\"],[0.2222222222222222,\"#7201a8\"],[0.3333333333333333,\"#9c179e\"],[0.4444444444444444,\"#bd3786\"],[0.5555555555555556,\"#d8576b\"],[0.6666666666666666,\"#ed7953\"],[0.7777777777777778,\"#fb9f3a\"],[0.8888888888888888,\"#fdca26\"],[1.0,\"#f0f921\"]]}],\"mesh3d\":[{\"type\":\"mesh3d\",\"colorbar\":{\"outlinewidth\":0,\"ticks\":\"\"}}],\"scatter\":[{\"fillpattern\":{\"fillmode\":\"overlay\",\"size\":10,\"solidity\":0.2},\"type\":\"scatter\"}],\"parcoords\":[{\"type\":\"parcoords\",\"line\":{\"colorbar\":{\"outlinewidth\":0,\"ticks\":\"\"}}}],\"scatterpolargl\":[{\"type\":\"scatterpolargl\",\"marker\":{\"colorbar\":{\"outlinewidth\":0,\"ticks\":\"\"}}}],\"bar\":[{\"error_x\":{\"color\":\"#2a3f5f\"},\"error_y\":{\"color\":\"#2a3f5f\"},\"marker\":{\"line\":{\"color\":\"#E5ECF6\",\"width\":0.5},\"pattern\":{\"fillmode\":\"overlay\",\"size\":10,\"solidity\":0.2}},\"type\":\"bar\"}],\"scattergeo\":[{\"type\":\"scattergeo\",\"marker\":{\"colorbar\":{\"outlinewidth\":0,\"ticks\":\"\"}}}],\"scatterpolar\":[{\"type\":\"scatterpolar\",\"marker\":{\"colorbar\":{\"outlinewidth\":0,\"ticks\":\"\"}}}],\"histogram\":[{\"marker\":{\"pattern\":{\"fillmode\":\"overlay\",\"size\":10,\"solidity\":0.2}},\"type\":\"histogram\"}],\"scattergl\":[{\"type\":\"scattergl\",\"marker\":{\"colorbar\":{\"outlinewidth\":0,\"ticks\":\"\"}}}],\"scatter3d\":[{\"type\":\"scatter3d\",\"line\":{\"colorbar\":{\"outlinewidth\":0,\"ticks\":\"\"}},\"marker\":{\"colorbar\":{\"outlinewidth\":0,\"ticks\":\"\"}}}],\"scattermapbox\":[{\"type\":\"scattermapbox\",\"marker\":{\"colorbar\":{\"outlinewidth\":0,\"ticks\":\"\"}}}],\"scatterternary\":[{\"type\":\"scatterternary\",\"marker\":{\"colorbar\":{\"outlinewidth\":0,\"ticks\":\"\"}}}],\"scattercarpet\":[{\"type\":\"scattercarpet\",\"marker\":{\"colorbar\":{\"outlinewidth\":0,\"ticks\":\"\"}}}],\"carpet\":[{\"aaxis\":{\"endlinecolor\":\"#2a3f5f\",\"gridcolor\":\"white\",\"linecolor\":\"white\",\"minorgridcolor\":\"white\",\"startlinecolor\":\"#2a3f5f\"},\"baxis\":{\"endlinecolor\":\"#2a3f5f\",\"gridcolor\":\"white\",\"linecolor\":\"white\",\"minorgridcolor\":\"white\",\"startlinecolor\":\"#2a3f5f\"},\"type\":\"carpet\"}],\"table\":[{\"cells\":{\"fill\":{\"color\":\"#EBF0F8\"},\"line\":{\"color\":\"white\"}},\"header\":{\"fill\":{\"color\":\"#C8D4E3\"},\"line\":{\"color\":\"white\"}},\"type\":\"table\"}],\"barpolar\":[{\"marker\":{\"line\":{\"color\":\"#E5ECF6\",\"width\":0.5},\"pattern\":{\"fillmode\":\"overlay\",\"size\":10,\"solidity\":0.2}},\"type\":\"barpolar\"}],\"pie\":[{\"automargin\":true,\"type\":\"pie\"}]},\"layout\":{\"autotypenumbers\":\"strict\",\"colorway\":[\"#636efa\",\"#EF553B\",\"#00cc96\",\"#ab63fa\",\"#FFA15A\",\"#19d3f3\",\"#FF6692\",\"#B6E880\",\"#FF97FF\",\"#FECB52\"],\"font\":{\"color\":\"#2a3f5f\"},\"hovermode\":\"closest\",\"hoverlabel\":{\"align\":\"left\"},\"paper_bgcolor\":\"white\",\"plot_bgcolor\":\"#E5ECF6\",\"polar\":{\"bgcolor\":\"#E5ECF6\",\"angularaxis\":{\"gridcolor\":\"white\",\"linecolor\":\"white\",\"ticks\":\"\"},\"radialaxis\":{\"gridcolor\":\"white\",\"linecolor\":\"white\",\"ticks\":\"\"}},\"ternary\":{\"bgcolor\":\"#E5ECF6\",\"aaxis\":{\"gridcolor\":\"white\",\"linecolor\":\"white\",\"ticks\":\"\"},\"baxis\":{\"gridcolor\":\"white\",\"linecolor\":\"white\",\"ticks\":\"\"},\"caxis\":{\"gridcolor\":\"white\",\"linecolor\":\"white\",\"ticks\":\"\"}},\"coloraxis\":{\"colorbar\":{\"outlinewidth\":0,\"ticks\":\"\"}},\"colorscale\":{\"sequential\":[[0.0,\"#0d0887\"],[0.1111111111111111,\"#46039f\"],[0.2222222222222222,\"#7201a8\"],[0.3333333333333333,\"#9c179e\"],[0.4444444444444444,\"#bd3786\"],[0.5555555555555556,\"#d8576b\"],[0.6666666666666666,\"#ed7953\"],[0.7777777777777778,\"#fb9f3a\"],[0.8888888888888888,\"#fdca26\"],[1.0,\"#f0f921\"]],\"sequentialminus\":[[0.0,\"#0d0887\"],[0.1111111111111111,\"#46039f\"],[0.2222222222222222,\"#7201a8\"],[0.3333333333333333,\"#9c179e\"],[0.4444444444444444,\"#bd3786\"],[0.5555555555555556,\"#d8576b\"],[0.6666666666666666,\"#ed7953\"],[0.7777777777777778,\"#fb9f3a\"],[0.8888888888888888,\"#fdca26\"],[1.0,\"#f0f921\"]],\"diverging\":[[0,\"#8e0152\"],[0.1,\"#c51b7d\"],[0.2,\"#de77ae\"],[0.3,\"#f1b6da\"],[0.4,\"#fde0ef\"],[0.5,\"#f7f7f7\"],[0.6,\"#e6f5d0\"],[0.7,\"#b8e186\"],[0.8,\"#7fbc41\"],[0.9,\"#4d9221\"],[1,\"#276419\"]]},\"xaxis\":{\"gridcolor\":\"white\",\"linecolor\":\"white\",\"ticks\":\"\",\"title\":{\"standoff\":15},\"zerolinecolor\":\"white\",\"automargin\":true,\"zerolinewidth\":2},\"yaxis\":{\"gridcolor\":\"white\",\"linecolor\":\"white\",\"ticks\":\"\",\"title\":{\"standoff\":15},\"zerolinecolor\":\"white\",\"automargin\":true,\"zerolinewidth\":2},\"scene\":{\"xaxis\":{\"backgroundcolor\":\"#E5ECF6\",\"gridcolor\":\"white\",\"linecolor\":\"white\",\"showbackground\":true,\"ticks\":\"\",\"zerolinecolor\":\"white\",\"gridwidth\":2},\"yaxis\":{\"backgroundcolor\":\"#E5ECF6\",\"gridcolor\":\"white\",\"linecolor\":\"white\",\"showbackground\":true,\"ticks\":\"\",\"zerolinecolor\":\"white\",\"gridwidth\":2},\"zaxis\":{\"backgroundcolor\":\"#E5ECF6\",\"gridcolor\":\"white\",\"linecolor\":\"white\",\"showbackground\":true,\"ticks\":\"\",\"zerolinecolor\":\"white\",\"gridwidth\":2}},\"shapedefaults\":{\"line\":{\"color\":\"#2a3f5f\"}},\"annotationdefaults\":{\"arrowcolor\":\"#2a3f5f\",\"arrowhead\":0,\"arrowwidth\":1},\"geo\":{\"bgcolor\":\"white\",\"landcolor\":\"#E5ECF6\",\"subunitcolor\":\"white\",\"showland\":true,\"showlakes\":true,\"lakecolor\":\"white\"},\"title\":{\"x\":0.05},\"mapbox\":{\"style\":\"light\"}}},\"xaxis\":{\"anchor\":\"y\",\"domain\":[0.0,1.0],\"matches\":\"x2\",\"showticklabels\":false,\"title\":{\"text\":\"Step\"}},\"yaxis\":{\"anchor\":\"x\",\"domain\":[0.575,1.0]},\"xaxis2\":{\"anchor\":\"y2\",\"domain\":[0.0,1.0],\"title\":{\"text\":\"Step\"}},\"yaxis2\":{\"anchor\":\"x2\",\"domain\":[0.0,0.425]}},                        {\"responsive\": true}                    ).then(function(){\n",
              "                            \n",
              "var gd = document.getElementById('eac5cf60-5134-4238-aa8b-b6abe97c23b6');\n",
              "var x = new MutationObserver(function (mutations, observer) {{\n",
              "        var display = window.getComputedStyle(gd).display;\n",
              "        if (!display || display === 'none') {{\n",
              "            console.log([gd, 'removed!']);\n",
              "            Plotly.purge(gd);\n",
              "            observer.disconnect();\n",
              "        }}\n",
              "}});\n",
              "\n",
              "// Listen for the removal of the full notebook cells\n",
              "var notebookContainer = gd.closest('#notebook-container');\n",
              "if (notebookContainer) {{\n",
              "    x.observe(notebookContainer, {childList: true});\n",
              "}}\n",
              "\n",
              "// Listen for the clearing of the current output cell\n",
              "var outputEl = gd.closest('.output');\n",
              "if (outputEl) {{\n",
              "    x.observe(outputEl, {childList: true});\n",
              "}}\n",
              "\n",
              "                        })                };                            </script>        </div>\n",
              "</body>\n",
              "</html>"
            ]
          },
          "metadata": {}
        },
        {
          "output_type": "execute_result",
          "data": {
            "text/plain": [
              "'\\nEste bloque de código genera un gráfico que muestra la evolución de la ganancia y la recompensa a lo largo de los pasos de tiempo, \\nasí como las decisiones de compra, venta y espera tomadas por el agente durante el experimento. \\nLas líneas continuas representan la evolución de la ganancia y el dataset, mientras que los puntos indican las acciones específicas tomadas por el agente.\\n\\n'"
            ],
            "application/vnd.google.colaboratory.intrinsic+json": {
              "type": "string"
            }
          },
          "metadata": {},
          "execution_count": 102
        }
      ]
    },
    {
      "cell_type": "code",
      "source": [
        "# Realiza pruebas del modelo entrenado con el agente del Experimento 2 en el entorno del Experimento 2\n",
        "# con un valor de epsilon de 0.01 para la exploración epsilon-greedy\n",
        "pev, rev, history = test_model(agent=dql_agent_exp2, env=entorno_exp2, epsilon=0.01)"
      ],
      "metadata": {
        "colab": {
          "base_uri": "https://localhost:8080/"
        },
        "id": "N8iTRJUwkzXs",
        "outputId": "42f1b888-aa23-45ae-a787-bc6c6fd8d76d"
      },
      "execution_count": 77,
      "outputs": [
        {
          "output_type": "stream",
          "name": "stderr",
          "text": [
            "<ipython-input-47-04752e11e2c3>:73: FutureWarning:\n",
            "\n",
            "Series.__getitem__ treating keys as positions is deprecated. In a future version, integer keys will always be treated as labels (consistent with DataFrame behavior). To access a value by position, use `ser.iloc[pos]`\n",
            "\n",
            "<ipython-input-47-04752e11e2c3>:91: FutureWarning:\n",
            "\n",
            "Series.__getitem__ treating keys as positions is deprecated. In a future version, integer keys will always be treated as labels (consistent with DataFrame behavior). To access a value by position, use `ser.iloc[pos]`\n",
            "\n",
            "<ipython-input-47-04752e11e2c3>:27: FutureWarning:\n",
            "\n",
            "Series.__getitem__ treating keys as positions is deprecated. In a future version, integer keys will always be treated as labels (consistent with DataFrame behavior). To access a value by position, use `ser.iloc[pos]`\n",
            "\n"
          ]
        }
      ]
    },
    {
      "cell_type": "code",
      "source": [
        "# Crea una lista de índices para el eje x basada en la longitud de la lista de Profit Evolution (pev)\n",
        "x_list = np.arange(len(pev))\n",
        "\n",
        "# Crea una figura con dos subplots, compartiendo el eje x\n",
        "fig1 = make_subplots(rows=2, cols=1, shared_xaxes=True)\n",
        "\n",
        "# Añade una traza para visualizar la evolución de la ganancia (Profit Evolution) en el primer subplot\n",
        "fig1.add_trace(go.Scatter(x=x_list, y=pev, mode='lines', name=\"Profit Evolution\",\n",
        "                          opacity=1), row=1, col=1)\n",
        "# Añade una traza para visualizar la recompensa (Reward) en el primer subplot\n",
        "fig1.add_trace(go.Scatter(x=x_list, y=rev, mode='lines', name=\"Reward\",\n",
        "                          opacity=0.5), row=1, col=1)\n",
        "\n",
        "# Crea un array de numpy con los datos de la historia de acciones tomadas por el agente durante las pruebas\n",
        "data_array = np.array([his[0] for his in history])\n",
        "\n",
        "# Crea un array de numpy con las acciones tomadas por el agente durante las pruebas\n",
        "action_list = np.array([his[1] for his in history])\n",
        "\n",
        "# Filtra los índices donde el agente decidió 'quedarse' (Stay), 'comprar' (Buy) y 'vender' (Sell)\n",
        "stay_indices = action_list == 'Stay'\n",
        "buy_indices = action_list == 'Buy'\n",
        "sell_indices = action_list == 'Sell'\n",
        "\n",
        "# Añade una traza para visualizar el conjunto de datos en el segundo subplot\n",
        "fig1.add_trace(go.Scatter(x=x_list, y=data_array, name=\"Dataset\", mode=\"lines\",\n",
        "                          line=dict(color=\"black\")), row=2, col=1)\n",
        "# Añade trazas para visualizar los puntos donde el agente decidió quedarse, comprar y vender en el segundo subplot\n",
        "fig1.add_trace(go.Scatter(x=x_list[stay_indices], y=data_array[stay_indices],\n",
        "                          mode='markers', name=\"stay\", opacity=1.0), row=2, col=1)\n",
        "fig1.add_trace(go.Scatter(x=x_list[buy_indices], y=data_array[buy_indices],\n",
        "                          mode='markers', name=\"buy\", opacity=1.0), row=2, col=1)\n",
        "fig1.add_trace(go.Scatter(x=x_list[sell_indices], y=data_array[sell_indices],\n",
        "                          mode='markers', name=\"sell\", opacity=1.0), row=2, col=1)\n",
        "\n",
        "# Actualiza el título del eje x\n",
        "fig1.update_xaxes(title_text=\"Step\")\n",
        "# Muestra la figura\n",
        "fig1.show()\n",
        "\n",
        "\n",
        "\"\"\"\n",
        "\n",
        "Este bloque de código crea un gráfico con dos subplots.\n",
        "En el primer subplot se muestra la evolución de la ganancia (Profit Evolution) y la recompensa (Reward) a lo largo del tiempo.\n",
        "En el segundo subplot se muestra el conjunto de datos y los puntos donde el agente decidió quedarse, comprar y vender durante las pruebas.\n",
        "\n",
        "\n",
        "\"\"\""
      ],
      "metadata": {
        "colab": {
          "base_uri": "https://localhost:8080/",
          "height": 542
        },
        "id": "sqz_C0w_l8xl",
        "outputId": "21945ed9-becd-4301-8ab9-872ebbf4b44e"
      },
      "execution_count": 78,
      "outputs": [
        {
          "output_type": "display_data",
          "data": {
            "text/html": [
              "<html>\n",
              "<head><meta charset=\"utf-8\" /></head>\n",
              "<body>\n",
              "    <div>            <script src=\"https://cdnjs.cloudflare.com/ajax/libs/mathjax/2.7.5/MathJax.js?config=TeX-AMS-MML_SVG\"></script><script type=\"text/javascript\">if (window.MathJax && window.MathJax.Hub && window.MathJax.Hub.Config) {window.MathJax.Hub.Config({SVG: {font: \"STIX-Web\"}});}</script>                <script type=\"text/javascript\">window.PlotlyConfig = {MathJaxConfig: 'local'};</script>\n",
              "        <script charset=\"utf-8\" src=\"https://cdn.plot.ly/plotly-2.24.1.min.js\"></script>                <div id=\"c8664747-520f-4a7b-bd82-f6ceb4f8dfc3\" class=\"plotly-graph-div\" style=\"height:525px; width:100%;\"></div>            <script type=\"text/javascript\">                                    window.PLOTLYENV=window.PLOTLYENV || {};                                    if (document.getElementById(\"c8664747-520f-4a7b-bd82-f6ceb4f8dfc3\")) {                    Plotly.newPlot(                        \"c8664747-520f-4a7b-bd82-f6ceb4f8dfc3\",                        [{\"mode\":\"lines\",\"name\":\"Profit Evolution\",\"opacity\":1,\"x\":[0,1,2,3,4,5,6,7,8,9,10,11,12,13,14,15,16,17,18,19,20,21,22,23,24,25,26,27,28,29,30,31,32,33,34,35,36,37,38,39,40,41,42,43,44,45,46,47,48,49,50,51,52,53,54,55,56,57,58,59,60,61,62,63,64,65,66,67,68,69,70,71,72,73,74,75,76,77,78,79,80,81,82,83,84,85,86,87,88,89,90,91,92,93,94,95,96,97,98,99,100,101,102,103,104,105,106,107,108,109,110,111,112,113,114,115,116,117,118,119,120,121,122,123,124,125,126,127,128,129,130,131,132,133,134,135,136,137,138,139,140,141,142,143,144,145,146,147,148,149,150,151,152,153,154,155,156,157,158,159,160,161,162,163,164,165,166,167,168,169,170,171,172,173,174,175,176,177,178,179,180,181,182,183,184,185,186,187,188,189,190,191,192,193,194,195,196,197,198,199,200,201,202,203,204,205,206,207,208,209,210,211,212,213,214,215,216,217,218,219,220,221,222,223,224,225,226,227,228,229,230,231,232,233,234,235,236,237,238,239,240,241,242,243,244,245,246,247,248,249,250,251,252,253,254,255,256,257,258,259,260,261,262,263,264,265,266,267,268,269,270,271,272,273,274,275,276,277,278,279,280,281,282,283,284,285,286,287,288,289,290,291,292,293,294,295,296,297,298,299,300,301,302,303,304,305,306,307,308,309,310,311,312,313,314,315,316,317,318,319,320,321,322,323,324,325,326,327,328,329,330,331,332,333,334,335,336,337,338,339,340,341,342,343,344,345,346,347,348,349,350,351,352,353,354,355,356,357,358,359,360,361,362,363,364,365,366,367,368,369,370,371,372,373,374,375,376,377,378,379,380,381,382,383,384,385,386,387,388,389,390,391,392,393,394,395,396,397,398,399,400,401,402,403,404,405,406,407,408,409,410,411,412,413,414,415,416,417,418,419,420,421,422,423,424,425,426,427,428,429,430,431,432,433,434,435,436,437,438,439,440,441,442,443,444,445,446,447,448,449,450,451,452,453,454,455,456,457,458,459,460,461,462,463,464,465,466,467,468,469,470,471,472,473,474,475,476,477,478,479,480,481,482,483,484,485,486,487,488,489,490,491,492,493,494,495,496,497,498],\"y\":[0,0,0,0,0,1.9699999999999989,2.9899999999999984,2.9899999999999984,2.9899999999999984,2.9899999999999984,2.9899999999999984,3.229999999999997,3.229999999999997,3.229999999999997,3.229999999999997,3.229999999999997,3.229999999999997,3.229999999999997,3.229999999999997,3.229999999999997,3.229999999999997,3.229999999999997,3.229999999999997,3.229999999999997,3.229999999999997,6.989999999999998,6.989999999999998,6.989999999999998,9.999999999999996,9.999999999999996,9.999999999999996,9.999999999999996,9.999999999999996,9.999999999999996,11.169999999999998,11.419999999999998,11.419999999999998,11.419999999999998,11.779999999999998,11.779999999999998,11.779999999999998,11.779999999999998,11.779999999999998,14.549999999999997,15.729999999999997,15.729999999999997,15.849999999999994,15.849999999999994,16.009999999999994,16.009999999999994,16.009999999999994,16.009999999999994,16.009999999999994,16.009999999999994,16.009999999999994,16.009999999999994,16.009999999999994,16.009999999999994,16.009999999999994,18.869999999999994,18.869999999999994,18.869999999999994,18.869999999999994,22.96999999999999,22.96999999999999,22.96999999999999,27.74999999999999,31.41999999999999,31.41999999999999,31.41999999999999,31.41999999999999,31.41999999999999,31.41999999999999,31.41999999999999,33.82999999999999,34.379999999999995,34.379999999999995,34.379999999999995,33.42999999999999,33.42999999999999,33.42999999999999,32.779999999999994,33.42999999999999,33.42999999999999,33.42999999999999,33.42999999999999,33.42999999999999,33.42999999999999,33.42999999999999,33.42999999999999,33.42999999999999,33.42999999999999,33.42999999999999,37.22999999999999,37.22999999999999,37.22999999999999,40.44999999999999,40.44999999999999,40.44999999999999,41.31999999999999,41.31999999999999,41.31999999999999,42.81999999999999,45.459999999999994,45.459999999999994,46.19,46.67999999999999,46.67999999999999,47.209999999999994,46.599999999999994,46.599999999999994,46.599999999999994,47.05999999999999,47.05999999999999,47.05999999999999,47.05999999999999,47.05999999999999,50.53999999999999,50.53999999999999,50.49999999999999,50.49999999999999,50.49999999999999,50.49999999999999,50.49999999999999,50.49999999999999,50.49999999999999,50.49999999999999,50.49999999999999,50.49999999999999,50.49999999999999,50.49999999999999,51.16,51.16,51.16,51.16,51.16,51.16,51.16,51.16,49.9,49.9,49.9,49.9,49.9,49.45,48.910000000000004,47.36,47.36,47.36,45.989999999999995,45.989999999999995,45.989999999999995,44.00999999999999,39.60999999999999,39.60999999999999,39.60999999999999,39.60999999999999,39.60999999999999,34.75999999999999,25.769999999999992,17.46999999999999,10.549999999999994,4.809999999999992,4.809999999999992,-2.620000000000008,-2.620000000000008,-2.620000000000008,-9.25000000000001,-9.25000000000001,-9.25000000000001,-13.16000000000001,-20.76000000000001,-20.76000000000001,-20.76000000000001,-20.76000000000001,-20.76000000000001,-20.76000000000001,-20.76000000000001,-30.41000000000001,-30.41000000000001,-40.66000000000001,-40.66000000000001,-40.66000000000001,-49.44000000000001,-49.44000000000001,-49.44000000000001,-57.33000000000001,-57.33000000000001,-57.33000000000001,-65.31000000000002,-73.02000000000001,-73.02000000000001,-79.68,-79.68,-79.68,-84.77000000000001,-89.88000000000001,-89.88000000000001,-95.25000000000001,-95.25000000000001,-96.50000000000001,-96.50000000000001,-96.50000000000001,-96.50000000000001,-96.50000000000001,-97.71000000000001,-99.50000000000001,-99.50000000000001,-102.30000000000001,-102.30000000000001,-102.54,-102.54,-102.54,-102.54,-102.54,-103.09,-103.23,-103.23,-104.52000000000001,-104.34,-104.87,-104.66,-104.66,-106.2,-106.2,-106.2,-107.53,-107.53,-107.01,-107.01,-106.89,-106.67,-106.67,-106.67,-107.51,-107.51,-108.67,-108.67,-109.27000000000001,-109.27000000000001,-108.67000000000002,-108.67000000000002,-108.41000000000001,-108.41000000000001,-107.84,-107.84,-107.84,-106.56,-106.56,-105.65,-105.65,-105.65,-105.65,-105.65,-105.65,-105.65,-105.65,-105.65,-105.65,-105.65,-105.65,-105.65,-105.65,-105.65,-105.65,-105.65,-105.65,-105.65,-105.65,-105.65,-105.65,-106.08000000000001,-106.08000000000001,-106.22000000000001,-106.22000000000001,-106.65,-107.63000000000001,-108.27000000000001,-108.27000000000001,-108.27000000000001,-108.27000000000001,-108.27000000000001,-108.27000000000001,-108.27000000000001,-108.27000000000001,-108.27000000000001,-108.27000000000001,-108.27000000000001,-108.27000000000001,-108.27000000000001,-110.26000000000002,-110.26000000000002,-111.15000000000002,-112.27000000000002,-112.27000000000002,-112.27000000000002,-112.22000000000003,-112.40000000000003,-112.12000000000003,-112.12000000000003,-112.12000000000003,-111.54000000000003,-111.54000000000003,-111.54000000000003,-111.54000000000003,-111.54000000000003,-111.54000000000003,-112.32000000000004,-112.99000000000004,-112.99000000000004,-112.99000000000004,-112.99000000000004,-112.99000000000004,-113.03000000000003,-113.03000000000003,-113.03000000000003,-113.03000000000003,-113.03000000000003,-113.03000000000003,-113.03000000000003,-113.05000000000003,-112.83000000000003,-113.14000000000003,-113.14000000000003,-113.14000000000003,-113.14000000000003,-112.41000000000003,-112.41000000000003,-112.41000000000003,-112.41000000000003,-112.41000000000003,-112.41000000000003,-112.41000000000003,-112.41000000000003,-112.17000000000003,-112.17000000000003,-112.11000000000003,-112.35000000000002,-112.35000000000002,-112.35000000000002,-112.35000000000002,-112.35000000000002,-112.35000000000002,-112.35000000000002,-112.29000000000002,-112.29000000000002,-112.29000000000002,-112.29000000000002,-112.29000000000002,-112.20000000000002,-112.20000000000002,-112.20000000000002,-112.20000000000002,-112.12000000000002,-112.12000000000002,-112.12000000000002,-112.12000000000002,-112.12000000000002,-112.12000000000002,-112.12000000000002,-112.12000000000002,-112.27000000000002,-112.27000000000002,-112.31000000000003,-112.31000000000003,-112.31000000000003,-112.31000000000003,-112.46000000000004,-112.46000000000004,-112.46000000000004,-112.46000000000004,-112.46000000000004,-112.46000000000004,-112.46000000000004,-111.95000000000003,-111.95000000000003,-111.95000000000003,-111.95000000000003,-111.95000000000003,-111.95000000000003,-111.95000000000003,-108.52000000000004,-108.52000000000004,-108.52000000000004,-108.52000000000004,-108.52000000000004,-106.06000000000003,-104.83000000000003,-104.59000000000003,-104.59000000000003,-104.59000000000003,-104.59000000000003,-104.59000000000003,-104.59000000000003,-104.59000000000003,-104.59000000000003,-105.16000000000003,-105.31000000000003,-105.31000000000003,-105.85000000000004,-105.85000000000004,-105.85000000000004,-106.94000000000004,-106.94000000000004,-106.94000000000004,-107.81000000000004,-107.81000000000004,-107.81000000000004,-107.81000000000004,-107.81000000000004,-107.81000000000004,-107.81000000000004,-107.49000000000004,-107.49000000000004,-107.49000000000004,-107.49000000000004,-105.80000000000004,-104.71000000000004,-104.71000000000004,-103.39000000000004,-103.39000000000004,-102.53000000000004,-102.53000000000004,-101.25000000000004,-101.25000000000004,-101.25000000000004,-100.54000000000005,-99.73000000000005,-99.73000000000005,-98.92000000000004,-98.92000000000004,-97.33100000000005,-97.33100000000005,-96.40100000000004,-96.40100000000004,-95.47100000000003,-93.54100000000003,-93.45100000000002,-93.34100000000002,-93.34100000000002,-93.34100000000002,-93.34100000000002,-92.86100000000002,-92.86100000000002,-92.86100000000002,-92.86100000000002,-93.15100000000001,-93.15100000000001,-93.15100000000001,-93.15100000000001,-93.15100000000001,-93.15100000000001,-93.15100000000001,-92.54100000000001,-92.54100000000001,-91.87100000000001,-91.87100000000001,-91.87100000000001,-91.87100000000001,-91.87100000000001,-91.87100000000001,-91.87100000000001,-91.87100000000001,-91.87100000000001,-90.09100000000001,-90.09100000000001,-90.09100000000001,-90.09100000000001,-90.09100000000001,-90.09100000000001,-90.09100000000001,-90.09100000000001,-89.921,-90.65100000000001,-90.65100000000001,-90.65100000000001,-90.65100000000001,-90.65100000000001,-91.83100000000002,-93.77100000000002,-93.77100000000002,-93.77100000000002,-95.26100000000002,-95.26100000000002,-95.26100000000002,-94.36100000000002,-94.36100000000002,-94.36100000000002,-94.36100000000002,-94.36100000000002,-94.36100000000002,-92.30100000000002,-90.97100000000002,-90.97100000000002,-90.97100000000002,-91.67100000000002,-91.67100000000002,-91.67100000000002,-91.67100000000002],\"type\":\"scatter\",\"xaxis\":\"x\",\"yaxis\":\"y\"},{\"mode\":\"lines\",\"name\":\"Reward\",\"opacity\":0.5,\"x\":[0,1,2,3,4,5,6,7,8,9,10,11,12,13,14,15,16,17,18,19,20,21,22,23,24,25,26,27,28,29,30,31,32,33,34,35,36,37,38,39,40,41,42,43,44,45,46,47,48,49,50,51,52,53,54,55,56,57,58,59,60,61,62,63,64,65,66,67,68,69,70,71,72,73,74,75,76,77,78,79,80,81,82,83,84,85,86,87,88,89,90,91,92,93,94,95,96,97,98,99,100,101,102,103,104,105,106,107,108,109,110,111,112,113,114,115,116,117,118,119,120,121,122,123,124,125,126,127,128,129,130,131,132,133,134,135,136,137,138,139,140,141,142,143,144,145,146,147,148,149,150,151,152,153,154,155,156,157,158,159,160,161,162,163,164,165,166,167,168,169,170,171,172,173,174,175,176,177,178,179,180,181,182,183,184,185,186,187,188,189,190,191,192,193,194,195,196,197,198,199,200,201,202,203,204,205,206,207,208,209,210,211,212,213,214,215,216,217,218,219,220,221,222,223,224,225,226,227,228,229,230,231,232,233,234,235,236,237,238,239,240,241,242,243,244,245,246,247,248,249,250,251,252,253,254,255,256,257,258,259,260,261,262,263,264,265,266,267,268,269,270,271,272,273,274,275,276,277,278,279,280,281,282,283,284,285,286,287,288,289,290,291,292,293,294,295,296,297,298,299,300,301,302,303,304,305,306,307,308,309,310,311,312,313,314,315,316,317,318,319,320,321,322,323,324,325,326,327,328,329,330,331,332,333,334,335,336,337,338,339,340,341,342,343,344,345,346,347,348,349,350,351,352,353,354,355,356,357,358,359,360,361,362,363,364,365,366,367,368,369,370,371,372,373,374,375,376,377,378,379,380,381,382,383,384,385,386,387,388,389,390,391,392,393,394,395,396,397,398,399,400,401,402,403,404,405,406,407,408,409,410,411,412,413,414,415,416,417,418,419,420,421,422,423,424,425,426,427,428,429,430,431,432,433,434,435,436,437,438,439,440,441,442,443,444,445,446,447,448,449,450,451,452,453,454,455,456,457,458,459,460,461,462,463,464,465,466,467,468,469,470,471,472,473,474,475,476,477,478,479,480,481,482,483,484,485,486,487,488,489,490,491,492,493,494,495,496,497,498],\"y\":[0,0,0,0,0,1.9699999999999989,1.0199999999999996,0,0,0,0,0.23999999999999844,0,0,0,0,0,0,0,0,0,0,0,0,0,3.7600000000000016,0,0,3.009999999999998,0,0,0,0,0,1.1700000000000017,0.25,0,0,0.35999999999999943,0,0,0,0,2.7699999999999996,1.1799999999999997,0,0.11999999999999744,0,0.16000000000000014,0,0,0,0,0,0,0,0,0,0,2.8599999999999994,0,0,0,4.099999999999998,0,0,4.779999999999998,3.6700000000000017,0,0,0,0,0,0,2.41,0.5500000000000007,0,0,-0.9500000000000028,0,0,-0.6499999999999986,0.6499999999999986,0,0,0,0,0,0,0,0,0,0,3.8000000000000007,0,0,3.2200000000000024,0,0,0.870000000000001,0,0,1.5,2.6400000000000006,0,0.7300000000000004,0.48999999999999844,0,0.5299999999999976,-0.6099999999999994,0,0,0.4599999999999973,0,0,0,0,3.4800000000000004,0,-0.03999999999999915,0,0,0,0,0,0,0,0,0,0,0,0.6600000000000001,0,0,0,0,0,0,0,-1.259999999999998,0,0,0,0,-0.4499999999999993,-0.5399999999999991,-1.5500000000000007,0,0,-1.370000000000001,0,0,-1.9800000000000004,-4.399999999999999,0,0,0,0,-4.850000000000001,-8.989999999999998,-8.3,-6.919999999999998,-5.740000000000002,0,-7.43,0,0,-6.630000000000003,0,0,-3.91,-7.599999999999998,0,0,0,0,0,0,-9.65,0,-10.25,0,0,-8.780000000000001,0,0,-7.890000000000001,0,0,-7.98,-7.710000000000001,0,-6.659999999999998,0,0,-5.09,-5.110000000000001,0,-5.369999999999999,0,-1.2499999999999982,0,0,0,0,-1.2100000000000009,-1.790000000000001,0,-2.8000000000000007,0,-0.2400000000000002,0,0,0,0,-0.5500000000000007,-0.14000000000000057,0,-1.2899999999999991,0.17999999999999972,-0.5299999999999994,0.21000000000000085,0,-1.540000000000001,0,0,-1.33,0,0.5199999999999996,0,0.11999999999999922,0.22000000000000064,0,0,-0.8399999999999999,0,-1.1600000000000001,0,-0.6000000000000014,0,0.5999999999999996,0,0.2599999999999998,0,0.5700000000000003,0,0,1.2800000000000011,0,0.9100000000000001,0,0,0,0,0,0,0,0,0,0,0,0,0,0,0,0,0,0,0,0,0,-0.4299999999999997,0,-0.14000000000000057,0,-0.4299999999999997,-0.9799999999999986,-0.6399999999999988,0,0,0,0,0,0,0,0,0,0,0,0,-1.990000000000002,0,-0.8899999999999988,-1.1199999999999992,0,0,0.05000000000000071,-0.17999999999999972,0.27999999999999936,0,0,0.5800000000000001,0,0,0,0,0,-0.7800000000000011,-0.6699999999999999,0,0,0,0,-0.03999999999999915,0,0,0,0,0,0,-0.019999999999999574,0.21999999999999886,-0.3100000000000005,0,0,0,0.7300000000000004,0,0,0,0,0,0,0,0.2400000000000002,0,0.0600000000000005,-0.2400000000000002,0,0,0,0,0,0,0.05999999999999872,0,0,0,0,0.08999999999999986,0,0,0,0.08000000000000007,0,0,0,0,0,0,0,-0.15000000000000036,0,-0.040000000000000924,0,0,0,-0.15000000000000036,0,0,0,0,0,0,0.5099999999999998,0,0,0,0,0,0,3.429999999999998,0,0,0,0,2.460000000000001,1.2300000000000004,0.240000000000002,0,0,0,0,0,0,0,-0.5700000000000003,-0.15000000000000213,0,-0.5400000000000027,0,0,-1.0899999999999999,0,0,-0.870000000000001,0,0,0,0,0,0,0.3200000000000003,0,0,0,1.6899999999999977,1.0899999999999999,0,1.3200000000000003,0,0.8599999999999994,0,1.2799999999999976,0,0,0.7100000000000009,0.8099999999999987,0,0.8100000000000023,0,1.5890000000000022,0,0.9299999999999997,0,0.9300000000000033,1.9299999999999997,0.08999999999999986,0.10999999999999943,0,0,0,0.4800000000000004,0,0,0,-0.28999999999999915,0,0,0,0,0,0,0.6099999999999994,0,0.6699999999999982,0,0,0,0,0,0,0,0,1.7799999999999976,0,0,0,0,0,0,0,0.16999999999999815,-0.7300000000000004,0,0,0,0,-1.1799999999999997,-1.9400000000000013,0,0,-1.490000000000002,0,0,0.9000000000000021,0,0,0,0,0,2.0600000000000023,1.3300000000000018,0,0,-0.6999999999999993,0,0,0],\"type\":\"scatter\",\"xaxis\":\"x\",\"yaxis\":\"y\"},{\"line\":{\"color\":\"black\"},\"mode\":\"lines\",\"name\":\"Dataset\",\"x\":[0,1,2,3,4,5,6,7,8,9,10,11,12,13,14,15,16,17,18,19,20,21,22,23,24,25,26,27,28,29,30,31,32,33,34,35,36,37,38,39,40,41,42,43,44,45,46,47,48,49,50,51,52,53,54,55,56,57,58,59,60,61,62,63,64,65,66,67,68,69,70,71,72,73,74,75,76,77,78,79,80,81,82,83,84,85,86,87,88,89,90,91,92,93,94,95,96,97,98,99,100,101,102,103,104,105,106,107,108,109,110,111,112,113,114,115,116,117,118,119,120,121,122,123,124,125,126,127,128,129,130,131,132,133,134,135,136,137,138,139,140,141,142,143,144,145,146,147,148,149,150,151,152,153,154,155,156,157,158,159,160,161,162,163,164,165,166,167,168,169,170,171,172,173,174,175,176,177,178,179,180,181,182,183,184,185,186,187,188,189,190,191,192,193,194,195,196,197,198,199,200,201,202,203,204,205,206,207,208,209,210,211,212,213,214,215,216,217,218,219,220,221,222,223,224,225,226,227,228,229,230,231,232,233,234,235,236,237,238,239,240,241,242,243,244,245,246,247,248,249,250,251,252,253,254,255,256,257,258,259,260,261,262,263,264,265,266,267,268,269,270,271,272,273,274,275,276,277,278,279,280,281,282,283,284,285,286,287,288,289,290,291,292,293,294,295,296,297,298,299,300,301,302,303,304,305,306,307,308,309,310,311,312,313,314,315,316,317,318,319,320,321,322,323,324,325,326,327,328,329,330,331,332,333,334,335,336,337,338,339,340,341,342,343,344,345,346,347,348,349,350,351,352,353,354,355,356,357,358,359,360,361,362,363,364,365,366,367,368,369,370,371,372,373,374,375,376,377,378,379,380,381,382,383,384,385,386,387,388,389,390,391,392,393,394,395,396,397,398,399,400,401,402,403,404,405,406,407,408,409,410,411,412,413,414,415,416,417,418,419,420,421,422,423,424,425,426,427,428,429,430,431,432,433,434,435,436,437,438,439,440,441,442,443,444,445,446,447,448,449,450,451,452,453,454,455,456,457,458,459,460,461,462,463,464,465,466,467,468,469,470,471,472,473,474,475,476,477,478,479,480,481,482,483,484,485,486,487,488,489,490,491,492,493,494,495,496,497,498],\"y\":[17.56,18.59,18.57,19.07,19.57,19.59,18.71,18.71,18.75,19.37,19.61,19.45,18.97,20.0,19.53,19.68,19.84,21.37,21.0,20.53,20.42,21.3,21.05,22.4,23.76,22.78,22.54,22.54,21.78,21.49,21.0,20.39,20.62,21.01,21.62,20.67,21.0,21.36,21.49,22.07,22.43,21.9,23.3,23.58,23.69,22.9,22.61,21.65,21.23,21.05,21.15,21.7,20.78,22.48,22.17,21.82,23.02,23.21,23.25,23.27,23.07,24.09,24.72,24.41,25.35,25.45,24.67,24.3,24.03,24.98,24.71,25.01,24.6,23.9,22.62,23.13,21.5,22.74,23.81,23.67,21.96,21.7,23.45,24.29,23.53,24.07,24.38,24.66,25.06,24.72,24.49,24.43,24.95,24.74,24.85,24.92,24.27,24.09,23.35,23.46,23.47,23.67,24.46,24.07,23.75,24.9,24.74,24.56,24.1,24.66,24.86,25.06,25.0,25.74,26.11,25.41,24.98,24.53,24.25,23.77,24.12,23.01,23.96,24.27,23.98,23.69,23.51,22.65,22.47,24.37,24.19,23.32,23.94,25.61,25.28,25.21,25.01,24.74,23.46,24.32,25.18,24.15,23.98,23.98,24.2,23.3,22.91,22.78,22.72,22.16,21.4,21.48,20.46,20.09,19.54,20.1,20.54,20.15,17.12,17.11,16.85,17.27,17.14,16.55,17.06,17.72,17.06,16.94,17.55,18.74,18.01,17.53,17.32,18.3,17.5,18.23,17.86,15.63,14.99,14.96,14.92,14.47,15.2,14.36,14.34,15.02,15.43,15.26,14.8,14.45,13.99,14.74,15.03,15.3,15.0,14.99,14.59,15.17,15.61,15.81,15.98,15.91,16.12,15.97,15.73,15.53,14.85,14.7,14.7,14.75,14.05,14.48,14.18,14.38,14.37,14.33,14.29,14.14,14.17,14.5,14.8,15.02,14.58,14.87,14.85,14.64,14.93,14.7,14.72,14.5,14.51,14.17,14.3,14.03,13.77,13.69,13.6,14.12,14.51,14.77,15.16,14.56,14.11,14.34,14.56,14.7,14.88,14.69,15.42,15.61,15.44,15.98,16.07,16.36,16.89,16.9,17.22,16.0,15.84,15.16,15.64,15.59,16.3,15.95,15.65,15.27,15.53,16.35,16.01,15.97,15.41,15.72,15.5,15.18,15.16,14.97,14.63,14.95,14.75,15.28,15.49,15.19,14.79,14.85,15.08,14.57,14.2,14.14,14.49,14.36,14.4,14.06,14.07,14.33,14.8,14.9,14.9,14.85,14.55,14.68,14.72,14.63,14.61,14.43,14.62,14.1,14.02,13.88,14.17,13.8,14.13,14.58,14.58,14.32,14.36,14.66,14.6,14.45,14.43,14.15,14.35,14.35,14.39,14.54,14.67,15.27,14.85,14.77,15.0,14.74,15.02,14.5,14.86,15.01,14.65,14.56,14.62,14.56,14.53,14.37,14.23,14.22,14.72,14.78,15.01,15.0,14.95,14.91,15.0,14.37,14.55,14.41,14.49,14.57,14.14,14.16,14.6,14.46,14.41,14.49,14.45,14.19,14.37,13.2,13.58,13.39,13.24,13.12,13.14,13.51,13.58,13.44,13.35,13.86,14.06,14.22,14.36,14.45,16.09,17.5,17.65,18.0,18.3,18.56,18.67,18.55,18.73,18.8,18.1,17.79,17.85,18.24,18.32,18.88,18.28,18.1,17.95,17.45,17.31,17.6,17.64,17.15,16.79,17.18,17.45,17.77,17.42,18.27,18.19,19.12,19.14,19.2,19.06,18.78,19.09,19.29,18.73,19.06,19.09,19.27,19.13,19.87,20.4,19.89,19.58,19.85,19.9,19.61,19.87,20.9,20.859,20.61,20.8,20.79,20.51,21.54,20.99,20.72,20.28,21.08,20.73,21.21,20.38,19.63,19.93,19.64,19.66,19.7,20.18,19.97,19.71,20.34,20.32,21.01,21.68,20.88,20.86,21.05,21.48,22.19,22.61,22.85,22.95,22.83,22.5,22.74,22.37,22.18,22.56,23.1,22.21,22.36,22.12,22.88,22.58,22.08,22.43,21.32,20.43,20.69,21.3,20.72,20.79,20.57,21.69,22.29,23.22,23.06,23.45,23.68,24.35,24.55,24.82,23.25,22.75,23.22,23.18,22.76,22.99],\"type\":\"scatter\",\"xaxis\":\"x2\",\"yaxis\":\"y2\"},{\"mode\":\"markers\",\"name\":\"stay\",\"opacity\":1.0,\"x\":[1,2,4,9,16,21,22,23,27,29,31,41,42,49,53,58,60,61,62,65,68,70,72,76,79,80,83,86,87,88,89,91,97,101,104,107,110,114,118,121,123,124,127,129,130,132,133,137,138,140,141,142,155,163,166,169,172,174,176,177,184,185,188,194,199,201,202,207,209,211,212,222,227,241,243,245,246,248,250,251,252,253,254,257,260,263,265,267,269,270,272,274,279,280,281,283,287,289,291,294,300,302,303,304,306,310,312,314,315,317,318,319,323,325,329,330,331,335,338,339,341,342,347,355,358,360,362,368,369,371,372,377,378,382,383,390,395,398,403,404,407,409,413,414,424,434,439,440,444,448,450,452,456,457,459,461,463,466,468,469,470,474,475,476,477,480,481,484,488,494,497,498],\"y\":[18.59,18.57,19.57,19.37,19.84,21.3,21.05,22.4,22.54,21.49,20.39,21.9,23.3,21.05,22.48,23.25,23.07,24.09,24.72,25.45,24.03,24.71,24.6,21.5,23.67,21.96,24.29,24.38,24.66,25.06,24.72,24.43,24.09,23.67,23.75,24.56,24.86,26.11,24.25,23.01,24.27,23.98,22.65,24.37,24.19,23.94,25.61,24.74,23.46,25.18,24.15,23.98,20.1,16.55,17.06,18.74,17.32,17.5,17.86,15.63,14.34,15.02,14.8,15.0,15.81,15.91,16.12,14.7,14.75,14.48,14.18,14.58,14.7,14.56,14.34,14.7,14.88,15.42,15.44,15.98,16.07,16.36,16.89,16.0,15.64,15.95,15.27,16.35,15.97,15.41,15.5,15.16,15.28,15.49,15.19,14.85,14.14,14.36,14.06,14.8,14.72,14.61,14.43,14.62,14.02,14.13,14.58,14.36,14.66,14.45,14.43,14.15,14.54,15.27,14.74,15.02,14.5,14.56,14.53,14.37,14.22,14.72,14.91,14.16,14.41,14.45,14.37,13.14,13.51,13.44,13.35,14.45,16.09,18.3,18.56,17.85,18.1,17.31,17.18,17.45,18.27,19.12,18.78,19.09,19.58,20.51,21.08,20.73,19.93,20.18,19.71,20.32,20.86,21.05,22.19,22.85,22.83,22.37,22.56,23.1,22.21,22.58,22.08,22.43,21.32,21.3,20.72,21.69,23.45,22.75,22.76,22.99],\"type\":\"scatter\",\"xaxis\":\"x2\",\"yaxis\":\"y2\"},{\"mode\":\"markers\",\"name\":\"buy\",\"opacity\":1.0,\"x\":[0,3,10,14,15,17,18,19,20,24,26,30,32,33,36,37,39,40,45,47,50,51,52,54,55,56,57,64,69,71,73,77,84,85,90,92,94,95,98,100,111,113,115,116,120,122,125,126,128,134,135,136,143,147,148,150,151,154,156,157,165,168,173,175,179,181,182,187,191,193,197,203,204,213,214,217,224,225,229,232,233,235,237,239,259,261,262,264,266,268,278,282,284,285,286,288,295,299,305,309,311,316,324,328,332,333,343,348,352,357,359,366,373,376,379,380,384,385,389,391,392,393,394,400,401,406,408,410,411,415,418,420,422,425,428,430,432,441,445,451,454,458,460,462,465,467,471,483,486,487,489,490,493,496],\"y\":[17.56,19.07,19.61,19.53,19.68,21.37,21.0,20.53,20.42,23.76,22.54,21.0,20.62,21.01,21.0,21.36,22.07,22.43,22.9,21.65,21.15,21.7,20.78,22.17,21.82,23.02,23.21,25.35,24.98,25.01,23.9,22.74,23.53,24.07,24.49,24.95,24.85,24.92,23.35,23.47,25.06,25.74,25.41,24.98,24.12,23.96,23.69,23.51,22.47,25.28,25.21,25.01,23.98,22.78,22.72,21.4,21.48,19.54,20.54,20.15,17.72,17.55,18.3,18.23,14.96,14.47,15.2,15.26,14.74,15.3,15.17,15.97,15.73,14.38,14.37,14.14,14.85,14.64,14.5,14.3,14.03,13.69,14.12,14.77,15.16,15.59,16.3,15.65,15.53,16.01,14.75,14.79,15.08,14.57,14.2,14.49,14.9,14.68,14.1,13.8,14.58,14.6,14.67,15.0,14.86,15.01,14.78,15.0,14.49,14.46,14.49,13.24,13.86,14.36,17.5,17.65,18.67,18.55,17.79,18.24,18.32,18.88,18.28,17.64,17.15,17.42,18.19,19.14,19.2,19.29,19.09,19.13,20.4,19.85,19.87,20.859,20.8,21.21,19.64,20.34,21.68,21.48,22.61,22.95,22.74,22.18,22.36,20.57,23.22,23.06,23.68,24.35,23.25,23.18],\"type\":\"scatter\",\"xaxis\":\"x2\",\"yaxis\":\"y2\"},{\"mode\":\"markers\",\"name\":\"sell\",\"opacity\":1.0,\"x\":[5,6,7,8,11,12,13,25,28,34,35,38,43,44,46,48,59,63,66,67,74,75,78,81,82,93,96,99,102,103,105,106,108,109,112,117,119,131,139,144,145,146,149,152,153,158,159,160,161,162,164,167,170,171,178,180,183,186,189,190,192,195,196,198,200,205,206,208,210,215,216,218,219,220,221,223,226,228,230,231,234,236,238,240,242,244,247,249,255,256,258,271,273,275,276,277,290,292,293,296,297,298,301,307,308,313,320,321,322,326,327,334,336,337,340,344,345,346,349,350,351,353,354,356,361,363,364,365,367,370,374,375,381,386,387,388,396,397,399,402,405,412,416,417,419,421,423,426,427,429,431,433,435,436,437,438,442,443,446,447,449,453,455,464,472,473,478,479,482,485,491,492,495],\"y\":[19.59,18.71,18.71,18.75,19.45,18.97,20.0,22.78,21.78,21.62,20.67,21.49,23.58,23.69,22.61,21.23,23.27,24.41,24.67,24.3,22.62,23.13,23.81,21.7,23.45,24.74,24.27,23.46,24.46,24.07,24.9,24.74,24.1,24.66,25.0,24.53,23.77,23.32,24.32,24.2,23.3,22.91,22.16,20.46,20.09,17.12,17.11,16.85,17.27,17.14,17.06,16.94,18.01,17.53,14.99,14.92,14.36,15.43,14.45,13.99,15.03,14.99,14.59,15.61,15.98,15.53,14.85,14.7,14.05,14.33,14.29,14.17,14.5,14.8,15.02,14.87,14.93,14.72,14.51,14.17,13.77,13.6,14.51,15.16,14.11,14.56,14.69,15.61,16.9,17.22,15.84,15.72,15.18,14.97,14.63,14.95,14.4,14.07,14.33,14.9,14.85,14.55,14.63,13.88,14.17,14.32,14.35,14.35,14.39,14.85,14.77,14.65,14.62,14.56,14.23,15.01,15.0,14.95,14.37,14.55,14.41,14.57,14.14,14.6,14.19,13.2,13.58,13.39,13.12,13.58,14.06,14.22,18.0,18.73,18.8,18.1,17.95,17.45,17.6,16.79,17.77,19.06,18.73,19.06,19.27,19.87,19.89,19.9,19.61,20.9,20.61,20.79,21.54,20.99,20.72,20.28,20.38,19.63,19.66,19.7,19.97,21.01,20.88,22.5,22.12,22.88,20.43,20.69,20.79,22.29,24.55,24.82,23.22],\"type\":\"scatter\",\"xaxis\":\"x2\",\"yaxis\":\"y2\"}],                        {\"template\":{\"data\":{\"histogram2dcontour\":[{\"type\":\"histogram2dcontour\",\"colorbar\":{\"outlinewidth\":0,\"ticks\":\"\"},\"colorscale\":[[0.0,\"#0d0887\"],[0.1111111111111111,\"#46039f\"],[0.2222222222222222,\"#7201a8\"],[0.3333333333333333,\"#9c179e\"],[0.4444444444444444,\"#bd3786\"],[0.5555555555555556,\"#d8576b\"],[0.6666666666666666,\"#ed7953\"],[0.7777777777777778,\"#fb9f3a\"],[0.8888888888888888,\"#fdca26\"],[1.0,\"#f0f921\"]]}],\"choropleth\":[{\"type\":\"choropleth\",\"colorbar\":{\"outlinewidth\":0,\"ticks\":\"\"}}],\"histogram2d\":[{\"type\":\"histogram2d\",\"colorbar\":{\"outlinewidth\":0,\"ticks\":\"\"},\"colorscale\":[[0.0,\"#0d0887\"],[0.1111111111111111,\"#46039f\"],[0.2222222222222222,\"#7201a8\"],[0.3333333333333333,\"#9c179e\"],[0.4444444444444444,\"#bd3786\"],[0.5555555555555556,\"#d8576b\"],[0.6666666666666666,\"#ed7953\"],[0.7777777777777778,\"#fb9f3a\"],[0.8888888888888888,\"#fdca26\"],[1.0,\"#f0f921\"]]}],\"heatmap\":[{\"type\":\"heatmap\",\"colorbar\":{\"outlinewidth\":0,\"ticks\":\"\"},\"colorscale\":[[0.0,\"#0d0887\"],[0.1111111111111111,\"#46039f\"],[0.2222222222222222,\"#7201a8\"],[0.3333333333333333,\"#9c179e\"],[0.4444444444444444,\"#bd3786\"],[0.5555555555555556,\"#d8576b\"],[0.6666666666666666,\"#ed7953\"],[0.7777777777777778,\"#fb9f3a\"],[0.8888888888888888,\"#fdca26\"],[1.0,\"#f0f921\"]]}],\"heatmapgl\":[{\"type\":\"heatmapgl\",\"colorbar\":{\"outlinewidth\":0,\"ticks\":\"\"},\"colorscale\":[[0.0,\"#0d0887\"],[0.1111111111111111,\"#46039f\"],[0.2222222222222222,\"#7201a8\"],[0.3333333333333333,\"#9c179e\"],[0.4444444444444444,\"#bd3786\"],[0.5555555555555556,\"#d8576b\"],[0.6666666666666666,\"#ed7953\"],[0.7777777777777778,\"#fb9f3a\"],[0.8888888888888888,\"#fdca26\"],[1.0,\"#f0f921\"]]}],\"contourcarpet\":[{\"type\":\"contourcarpet\",\"colorbar\":{\"outlinewidth\":0,\"ticks\":\"\"}}],\"contour\":[{\"type\":\"contour\",\"colorbar\":{\"outlinewidth\":0,\"ticks\":\"\"},\"colorscale\":[[0.0,\"#0d0887\"],[0.1111111111111111,\"#46039f\"],[0.2222222222222222,\"#7201a8\"],[0.3333333333333333,\"#9c179e\"],[0.4444444444444444,\"#bd3786\"],[0.5555555555555556,\"#d8576b\"],[0.6666666666666666,\"#ed7953\"],[0.7777777777777778,\"#fb9f3a\"],[0.8888888888888888,\"#fdca26\"],[1.0,\"#f0f921\"]]}],\"surface\":[{\"type\":\"surface\",\"colorbar\":{\"outlinewidth\":0,\"ticks\":\"\"},\"colorscale\":[[0.0,\"#0d0887\"],[0.1111111111111111,\"#46039f\"],[0.2222222222222222,\"#7201a8\"],[0.3333333333333333,\"#9c179e\"],[0.4444444444444444,\"#bd3786\"],[0.5555555555555556,\"#d8576b\"],[0.6666666666666666,\"#ed7953\"],[0.7777777777777778,\"#fb9f3a\"],[0.8888888888888888,\"#fdca26\"],[1.0,\"#f0f921\"]]}],\"mesh3d\":[{\"type\":\"mesh3d\",\"colorbar\":{\"outlinewidth\":0,\"ticks\":\"\"}}],\"scatter\":[{\"fillpattern\":{\"fillmode\":\"overlay\",\"size\":10,\"solidity\":0.2},\"type\":\"scatter\"}],\"parcoords\":[{\"type\":\"parcoords\",\"line\":{\"colorbar\":{\"outlinewidth\":0,\"ticks\":\"\"}}}],\"scatterpolargl\":[{\"type\":\"scatterpolargl\",\"marker\":{\"colorbar\":{\"outlinewidth\":0,\"ticks\":\"\"}}}],\"bar\":[{\"error_x\":{\"color\":\"#2a3f5f\"},\"error_y\":{\"color\":\"#2a3f5f\"},\"marker\":{\"line\":{\"color\":\"#E5ECF6\",\"width\":0.5},\"pattern\":{\"fillmode\":\"overlay\",\"size\":10,\"solidity\":0.2}},\"type\":\"bar\"}],\"scattergeo\":[{\"type\":\"scattergeo\",\"marker\":{\"colorbar\":{\"outlinewidth\":0,\"ticks\":\"\"}}}],\"scatterpolar\":[{\"type\":\"scatterpolar\",\"marker\":{\"colorbar\":{\"outlinewidth\":0,\"ticks\":\"\"}}}],\"histogram\":[{\"marker\":{\"pattern\":{\"fillmode\":\"overlay\",\"size\":10,\"solidity\":0.2}},\"type\":\"histogram\"}],\"scattergl\":[{\"type\":\"scattergl\",\"marker\":{\"colorbar\":{\"outlinewidth\":0,\"ticks\":\"\"}}}],\"scatter3d\":[{\"type\":\"scatter3d\",\"line\":{\"colorbar\":{\"outlinewidth\":0,\"ticks\":\"\"}},\"marker\":{\"colorbar\":{\"outlinewidth\":0,\"ticks\":\"\"}}}],\"scattermapbox\":[{\"type\":\"scattermapbox\",\"marker\":{\"colorbar\":{\"outlinewidth\":0,\"ticks\":\"\"}}}],\"scatterternary\":[{\"type\":\"scatterternary\",\"marker\":{\"colorbar\":{\"outlinewidth\":0,\"ticks\":\"\"}}}],\"scattercarpet\":[{\"type\":\"scattercarpet\",\"marker\":{\"colorbar\":{\"outlinewidth\":0,\"ticks\":\"\"}}}],\"carpet\":[{\"aaxis\":{\"endlinecolor\":\"#2a3f5f\",\"gridcolor\":\"white\",\"linecolor\":\"white\",\"minorgridcolor\":\"white\",\"startlinecolor\":\"#2a3f5f\"},\"baxis\":{\"endlinecolor\":\"#2a3f5f\",\"gridcolor\":\"white\",\"linecolor\":\"white\",\"minorgridcolor\":\"white\",\"startlinecolor\":\"#2a3f5f\"},\"type\":\"carpet\"}],\"table\":[{\"cells\":{\"fill\":{\"color\":\"#EBF0F8\"},\"line\":{\"color\":\"white\"}},\"header\":{\"fill\":{\"color\":\"#C8D4E3\"},\"line\":{\"color\":\"white\"}},\"type\":\"table\"}],\"barpolar\":[{\"marker\":{\"line\":{\"color\":\"#E5ECF6\",\"width\":0.5},\"pattern\":{\"fillmode\":\"overlay\",\"size\":10,\"solidity\":0.2}},\"type\":\"barpolar\"}],\"pie\":[{\"automargin\":true,\"type\":\"pie\"}]},\"layout\":{\"autotypenumbers\":\"strict\",\"colorway\":[\"#636efa\",\"#EF553B\",\"#00cc96\",\"#ab63fa\",\"#FFA15A\",\"#19d3f3\",\"#FF6692\",\"#B6E880\",\"#FF97FF\",\"#FECB52\"],\"font\":{\"color\":\"#2a3f5f\"},\"hovermode\":\"closest\",\"hoverlabel\":{\"align\":\"left\"},\"paper_bgcolor\":\"white\",\"plot_bgcolor\":\"#E5ECF6\",\"polar\":{\"bgcolor\":\"#E5ECF6\",\"angularaxis\":{\"gridcolor\":\"white\",\"linecolor\":\"white\",\"ticks\":\"\"},\"radialaxis\":{\"gridcolor\":\"white\",\"linecolor\":\"white\",\"ticks\":\"\"}},\"ternary\":{\"bgcolor\":\"#E5ECF6\",\"aaxis\":{\"gridcolor\":\"white\",\"linecolor\":\"white\",\"ticks\":\"\"},\"baxis\":{\"gridcolor\":\"white\",\"linecolor\":\"white\",\"ticks\":\"\"},\"caxis\":{\"gridcolor\":\"white\",\"linecolor\":\"white\",\"ticks\":\"\"}},\"coloraxis\":{\"colorbar\":{\"outlinewidth\":0,\"ticks\":\"\"}},\"colorscale\":{\"sequential\":[[0.0,\"#0d0887\"],[0.1111111111111111,\"#46039f\"],[0.2222222222222222,\"#7201a8\"],[0.3333333333333333,\"#9c179e\"],[0.4444444444444444,\"#bd3786\"],[0.5555555555555556,\"#d8576b\"],[0.6666666666666666,\"#ed7953\"],[0.7777777777777778,\"#fb9f3a\"],[0.8888888888888888,\"#fdca26\"],[1.0,\"#f0f921\"]],\"sequentialminus\":[[0.0,\"#0d0887\"],[0.1111111111111111,\"#46039f\"],[0.2222222222222222,\"#7201a8\"],[0.3333333333333333,\"#9c179e\"],[0.4444444444444444,\"#bd3786\"],[0.5555555555555556,\"#d8576b\"],[0.6666666666666666,\"#ed7953\"],[0.7777777777777778,\"#fb9f3a\"],[0.8888888888888888,\"#fdca26\"],[1.0,\"#f0f921\"]],\"diverging\":[[0,\"#8e0152\"],[0.1,\"#c51b7d\"],[0.2,\"#de77ae\"],[0.3,\"#f1b6da\"],[0.4,\"#fde0ef\"],[0.5,\"#f7f7f7\"],[0.6,\"#e6f5d0\"],[0.7,\"#b8e186\"],[0.8,\"#7fbc41\"],[0.9,\"#4d9221\"],[1,\"#276419\"]]},\"xaxis\":{\"gridcolor\":\"white\",\"linecolor\":\"white\",\"ticks\":\"\",\"title\":{\"standoff\":15},\"zerolinecolor\":\"white\",\"automargin\":true,\"zerolinewidth\":2},\"yaxis\":{\"gridcolor\":\"white\",\"linecolor\":\"white\",\"ticks\":\"\",\"title\":{\"standoff\":15},\"zerolinecolor\":\"white\",\"automargin\":true,\"zerolinewidth\":2},\"scene\":{\"xaxis\":{\"backgroundcolor\":\"#E5ECF6\",\"gridcolor\":\"white\",\"linecolor\":\"white\",\"showbackground\":true,\"ticks\":\"\",\"zerolinecolor\":\"white\",\"gridwidth\":2},\"yaxis\":{\"backgroundcolor\":\"#E5ECF6\",\"gridcolor\":\"white\",\"linecolor\":\"white\",\"showbackground\":true,\"ticks\":\"\",\"zerolinecolor\":\"white\",\"gridwidth\":2},\"zaxis\":{\"backgroundcolor\":\"#E5ECF6\",\"gridcolor\":\"white\",\"linecolor\":\"white\",\"showbackground\":true,\"ticks\":\"\",\"zerolinecolor\":\"white\",\"gridwidth\":2}},\"shapedefaults\":{\"line\":{\"color\":\"#2a3f5f\"}},\"annotationdefaults\":{\"arrowcolor\":\"#2a3f5f\",\"arrowhead\":0,\"arrowwidth\":1},\"geo\":{\"bgcolor\":\"white\",\"landcolor\":\"#E5ECF6\",\"subunitcolor\":\"white\",\"showland\":true,\"showlakes\":true,\"lakecolor\":\"white\"},\"title\":{\"x\":0.05},\"mapbox\":{\"style\":\"light\"}}},\"xaxis\":{\"anchor\":\"y\",\"domain\":[0.0,1.0],\"matches\":\"x2\",\"showticklabels\":false,\"title\":{\"text\":\"Step\"}},\"yaxis\":{\"anchor\":\"x\",\"domain\":[0.575,1.0]},\"xaxis2\":{\"anchor\":\"y2\",\"domain\":[0.0,1.0],\"title\":{\"text\":\"Step\"}},\"yaxis2\":{\"anchor\":\"x2\",\"domain\":[0.0,0.425]}},                        {\"responsive\": true}                    ).then(function(){\n",
              "                            \n",
              "var gd = document.getElementById('c8664747-520f-4a7b-bd82-f6ceb4f8dfc3');\n",
              "var x = new MutationObserver(function (mutations, observer) {{\n",
              "        var display = window.getComputedStyle(gd).display;\n",
              "        if (!display || display === 'none') {{\n",
              "            console.log([gd, 'removed!']);\n",
              "            Plotly.purge(gd);\n",
              "            observer.disconnect();\n",
              "        }}\n",
              "}});\n",
              "\n",
              "// Listen for the removal of the full notebook cells\n",
              "var notebookContainer = gd.closest('#notebook-container');\n",
              "if (notebookContainer) {{\n",
              "    x.observe(notebookContainer, {childList: true});\n",
              "}}\n",
              "\n",
              "// Listen for the clearing of the current output cell\n",
              "var outputEl = gd.closest('.output');\n",
              "if (outputEl) {{\n",
              "    x.observe(outputEl, {childList: true});\n",
              "}}\n",
              "\n",
              "                        })                };                            </script>        </div>\n",
              "</body>\n",
              "</html>"
            ]
          },
          "metadata": {}
        }
      ]
    },
    {
      "cell_type": "code",
      "source": [
        "\n",
        "# Realiza pruebas del modelo entrenado en el tercer experimento (dql_agent_exp3) en el entorno del tercer experimento (entorno_exp3)\n",
        "# con un valor de epsilon de 0.01\n",
        "pev, rev, history = test_model(agent=dql_agent_exp3, env=entorno_exp3, epsilon=0.01)"
      ],
      "metadata": {
        "colab": {
          "base_uri": "https://localhost:8080/"
        },
        "id": "UjOknjMVpvuS",
        "outputId": "b469b789-54e4-4ec5-863b-a026f310477e"
      },
      "execution_count": 79,
      "outputs": [
        {
          "output_type": "stream",
          "name": "stderr",
          "text": [
            "<ipython-input-47-04752e11e2c3>:73: FutureWarning:\n",
            "\n",
            "Series.__getitem__ treating keys as positions is deprecated. In a future version, integer keys will always be treated as labels (consistent with DataFrame behavior). To access a value by position, use `ser.iloc[pos]`\n",
            "\n",
            "<ipython-input-47-04752e11e2c3>:91: FutureWarning:\n",
            "\n",
            "Series.__getitem__ treating keys as positions is deprecated. In a future version, integer keys will always be treated as labels (consistent with DataFrame behavior). To access a value by position, use `ser.iloc[pos]`\n",
            "\n",
            "<ipython-input-47-04752e11e2c3>:27: FutureWarning:\n",
            "\n",
            "Series.__getitem__ treating keys as positions is deprecated. In a future version, integer keys will always be treated as labels (consistent with DataFrame behavior). To access a value by position, use `ser.iloc[pos]`\n",
            "\n"
          ]
        }
      ]
    },
    {
      "cell_type": "code",
      "source": [
        "# Crea una lista de valores de x para el gráfico basada en la longitud de la serie de datos de la evolución de beneficios (pev)\n",
        "x_list = np.arange(len(pev))\n",
        "\n",
        "# Crea una figura con dos subgráficos (rows=2, cols=1) con ejes x compartidos (shared_xaxes=True)\n",
        "fig1 = make_subplots(rows=2, cols=1, shared_xaxes=True)\n",
        "\n",
        "# Añade un gráfico de línea para la evolución de los beneficios (pev) al primer subgráfico\n",
        "fig1.add_trace(go.Scatter(x=x_list, y=pev, mode='lines', name=\"Profit Evolution\",\n",
        "                          opacity=1), row=1, col=1)\n",
        "# Añade un gráfico de línea para las recompensas (rev) al primer subgráfico\n",
        "fig1.add_trace(go.Scatter(x=x_list, y=rev, mode='lines', name=\"Reward\",\n",
        "                          opacity=0.5), row=1, col=1)\n",
        "\n",
        "# Convierte la lista de tuplas en un arreglo numpy para facilitar el acceso a los datos\n",
        "data_array = np.array([his[0] for his in history])\n",
        "# Convierte la lista de tuplas en un arreglo numpy para facilitar el acceso a las acciones realizadas\n",
        "action_list = np.array([his[1] for his in history])\n",
        "\n",
        "# Filtra los índices\n",
        "stay_indices = action_list == 'Stay'\n",
        "buy_indices = action_list == 'Buy'\n",
        "sell_indices = action_list == 'Sell'\n",
        "\n",
        "# Añade una serie de líneas para mostrar el conjunto de datos al segundo subgráfico\n",
        "fig1.add_trace(go.Scatter(x=x_list, y=data_array, name=\"Dataset\", mode=\"lines\",\n",
        "                          line=dict(color=\"black\")), row=2, col=1)\n",
        "# Añade una serie de puntos para mostrar las posiciones donde la acción fue 'Stay' al segundo subgráfico\n",
        "fig1.add_trace(go.Scatter(x=x_list[stay_indices], y=data_array[stay_indices],\n",
        "                          mode='markers', name=\"stay\", opacity=1.0), row=2, col=1)\n",
        "# Añade una serie de puntos para mostrar las posiciones donde la acción fue 'Buy' al segundo subgráfico\n",
        "fig1.add_trace(go.Scatter(x=x_list[buy_indices], y=data_array[buy_indices],\n",
        "                          mode='markers', name=\"buy\", opacity=1.0), row=2, col=1)\n",
        "# Añade una serie de puntos para mostrar las posiciones donde la acción fue 'Sell' al segundo subgráfico\n",
        "fig1.add_trace(go.Scatter(x=x_list[sell_indices], y=data_array[sell_indices],\n",
        "                          mode='markers', name=\"sell\", opacity=1.0), row=2, col=1)\n",
        "\n",
        "fig1.update_xaxes(title_text=\"Step\")\n",
        "fig1.show()\n",
        "\n",
        "\n",
        "\"\"\"\n",
        "Este bloque de código genera un gráfico con dos subgráficos.\n",
        "En el primer subgráfico se muestra la evolución de los beneficios (Profit Evolution) y las recompensas (Reward) a lo largo del tiempo.\n",
        "En el segundo subgráfico se muestra el conjunto de datos junto con los puntos donde el agente decidió quedarse ('Stay'), comprar ('Buy') o vender ('Sell').\n",
        "\n",
        "\"\"\""
      ],
      "metadata": {
        "colab": {
          "base_uri": "https://localhost:8080/",
          "height": 542
        },
        "id": "9PS3Cwd8pzAE",
        "outputId": "b27d4b2d-3222-4e19-cb10-bf74d6d5aea6"
      },
      "execution_count": 80,
      "outputs": [
        {
          "output_type": "display_data",
          "data": {
            "text/html": [
              "<html>\n",
              "<head><meta charset=\"utf-8\" /></head>\n",
              "<body>\n",
              "    <div>            <script src=\"https://cdnjs.cloudflare.com/ajax/libs/mathjax/2.7.5/MathJax.js?config=TeX-AMS-MML_SVG\"></script><script type=\"text/javascript\">if (window.MathJax && window.MathJax.Hub && window.MathJax.Hub.Config) {window.MathJax.Hub.Config({SVG: {font: \"STIX-Web\"}});}</script>                <script type=\"text/javascript\">window.PlotlyConfig = {MathJaxConfig: 'local'};</script>\n",
              "        <script charset=\"utf-8\" src=\"https://cdn.plot.ly/plotly-2.24.1.min.js\"></script>                <div id=\"9676e7f1-a01c-49d0-8338-e3186d399fdb\" class=\"plotly-graph-div\" style=\"height:525px; width:100%;\"></div>            <script type=\"text/javascript\">                                    window.PLOTLYENV=window.PLOTLYENV || {};                                    if (document.getElementById(\"9676e7f1-a01c-49d0-8338-e3186d399fdb\")) {                    Plotly.newPlot(                        \"9676e7f1-a01c-49d0-8338-e3186d399fdb\",                        [{\"mode\":\"lines\",\"name\":\"Profit Evolution\",\"opacity\":1,\"x\":[0,1,2,3,4,5,6,7,8,9,10,11,12,13,14,15,16,17,18,19,20,21,22,23,24,25,26,27,28,29,30,31,32,33,34,35,36,37,38,39,40,41,42,43,44,45,46,47,48,49,50,51,52,53,54,55,56,57,58,59,60,61,62,63,64,65,66,67,68,69,70,71,72,73,74,75,76,77,78,79,80,81,82,83,84,85,86,87,88,89,90,91,92,93,94,95,96,97,98,99,100,101,102,103,104,105,106,107,108,109,110,111,112,113,114,115,116,117,118,119,120,121,122,123,124,125,126,127,128,129,130,131,132,133,134,135,136,137,138,139,140,141,142,143,144,145,146,147,148,149,150,151,152,153,154,155,156,157,158,159,160,161,162,163,164,165,166,167,168,169,170,171,172,173,174,175,176,177,178,179,180,181,182,183,184,185,186,187,188,189,190,191,192,193,194,195,196,197,198,199,200,201,202,203,204,205,206,207,208,209,210,211,212,213,214,215,216,217,218,219,220,221,222,223,224,225,226,227,228,229,230,231,232,233,234,235,236,237,238,239,240,241,242,243,244,245,246,247,248,249,250,251,252,253,254,255,256,257,258,259,260,261,262,263,264,265,266,267,268,269,270,271,272,273,274,275,276,277,278,279,280,281,282,283,284,285,286,287,288,289,290,291,292,293,294,295,296,297,298,299,300,301,302,303,304,305,306,307,308,309,310,311,312,313,314,315,316,317,318,319,320,321,322,323,324,325,326,327,328,329,330,331,332,333,334,335,336,337,338,339,340,341,342,343,344,345,346,347,348,349,350,351,352,353,354,355,356,357,358,359,360,361,362,363,364,365,366,367,368,369,370,371,372,373,374,375,376,377,378,379,380,381,382,383,384,385,386,387,388,389,390,391,392,393,394,395,396,397,398,399,400,401,402,403,404,405,406,407,408,409,410,411,412,413,414,415,416,417,418,419,420,421,422,423,424,425,426,427,428,429,430,431,432,433,434,435,436,437,438,439,440,441,442,443,444,445,446,447,448,449,450,451,452,453,454,455,456,457,458,459,460,461,462,463,464,465,466,467,468,469,470,471,472,473,474,475,476,477,478,479,480,481,482,483,484,485,486,487,488,489,490,491,492,493,494,495,496,497,498],\"y\":[0,0,0.9899999999999984,0.9899999999999984,0.9899999999999984,0.9899999999999984,3.0199999999999996,2.66,2.66,1.8399999999999999,1.8399999999999999,1.8399999999999999,1.8399999999999999,2.099999999999998,2.099999999999998,2.099999999999998,2.099999999999998,2.099999999999998,2.099999999999998,2.099999999999998,2.099999999999998,2.099999999999998,2.099999999999998,3.539999999999999,3.539999999999999,7.850000000000001,7.850000000000001,7.850000000000001,7.850000000000001,7.850000000000001,7.850000000000001,7.850000000000001,7.850000000000001,7.850000000000001,7.850000000000001,7.850000000000001,7.850000000000001,7.850000000000001,9.21,11.169999999999998,11.169999999999998,13.919999999999998,13.919999999999998,15.849999999999998,15.849999999999998,18.54,20.909999999999997,20.979999999999997,20.979999999999997,20.72,21.15,21.15,21.839999999999996,21.839999999999996,21.839999999999996,21.839999999999996,21.839999999999996,21.839999999999996,24.049999999999997,24.049999999999997,24.049999999999997,24.049999999999997,24.049999999999997,24.049999999999997,24.049999999999997,24.049999999999997,24.049999999999997,24.049999999999997,24.049999999999997,24.049999999999997,24.049999999999997,24.049999999999997,26.99,26.99,26.99,26.99,26.99,26.99,26.99,26.99,26.99,26.99,26.79,28.59,28.59,30.970000000000002,32.56,32.56,35.05,36.86,36.86,36.86,36.86,36.86,36.86,36.86,36.86,36.86,35.599999999999994,35.599999999999994,35.599999999999994,35.599999999999994,35.599999999999994,34.61,34.65,34.65,34.65,34.65,34.65,34.65,34.65,34.91,34.91,34.91,34.91,37.12,37.12,37.12,37.12,37.12,37.12,37.12,37.12,37.12,37.12,38.48,38.48,38.48,38.48,37.81999999999999,40.69,41.07,42.43,42.43,42.43,42.99,42.99,42.99,42.99,42.99,42.99,42.99,42.99,42.480000000000004,42.480000000000004,42.480000000000004,42.480000000000004,42.480000000000004,40.99000000000001,40.040000000000006,40.040000000000006,37.690000000000005,34.27000000000001,30.170000000000012,26.16000000000001,21.04000000000001,21.04000000000001,21.04000000000001,21.04000000000001,21.04000000000001,21.04000000000001,12.890000000000011,12.890000000000011,12.890000000000011,12.890000000000011,12.890000000000011,5.20000000000001,-2.2699999999999925,-9.449999999999992,-9.449999999999992,-9.449999999999992,-9.449999999999992,-9.449999999999992,-9.449999999999992,-9.449999999999992,-9.449999999999992,-9.449999999999992,-15.279999999999994,-15.279999999999994,-15.279999999999994,-15.279999999999994,-15.279999999999994,-15.279999999999994,-15.279999999999994,-15.279999999999994,-24.879999999999995,-24.879999999999995,-24.879999999999995,-24.879999999999995,-35.28999999999999,-35.28999999999999,-35.28999999999999,-35.28999999999999,-35.28999999999999,-44.99999999999999,-44.99999999999999,-44.99999999999999,-44.99999999999999,-44.99999999999999,-44.99999999999999,-44.99999999999999,-44.99999999999999,-44.99999999999999,-53.02999999999999,-53.02999999999999,-53.02999999999999,-60.40999999999999,-65.71,-65.71,-65.71,-68.07,-68.07,-70.13999999999999,-70.13999999999999,-74.49999999999999,-74.49999999999999,-74.49999999999999,-74.49999999999999,-78.36999999999999,-78.36999999999999,-78.36999999999999,-81.1,-81.1,-84.82,-84.82,-84.82,-84.82,-87.38999999999999,-87.38999999999999,-88.29999999999998,-88.29999999999998,-88.29999999999998,-89.11999999999998,-89.73999999999998,-90.90999999999998,-92.39999999999998,-92.39999999999998,-92.39999999999998,-92.39999999999998,-92.39999999999998,-92.07999999999998,-91.90999999999998,-91.93999999999998,-91.93999999999998,-91.93999999999998,-91.93999999999998,-91.93999999999998,-92.66999999999999,-92.66999999999999,-92.97999999999999,-92.07,-91.33,-89.64,-88.07,-88.07,-88.07,-88.07,-88.07,-86.94,-86.94,-86.63,-86.63,-86.63,-86.63,-85.32,-84.36999999999999,-84.36999999999999,-84.36999999999999,-84.36999999999999,-81.96,-81.96,-81.05999999999999,-81.05999999999999,-80.11999999999999,-80.11999999999999,-80.11999999999999,-80.11999999999999,-80.11999999999999,-79.86999999999999,-80.75999999999999,-80.75999999999999,-80.75999999999999,-80.75999999999999,-80.75999999999999,-80.75999999999999,-81.27,-81.27,-81.27,-81.27,-82.05,-84.03999999999999,-84.03999999999999,-85.94999999999999,-85.94999999999999,-87.33999999999999,-87.33999999999999,-87.33999999999999,-87.33999999999999,-87.76999999999998,-88.70999999999998,-89.21999999999998,-89.21999999999998,-89.21999999999998,-89.21999999999998,-89.21999999999998,-89.44999999999999,-89.44999999999999,-89.44999999999999,-90.13999999999999,-90.13999999999999,-90.53999999999999,-90.55,-90.03999999999999,-90.03999999999999,-90.03999999999999,-90.03999999999999,-90.03999999999999,-90.16,-90.16,-90.16,-90.16,-90.16,-90.44,-90.44,-90.44,-90.38,-89.53999999999999,-89.53999999999999,-88.78999999999999,-88.78999999999999,-88.41,-88.41,-88.41,-88.41,-88.41,-88.42,-88.42,-88.42,-88.42,-88.42,-88.5,-88.5,-88.5,-88.5,-88.15,-87.29,-87.29,-87.29,-87.29,-87.29,-87.29,-87.29,-87.23,-87.23,-87.23,-87.23,-87.23,-87.02000000000001,-87.02000000000001,-87.15,-87.51,-87.51,-87.82000000000001,-87.82000000000001,-87.82000000000001,-87.82000000000001,-87.82000000000001,-87.82000000000001,-87.82000000000001,-87.82000000000001,-87.82000000000001,-87.82000000000001,-87.82000000000001,-87.82000000000001,-87.82000000000001,-87.82000000000001,-87.82000000000001,-87.82000000000001,-87.82000000000001,-87.82000000000001,-87.82000000000001,-85.03,-82.04,-82.04,-78.04,-78.04,-78.04,-78.04,-78.04,-78.04,-74.87,-74.87,-74.87,-70.77000000000001,-66.84,-66.84,-66.84,-66.84,-63.940000000000005,-61.120000000000005,-61.120000000000005,-61.120000000000005,-58.540000000000006,-55.89000000000001,-55.89000000000001,-55.89000000000001,-52.28000000000001,-52.28000000000001,-48.46000000000001,-43.510000000000005,-37.510000000000005,-31.510000000000005,-25.660000000000004,-20.820000000000007,-20.820000000000007,-16.090000000000007,-16.090000000000007,-13.450000000000006,-13.06000000000001,-12.70000000000001,-12.70000000000001,-11.670000000000012,-11.670000000000012,-11.670000000000012,-11.670000000000012,-9.940000000000015,-8.370000000000015,-8.370000000000015,-8.370000000000015,-8.370000000000015,-5.420000000000016,-5.420000000000016,-5.420000000000016,-5.420000000000016,-5.420000000000016,-5.420000000000016,-5.420000000000016,-1.6100000000000172,-1.6100000000000172,1.2199999999999847,1.2199999999999847,4.529999999999983,4.529999999999983,5.639999999999983,5.639999999999983,5.639999999999983,5.639999999999983,5.639999999999983,5.639999999999983,5.639999999999983,5.209999999999983,5.029999999999983,5.469999999999985,6.1799999999999855,7.319999999999986,7.319999999999986,7.319999999999986,7.319999999999986,7.319999999999986,7.319999999999986,7.319999999999986,9.070999999999984,9.070999999999984,9.070999999999984,9.070999999999984,10.960999999999984,14.040999999999983,14.040999999999983,14.040999999999983,15.720999999999982,17.960999999999984,17.960999999999984,17.470999999999982,17.470999999999982,17.520999999999983,17.520999999999983,17.520999999999983,17.520999999999983,17.520999999999983,17.520999999999983,17.520999999999983,16.610999999999983,15.21099999999998,15.21099999999998,13.200999999999983,13.200999999999983,13.060999999999982,15.59099999999998,17.86099999999998,17.86099999999998,17.86099999999998,17.86099999999998,17.86099999999998,17.86099999999998,17.43099999999998,17.43099999999998,17.43099999999998,17.43099999999998,17.43099999999998],\"type\":\"scatter\",\"xaxis\":\"x\",\"yaxis\":\"y\"},{\"mode\":\"lines\",\"name\":\"Reward\",\"opacity\":0.5,\"x\":[0,1,2,3,4,5,6,7,8,9,10,11,12,13,14,15,16,17,18,19,20,21,22,23,24,25,26,27,28,29,30,31,32,33,34,35,36,37,38,39,40,41,42,43,44,45,46,47,48,49,50,51,52,53,54,55,56,57,58,59,60,61,62,63,64,65,66,67,68,69,70,71,72,73,74,75,76,77,78,79,80,81,82,83,84,85,86,87,88,89,90,91,92,93,94,95,96,97,98,99,100,101,102,103,104,105,106,107,108,109,110,111,112,113,114,115,116,117,118,119,120,121,122,123,124,125,126,127,128,129,130,131,132,133,134,135,136,137,138,139,140,141,142,143,144,145,146,147,148,149,150,151,152,153,154,155,156,157,158,159,160,161,162,163,164,165,166,167,168,169,170,171,172,173,174,175,176,177,178,179,180,181,182,183,184,185,186,187,188,189,190,191,192,193,194,195,196,197,198,199,200,201,202,203,204,205,206,207,208,209,210,211,212,213,214,215,216,217,218,219,220,221,222,223,224,225,226,227,228,229,230,231,232,233,234,235,236,237,238,239,240,241,242,243,244,245,246,247,248,249,250,251,252,253,254,255,256,257,258,259,260,261,262,263,264,265,266,267,268,269,270,271,272,273,274,275,276,277,278,279,280,281,282,283,284,285,286,287,288,289,290,291,292,293,294,295,296,297,298,299,300,301,302,303,304,305,306,307,308,309,310,311,312,313,314,315,316,317,318,319,320,321,322,323,324,325,326,327,328,329,330,331,332,333,334,335,336,337,338,339,340,341,342,343,344,345,346,347,348,349,350,351,352,353,354,355,356,357,358,359,360,361,362,363,364,365,366,367,368,369,370,371,372,373,374,375,376,377,378,379,380,381,382,383,384,385,386,387,388,389,390,391,392,393,394,395,396,397,398,399,400,401,402,403,404,405,406,407,408,409,410,411,412,413,414,415,416,417,418,419,420,421,422,423,424,425,426,427,428,429,430,431,432,433,434,435,436,437,438,439,440,441,442,443,444,445,446,447,448,449,450,451,452,453,454,455,456,457,458,459,460,461,462,463,464,465,466,467,468,469,470,471,472,473,474,475,476,477,478,479,480,481,482,483,484,485,486,487,488,489,490,491,492,493,494,495,496,497,498],\"y\":[0,0,0.9899999999999984,0,0,0,2.030000000000001,-0.35999999999999943,0,-0.8200000000000003,0,0,0,0.259999999999998,0,0,0,0,0,0,0,0,0,1.4400000000000013,0,4.310000000000002,0,0,0,0,0,0,0,0,0,0,0,0,1.3599999999999994,1.9599999999999973,0,2.75,0,1.9299999999999997,0,2.6900000000000013,2.3699999999999974,0.07000000000000028,0,-0.259999999999998,0.4299999999999997,0,0.6899999999999977,0,0,0,0,0,2.210000000000001,0,0,0,0,0,0,0,0,0,0,0,0,0,2.9400000000000013,0,0,0,0,0,0,0,0,0,-0.1999999999999993,1.8000000000000007,0,2.3800000000000026,1.5899999999999999,0,2.4899999999999984,1.8099999999999987,0,0,0,0,0,0,0,0,-1.2600000000000016,0,0,0,0,-0.9899999999999984,0.03999999999999915,0,0,0,0,0,0,0.259999999999998,0,0,0,2.210000000000001,0,0,0,0,0,0,0,0,0,1.3599999999999994,0,0,0,-0.6600000000000001,2.870000000000001,0.38000000000000256,1.3599999999999994,0,0,0.5600000000000023,0,0,0,0,0,0,0,-0.509999999999998,0,0,0,0,-1.4899999999999984,-0.9500000000000028,0,-2.3500000000000014,-3.419999999999998,-4.099999999999998,-4.010000000000002,-5.120000000000001,0,0,0,0,0,-8.149999999999999,0,0,0,0,-7.690000000000001,-7.470000000000002,-7.18,0,0,0,0,0,0,0,0,-5.830000000000002,0,0,0,0,0,0,0,-9.600000000000001,0,0,0,-10.41,0,0,0,0,-9.71,0,0,0,0,0,0,0,0,-8.029999999999998,0,0,-7.380000000000001,-5.299999999999999,0,0,-2.3599999999999994,0,-2.0700000000000003,0,-4.359999999999998,0,0,0,-3.870000000000001,0,0,-2.7300000000000004,0,-3.7200000000000006,0,0,0,-2.5700000000000003,0,-0.9100000000000001,0,0,-0.8200000000000003,-0.6199999999999992,-1.17,-1.4900000000000002,0,0,0,0,0.3200000000000003,0.16999999999999993,-0.02999999999999936,0,0,0,0,-0.7299999999999986,0,-0.3100000000000005,0.9100000000000001,0.7400000000000002,1.6900000000000013,1.5700000000000003,0,0,0,0,1.1300000000000008,0,0.3100000000000005,0,0,0,1.3099999999999987,0.9500000000000011,0,0,0,2.410000000000002,0,0.9000000000000004,0,0.9399999999999995,0,0,0,0,0.25,-0.8900000000000006,0,0,0,0,0,-0.5099999999999998,0,0,0,-0.7799999999999994,-1.990000000000002,0,-1.9100000000000001,0,-1.3900000000000006,0,0,0,-0.4299999999999997,-0.9399999999999995,-0.5099999999999998,0,0,0,0,-0.23000000000000043,0,0,-0.6899999999999995,0,-0.3999999999999986,-0.009999999999999787,0.5099999999999998,0,0,0,0,-0.120000000000001,0,0,0,0,-0.28000000000000114,0,0,0.0600000000000005,0.8399999999999999,0,0.75,0,0.3800000000000008,0,0,0,0,-0.009999999999999787,0,0,0,0,-0.08000000000000007,0,0,0,0.34999999999999964,0.8599999999999994,0,0,0,0,0,0,0.0600000000000005,0,0,0,0,0.20999999999999908,0,-0.129999999999999,-0.35999999999999943,0,-0.3100000000000005,0,0,0,0,0,0,0,0,0,0,0,0,0,0,0,0,0,0,2.789999999999999,2.99,0,3.9999999999999982,0,0,0,0,0,3.17,0,0,4.1,3.9299999999999997,0,0,0,2.8999999999999986,2.8199999999999985,0,0,2.5799999999999983,2.6499999999999986,0,0,3.6099999999999994,0,3.8200000000000003,4.950000000000001,6.000000000000002,6.0,5.85,4.839999999999998,0,4.73,0,2.6400000000000006,0.389999999999997,0.35999999999999943,0,1.0299999999999976,0,0,0,1.7299999999999969,1.5700000000000003,0,0,0,2.9499999999999993,0,0,0,0,0,0,3.8099999999999987,0,2.830000000000002,0,3.3099999999999987,0,1.1099999999999994,0,0,0,0,0,0,-0.4299999999999997,-0.17999999999999972,0.4400000000000013,0.7100000000000009,1.1400000000000006,0,0,0,0,0,0,1.7509999999999977,0,0,0,1.8900000000000006,3.0799999999999983,0,0,1.6799999999999997,2.240000000000002,0,-0.490000000000002,0,0.05000000000000071,0,0,0,0,0,0,-0.9100000000000001,-1.4000000000000021,0,-2.009999999999998,0,-0.14000000000000057,2.5299999999999976,2.2699999999999996,0,0,0,0,0,-0.4299999999999997,0,0,0,0],\"type\":\"scatter\",\"xaxis\":\"x\",\"yaxis\":\"y\"},{\"line\":{\"color\":\"black\"},\"mode\":\"lines\",\"name\":\"Dataset\",\"x\":[0,1,2,3,4,5,6,7,8,9,10,11,12,13,14,15,16,17,18,19,20,21,22,23,24,25,26,27,28,29,30,31,32,33,34,35,36,37,38,39,40,41,42,43,44,45,46,47,48,49,50,51,52,53,54,55,56,57,58,59,60,61,62,63,64,65,66,67,68,69,70,71,72,73,74,75,76,77,78,79,80,81,82,83,84,85,86,87,88,89,90,91,92,93,94,95,96,97,98,99,100,101,102,103,104,105,106,107,108,109,110,111,112,113,114,115,116,117,118,119,120,121,122,123,124,125,126,127,128,129,130,131,132,133,134,135,136,137,138,139,140,141,142,143,144,145,146,147,148,149,150,151,152,153,154,155,156,157,158,159,160,161,162,163,164,165,166,167,168,169,170,171,172,173,174,175,176,177,178,179,180,181,182,183,184,185,186,187,188,189,190,191,192,193,194,195,196,197,198,199,200,201,202,203,204,205,206,207,208,209,210,211,212,213,214,215,216,217,218,219,220,221,222,223,224,225,226,227,228,229,230,231,232,233,234,235,236,237,238,239,240,241,242,243,244,245,246,247,248,249,250,251,252,253,254,255,256,257,258,259,260,261,262,263,264,265,266,267,268,269,270,271,272,273,274,275,276,277,278,279,280,281,282,283,284,285,286,287,288,289,290,291,292,293,294,295,296,297,298,299,300,301,302,303,304,305,306,307,308,309,310,311,312,313,314,315,316,317,318,319,320,321,322,323,324,325,326,327,328,329,330,331,332,333,334,335,336,337,338,339,340,341,342,343,344,345,346,347,348,349,350,351,352,353,354,355,356,357,358,359,360,361,362,363,364,365,366,367,368,369,370,371,372,373,374,375,376,377,378,379,380,381,382,383,384,385,386,387,388,389,390,391,392,393,394,395,396,397,398,399,400,401,402,403,404,405,406,407,408,409,410,411,412,413,414,415,416,417,418,419,420,421,422,423,424,425,426,427,428,429,430,431,432,433,434,435,436,437,438,439,440,441,442,443,444,445,446,447,448,449,450,451,452,453,454,455,456,457,458,459,460,461,462,463,464,465,466,467,468,469,470,471,472,473,474,475,476,477,478,479,480,481,482,483,484,485,486,487,488,489,490,491,492,493,494,495,496,497,498],\"y\":[17.56,18.59,18.57,19.07,19.57,19.59,18.71,18.71,18.75,19.37,19.61,19.45,18.97,20.0,19.53,19.68,19.84,21.37,21.0,20.53,20.42,21.3,21.05,22.4,23.76,22.78,22.54,22.54,21.78,21.49,21.0,20.39,20.62,21.01,21.62,20.67,21.0,21.36,21.49,22.07,22.43,21.9,23.3,23.58,23.69,22.9,22.61,21.65,21.23,21.05,21.15,21.7,20.78,22.48,22.17,21.82,23.02,23.21,23.25,23.27,23.07,24.09,24.72,24.41,25.35,25.45,24.67,24.3,24.03,24.98,24.71,25.01,24.6,23.9,22.62,23.13,21.5,22.74,23.81,23.67,21.96,21.7,23.45,24.29,23.53,24.07,24.38,24.66,25.06,24.72,24.49,24.43,24.95,24.74,24.85,24.92,24.27,24.09,23.35,23.46,23.47,23.67,24.46,24.07,23.75,24.9,24.74,24.56,24.1,24.66,24.86,25.06,25.0,25.74,26.11,25.41,24.98,24.53,24.25,23.77,24.12,23.01,23.96,24.27,23.98,23.69,23.51,22.65,22.47,24.37,24.19,23.32,23.94,25.61,25.28,25.21,25.01,24.74,23.46,24.32,25.18,24.15,23.98,23.98,24.2,23.3,22.91,22.78,22.72,22.16,21.4,21.48,20.46,20.09,19.54,20.1,20.54,20.15,17.12,17.11,16.85,17.27,17.14,16.55,17.06,17.72,17.06,16.94,17.55,18.74,18.01,17.53,17.32,18.3,17.5,18.23,17.86,15.63,14.99,14.96,14.92,14.47,15.2,14.36,14.34,15.02,15.43,15.26,14.8,14.45,13.99,14.74,15.03,15.3,15.0,14.99,14.59,15.17,15.61,15.81,15.98,15.91,16.12,15.97,15.73,15.53,14.85,14.7,14.7,14.75,14.05,14.48,14.18,14.38,14.37,14.33,14.29,14.14,14.17,14.5,14.8,15.02,14.58,14.87,14.85,14.64,14.93,14.7,14.72,14.5,14.51,14.17,14.3,14.03,13.77,13.69,13.6,14.12,14.51,14.77,15.16,14.56,14.11,14.34,14.56,14.7,14.88,14.69,15.42,15.61,15.44,15.98,16.07,16.36,16.89,16.9,17.22,16.0,15.84,15.16,15.64,15.59,16.3,15.95,15.65,15.27,15.53,16.35,16.01,15.97,15.41,15.72,15.5,15.18,15.16,14.97,14.63,14.95,14.75,15.28,15.49,15.19,14.79,14.85,15.08,14.57,14.2,14.14,14.49,14.36,14.4,14.06,14.07,14.33,14.8,14.9,14.9,14.85,14.55,14.68,14.72,14.63,14.61,14.43,14.62,14.1,14.02,13.88,14.17,13.8,14.13,14.58,14.58,14.32,14.36,14.66,14.6,14.45,14.43,14.15,14.35,14.35,14.39,14.54,14.67,15.27,14.85,14.77,15.0,14.74,15.02,14.5,14.86,15.01,14.65,14.56,14.62,14.56,14.53,14.37,14.23,14.22,14.72,14.78,15.01,15.0,14.95,14.91,15.0,14.37,14.55,14.41,14.49,14.57,14.14,14.16,14.6,14.46,14.41,14.49,14.45,14.19,14.37,13.2,13.58,13.39,13.24,13.12,13.14,13.51,13.58,13.44,13.35,13.86,14.06,14.22,14.36,14.45,16.09,17.5,17.65,18.0,18.3,18.56,18.67,18.55,18.73,18.8,18.1,17.79,17.85,18.24,18.32,18.88,18.28,18.1,17.95,17.45,17.31,17.6,17.64,17.15,16.79,17.18,17.45,17.77,17.42,18.27,18.19,19.12,19.14,19.2,19.06,18.78,19.09,19.29,18.73,19.06,19.09,19.27,19.13,19.87,20.4,19.89,19.58,19.85,19.9,19.61,19.87,20.9,20.859,20.61,20.8,20.79,20.51,21.54,20.99,20.72,20.28,21.08,20.73,21.21,20.38,19.63,19.93,19.64,19.66,19.7,20.18,19.97,19.71,20.34,20.32,21.01,21.68,20.88,20.86,21.05,21.48,22.19,22.61,22.85,22.95,22.83,22.5,22.74,22.37,22.18,22.56,23.1,22.21,22.36,22.12,22.88,22.58,22.08,22.43,21.32,20.43,20.69,21.3,20.72,20.79,20.57,21.69,22.29,23.22,23.06,23.45,23.68,24.35,24.55,24.82,23.25,22.75,23.22,23.18,22.76,22.99],\"type\":\"scatter\",\"xaxis\":\"x2\",\"yaxis\":\"y2\"},{\"mode\":\"markers\",\"name\":\"stay\",\"opacity\":1.0,\"x\":[3,10,17,21,22,24,26,28,29,31,32,35,36,44,53,56,57,60,61,62,63,64,67,68,70,71,78,80,84,87,92,93,94,95,96,99,100,101,107,112,114,117,119,120,122,123,124,127,128,134,138,139,140,141,144,145,146,150,156,157,159,162,163,165,169,173,176,180,182,184,186,187,191,192,193,195,198,200,201,202,204,211,213,215,216,219,222,230,231,236,238,243,244,248,254,255,256,257,259,263,267,274,275,276,277,283,291,295,296,297,306,309,313,314,329,331,338,339,341,343,346,348,349,350,358,363,364,365,366,370,371,372,374,375,378,380,383,386,388,392,396,400,401,414,416,422,433,434,435,436,438,440,442,444,445,446,448,449,455,458,459,460,463,467,468,476,478,479,485,492,495,497],\"y\":[19.07,19.61,21.37,21.3,21.05,23.76,22.54,21.78,21.49,20.39,20.62,20.67,21.0,23.69,22.48,23.02,23.21,23.07,24.09,24.72,24.41,25.35,24.3,24.03,24.71,25.01,23.81,21.96,23.53,24.66,24.95,24.74,24.85,24.92,24.27,23.46,23.47,23.67,24.56,25.0,26.11,24.53,23.77,24.12,23.96,24.27,23.98,22.65,22.47,25.28,23.46,24.32,25.18,24.15,24.2,23.3,22.91,21.4,20.54,20.15,17.11,17.14,16.55,17.72,18.74,18.3,17.86,14.92,15.2,14.34,15.43,15.26,14.74,15.03,15.3,14.99,15.61,15.98,15.91,16.12,15.73,14.48,14.38,14.33,14.29,14.5,14.58,14.51,14.17,13.6,14.51,14.34,14.56,15.42,16.89,16.9,17.22,16.0,15.16,15.95,16.35,15.16,14.97,14.63,14.95,14.85,14.06,14.9,14.9,14.85,14.02,13.8,14.32,14.36,14.74,14.5,14.53,14.37,14.22,14.78,14.95,15.0,14.37,14.55,14.41,13.2,13.58,13.39,13.24,13.58,13.44,13.35,14.06,14.22,16.09,17.65,18.56,18.73,18.1,18.32,17.95,17.64,17.15,19.09,18.73,20.4,20.79,20.51,21.54,20.99,20.28,20.73,20.38,19.93,19.64,19.66,20.18,19.97,20.88,21.48,22.19,22.61,22.83,22.18,22.56,22.43,20.43,20.69,22.29,24.82,23.22,22.76],\"type\":\"scatter\",\"xaxis\":\"x2\",\"yaxis\":\"y2\"},{\"mode\":\"markers\",\"name\":\"buy\",\"opacity\":1.0,\"x\":[0,1,4,5,8,11,12,14,15,16,18,19,20,27,30,33,34,37,40,42,48,51,54,55,59,65,66,69,73,74,75,76,77,79,81,90,91,97,102,105,106,108,109,110,113,116,118,121,126,133,136,137,142,147,158,160,164,170,171,172,174,175,178,179,181,183,188,190,196,197,199,205,208,209,217,220,224,225,226,228,237,239,245,246,261,262,266,268,270,272,280,281,282,284,286,287,288,293,301,302,303,304,307,315,316,318,319,320,321,323,324,327,332,333,334,336,337,342,347,351,353,354,355,356,361,367,368,369,373,376,377,379,385,387,389,391,395,397,404,405,407,420,423,424,427,428,429,431,432,447,456,457,462,464,471,473,475,477,480,483,490,491,493,496,498],\"y\":[17.56,18.59,19.57,19.59,18.75,19.45,18.97,19.53,19.68,19.84,21.0,20.53,20.42,22.54,21.0,21.01,21.62,21.36,22.43,23.3,21.23,21.7,22.17,21.82,23.27,25.45,24.67,24.98,23.9,22.62,23.13,21.5,22.74,23.67,21.7,24.49,24.43,24.09,24.46,24.9,24.74,24.1,24.66,24.86,25.74,24.98,24.25,23.01,23.51,25.61,25.01,24.74,23.98,22.78,17.12,16.85,17.06,18.01,17.53,17.32,17.5,18.23,14.99,14.96,14.47,14.36,14.8,13.99,14.59,15.17,15.81,15.53,14.7,14.75,14.14,14.8,14.85,14.64,14.93,14.72,14.12,14.77,14.7,14.88,15.59,16.3,15.53,16.01,15.41,15.5,15.49,15.19,14.79,15.08,14.2,14.14,14.49,14.33,14.63,14.61,14.43,14.62,13.88,14.66,14.6,14.43,14.15,14.35,14.35,14.54,14.67,14.77,14.86,15.01,14.65,14.62,14.56,14.72,14.91,14.41,14.57,14.14,14.16,14.6,14.19,13.12,13.14,13.51,13.86,14.36,14.45,17.5,18.55,18.8,17.79,18.24,18.1,17.45,17.45,17.77,18.27,19.13,19.89,19.58,19.61,19.87,20.9,20.61,20.8,19.7,20.86,21.05,22.95,22.5,22.36,22.88,22.08,21.32,21.3,20.57,24.35,24.55,23.25,23.18,22.99],\"type\":\"scatter\",\"xaxis\":\"x2\",\"yaxis\":\"y2\"},{\"mode\":\"markers\",\"name\":\"sell\",\"opacity\":1.0,\"x\":[2,6,7,9,13,23,25,38,39,41,43,45,46,47,49,50,52,58,72,82,83,85,86,88,89,98,103,104,111,115,125,129,130,131,132,135,143,148,149,151,152,153,154,155,161,166,167,168,177,185,189,194,203,206,207,210,212,214,218,221,223,227,229,232,233,234,235,240,241,242,247,249,250,251,252,253,258,260,264,265,269,271,273,278,279,285,289,290,292,294,298,299,300,305,308,310,311,312,317,322,325,326,328,330,335,340,344,345,352,357,359,360,362,381,382,384,390,393,394,398,399,402,403,406,408,409,410,411,412,413,415,417,418,419,421,425,426,430,437,439,441,443,450,451,452,453,454,461,465,466,469,470,472,474,481,482,484,486,487,488,489,494],\"y\":[18.57,18.71,18.71,19.37,20.0,22.4,22.78,21.49,22.07,21.9,23.58,22.9,22.61,21.65,21.05,21.15,20.78,23.25,24.6,23.45,24.29,24.07,24.38,25.06,24.72,23.35,24.07,23.75,25.06,25.41,23.69,24.37,24.19,23.32,23.94,25.21,23.98,22.72,22.16,21.48,20.46,20.09,19.54,20.1,17.27,17.06,16.94,17.55,15.63,15.02,14.45,15.0,15.97,14.85,14.7,14.05,14.18,14.37,14.17,15.02,14.87,14.7,14.5,14.3,14.03,13.77,13.69,15.16,14.56,14.11,14.69,15.61,15.44,15.98,16.07,16.36,15.84,15.64,15.65,15.27,15.97,15.72,15.18,14.75,15.28,14.57,14.36,14.4,14.07,14.8,14.55,14.68,14.72,14.1,14.17,14.13,14.58,14.58,14.45,14.39,15.27,14.85,15.0,15.02,14.56,14.23,15.01,15.0,14.49,14.46,14.49,14.45,14.37,18.0,18.3,18.67,17.85,18.88,18.28,17.31,17.6,16.79,17.18,17.42,18.19,19.12,19.14,19.2,19.06,18.78,19.29,19.06,19.09,19.27,19.87,19.85,19.9,20.859,20.72,21.08,21.21,19.63,19.71,20.34,20.32,21.01,21.68,22.85,22.74,22.37,23.1,22.21,22.12,22.58,20.72,20.79,21.69,23.22,23.06,23.45,23.68,22.75],\"type\":\"scatter\",\"xaxis\":\"x2\",\"yaxis\":\"y2\"}],                        {\"template\":{\"data\":{\"histogram2dcontour\":[{\"type\":\"histogram2dcontour\",\"colorbar\":{\"outlinewidth\":0,\"ticks\":\"\"},\"colorscale\":[[0.0,\"#0d0887\"],[0.1111111111111111,\"#46039f\"],[0.2222222222222222,\"#7201a8\"],[0.3333333333333333,\"#9c179e\"],[0.4444444444444444,\"#bd3786\"],[0.5555555555555556,\"#d8576b\"],[0.6666666666666666,\"#ed7953\"],[0.7777777777777778,\"#fb9f3a\"],[0.8888888888888888,\"#fdca26\"],[1.0,\"#f0f921\"]]}],\"choropleth\":[{\"type\":\"choropleth\",\"colorbar\":{\"outlinewidth\":0,\"ticks\":\"\"}}],\"histogram2d\":[{\"type\":\"histogram2d\",\"colorbar\":{\"outlinewidth\":0,\"ticks\":\"\"},\"colorscale\":[[0.0,\"#0d0887\"],[0.1111111111111111,\"#46039f\"],[0.2222222222222222,\"#7201a8\"],[0.3333333333333333,\"#9c179e\"],[0.4444444444444444,\"#bd3786\"],[0.5555555555555556,\"#d8576b\"],[0.6666666666666666,\"#ed7953\"],[0.7777777777777778,\"#fb9f3a\"],[0.8888888888888888,\"#fdca26\"],[1.0,\"#f0f921\"]]}],\"heatmap\":[{\"type\":\"heatmap\",\"colorbar\":{\"outlinewidth\":0,\"ticks\":\"\"},\"colorscale\":[[0.0,\"#0d0887\"],[0.1111111111111111,\"#46039f\"],[0.2222222222222222,\"#7201a8\"],[0.3333333333333333,\"#9c179e\"],[0.4444444444444444,\"#bd3786\"],[0.5555555555555556,\"#d8576b\"],[0.6666666666666666,\"#ed7953\"],[0.7777777777777778,\"#fb9f3a\"],[0.8888888888888888,\"#fdca26\"],[1.0,\"#f0f921\"]]}],\"heatmapgl\":[{\"type\":\"heatmapgl\",\"colorbar\":{\"outlinewidth\":0,\"ticks\":\"\"},\"colorscale\":[[0.0,\"#0d0887\"],[0.1111111111111111,\"#46039f\"],[0.2222222222222222,\"#7201a8\"],[0.3333333333333333,\"#9c179e\"],[0.4444444444444444,\"#bd3786\"],[0.5555555555555556,\"#d8576b\"],[0.6666666666666666,\"#ed7953\"],[0.7777777777777778,\"#fb9f3a\"],[0.8888888888888888,\"#fdca26\"],[1.0,\"#f0f921\"]]}],\"contourcarpet\":[{\"type\":\"contourcarpet\",\"colorbar\":{\"outlinewidth\":0,\"ticks\":\"\"}}],\"contour\":[{\"type\":\"contour\",\"colorbar\":{\"outlinewidth\":0,\"ticks\":\"\"},\"colorscale\":[[0.0,\"#0d0887\"],[0.1111111111111111,\"#46039f\"],[0.2222222222222222,\"#7201a8\"],[0.3333333333333333,\"#9c179e\"],[0.4444444444444444,\"#bd3786\"],[0.5555555555555556,\"#d8576b\"],[0.6666666666666666,\"#ed7953\"],[0.7777777777777778,\"#fb9f3a\"],[0.8888888888888888,\"#fdca26\"],[1.0,\"#f0f921\"]]}],\"surface\":[{\"type\":\"surface\",\"colorbar\":{\"outlinewidth\":0,\"ticks\":\"\"},\"colorscale\":[[0.0,\"#0d0887\"],[0.1111111111111111,\"#46039f\"],[0.2222222222222222,\"#7201a8\"],[0.3333333333333333,\"#9c179e\"],[0.4444444444444444,\"#bd3786\"],[0.5555555555555556,\"#d8576b\"],[0.6666666666666666,\"#ed7953\"],[0.7777777777777778,\"#fb9f3a\"],[0.8888888888888888,\"#fdca26\"],[1.0,\"#f0f921\"]]}],\"mesh3d\":[{\"type\":\"mesh3d\",\"colorbar\":{\"outlinewidth\":0,\"ticks\":\"\"}}],\"scatter\":[{\"fillpattern\":{\"fillmode\":\"overlay\",\"size\":10,\"solidity\":0.2},\"type\":\"scatter\"}],\"parcoords\":[{\"type\":\"parcoords\",\"line\":{\"colorbar\":{\"outlinewidth\":0,\"ticks\":\"\"}}}],\"scatterpolargl\":[{\"type\":\"scatterpolargl\",\"marker\":{\"colorbar\":{\"outlinewidth\":0,\"ticks\":\"\"}}}],\"bar\":[{\"error_x\":{\"color\":\"#2a3f5f\"},\"error_y\":{\"color\":\"#2a3f5f\"},\"marker\":{\"line\":{\"color\":\"#E5ECF6\",\"width\":0.5},\"pattern\":{\"fillmode\":\"overlay\",\"size\":10,\"solidity\":0.2}},\"type\":\"bar\"}],\"scattergeo\":[{\"type\":\"scattergeo\",\"marker\":{\"colorbar\":{\"outlinewidth\":0,\"ticks\":\"\"}}}],\"scatterpolar\":[{\"type\":\"scatterpolar\",\"marker\":{\"colorbar\":{\"outlinewidth\":0,\"ticks\":\"\"}}}],\"histogram\":[{\"marker\":{\"pattern\":{\"fillmode\":\"overlay\",\"size\":10,\"solidity\":0.2}},\"type\":\"histogram\"}],\"scattergl\":[{\"type\":\"scattergl\",\"marker\":{\"colorbar\":{\"outlinewidth\":0,\"ticks\":\"\"}}}],\"scatter3d\":[{\"type\":\"scatter3d\",\"line\":{\"colorbar\":{\"outlinewidth\":0,\"ticks\":\"\"}},\"marker\":{\"colorbar\":{\"outlinewidth\":0,\"ticks\":\"\"}}}],\"scattermapbox\":[{\"type\":\"scattermapbox\",\"marker\":{\"colorbar\":{\"outlinewidth\":0,\"ticks\":\"\"}}}],\"scatterternary\":[{\"type\":\"scatterternary\",\"marker\":{\"colorbar\":{\"outlinewidth\":0,\"ticks\":\"\"}}}],\"scattercarpet\":[{\"type\":\"scattercarpet\",\"marker\":{\"colorbar\":{\"outlinewidth\":0,\"ticks\":\"\"}}}],\"carpet\":[{\"aaxis\":{\"endlinecolor\":\"#2a3f5f\",\"gridcolor\":\"white\",\"linecolor\":\"white\",\"minorgridcolor\":\"white\",\"startlinecolor\":\"#2a3f5f\"},\"baxis\":{\"endlinecolor\":\"#2a3f5f\",\"gridcolor\":\"white\",\"linecolor\":\"white\",\"minorgridcolor\":\"white\",\"startlinecolor\":\"#2a3f5f\"},\"type\":\"carpet\"}],\"table\":[{\"cells\":{\"fill\":{\"color\":\"#EBF0F8\"},\"line\":{\"color\":\"white\"}},\"header\":{\"fill\":{\"color\":\"#C8D4E3\"},\"line\":{\"color\":\"white\"}},\"type\":\"table\"}],\"barpolar\":[{\"marker\":{\"line\":{\"color\":\"#E5ECF6\",\"width\":0.5},\"pattern\":{\"fillmode\":\"overlay\",\"size\":10,\"solidity\":0.2}},\"type\":\"barpolar\"}],\"pie\":[{\"automargin\":true,\"type\":\"pie\"}]},\"layout\":{\"autotypenumbers\":\"strict\",\"colorway\":[\"#636efa\",\"#EF553B\",\"#00cc96\",\"#ab63fa\",\"#FFA15A\",\"#19d3f3\",\"#FF6692\",\"#B6E880\",\"#FF97FF\",\"#FECB52\"],\"font\":{\"color\":\"#2a3f5f\"},\"hovermode\":\"closest\",\"hoverlabel\":{\"align\":\"left\"},\"paper_bgcolor\":\"white\",\"plot_bgcolor\":\"#E5ECF6\",\"polar\":{\"bgcolor\":\"#E5ECF6\",\"angularaxis\":{\"gridcolor\":\"white\",\"linecolor\":\"white\",\"ticks\":\"\"},\"radialaxis\":{\"gridcolor\":\"white\",\"linecolor\":\"white\",\"ticks\":\"\"}},\"ternary\":{\"bgcolor\":\"#E5ECF6\",\"aaxis\":{\"gridcolor\":\"white\",\"linecolor\":\"white\",\"ticks\":\"\"},\"baxis\":{\"gridcolor\":\"white\",\"linecolor\":\"white\",\"ticks\":\"\"},\"caxis\":{\"gridcolor\":\"white\",\"linecolor\":\"white\",\"ticks\":\"\"}},\"coloraxis\":{\"colorbar\":{\"outlinewidth\":0,\"ticks\":\"\"}},\"colorscale\":{\"sequential\":[[0.0,\"#0d0887\"],[0.1111111111111111,\"#46039f\"],[0.2222222222222222,\"#7201a8\"],[0.3333333333333333,\"#9c179e\"],[0.4444444444444444,\"#bd3786\"],[0.5555555555555556,\"#d8576b\"],[0.6666666666666666,\"#ed7953\"],[0.7777777777777778,\"#fb9f3a\"],[0.8888888888888888,\"#fdca26\"],[1.0,\"#f0f921\"]],\"sequentialminus\":[[0.0,\"#0d0887\"],[0.1111111111111111,\"#46039f\"],[0.2222222222222222,\"#7201a8\"],[0.3333333333333333,\"#9c179e\"],[0.4444444444444444,\"#bd3786\"],[0.5555555555555556,\"#d8576b\"],[0.6666666666666666,\"#ed7953\"],[0.7777777777777778,\"#fb9f3a\"],[0.8888888888888888,\"#fdca26\"],[1.0,\"#f0f921\"]],\"diverging\":[[0,\"#8e0152\"],[0.1,\"#c51b7d\"],[0.2,\"#de77ae\"],[0.3,\"#f1b6da\"],[0.4,\"#fde0ef\"],[0.5,\"#f7f7f7\"],[0.6,\"#e6f5d0\"],[0.7,\"#b8e186\"],[0.8,\"#7fbc41\"],[0.9,\"#4d9221\"],[1,\"#276419\"]]},\"xaxis\":{\"gridcolor\":\"white\",\"linecolor\":\"white\",\"ticks\":\"\",\"title\":{\"standoff\":15},\"zerolinecolor\":\"white\",\"automargin\":true,\"zerolinewidth\":2},\"yaxis\":{\"gridcolor\":\"white\",\"linecolor\":\"white\",\"ticks\":\"\",\"title\":{\"standoff\":15},\"zerolinecolor\":\"white\",\"automargin\":true,\"zerolinewidth\":2},\"scene\":{\"xaxis\":{\"backgroundcolor\":\"#E5ECF6\",\"gridcolor\":\"white\",\"linecolor\":\"white\",\"showbackground\":true,\"ticks\":\"\",\"zerolinecolor\":\"white\",\"gridwidth\":2},\"yaxis\":{\"backgroundcolor\":\"#E5ECF6\",\"gridcolor\":\"white\",\"linecolor\":\"white\",\"showbackground\":true,\"ticks\":\"\",\"zerolinecolor\":\"white\",\"gridwidth\":2},\"zaxis\":{\"backgroundcolor\":\"#E5ECF6\",\"gridcolor\":\"white\",\"linecolor\":\"white\",\"showbackground\":true,\"ticks\":\"\",\"zerolinecolor\":\"white\",\"gridwidth\":2}},\"shapedefaults\":{\"line\":{\"color\":\"#2a3f5f\"}},\"annotationdefaults\":{\"arrowcolor\":\"#2a3f5f\",\"arrowhead\":0,\"arrowwidth\":1},\"geo\":{\"bgcolor\":\"white\",\"landcolor\":\"#E5ECF6\",\"subunitcolor\":\"white\",\"showland\":true,\"showlakes\":true,\"lakecolor\":\"white\"},\"title\":{\"x\":0.05},\"mapbox\":{\"style\":\"light\"}}},\"xaxis\":{\"anchor\":\"y\",\"domain\":[0.0,1.0],\"matches\":\"x2\",\"showticklabels\":false,\"title\":{\"text\":\"Step\"}},\"yaxis\":{\"anchor\":\"x\",\"domain\":[0.575,1.0]},\"xaxis2\":{\"anchor\":\"y2\",\"domain\":[0.0,1.0],\"title\":{\"text\":\"Step\"}},\"yaxis2\":{\"anchor\":\"x2\",\"domain\":[0.0,0.425]}},                        {\"responsive\": true}                    ).then(function(){\n",
              "                            \n",
              "var gd = document.getElementById('9676e7f1-a01c-49d0-8338-e3186d399fdb');\n",
              "var x = new MutationObserver(function (mutations, observer) {{\n",
              "        var display = window.getComputedStyle(gd).display;\n",
              "        if (!display || display === 'none') {{\n",
              "            console.log([gd, 'removed!']);\n",
              "            Plotly.purge(gd);\n",
              "            observer.disconnect();\n",
              "        }}\n",
              "}});\n",
              "\n",
              "// Listen for the removal of the full notebook cells\n",
              "var notebookContainer = gd.closest('#notebook-container');\n",
              "if (notebookContainer) {{\n",
              "    x.observe(notebookContainer, {childList: true});\n",
              "}}\n",
              "\n",
              "// Listen for the clearing of the current output cell\n",
              "var outputEl = gd.closest('.output');\n",
              "if (outputEl) {{\n",
              "    x.observe(outputEl, {childList: true});\n",
              "}}\n",
              "\n",
              "                        })                };                            </script>        </div>\n",
              "</body>\n",
              "</html>"
            ]
          },
          "metadata": {}
        }
      ]
    },
    {
      "cell_type": "code",
      "source": [
        "pev, rev, history = test_model(agent=agente, env=entorno, epsilon=0.01)"
      ],
      "metadata": {
        "id": "mrxBUBMV3WM0"
      },
      "execution_count": 58,
      "outputs": []
    }
  ]
}